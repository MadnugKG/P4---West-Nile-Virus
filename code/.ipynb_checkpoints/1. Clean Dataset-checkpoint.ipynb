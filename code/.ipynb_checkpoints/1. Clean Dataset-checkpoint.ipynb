{
 "cells": [
  {
   "cell_type": "markdown",
   "id": "ca959bad",
   "metadata": {},
   "source": [
    "### Import Libraries"
   ]
  },
  {
   "cell_type": "code",
   "execution_count": 52,
   "id": "ca9d1262",
   "metadata": {},
   "outputs": [],
   "source": [
    "import pandas as pd\n",
    "import numpy as np\n",
    "import matplotlib.pyplot as plt\n",
    "import seaborn as sns\n",
    "\n",
    "from sklearn.linear_model import LinearRegression\n",
    "from sklearn.model_selection import cross_val_score, train_test_split"
   ]
  },
  {
   "cell_type": "markdown",
   "id": "75c6bbb0",
   "metadata": {},
   "source": [
    "### Clean Weather Dataset"
   ]
  },
  {
   "cell_type": "code",
   "execution_count": 53,
   "id": "43b497d6",
   "metadata": {},
   "outputs": [
    {
     "data": {
      "text/html": [
       "<div>\n",
       "<style scoped>\n",
       "    .dataframe tbody tr th:only-of-type {\n",
       "        vertical-align: middle;\n",
       "    }\n",
       "\n",
       "    .dataframe tbody tr th {\n",
       "        vertical-align: top;\n",
       "    }\n",
       "\n",
       "    .dataframe thead th {\n",
       "        text-align: right;\n",
       "    }\n",
       "</style>\n",
       "<table border=\"1\" class=\"dataframe\">\n",
       "  <thead>\n",
       "    <tr style=\"text-align: right;\">\n",
       "      <th></th>\n",
       "      <th>Station</th>\n",
       "      <th>Date</th>\n",
       "      <th>Tmax</th>\n",
       "      <th>Tmin</th>\n",
       "      <th>Tavg</th>\n",
       "      <th>Depart</th>\n",
       "      <th>DewPoint</th>\n",
       "      <th>WetBulb</th>\n",
       "      <th>Heat</th>\n",
       "      <th>Cool</th>\n",
       "      <th>...</th>\n",
       "      <th>CodeSum</th>\n",
       "      <th>Depth</th>\n",
       "      <th>Water1</th>\n",
       "      <th>SnowFall</th>\n",
       "      <th>PrecipTotal</th>\n",
       "      <th>StnPressure</th>\n",
       "      <th>SeaLevel</th>\n",
       "      <th>ResultSpeed</th>\n",
       "      <th>ResultDir</th>\n",
       "      <th>AvgSpeed</th>\n",
       "    </tr>\n",
       "  </thead>\n",
       "  <tbody>\n",
       "    <tr>\n",
       "      <th>0</th>\n",
       "      <td>1</td>\n",
       "      <td>2007-05-01</td>\n",
       "      <td>83</td>\n",
       "      <td>50</td>\n",
       "      <td>67.0</td>\n",
       "      <td>14.0</td>\n",
       "      <td>51</td>\n",
       "      <td>56.0</td>\n",
       "      <td>0.0</td>\n",
       "      <td>2.0</td>\n",
       "      <td>...</td>\n",
       "      <td>NaN</td>\n",
       "      <td>0.0</td>\n",
       "      <td>NaN</td>\n",
       "      <td>0.0</td>\n",
       "      <td>0.00</td>\n",
       "      <td>29.10</td>\n",
       "      <td>29.82</td>\n",
       "      <td>1.7</td>\n",
       "      <td>27</td>\n",
       "      <td>9.2</td>\n",
       "    </tr>\n",
       "    <tr>\n",
       "      <th>1</th>\n",
       "      <td>2</td>\n",
       "      <td>2007-05-01</td>\n",
       "      <td>84</td>\n",
       "      <td>52</td>\n",
       "      <td>68.0</td>\n",
       "      <td>NaN</td>\n",
       "      <td>51</td>\n",
       "      <td>57.0</td>\n",
       "      <td>0.0</td>\n",
       "      <td>3.0</td>\n",
       "      <td>...</td>\n",
       "      <td>NaN</td>\n",
       "      <td>NaN</td>\n",
       "      <td>NaN</td>\n",
       "      <td>NaN</td>\n",
       "      <td>0.00</td>\n",
       "      <td>29.18</td>\n",
       "      <td>29.82</td>\n",
       "      <td>2.7</td>\n",
       "      <td>25</td>\n",
       "      <td>9.6</td>\n",
       "    </tr>\n",
       "    <tr>\n",
       "      <th>2</th>\n",
       "      <td>1</td>\n",
       "      <td>2007-05-02</td>\n",
       "      <td>59</td>\n",
       "      <td>42</td>\n",
       "      <td>51.0</td>\n",
       "      <td>-3.0</td>\n",
       "      <td>42</td>\n",
       "      <td>47.0</td>\n",
       "      <td>14.0</td>\n",
       "      <td>0.0</td>\n",
       "      <td>...</td>\n",
       "      <td>BR</td>\n",
       "      <td>0.0</td>\n",
       "      <td>NaN</td>\n",
       "      <td>0.0</td>\n",
       "      <td>0.00</td>\n",
       "      <td>29.38</td>\n",
       "      <td>30.09</td>\n",
       "      <td>13.0</td>\n",
       "      <td>4</td>\n",
       "      <td>13.4</td>\n",
       "    </tr>\n",
       "    <tr>\n",
       "      <th>3</th>\n",
       "      <td>2</td>\n",
       "      <td>2007-05-02</td>\n",
       "      <td>60</td>\n",
       "      <td>43</td>\n",
       "      <td>52.0</td>\n",
       "      <td>NaN</td>\n",
       "      <td>42</td>\n",
       "      <td>47.0</td>\n",
       "      <td>13.0</td>\n",
       "      <td>0.0</td>\n",
       "      <td>...</td>\n",
       "      <td>BR HZ</td>\n",
       "      <td>NaN</td>\n",
       "      <td>NaN</td>\n",
       "      <td>NaN</td>\n",
       "      <td>0.00</td>\n",
       "      <td>29.44</td>\n",
       "      <td>30.08</td>\n",
       "      <td>13.3</td>\n",
       "      <td>2</td>\n",
       "      <td>13.4</td>\n",
       "    </tr>\n",
       "    <tr>\n",
       "      <th>4</th>\n",
       "      <td>1</td>\n",
       "      <td>2007-05-03</td>\n",
       "      <td>66</td>\n",
       "      <td>46</td>\n",
       "      <td>56.0</td>\n",
       "      <td>2.0</td>\n",
       "      <td>40</td>\n",
       "      <td>48.0</td>\n",
       "      <td>9.0</td>\n",
       "      <td>0.0</td>\n",
       "      <td>...</td>\n",
       "      <td>NaN</td>\n",
       "      <td>0.0</td>\n",
       "      <td>NaN</td>\n",
       "      <td>0.0</td>\n",
       "      <td>0.00</td>\n",
       "      <td>29.39</td>\n",
       "      <td>30.12</td>\n",
       "      <td>11.7</td>\n",
       "      <td>7</td>\n",
       "      <td>11.9</td>\n",
       "    </tr>\n",
       "  </tbody>\n",
       "</table>\n",
       "<p>5 rows × 22 columns</p>\n",
       "</div>"
      ],
      "text/plain": [
       "   Station        Date  Tmax  Tmin  Tavg  Depart  DewPoint  WetBulb  Heat  \\\n",
       "0        1  2007-05-01    83    50  67.0    14.0        51     56.0   0.0   \n",
       "1        2  2007-05-01    84    52  68.0     NaN        51     57.0   0.0   \n",
       "2        1  2007-05-02    59    42  51.0    -3.0        42     47.0  14.0   \n",
       "3        2  2007-05-02    60    43  52.0     NaN        42     47.0  13.0   \n",
       "4        1  2007-05-03    66    46  56.0     2.0        40     48.0   9.0   \n",
       "\n",
       "   Cool  ...  CodeSum  Depth Water1  SnowFall  PrecipTotal StnPressure  \\\n",
       "0   2.0  ...      NaN    0.0    NaN       0.0         0.00       29.10   \n",
       "1   3.0  ...      NaN    NaN    NaN       NaN         0.00       29.18   \n",
       "2   0.0  ...       BR    0.0    NaN       0.0         0.00       29.38   \n",
       "3   0.0  ...    BR HZ    NaN    NaN       NaN         0.00       29.44   \n",
       "4   0.0  ...      NaN    0.0    NaN       0.0         0.00       29.39   \n",
       "\n",
       "  SeaLevel  ResultSpeed  ResultDir  AvgSpeed  \n",
       "0    29.82          1.7         27       9.2  \n",
       "1    29.82          2.7         25       9.6  \n",
       "2    30.09         13.0          4      13.4  \n",
       "3    30.08         13.3          2      13.4  \n",
       "4    30.12         11.7          7      11.9  \n",
       "\n",
       "[5 rows x 22 columns]"
      ]
     },
     "execution_count": 53,
     "metadata": {},
     "output_type": "execute_result"
    }
   ],
   "source": [
    "weather = pd.read_csv(\"../assets/weather.csv\", na_values=['M', '-', ' '])\n",
    "weather.head()"
   ]
  },
  {
   "cell_type": "code",
   "execution_count": 54,
   "id": "d26d012f",
   "metadata": {},
   "outputs": [
    {
     "data": {
      "text/plain": [
       "(2944, 22)"
      ]
     },
     "execution_count": 54,
     "metadata": {},
     "output_type": "execute_result"
    }
   ],
   "source": [
    "weather.shape"
   ]
  },
  {
   "cell_type": "markdown",
   "id": "56a938ca",
   "metadata": {},
   "source": [
    "#### Checking datatype\n",
    "Snowfall and PrecipTotal are typed as object instead of numeric while Sunrise and Sunset were typed as float64 instead of datetime."
   ]
  },
  {
   "cell_type": "code",
   "execution_count": 55,
   "id": "54be0c69",
   "metadata": {},
   "outputs": [
    {
     "data": {
      "text/plain": [
       "Station          int64\n",
       "Date            object\n",
       "Tmax             int64\n",
       "Tmin             int64\n",
       "Tavg           float64\n",
       "Depart         float64\n",
       "DewPoint         int64\n",
       "WetBulb        float64\n",
       "Heat           float64\n",
       "Cool           float64\n",
       "Sunrise        float64\n",
       "Sunset         float64\n",
       "CodeSum         object\n",
       "Depth          float64\n",
       "Water1         float64\n",
       "SnowFall        object\n",
       "PrecipTotal     object\n",
       "StnPressure    float64\n",
       "SeaLevel       float64\n",
       "ResultSpeed    float64\n",
       "ResultDir        int64\n",
       "AvgSpeed       float64\n",
       "dtype: object"
      ]
     },
     "execution_count": 55,
     "metadata": {},
     "output_type": "execute_result"
    }
   ],
   "source": [
    "# Snowfall and PrecipTotal are identified as object rather than float64\n",
    "# Sunrise and Sunset were typed as float64 instead of datetime\n",
    "# Date was typed as object rather than datetime\n",
    "weather.dtypes"
   ]
  },
  {
   "cell_type": "code",
   "execution_count": 56,
   "id": "0c9eb441",
   "metadata": {},
   "outputs": [],
   "source": [
    "# Change Date, Sunrise and Sunset to datetime format\n",
    "weather['Date'] = pd.to_datetime(weather['Date'])\n",
    "weather['Sunrise'] = pd.to_datetime(weather['Sunrise'], format='%H%M')\n",
    "weather['Sunset'] = pd.to_datetime(weather['Sunrise'], format='%H%M')"
   ]
  },
  {
   "cell_type": "markdown",
   "id": "a9744018",
   "metadata": {},
   "source": [
    "#### Finding out why Snowfall and PrecipTotal are typed as object"
   ]
  },
  {
   "cell_type": "markdown",
   "id": "a3f540a9",
   "metadata": {},
   "source": [
    "'SnowFall' has 12 rows of data are having '  T' as values. To replace '  T' as 0.01 as '  T' means that there are traces amount which meant that it is in very small qunatity. Hence replace '  T' with a value smaller than the 2nd smallest value (0.1) in the data for this predictor."
   ]
  },
  {
   "cell_type": "code",
   "execution_count": 57,
   "id": "bac2296d",
   "metadata": {},
   "outputs": [
    {
     "data": {
      "text/plain": [
       "array(['0.0', nan, '  T', '0.1'], dtype=object)"
      ]
     },
     "execution_count": 57,
     "metadata": {},
     "output_type": "execute_result"
    }
   ],
   "source": [
    "# There is a '  T' in the list of unique values for SnowFall\n",
    "weather['SnowFall'].unique()"
   ]
  },
  {
   "cell_type": "code",
   "execution_count": 58,
   "id": "660e4430",
   "metadata": {},
   "outputs": [
    {
     "data": {
      "text/plain": [
       "0.0    1459\n",
       "  T      12\n",
       "0.1       1\n",
       "Name: SnowFall, dtype: int64"
      ]
     },
     "execution_count": 58,
     "metadata": {},
     "output_type": "execute_result"
    }
   ],
   "source": [
    "# Checking number of rows with '  T'\n",
    "weather['SnowFall'].value_counts()"
   ]
  },
  {
   "cell_type": "code",
   "execution_count": 59,
   "id": "8646c629",
   "metadata": {},
   "outputs": [],
   "source": [
    "# Replace ' T' as 0.001\n",
    "weather['SnowFall'].replace(to_replace='  T', value = 0.01, inplace=True)"
   ]
  },
  {
   "cell_type": "markdown",
   "id": "163b8d59",
   "metadata": {},
   "source": [
    "'PrecipTotal' has 318 rows of data are having '  T' as values. To replace '  T' as 0.001 as '  T' means that there are traces amount which meant that it is in very small qunatity. Hence replace '  T' with a value smaller than the 2nd smallest value (0.01) in the data for this predictor."
   ]
  },
  {
   "cell_type": "code",
   "execution_count": 60,
   "id": "329c367a",
   "metadata": {},
   "outputs": [
    {
     "data": {
      "text/plain": [
       "array(['0.00', '  T', '0.13', '0.02', '0.38', '0.60', '0.14', '0.07',\n",
       "       '0.11', '0.09', '1.01', '0.28', '0.04', '0.08', '0.01', '0.53',\n",
       "       '0.19', '0.21', '0.32', '0.39', '0.31', '0.42', '0.27', '0.16',\n",
       "       '0.58', '0.93', '0.05', '0.34', '0.15', '0.35', nan, '0.40',\n",
       "       '0.66', '0.30', '0.24', '0.43', '1.55', '0.92', '0.89', '0.17',\n",
       "       '0.03', '1.43', '0.97', '0.26', '1.31', '0.06', '0.46', '0.29',\n",
       "       '0.23', '0.41', '0.45', '0.83', '1.33', '0.91', '0.48', '0.37',\n",
       "       '0.88', '2.35', '1.96', '0.20', '0.25', '0.18', '0.67', '0.36',\n",
       "       '0.33', '1.28', '0.74', '0.76', '0.71', '0.95', '1.46', '0.12',\n",
       "       '0.52', '0.64', '0.22', '1.24', '0.72', '0.73', '0.65', '1.61',\n",
       "       '1.22', '0.50', '1.05', '2.43', '0.59', '2.90', '2.68', '1.23',\n",
       "       '0.62', '6.64', '3.07', '1.44', '1.75', '0.82', '0.80', '0.86',\n",
       "       '0.63', '0.55', '1.03', '0.70', '1.73', '1.38', '0.44', '1.14',\n",
       "       '1.07', '3.97', '0.87', '0.78', '1.12', '0.68', '0.10', '0.61',\n",
       "       '0.54', '1.19', '0.75', '0.84', '1.29', '0.81', '1.15', '1.49',\n",
       "       '1.57', '1.02', '1.30', '0.51', '0.85', '0.79', '0.77', '2.79',\n",
       "       '3.15', '3.64', '4.73', '1.60', '0.57', '2.24', '1.90', '1.06',\n",
       "       '1.88', '0.69', '2.17', '6.86', '0.49', '1.11', '1.21', '0.90',\n",
       "       '1.34', '0.47', '0.56', '3.66', '1.09', '1.25', '1.35', '2.20',\n",
       "       '1.48', '0.96', '1.16', '1.04', '2.03', '2.09', '1.26', '2.60',\n",
       "       '2.06', '3.31', '2.76', '1.82', '0.98', '1.58', '3.17', '1.18'],\n",
       "      dtype=object)"
      ]
     },
     "execution_count": 60,
     "metadata": {},
     "output_type": "execute_result"
    }
   ],
   "source": [
    "# There is a '  T' in the list of unique values for PrecipTotal\n",
    "weather['PrecipTotal'].unique()"
   ]
  },
  {
   "cell_type": "code",
   "execution_count": 61,
   "id": "9a25ad8e",
   "metadata": {
    "scrolled": true
   },
   "outputs": [
    {
     "data": {
      "text/plain": [
       "array([0.  , 0.01, 0.02, 0.03, 0.04, 0.05, 0.06, 0.07, 0.08, 0.09, 0.1 ,\n",
       "       0.11, 0.12, 0.13, 0.14, 0.15, 0.16, 0.17, 0.18, 0.19, 0.2 , 0.21,\n",
       "       0.22, 0.23, 0.24, 0.25, 0.26, 0.27, 0.28, 0.29, 0.3 , 0.31, 0.32,\n",
       "       0.33, 0.34, 0.35, 0.36, 0.37, 0.38, 0.39, 0.4 , 0.41, 0.42, 0.43,\n",
       "       0.44, 0.45, 0.46, 0.47, 0.48, 0.49, 0.5 , 0.51, 0.52, 0.53, 0.54,\n",
       "       0.55, 0.56, 0.57, 0.58, 0.59, 0.6 , 0.61, 0.62, 0.63, 0.64, 0.65,\n",
       "       0.66, 0.67, 0.68, 0.69, 0.7 , 0.71, 0.72, 0.73, 0.74, 0.75, 0.76,\n",
       "       0.77, 0.78, 0.79, 0.8 , 0.81, 0.82, 0.83, 0.84, 0.85, 0.86, 0.87,\n",
       "       0.88, 0.89, 0.9 , 0.91, 0.92, 0.93, 0.95, 0.96, 0.97, 0.98, 1.01,\n",
       "       1.02, 1.03, 1.04, 1.05, 1.06, 1.07, 1.09, 1.11, 1.12, 1.14, 1.15,\n",
       "       1.16, 1.18, 1.19, 1.21, 1.22, 1.23, 1.24, 1.25, 1.26, 1.28, 1.29,\n",
       "       1.3 , 1.31, 1.33, 1.34, 1.35, 1.38, 1.43, 1.44, 1.46, 1.48, 1.49,\n",
       "       1.55, 1.57, 1.58, 1.6 , 1.61, 1.73, 1.75, 1.82, 1.88, 1.9 , 1.96,\n",
       "       2.03, 2.06, 2.09, 2.17, 2.2 , 2.24, 2.35, 2.43, 2.6 , 2.68, 2.76,\n",
       "       2.79, 2.9 , 3.07, 3.15, 3.17, 3.31, 3.64, 3.66, 3.97, 4.73, 6.64,\n",
       "       6.86,  nan])"
      ]
     },
     "execution_count": 61,
     "metadata": {},
     "output_type": "execute_result"
    }
   ],
   "source": [
    "# Second smallest value is 0.01\n",
    "np.sort([float(i) for i in np.delete(weather['PrecipTotal'].unique(), 1)])"
   ]
  },
  {
   "cell_type": "code",
   "execution_count": 62,
   "id": "196bf0ae",
   "metadata": {},
   "outputs": [
    {
     "data": {
      "text/plain": [
       "0.00    1577\n",
       "  T      318\n",
       "0.01     127\n",
       "0.02      63\n",
       "0.03      46\n",
       "        ... \n",
       "3.15       1\n",
       "1.49       1\n",
       "2.60       1\n",
       "1.57       1\n",
       "0.62       1\n",
       "Name: PrecipTotal, Length: 167, dtype: int64"
      ]
     },
     "execution_count": 62,
     "metadata": {},
     "output_type": "execute_result"
    }
   ],
   "source": [
    "# Checking number of rows with ' T'\n",
    "weather['PrecipTotal'].value_counts()"
   ]
  },
  {
   "cell_type": "code",
   "execution_count": 63,
   "id": "87696acd",
   "metadata": {},
   "outputs": [],
   "source": [
    "# Replace ' T' as 0.001\n",
    "weather['PrecipTotal'].replace(to_replace='  T', value = 0.001, inplace=True)"
   ]
  },
  {
   "cell_type": "code",
   "execution_count": 64,
   "id": "c886857b",
   "metadata": {},
   "outputs": [],
   "source": [
    "# Typecast 'SnowFall' and 'PrecipTotal' as float64\n",
    "weather = weather.astype({'SnowFall': 'float64', 'PrecipTotal': 'float64'})"
   ]
  },
  {
   "cell_type": "code",
   "execution_count": 65,
   "id": "7b91f252",
   "metadata": {},
   "outputs": [
    {
     "data": {
      "text/plain": [
       "Station                 int64\n",
       "Date           datetime64[ns]\n",
       "Tmax                    int64\n",
       "Tmin                    int64\n",
       "Tavg                  float64\n",
       "Depart                float64\n",
       "DewPoint                int64\n",
       "WetBulb               float64\n",
       "Heat                  float64\n",
       "Cool                  float64\n",
       "Sunrise        datetime64[ns]\n",
       "Sunset         datetime64[ns]\n",
       "CodeSum                object\n",
       "Depth                 float64\n",
       "Water1                float64\n",
       "SnowFall              float64\n",
       "PrecipTotal           float64\n",
       "StnPressure           float64\n",
       "SeaLevel              float64\n",
       "ResultSpeed           float64\n",
       "ResultDir               int64\n",
       "AvgSpeed              float64\n",
       "dtype: object"
      ]
     },
     "execution_count": 65,
     "metadata": {},
     "output_type": "execute_result"
    }
   ],
   "source": [
    "# Checking that the typecast is done\n",
    "weather.dtypes"
   ]
  },
  {
   "cell_type": "markdown",
   "id": "6d0ea150",
   "metadata": {},
   "source": [
    "#### Dropping Depth and Water1 due to no variance in data\n",
    "As 'Water1' and 'Depth' only have zero and a single value respectively, hence no variance, it would not be able to provide information or contribute to the model. As such, decided to drop 'Water1' and 'Depth' from data."
   ]
  },
  {
   "cell_type": "code",
   "execution_count": 66,
   "id": "e47b6517",
   "metadata": {},
   "outputs": [
    {
     "name": "stdout",
     "output_type": "stream",
     "text": [
      "Number of unique values for each predictor\n",
      "Station: 2\n",
      "Date: 1472\n",
      "Tmax: 63\n",
      "Tmin: 54\n",
      "Tavg: 59\n",
      "Depart: 41\n",
      "DewPoint: 54\n",
      "WetBulb: 47\n",
      "Heat: 30\n",
      "Cool: 30\n",
      "Sunrise: 121\n",
      "Sunset: 121\n",
      "CodeSum: 97\n",
      "Depth: 1\n",
      "Water1: 0\n",
      "SnowFall: 3\n",
      "PrecipTotal: 167\n",
      "StnPressure: 103\n",
      "SeaLevel: 101\n",
      "ResultSpeed: 190\n",
      "ResultDir: 36\n",
      "AvgSpeed: 177\n"
     ]
    }
   ],
   "source": [
    "# Checking number of unique values per predictor\n",
    "print(\"Number of unique values for each predictor\")\n",
    "for col in weather.columns:\n",
    "    print(f'{col}: {weather[col].nunique()}')"
   ]
  },
  {
   "cell_type": "code",
   "execution_count": 67,
   "id": "a8c1c8c3",
   "metadata": {},
   "outputs": [],
   "source": [
    "# Droppping 'Depth' and 'Water1' from data\n",
    "weather.drop(columns=['Depth', 'Water1'], inplace=True)"
   ]
  },
  {
   "cell_type": "markdown",
   "id": "a75e6988",
   "metadata": {},
   "source": [
    "#### Checking for missing values"
   ]
  },
  {
   "cell_type": "code",
   "execution_count": 68,
   "id": "541fda2b",
   "metadata": {},
   "outputs": [
    {
     "data": {
      "text/plain": [
       "Station           0\n",
       "Date              0\n",
       "Tmax              0\n",
       "Tmin              0\n",
       "Tavg             11\n",
       "Depart         1472\n",
       "DewPoint          0\n",
       "WetBulb           4\n",
       "Heat             11\n",
       "Cool             11\n",
       "Sunrise        1472\n",
       "Sunset         1472\n",
       "CodeSum        1609\n",
       "SnowFall       1472\n",
       "PrecipTotal       2\n",
       "StnPressure       4\n",
       "SeaLevel          9\n",
       "ResultSpeed       0\n",
       "ResultDir         0\n",
       "AvgSpeed          3\n",
       "dtype: int64"
      ]
     },
     "execution_count": 68,
     "metadata": {},
     "output_type": "execute_result"
    }
   ],
   "source": [
    "weather.isnull().sum()"
   ]
  },
  {
   "cell_type": "markdown",
   "id": "60aa4997",
   "metadata": {},
   "source": [
    "#### Imputing NA in CodeSum as MD\n",
    "As CodeSum whitespace string, which was treated as missing values, means that the weather is moderate. Hence instead of NA, to replace with 'MD'."
   ]
  },
  {
   "cell_type": "code",
   "execution_count": 69,
   "id": "b1e8ab38",
   "metadata": {},
   "outputs": [],
   "source": [
    "weather['CodeSum'].fillna('MD', inplace=True)"
   ]
  },
  {
   "cell_type": "markdown",
   "id": "974ddc25",
   "metadata": {},
   "source": [
    "#### Dropping Heat and Cold\n",
    "As Heat and Cool are known as heating degree day (HDD) and cooling degree day (CDD) respectively and are calculated based on differences from 65°F. When Tavg is lower than 65°F, HDD will be non-zero and will be equal to 65 - Tavg while CDD will be 0. On the otherhand if Tavg is higher than 65°F, CDD will be non-zero and equal to Tavg - 65 while HDD will be 0. Hence, it does not provide additional information that Tavg does not provide."
   ]
  },
  {
   "cell_type": "code",
   "execution_count": 70,
   "id": "c91a6a91",
   "metadata": {
    "scrolled": false
   },
   "outputs": [
    {
     "data": {
      "text/plain": [
       "Text(0.5, 1.0, 'Cool vs Tavg')"
      ]
     },
     "execution_count": 70,
     "metadata": {},
     "output_type": "execute_result"
    },
    {
     "data": {
      "image/png": "[encoded data removed]",
      "text/plain": [
       "<Figure size 1080x360 with 2 Axes>"
      ]
     },
     "metadata": {
      "needs_background": "light"
     },
     "output_type": "display_data"
    }
   ],
   "source": [
    "# SHowing how Heat and Cool vary with Tavg\n",
    "fig, ax = plt.subplots(1,2, figsize=(15,5))\n",
    "sns.regplot(x='Tavg', y='Heat', data=weather, ax=ax[0])\n",
    "ax[0].set_title('Heat vs Tavg')\n",
    "sns.regplot(x='Tavg', y='Cool', data=weather, ax=ax[1])\n",
    "ax[1].set_title('Cool vs Tavg')"
   ]
  },
  {
   "cell_type": "code",
   "execution_count": 71,
   "id": "b5c2191b",
   "metadata": {},
   "outputs": [],
   "source": [
    "weather.drop(columns=['Heat', 'Cool'], inplace=True)"
   ]
  },
  {
   "cell_type": "markdown",
   "id": "923244ff",
   "metadata": {},
   "source": [
    "#### Split Data Set into station 1 and station 2\n",
    "As station 2 has multiple predictors having missing values, either dropping the columns or dropping NA rows would lead to valuable data loss. Hence, to retain as much data as possible, the decision is to separate the data for the 2 stations with their own columns."
   ]
  },
  {
   "cell_type": "code",
   "execution_count": 72,
   "id": "6322f957",
   "metadata": {},
   "outputs": [
    {
     "name": "stdout",
     "output_type": "stream",
     "text": [
      "Depart \n",
      " Station\n",
      "2    1472\n",
      "dtype: int64 \n",
      "\n",
      "Sunrise \n",
      " Station\n",
      "2    1472\n",
      "dtype: int64 \n",
      "\n",
      "Sunset \n",
      " Station\n",
      "2    1472\n",
      "dtype: int64 \n",
      "\n",
      "SnowFall \n",
      " Station\n",
      "2    1472\n",
      "dtype: int64 \n",
      "\n"
     ]
    }
   ],
   "source": [
    "# All 1472 rows that are missing are from station 2\n",
    "for col in ['Depart', 'Sunrise', 'Sunset', 'SnowFall']:\n",
    "    print(col, \"\\n\", weather[weather[col].isnull()].groupby('Station').size(), \"\\n\")"
   ]
  },
  {
   "cell_type": "code",
   "execution_count": 73,
   "id": "6bf1004d",
   "metadata": {},
   "outputs": [],
   "source": [
    "# Split weather dataset into weather1 and weather2\n",
    "weather1 = weather[weather['Station'] == 1].copy()\n",
    "weather2 = weather[weather['Station'] == 2].copy()"
   ]
  },
  {
   "cell_type": "code",
   "execution_count": 74,
   "id": "d9bfcde0",
   "metadata": {},
   "outputs": [],
   "source": [
    "# Drop columns 'Depart', 'Sunrise', 'Sunset', 'Depth', 'SnowFall' from weather 2\n",
    "weather2.drop(columns=['Depart', 'Sunrise', 'Sunset', 'SnowFall'], inplace=True)"
   ]
  },
  {
   "cell_type": "code",
   "execution_count": 75,
   "id": "54387899",
   "metadata": {},
   "outputs": [
    {
     "data": {
      "text/html": [
       "<div>\n",
       "<style scoped>\n",
       "    .dataframe tbody tr th:only-of-type {\n",
       "        vertical-align: middle;\n",
       "    }\n",
       "\n",
       "    .dataframe tbody tr th {\n",
       "        vertical-align: top;\n",
       "    }\n",
       "\n",
       "    .dataframe thead th {\n",
       "        text-align: right;\n",
       "    }\n",
       "</style>\n",
       "<table border=\"1\" class=\"dataframe\">\n",
       "  <thead>\n",
       "    <tr style=\"text-align: right;\">\n",
       "      <th></th>\n",
       "      <th>Date</th>\n",
       "      <th>Tmax_1</th>\n",
       "      <th>Tmin_1</th>\n",
       "      <th>Tavg_1</th>\n",
       "      <th>Depart_1</th>\n",
       "      <th>DewPoint_1</th>\n",
       "      <th>WetBulb_1</th>\n",
       "      <th>Sunrise_1</th>\n",
       "      <th>Sunset_1</th>\n",
       "      <th>CodeSum_1</th>\n",
       "      <th>...</th>\n",
       "      <th>Tavg_2</th>\n",
       "      <th>DewPoint_2</th>\n",
       "      <th>WetBulb_2</th>\n",
       "      <th>CodeSum_2</th>\n",
       "      <th>PrecipTotal_2</th>\n",
       "      <th>StnPressure_2</th>\n",
       "      <th>SeaLevel_2</th>\n",
       "      <th>ResultSpeed_2</th>\n",
       "      <th>ResultDir_2</th>\n",
       "      <th>AvgSpeed_2</th>\n",
       "    </tr>\n",
       "  </thead>\n",
       "  <tbody>\n",
       "    <tr>\n",
       "      <th>0</th>\n",
       "      <td>2007-05-01</td>\n",
       "      <td>83</td>\n",
       "      <td>50</td>\n",
       "      <td>67.0</td>\n",
       "      <td>14.0</td>\n",
       "      <td>51</td>\n",
       "      <td>56.0</td>\n",
       "      <td>1900-01-01 04:48:00</td>\n",
       "      <td>1900-01-01 04:48:00</td>\n",
       "      <td>MD</td>\n",
       "      <td>...</td>\n",
       "      <td>68.0</td>\n",
       "      <td>51</td>\n",
       "      <td>57.0</td>\n",
       "      <td>MD</td>\n",
       "      <td>0.000</td>\n",
       "      <td>29.18</td>\n",
       "      <td>29.82</td>\n",
       "      <td>2.7</td>\n",
       "      <td>25</td>\n",
       "      <td>9.6</td>\n",
       "    </tr>\n",
       "    <tr>\n",
       "      <th>1</th>\n",
       "      <td>2007-05-02</td>\n",
       "      <td>59</td>\n",
       "      <td>42</td>\n",
       "      <td>51.0</td>\n",
       "      <td>-3.0</td>\n",
       "      <td>42</td>\n",
       "      <td>47.0</td>\n",
       "      <td>1900-01-01 04:47:00</td>\n",
       "      <td>1900-01-01 04:47:00</td>\n",
       "      <td>BR</td>\n",
       "      <td>...</td>\n",
       "      <td>52.0</td>\n",
       "      <td>42</td>\n",
       "      <td>47.0</td>\n",
       "      <td>BR HZ</td>\n",
       "      <td>0.000</td>\n",
       "      <td>29.44</td>\n",
       "      <td>30.08</td>\n",
       "      <td>13.3</td>\n",
       "      <td>2</td>\n",
       "      <td>13.4</td>\n",
       "    </tr>\n",
       "    <tr>\n",
       "      <th>2</th>\n",
       "      <td>2007-05-03</td>\n",
       "      <td>66</td>\n",
       "      <td>46</td>\n",
       "      <td>56.0</td>\n",
       "      <td>2.0</td>\n",
       "      <td>40</td>\n",
       "      <td>48.0</td>\n",
       "      <td>1900-01-01 04:46:00</td>\n",
       "      <td>1900-01-01 04:46:00</td>\n",
       "      <td>MD</td>\n",
       "      <td>...</td>\n",
       "      <td>58.0</td>\n",
       "      <td>40</td>\n",
       "      <td>50.0</td>\n",
       "      <td>HZ</td>\n",
       "      <td>0.000</td>\n",
       "      <td>29.46</td>\n",
       "      <td>30.12</td>\n",
       "      <td>12.9</td>\n",
       "      <td>6</td>\n",
       "      <td>13.2</td>\n",
       "    </tr>\n",
       "    <tr>\n",
       "      <th>3</th>\n",
       "      <td>2007-05-04</td>\n",
       "      <td>66</td>\n",
       "      <td>49</td>\n",
       "      <td>58.0</td>\n",
       "      <td>4.0</td>\n",
       "      <td>41</td>\n",
       "      <td>50.0</td>\n",
       "      <td>1900-01-01 04:44:00</td>\n",
       "      <td>1900-01-01 04:44:00</td>\n",
       "      <td>RA</td>\n",
       "      <td>...</td>\n",
       "      <td>NaN</td>\n",
       "      <td>42</td>\n",
       "      <td>50.0</td>\n",
       "      <td>MD</td>\n",
       "      <td>0.000</td>\n",
       "      <td>29.36</td>\n",
       "      <td>30.04</td>\n",
       "      <td>10.1</td>\n",
       "      <td>7</td>\n",
       "      <td>10.4</td>\n",
       "    </tr>\n",
       "    <tr>\n",
       "      <th>4</th>\n",
       "      <td>2007-05-05</td>\n",
       "      <td>66</td>\n",
       "      <td>53</td>\n",
       "      <td>60.0</td>\n",
       "      <td>5.0</td>\n",
       "      <td>38</td>\n",
       "      <td>49.0</td>\n",
       "      <td>1900-01-01 04:43:00</td>\n",
       "      <td>1900-01-01 04:43:00</td>\n",
       "      <td>MD</td>\n",
       "      <td>...</td>\n",
       "      <td>60.0</td>\n",
       "      <td>39</td>\n",
       "      <td>50.0</td>\n",
       "      <td>MD</td>\n",
       "      <td>0.001</td>\n",
       "      <td>29.46</td>\n",
       "      <td>30.09</td>\n",
       "      <td>11.2</td>\n",
       "      <td>7</td>\n",
       "      <td>11.5</td>\n",
       "    </tr>\n",
       "    <tr>\n",
       "      <th>...</th>\n",
       "      <td>...</td>\n",
       "      <td>...</td>\n",
       "      <td>...</td>\n",
       "      <td>...</td>\n",
       "      <td>...</td>\n",
       "      <td>...</td>\n",
       "      <td>...</td>\n",
       "      <td>...</td>\n",
       "      <td>...</td>\n",
       "      <td>...</td>\n",
       "      <td>...</td>\n",
       "      <td>...</td>\n",
       "      <td>...</td>\n",
       "      <td>...</td>\n",
       "      <td>...</td>\n",
       "      <td>...</td>\n",
       "      <td>...</td>\n",
       "      <td>...</td>\n",
       "      <td>...</td>\n",
       "      <td>...</td>\n",
       "      <td>...</td>\n",
       "    </tr>\n",
       "    <tr>\n",
       "      <th>1467</th>\n",
       "      <td>2014-10-27</td>\n",
       "      <td>77</td>\n",
       "      <td>51</td>\n",
       "      <td>64.0</td>\n",
       "      <td>16.0</td>\n",
       "      <td>51</td>\n",
       "      <td>58.0</td>\n",
       "      <td>1900-01-01 06:18:00</td>\n",
       "      <td>1900-01-01 06:18:00</td>\n",
       "      <td>MD</td>\n",
       "      <td>...</td>\n",
       "      <td>67.0</td>\n",
       "      <td>52</td>\n",
       "      <td>59.0</td>\n",
       "      <td>RA</td>\n",
       "      <td>0.020</td>\n",
       "      <td>29.00</td>\n",
       "      <td>29.67</td>\n",
       "      <td>12.7</td>\n",
       "      <td>19</td>\n",
       "      <td>13.6</td>\n",
       "    </tr>\n",
       "    <tr>\n",
       "      <th>1468</th>\n",
       "      <td>2014-10-28</td>\n",
       "      <td>68</td>\n",
       "      <td>45</td>\n",
       "      <td>57.0</td>\n",
       "      <td>10.0</td>\n",
       "      <td>38</td>\n",
       "      <td>47.0</td>\n",
       "      <td>1900-01-01 06:19:00</td>\n",
       "      <td>1900-01-01 06:19:00</td>\n",
       "      <td>MD</td>\n",
       "      <td>...</td>\n",
       "      <td>57.0</td>\n",
       "      <td>40</td>\n",
       "      <td>48.0</td>\n",
       "      <td>RA</td>\n",
       "      <td>0.030</td>\n",
       "      <td>29.23</td>\n",
       "      <td>29.85</td>\n",
       "      <td>14.0</td>\n",
       "      <td>26</td>\n",
       "      <td>14.6</td>\n",
       "    </tr>\n",
       "    <tr>\n",
       "      <th>1469</th>\n",
       "      <td>2014-10-29</td>\n",
       "      <td>49</td>\n",
       "      <td>36</td>\n",
       "      <td>43.0</td>\n",
       "      <td>-4.0</td>\n",
       "      <td>32</td>\n",
       "      <td>40.0</td>\n",
       "      <td>1900-01-01 06:20:00</td>\n",
       "      <td>1900-01-01 06:20:00</td>\n",
       "      <td>MD</td>\n",
       "      <td>...</td>\n",
       "      <td>45.0</td>\n",
       "      <td>34</td>\n",
       "      <td>42.0</td>\n",
       "      <td>MD</td>\n",
       "      <td>0.000</td>\n",
       "      <td>29.42</td>\n",
       "      <td>30.07</td>\n",
       "      <td>8.5</td>\n",
       "      <td>29</td>\n",
       "      <td>9.0</td>\n",
       "    </tr>\n",
       "    <tr>\n",
       "      <th>1470</th>\n",
       "      <td>2014-10-30</td>\n",
       "      <td>51</td>\n",
       "      <td>32</td>\n",
       "      <td>42.0</td>\n",
       "      <td>-4.0</td>\n",
       "      <td>34</td>\n",
       "      <td>40.0</td>\n",
       "      <td>1900-01-01 06:22:00</td>\n",
       "      <td>1900-01-01 06:22:00</td>\n",
       "      <td>MD</td>\n",
       "      <td>...</td>\n",
       "      <td>45.0</td>\n",
       "      <td>35</td>\n",
       "      <td>42.0</td>\n",
       "      <td>RA</td>\n",
       "      <td>0.001</td>\n",
       "      <td>29.41</td>\n",
       "      <td>30.10</td>\n",
       "      <td>5.9</td>\n",
       "      <td>23</td>\n",
       "      <td>6.5</td>\n",
       "    </tr>\n",
       "    <tr>\n",
       "      <th>1471</th>\n",
       "      <td>2014-10-31</td>\n",
       "      <td>47</td>\n",
       "      <td>33</td>\n",
       "      <td>40.0</td>\n",
       "      <td>-6.0</td>\n",
       "      <td>25</td>\n",
       "      <td>33.0</td>\n",
       "      <td>1900-01-01 06:23:00</td>\n",
       "      <td>1900-01-01 06:23:00</td>\n",
       "      <td>RA SN</td>\n",
       "      <td>...</td>\n",
       "      <td>42.0</td>\n",
       "      <td>29</td>\n",
       "      <td>36.0</td>\n",
       "      <td>RA SN BR</td>\n",
       "      <td>0.040</td>\n",
       "      <td>29.54</td>\n",
       "      <td>30.20</td>\n",
       "      <td>21.7</td>\n",
       "      <td>34</td>\n",
       "      <td>22.6</td>\n",
       "    </tr>\n",
       "  </tbody>\n",
       "</table>\n",
       "<p>1472 rows × 29 columns</p>\n",
       "</div>"
      ],
      "text/plain": [
       "           Date  Tmax_1  Tmin_1  Tavg_1  Depart_1  DewPoint_1  WetBulb_1  \\\n",
       "0    2007-05-01      83      50    67.0      14.0          51       56.0   \n",
       "1    2007-05-02      59      42    51.0      -3.0          42       47.0   \n",
       "2    2007-05-03      66      46    56.0       2.0          40       48.0   \n",
       "3    2007-05-04      66      49    58.0       4.0          41       50.0   \n",
       "4    2007-05-05      66      53    60.0       5.0          38       49.0   \n",
       "...         ...     ...     ...     ...       ...         ...        ...   \n",
       "1467 2014-10-27      77      51    64.0      16.0          51       58.0   \n",
       "1468 2014-10-28      68      45    57.0      10.0          38       47.0   \n",
       "1469 2014-10-29      49      36    43.0      -4.0          32       40.0   \n",
       "1470 2014-10-30      51      32    42.0      -4.0          34       40.0   \n",
       "1471 2014-10-31      47      33    40.0      -6.0          25       33.0   \n",
       "\n",
       "               Sunrise_1            Sunset_1 CodeSum_1  ...  Tavg_2  \\\n",
       "0    1900-01-01 04:48:00 1900-01-01 04:48:00        MD  ...    68.0   \n",
       "1    1900-01-01 04:47:00 1900-01-01 04:47:00        BR  ...    52.0   \n",
       "2    1900-01-01 04:46:00 1900-01-01 04:46:00        MD  ...    58.0   \n",
       "3    1900-01-01 04:44:00 1900-01-01 04:44:00        RA  ...     NaN   \n",
       "4    1900-01-01 04:43:00 1900-01-01 04:43:00        MD  ...    60.0   \n",
       "...                  ...                 ...       ...  ...     ...   \n",
       "1467 1900-01-01 06:18:00 1900-01-01 06:18:00        MD  ...    67.0   \n",
       "1468 1900-01-01 06:19:00 1900-01-01 06:19:00        MD  ...    57.0   \n",
       "1469 1900-01-01 06:20:00 1900-01-01 06:20:00        MD  ...    45.0   \n",
       "1470 1900-01-01 06:22:00 1900-01-01 06:22:00        MD  ...    45.0   \n",
       "1471 1900-01-01 06:23:00 1900-01-01 06:23:00     RA SN  ...    42.0   \n",
       "\n",
       "      DewPoint_2  WetBulb_2  CodeSum_2  PrecipTotal_2  StnPressure_2  \\\n",
       "0             51       57.0         MD          0.000          29.18   \n",
       "1             42       47.0      BR HZ          0.000          29.44   \n",
       "2             40       50.0         HZ          0.000          29.46   \n",
       "3             42       50.0         MD          0.000          29.36   \n",
       "4             39       50.0         MD          0.001          29.46   \n",
       "...          ...        ...        ...            ...            ...   \n",
       "1467          52       59.0         RA          0.020          29.00   \n",
       "1468          40       48.0         RA          0.030          29.23   \n",
       "1469          34       42.0         MD          0.000          29.42   \n",
       "1470          35       42.0         RA          0.001          29.41   \n",
       "1471          29       36.0   RA SN BR          0.040          29.54   \n",
       "\n",
       "      SeaLevel_2  ResultSpeed_2  ResultDir_2  AvgSpeed_2  \n",
       "0          29.82            2.7           25         9.6  \n",
       "1          30.08           13.3            2        13.4  \n",
       "2          30.12           12.9            6        13.2  \n",
       "3          30.04           10.1            7        10.4  \n",
       "4          30.09           11.2            7        11.5  \n",
       "...          ...            ...          ...         ...  \n",
       "1467       29.67           12.7           19        13.6  \n",
       "1468       29.85           14.0           26        14.6  \n",
       "1469       30.07            8.5           29         9.0  \n",
       "1470       30.10            5.9           23         6.5  \n",
       "1471       30.20           21.7           34        22.6  \n",
       "\n",
       "[1472 rows x 29 columns]"
      ]
     },
     "execution_count": 75,
     "metadata": {},
     "output_type": "execute_result"
    }
   ],
   "source": [
    "# Merge weather_1 and weather_2 together\n",
    "weather_df = pd.merge(left=weather1,\n",
    "                     right=weather2,\n",
    "                     on='Date',\n",
    "                     suffixes=('_1', '_2'))\n",
    "\n",
    "# Dropping \"Station_1\" and \"Station_2\"\n",
    "weather_df.drop(columns=['Station_1', 'Station_2'], inplace=True)\n",
    "\n",
    "# Renaming Sunrise, Sunset, SnowFall with suffix _1\n",
    "weather_df.rename(columns={'Depart': 'Depart_1',\n",
    "                           'Sunrise': 'Sunrise_1',\n",
    "                           'Sunset': 'Sunset_1',\n",
    "                           'SnowFall': 'SnowFall_1'}, inplace=True)\n",
    "\n",
    "# Checking if changes were done correctly\n",
    "weather_df"
   ]
  },
  {
   "cell_type": "markdown",
   "id": "ccf4742f",
   "metadata": {},
   "source": [
    "#### Checking which columns missing values are coming from"
   ]
  },
  {
   "cell_type": "code",
   "execution_count": 76,
   "id": "785c72b8",
   "metadata": {
    "scrolled": true
   },
   "outputs": [
    {
     "data": {
      "text/plain": [
       "Tavg_2           11\n",
       "SeaLevel_1        5\n",
       "SeaLevel_2        4\n",
       "AvgSpeed_2        3\n",
       "WetBulb_1         3\n",
       "StnPressure_2     2\n",
       "PrecipTotal_2     2\n",
       "StnPressure_1     2\n",
       "WetBulb_2         1\n",
       "AvgSpeed_1        0\n",
       "ResultDir_2       0\n",
       "ResultSpeed_2     0\n",
       "CodeSum_2         0\n",
       "DewPoint_2        0\n",
       "Tmin_2            0\n",
       "Tmax_2            0\n",
       "Date              0\n",
       "ResultDir_1       0\n",
       "Tmax_1            0\n",
       "PrecipTotal_1     0\n",
       "SnowFall_1        0\n",
       "CodeSum_1         0\n",
       "Sunset_1          0\n",
       "Sunrise_1         0\n",
       "DewPoint_1        0\n",
       "Depart_1          0\n",
       "Tavg_1            0\n",
       "Tmin_1            0\n",
       "ResultSpeed_1     0\n",
       "dtype: int64"
      ]
     },
     "execution_count": 76,
     "metadata": {},
     "output_type": "execute_result"
    }
   ],
   "source": [
    "weather_df.isnull().sum().sort_values(ascending=False)"
   ]
  },
  {
   "cell_type": "markdown",
   "id": "6d879bdc",
   "metadata": {},
   "source": [
    "#### Deciding to Impute or Drop Tavg_2 due to missing data"
   ]
  },
  {
   "cell_type": "code",
   "execution_count": 77,
   "id": "b3fd7a0a",
   "metadata": {},
   "outputs": [
    {
     "name": "stdout",
     "output_type": "stream",
     "text": [
      "          Tavg_1    Tavg_2\n",
      "Tavg_1  1.000000  0.992288\n",
      "Tavg_2  0.992288  1.000000\n"
     ]
    },
    {
     "data": {
      "text/plain": [
       "<AxesSubplot:xlabel='Tavg_1', ylabel='Tavg_2'>"
      ]
     },
     "execution_count": 77,
     "metadata": {},
     "output_type": "execute_result"
    },
    {
     "data": {
      "image/png": "[encoded data removed]",
      "text/plain": [
       "<Figure size 432x288 with 1 Axes>"
      ]
     },
     "metadata": {
      "needs_background": "light"
     },
     "output_type": "display_data"
    }
   ],
   "source": [
    "# Checking if Tavg_1 and Tavg_2 are correlated\n",
    "print(weather_df[['Tavg_1', 'Tavg_2']].corr())\n",
    "sns.regplot(x='Tavg_1', y='Tavg_2', data=weather_df)"
   ]
  },
  {
   "cell_type": "code",
   "execution_count": 78,
   "id": "3de1ff9f",
   "metadata": {},
   "outputs": [],
   "source": [
    "# To drop Tavg_2 since there is a very high correlation coefficient with Tavg_1\n",
    "weather_df.drop(columns=['Tavg_2'], inplace=True)"
   ]
  },
  {
   "cell_type": "markdown",
   "id": "61fee181",
   "metadata": {},
   "source": [
    "#### Deciding to Impute or Drop StnPressure_1 and StnPressure_2 due to missing data"
   ]
  },
  {
   "cell_type": "code",
   "execution_count": 79,
   "id": "902bdc6b",
   "metadata": {},
   "outputs": [
    {
     "name": "stdout",
     "output_type": "stream",
     "text": [
      "               StnPressure_1  StnPressure_2\n",
      "StnPressure_1       1.000000       0.998212\n",
      "StnPressure_2       0.998212       1.000000\n"
     ]
    },
    {
     "data": {
      "text/plain": [
       "<AxesSubplot:xlabel='StnPressure_1', ylabel='StnPressure_2'>"
      ]
     },
     "execution_count": 79,
     "metadata": {},
     "output_type": "execute_result"
    },
    {
     "data": {
      "image/png": "[encoded data removed]",
      "text/plain": [
       "<Figure size 432x288 with 1 Axes>"
      ]
     },
     "metadata": {
      "needs_background": "light"
     },
     "output_type": "display_data"
    }
   ],
   "source": [
    "# Checking if StnPressure_1 and StnPressure_2 are correlated\n",
    "print(weather_df[['StnPressure_1', 'StnPressure_2']].corr())\n",
    "sns.regplot(x='StnPressure_1', y='StnPressure_2', data=weather_df)"
   ]
  },
  {
   "cell_type": "code",
   "execution_count": 80,
   "id": "cd0c201c",
   "metadata": {},
   "outputs": [
    {
     "data": {
      "text/plain": [
       "424     29.2\n",
       "1205     NaN\n",
       "Name: StnPressure_2, dtype: float64"
      ]
     },
     "execution_count": 80,
     "metadata": {},
     "output_type": "execute_result"
    }
   ],
   "source": [
    "# There is a missing value if we are using StnPressure_2 values to impute for StnPressure_1\n",
    "# To look for other predictors as source of imputation\n",
    "weather_df[weather_df['StnPressure_1'].isnull()]['StnPressure_2']"
   ]
  },
  {
   "cell_type": "code",
   "execution_count": 81,
   "id": "1da4d8ef",
   "metadata": {},
   "outputs": [
    {
     "name": "stdout",
     "output_type": "stream",
     "text": [
      "               StnPressure_1  SeaLevel_1\n",
      "StnPressure_1       1.000000    0.993641\n",
      "SeaLevel_1          0.993641    1.000000\n"
     ]
    },
    {
     "data": {
      "text/plain": [
       "<AxesSubplot:xlabel='SeaLevel_1', ylabel='StnPressure_1'>"
      ]
     },
     "execution_count": 81,
     "metadata": {},
     "output_type": "execute_result"
    },
    {
     "data": {
      "image/png": "[encoded data removed]",
      "text/plain": [
       "<Figure size 432x288 with 1 Axes>"
      ]
     },
     "metadata": {
      "needs_background": "light"
     },
     "output_type": "display_data"
    }
   ],
   "source": [
    "# Checking if SeaLevel_1 and StnPressure_1 are correlated to use for imputation\n",
    "print(weather_df[['StnPressure_1', 'SeaLevel_1']].corr())\n",
    "sns.regplot(x='SeaLevel_1', y='StnPressure_1', data=weather_df)"
   ]
  },
  {
   "cell_type": "code",
   "execution_count": 82,
   "id": "96af96a3",
   "metadata": {},
   "outputs": [
    {
     "name": "stdout",
     "output_type": "stream",
     "text": [
      "Train Score: 0.9874568710173885\n",
      "Train CV Score: 0.9873196782394258\n",
      "Test Score: 0.9867056256872179\n",
      "Coefficient: 0.979418666415391\n",
      "Intercept: -0.10133689681390123\n"
     ]
    }
   ],
   "source": [
    "# Fit model to prepare for imputation\n",
    "temp = weather_df[['StnPressure_1', 'SeaLevel_1']].dropna()\n",
    "X = temp[['SeaLevel_1']]\n",
    "y = temp['StnPressure_1']\n",
    "X_train, X_test, y_train, y_test = train_test_split(X, y, train_size=0.8)\n",
    "lr = LinearRegression()\n",
    "lr.fit(X_train, y_train)\n",
    "print(f'Train Score: {lr.score(X_train, y_train)}')\n",
    "print(f'Train CV Score: {cross_val_score(lr, X_train, y_train, cv=5).mean()}')\n",
    "print(f'Test Score: {lr.score(X_test, y_test)}')\n",
    "print(f'Coefficient: {lr.coef_[0]}')\n",
    "print(f'Intercept: {lr.intercept_}')"
   ]
  },
  {
   "cell_type": "code",
   "execution_count": 83,
   "id": "a53850ff",
   "metadata": {},
   "outputs": [],
   "source": [
    "# Impute missing value via prediction using linear model\n",
    "for i in weather_df[weather_df['StnPressure_1'].isnull()].index:\n",
    "    weather_df.loc[i, 'StnPressure_1'] = lr.predict([[weather_df.loc[i, 'SeaLevel_1']]])"
   ]
  },
  {
   "cell_type": "code",
   "execution_count": 84,
   "id": "13268194",
   "metadata": {},
   "outputs": [
    {
     "name": "stdout",
     "output_type": "stream",
     "text": [
      "               StnPressure_2  SeaLevel_2\n",
      "StnPressure_2       1.000000    0.991628\n",
      "SeaLevel_2          0.991628    1.000000\n"
     ]
    },
    {
     "data": {
      "text/plain": [
       "<AxesSubplot:xlabel='SeaLevel_2', ylabel='StnPressure_2'>"
      ]
     },
     "execution_count": 84,
     "metadata": {},
     "output_type": "execute_result"
    },
    {
     "data": {
      "image/png": "[encoded data removed]",
      "text/plain": [
       "<Figure size 432x288 with 1 Axes>"
      ]
     },
     "metadata": {
      "needs_background": "light"
     },
     "output_type": "display_data"
    }
   ],
   "source": [
    "# Checking if SeaLevel_2 and StnPressure_2 are correlated to use for imputation\n",
    "print(weather_df[['StnPressure_2', 'SeaLevel_2']].corr())\n",
    "sns.regplot(x='SeaLevel_2', y='StnPressure_2', data=weather_df)"
   ]
  },
  {
   "cell_type": "code",
   "execution_count": 85,
   "id": "0bef1554",
   "metadata": {},
   "outputs": [],
   "source": [
    "# Dropping SeaLevel_1, SeaLevel_2 & StnPressure_2 due to high correlation coefficient\n",
    "weather_df.drop(columns=['SeaLevel_1', 'SeaLevel_2', 'StnPressure_2'], inplace=True)"
   ]
  },
  {
   "cell_type": "code",
   "execution_count": 86,
   "id": "974ed50a",
   "metadata": {},
   "outputs": [
    {
     "data": {
      "text/plain": [
       "Date             0\n",
       "Tmax_1           0\n",
       "Tmin_1           0\n",
       "Tavg_1           0\n",
       "Depart_1         0\n",
       "DewPoint_1       0\n",
       "WetBulb_1        3\n",
       "Sunrise_1        0\n",
       "Sunset_1         0\n",
       "CodeSum_1        0\n",
       "SnowFall_1       0\n",
       "PrecipTotal_1    0\n",
       "StnPressure_1    0\n",
       "ResultSpeed_1    0\n",
       "ResultDir_1      0\n",
       "AvgSpeed_1       0\n",
       "Tmax_2           0\n",
       "Tmin_2           0\n",
       "DewPoint_2       0\n",
       "WetBulb_2        1\n",
       "CodeSum_2        0\n",
       "PrecipTotal_2    2\n",
       "ResultSpeed_2    0\n",
       "ResultDir_2      0\n",
       "AvgSpeed_2       3\n",
       "dtype: int64"
      ]
     },
     "execution_count": 86,
     "metadata": {},
     "output_type": "execute_result"
    }
   ],
   "source": [
    "weather_df.isnull().sum()"
   ]
  },
  {
   "cell_type": "code",
   "execution_count": 87,
   "id": "deb075d5",
   "metadata": {},
   "outputs": [
    {
     "data": {
      "text/plain": [
       "<AxesSubplot:>"
      ]
     },
     "execution_count": 87,
     "metadata": {},
     "output_type": "execute_result"
    },
    {
     "data": {
      "image/png": "[encoded data removed]",
      "text/plain": [
       "<Figure size 720x720 with 2 Axes>"
      ]
     },
     "metadata": {
      "needs_background": "light"
     },
     "output_type": "display_data"
    }
   ],
   "source": [
    "# Checking correlation matrix for temperatue related predictors for predictors as source for imputing missing values\n",
    "predictors = ['Tmax_1', 'Tmin_1', 'Tavg_1', 'Depart_1', 'DewPoint_1', 'WetBulb_1',\n",
    "              'Tmax_2', 'Tmin_2', 'DewPoint_2', 'WetBulb_2']\n",
    "corr_coeff = weather_df[predictors].corr()\n",
    "mask = np.zeros_like(corr_coeff)\n",
    "mask[np.triu_indices_from(mask)] = True\n",
    "plt.figure(figsize=(10, 10))\n",
    "sns.heatmap(corr_coeff, mask=mask, vmax=1, vmin=-1, annot=True)"
   ]
  },
  {
   "cell_type": "code",
   "execution_count": 88,
   "id": "e7c91d1c",
   "metadata": {},
   "outputs": [
    {
     "name": "stdout",
     "output_type": "stream",
     "text": [
      "          Tmax_1    Tmax_2\n",
      "Tmax_1  1.000000  0.986896\n",
      "Tmax_2  0.986896  1.000000\n"
     ]
    }
   ],
   "source": [
    "# Checking if Tmax_1 and Tmax_2 are correlated and decide if it should be dropped\n",
    "print(weather_df[['Tmax_1', 'Tmax_2']].corr())"
   ]
  },
  {
   "cell_type": "code",
   "execution_count": 89,
   "id": "d140ceb0",
   "metadata": {},
   "outputs": [
    {
     "data": {
      "text/plain": [
       "<AxesSubplot:xlabel='Tmin_1', ylabel='Tmin_2'>"
      ]
     },
     "execution_count": 89,
     "metadata": {},
     "output_type": "execute_result"
    },
    {
     "data": {
      "image/png": "[encoded data removed]",
      "text/plain": [
       "<Figure size 432x288 with 1 Axes>"
      ]
     },
     "metadata": {
      "needs_background": "light"
     },
     "output_type": "display_data"
    }
   ],
   "source": [
    "# Checking if Tmin_1 and Tmin_2 are correlated and decide if it should be dropped\n",
    "sns.regplot(x='Tmin_1', y='Tmin_2', data=weather_df)"
   ]
  },
  {
   "cell_type": "code",
   "execution_count": 90,
   "id": "a3bc8076",
   "metadata": {},
   "outputs": [
    {
     "data": {
      "text/plain": [
       "<AxesSubplot:xlabel='DewPoint_1', ylabel='DewPoint_2'>"
      ]
     },
     "execution_count": 90,
     "metadata": {},
     "output_type": "execute_result"
    },
    {
     "data": {
      "image/png": "[encoded data removed]",
      "text/plain": [
       "<Figure size 432x288 with 1 Axes>"
      ]
     },
     "metadata": {
      "needs_background": "light"
     },
     "output_type": "display_data"
    }
   ],
   "source": [
    "# Checking if DewPoint_1 and DewPoint_2 are correlated and decide if it should be dropped\n",
    "sns.regplot(x='DewPoint_1', y='DewPoint_2', data=weather_df)"
   ]
  },
  {
   "cell_type": "code",
   "execution_count": 91,
   "id": "931c3b2e",
   "metadata": {},
   "outputs": [
    {
     "data": {
      "text/plain": [
       "<AxesSubplot:xlabel='WetBulb_1', ylabel='WetBulb_2'>"
      ]
     },
     "execution_count": 91,
     "metadata": {},
     "output_type": "execute_result"
    },
    {
     "data": {
      "image/png": "[encoded data removed]",
      "text/plain": [
       "<Figure size 432x288 with 1 Axes>"
      ]
     },
     "metadata": {
      "needs_background": "light"
     },
     "output_type": "display_data"
    }
   ],
   "source": [
    "# Checking if WetBulb_1 and WetBulb_2 are correlated and decide if it should be dropped\n",
    "sns.regplot(x='WetBulb_1', y='WetBulb_2', data=weather_df)"
   ]
  },
  {
   "cell_type": "code",
   "execution_count": 92,
   "id": "3b9475dd",
   "metadata": {},
   "outputs": [],
   "source": [
    "# Dropping Tmax_2, Tmin_2, DewPoint_2, WetBulb_2 as they have very high correlation coefficient with their station 1 counterpart\n",
    "weather_df.drop(columns=['Tmax_2', 'Tmin_2', 'DewPoint_2', 'WetBulb_2'], inplace=True)"
   ]
  },
  {
   "cell_type": "code",
   "execution_count": 93,
   "id": "27221665",
   "metadata": {},
   "outputs": [
    {
     "data": {
      "text/plain": [
       "<AxesSubplot:>"
      ]
     },
     "execution_count": 93,
     "metadata": {},
     "output_type": "execute_result"
    },
    {
     "data": {
      "image/png": "[encoded data removed]",
      "text/plain": [
       "<Figure size 1080x1080 with 2 Axes>"
      ]
     },
     "metadata": {
      "needs_background": "light"
     },
     "output_type": "display_data"
    }
   ],
   "source": [
    "corr_coeff = weather_df.corr()\n",
    "mask = np.zeros_like(corr_coeff)\n",
    "mask[np.triu_indices_from(mask)] = True\n",
    "plt.figure(figsize=(15, 15))\n",
    "sns.heatmap(corr_coeff, mask=mask, vmax=1, vmin=-1, annot=True)"
   ]
  },
  {
   "cell_type": "code",
   "execution_count": 94,
   "id": "de615d55",
   "metadata": {},
   "outputs": [
    {
     "data": {
      "text/plain": [
       "<AxesSubplot:xlabel='ResultSpeed_1', ylabel='ResultSpeed_2'>"
      ]
     },
     "execution_count": 94,
     "metadata": {},
     "output_type": "execute_result"
    },
    {
     "data": {
      "image/png": "[encoded data removed]",
      "text/plain": [
       "<Figure size 432x288 with 1 Axes>"
      ]
     },
     "metadata": {
      "needs_background": "light"
     },
     "output_type": "display_data"
    }
   ],
   "source": [
    "# Checking if ResultSpeed_1 and ResultSpeed_2 are correlated and decide if it should be dropped\n",
    "sns.regplot(x='ResultSpeed_1', y='ResultSpeed_2', data=weather_df)"
   ]
  },
  {
   "cell_type": "code",
   "execution_count": 95,
   "id": "da036fad",
   "metadata": {},
   "outputs": [
    {
     "data": {
      "text/plain": [
       "<AxesSubplot:xlabel='ResultDir_1', ylabel='ResultDir_2'>"
      ]
     },
     "execution_count": 95,
     "metadata": {},
     "output_type": "execute_result"
    },
    {
     "data": {
      "image/png": "[encoded data removed]",
      "text/plain": [
       "<Figure size 432x288 with 1 Axes>"
      ]
     },
     "metadata": {
      "needs_background": "light"
     },
     "output_type": "display_data"
    }
   ],
   "source": [
    "# Checking if ResultDir_1 and ResultDir_2 are correlated and decide if it should be dropped\n",
    "sns.regplot(x='ResultDir_1', y='ResultDir_2', data=weather_df)"
   ]
  },
  {
   "cell_type": "code",
   "execution_count": 96,
   "id": "fdb753ca",
   "metadata": {},
   "outputs": [
    {
     "data": {
      "text/plain": [
       "<AxesSubplot:xlabel='AvgSpeed_1', ylabel='AvgSpeed_2'>"
      ]
     },
     "execution_count": 96,
     "metadata": {},
     "output_type": "execute_result"
    },
    {
     "data": {
      "image/png": "[encoded data removed]",
      "text/plain": [
       "<Figure size 432x288 with 1 Axes>"
      ]
     },
     "metadata": {
      "needs_background": "light"
     },
     "output_type": "display_data"
    }
   ],
   "source": [
    "# Checking if AvgSpeed_1 and AvgSpeed_2 are correlated and decide if it should be dropped\n",
    "sns.regplot(x='AvgSpeed_1', y='AvgSpeed_2', data=weather_df)"
   ]
  },
  {
   "cell_type": "code",
   "execution_count": 97,
   "id": "5af4a8d6",
   "metadata": {},
   "outputs": [],
   "source": [
    "# Dropping 'ResultSpeed_2' and 'AvgSpeed_2' since it has very high correlation score with station 1\n",
    "weather_df.drop(columns=['ResultSpeed_2', 'AvgSpeed_2'], inplace=True)"
   ]
  },
  {
   "cell_type": "code",
   "execution_count": 98,
   "id": "e1019302",
   "metadata": {},
   "outputs": [],
   "source": [
    "# Drop rows with na\n",
    "weather_df.dropna(inplace=True)"
   ]
  },
  {
   "cell_type": "code",
   "execution_count": 99,
   "id": "12f93a6a",
   "metadata": {},
   "outputs": [
    {
     "data": {
      "text/html": [
       "<div>\n",
       "<style scoped>\n",
       "    .dataframe tbody tr th:only-of-type {\n",
       "        vertical-align: middle;\n",
       "    }\n",
       "\n",
       "    .dataframe tbody tr th {\n",
       "        vertical-align: top;\n",
       "    }\n",
       "\n",
       "    .dataframe thead th {\n",
       "        text-align: right;\n",
       "    }\n",
       "</style>\n",
       "<table border=\"1\" class=\"dataframe\">\n",
       "  <thead>\n",
       "    <tr style=\"text-align: right;\">\n",
       "      <th></th>\n",
       "      <th>Tmax_1</th>\n",
       "      <th>Tmin_1</th>\n",
       "      <th>Tavg_1</th>\n",
       "      <th>Depart_1</th>\n",
       "      <th>DewPoint_1</th>\n",
       "      <th>WetBulb_1</th>\n",
       "      <th>SnowFall_1</th>\n",
       "      <th>PrecipTotal_1</th>\n",
       "      <th>StnPressure_1</th>\n",
       "      <th>ResultSpeed_1</th>\n",
       "      <th>ResultDir_1</th>\n",
       "      <th>AvgSpeed_1</th>\n",
       "      <th>PrecipTotal_2</th>\n",
       "      <th>ResultDir_2</th>\n",
       "    </tr>\n",
       "  </thead>\n",
       "  <tbody>\n",
       "    <tr>\n",
       "      <th>count</th>\n",
       "      <td>1467.000000</td>\n",
       "      <td>1467.000000</td>\n",
       "      <td>1467.000000</td>\n",
       "      <td>1467.000000</td>\n",
       "      <td>1467.000000</td>\n",
       "      <td>1467.000000</td>\n",
       "      <td>1467.00000</td>\n",
       "      <td>1467.000000</td>\n",
       "      <td>1467.000000</td>\n",
       "      <td>1467.000000</td>\n",
       "      <td>1467.000000</td>\n",
       "      <td>1467.000000</td>\n",
       "      <td>1467.000000</td>\n",
       "      <td>1467.000000</td>\n",
       "    </tr>\n",
       "    <tr>\n",
       "      <th>mean</th>\n",
       "      <td>75.970688</td>\n",
       "      <td>56.715065</td>\n",
       "      <td>66.594410</td>\n",
       "      <td>1.966599</td>\n",
       "      <td>53.363327</td>\n",
       "      <td>59.035446</td>\n",
       "      <td>0.00015</td>\n",
       "      <td>0.135101</td>\n",
       "      <td>29.253926</td>\n",
       "      <td>6.988275</td>\n",
       "      <td>17.688480</td>\n",
       "      <td>8.573756</td>\n",
       "      <td>0.128483</td>\n",
       "      <td>17.366735</td>\n",
       "    </tr>\n",
       "    <tr>\n",
       "      <th>std</th>\n",
       "      <td>11.517107</td>\n",
       "      <td>10.358410</td>\n",
       "      <td>10.522751</td>\n",
       "      <td>6.843174</td>\n",
       "      <td>10.684593</td>\n",
       "      <td>9.330017</td>\n",
       "      <td>0.00276</td>\n",
       "      <td>0.421677</td>\n",
       "      <td>0.156180</td>\n",
       "      <td>3.587469</td>\n",
       "      <td>10.209625</td>\n",
       "      <td>3.187229</td>\n",
       "      <td>0.363840</td>\n",
       "      <td>9.892005</td>\n",
       "    </tr>\n",
       "    <tr>\n",
       "      <th>min</th>\n",
       "      <td>42.000000</td>\n",
       "      <td>29.000000</td>\n",
       "      <td>36.000000</td>\n",
       "      <td>-17.000000</td>\n",
       "      <td>22.000000</td>\n",
       "      <td>32.000000</td>\n",
       "      <td>0.00000</td>\n",
       "      <td>0.000000</td>\n",
       "      <td>28.550000</td>\n",
       "      <td>0.100000</td>\n",
       "      <td>1.000000</td>\n",
       "      <td>1.900000</td>\n",
       "      <td>0.000000</td>\n",
       "      <td>1.000000</td>\n",
       "    </tr>\n",
       "    <tr>\n",
       "      <th>25%</th>\n",
       "      <td>68.000000</td>\n",
       "      <td>49.000000</td>\n",
       "      <td>60.000000</td>\n",
       "      <td>-3.000000</td>\n",
       "      <td>46.000000</td>\n",
       "      <td>53.000000</td>\n",
       "      <td>0.00000</td>\n",
       "      <td>0.000000</td>\n",
       "      <td>29.160000</td>\n",
       "      <td>4.400000</td>\n",
       "      <td>7.000000</td>\n",
       "      <td>6.200000</td>\n",
       "      <td>0.000000</td>\n",
       "      <td>8.000000</td>\n",
       "    </tr>\n",
       "    <tr>\n",
       "      <th>50%</th>\n",
       "      <td>78.000000</td>\n",
       "      <td>58.000000</td>\n",
       "      <td>68.000000</td>\n",
       "      <td>2.000000</td>\n",
       "      <td>54.000000</td>\n",
       "      <td>60.000000</td>\n",
       "      <td>0.00000</td>\n",
       "      <td>0.000000</td>\n",
       "      <td>29.260000</td>\n",
       "      <td>6.400000</td>\n",
       "      <td>20.000000</td>\n",
       "      <td>8.100000</td>\n",
       "      <td>0.000000</td>\n",
       "      <td>19.000000</td>\n",
       "    </tr>\n",
       "    <tr>\n",
       "      <th>75%</th>\n",
       "      <td>85.000000</td>\n",
       "      <td>65.000000</td>\n",
       "      <td>75.000000</td>\n",
       "      <td>7.000000</td>\n",
       "      <td>62.000000</td>\n",
       "      <td>66.000000</td>\n",
       "      <td>0.00000</td>\n",
       "      <td>0.060000</td>\n",
       "      <td>29.350000</td>\n",
       "      <td>9.100000</td>\n",
       "      <td>26.000000</td>\n",
       "      <td>10.400000</td>\n",
       "      <td>0.050000</td>\n",
       "      <td>24.500000</td>\n",
       "    </tr>\n",
       "    <tr>\n",
       "      <th>max</th>\n",
       "      <td>103.000000</td>\n",
       "      <td>82.000000</td>\n",
       "      <td>93.000000</td>\n",
       "      <td>23.000000</td>\n",
       "      <td>75.000000</td>\n",
       "      <td>78.000000</td>\n",
       "      <td>0.10000</td>\n",
       "      <td>6.860000</td>\n",
       "      <td>29.790000</td>\n",
       "      <td>24.100000</td>\n",
       "      <td>36.000000</td>\n",
       "      <td>26.300000</td>\n",
       "      <td>4.730000</td>\n",
       "      <td>36.000000</td>\n",
       "    </tr>\n",
       "  </tbody>\n",
       "</table>\n",
       "</div>"
      ],
      "text/plain": [
       "            Tmax_1       Tmin_1       Tavg_1     Depart_1   DewPoint_1  \\\n",
       "count  1467.000000  1467.000000  1467.000000  1467.000000  1467.000000   \n",
       "mean     75.970688    56.715065    66.594410     1.966599    53.363327   \n",
       "std      11.517107    10.358410    10.522751     6.843174    10.684593   \n",
       "min      42.000000    29.000000    36.000000   -17.000000    22.000000   \n",
       "25%      68.000000    49.000000    60.000000    -3.000000    46.000000   \n",
       "50%      78.000000    58.000000    68.000000     2.000000    54.000000   \n",
       "75%      85.000000    65.000000    75.000000     7.000000    62.000000   \n",
       "max     103.000000    82.000000    93.000000    23.000000    75.000000   \n",
       "\n",
       "         WetBulb_1  SnowFall_1  PrecipTotal_1  StnPressure_1  ResultSpeed_1  \\\n",
       "count  1467.000000  1467.00000    1467.000000    1467.000000    1467.000000   \n",
       "mean     59.035446     0.00015       0.135101      29.253926       6.988275   \n",
       "std       9.330017     0.00276       0.421677       0.156180       3.587469   \n",
       "min      32.000000     0.00000       0.000000      28.550000       0.100000   \n",
       "25%      53.000000     0.00000       0.000000      29.160000       4.400000   \n",
       "50%      60.000000     0.00000       0.000000      29.260000       6.400000   \n",
       "75%      66.000000     0.00000       0.060000      29.350000       9.100000   \n",
       "max      78.000000     0.10000       6.860000      29.790000      24.100000   \n",
       "\n",
       "       ResultDir_1   AvgSpeed_1  PrecipTotal_2  ResultDir_2  \n",
       "count  1467.000000  1467.000000    1467.000000  1467.000000  \n",
       "mean     17.688480     8.573756       0.128483    17.366735  \n",
       "std      10.209625     3.187229       0.363840     9.892005  \n",
       "min       1.000000     1.900000       0.000000     1.000000  \n",
       "25%       7.000000     6.200000       0.000000     8.000000  \n",
       "50%      20.000000     8.100000       0.000000    19.000000  \n",
       "75%      26.000000    10.400000       0.050000    24.500000  \n",
       "max      36.000000    26.300000       4.730000    36.000000  "
      ]
     },
     "execution_count": 99,
     "metadata": {},
     "output_type": "execute_result"
    }
   ],
   "source": [
    "# Check summary statistics\n",
    "# StnPressure_1 and SnowFall_1 has very small variation\n",
    "weather_df.describe()"
   ]
  },
  {
   "cell_type": "code",
   "execution_count": 100,
   "id": "4885dc0d",
   "metadata": {},
   "outputs": [
    {
     "data": {
      "text/plain": [
       "array(['MD', 'BR', 'RA', 'BR HZ', 'RA BR', 'RA VCTS', 'RA HZ',\n",
       "       'TSRA RA BR HZ', 'HZ', 'TSRA BR HZ', 'TSRA RA BR', 'TSRA RA HZ',\n",
       "       'TSRA BR HZ VCTS', 'TSRA', 'TSRA BR HZ FU', 'BR HZ FU',\n",
       "       'TSRA RA VCTS', 'HZ VCTS', 'RA BR VCTS', 'TSRA RA BR VCTS',\n",
       "       'DZ BR', 'TS TSRA RA BR HZ', 'RA BR HZ', 'TSRA RA',\n",
       "       'TS TSRA RA BR', 'TS RA BR', 'TS TSRA RA', 'TS TSRA RA BR VCTS',\n",
       "       'TS RA', 'TSRA BR', 'RA DZ FG+ BCFG BR', 'RA FG+ MIFG BR', 'RA DZ',\n",
       "       'RA DZ BR', 'TSRA RA FG+ FG BR', 'TSRA DZ FG+ FG BR HZ', 'TS TSRA',\n",
       "       'TSRA HZ', 'TS', 'FG+ BR HZ', 'TS TSRA BR HZ', 'DZ BR HZ',\n",
       "       'TS TSRA BR', 'RA BR FU', 'TS BR HZ', 'FG+ BR', 'FG+ MIFG BR',\n",
       "       'TSRA RA FG BR', 'DZ', 'RA DZ BR HZ', 'TS BR', 'TS RA FG+ FG BR',\n",
       "       'RA DZ FG+ FG BR', 'RA BR SQ', 'RA FG BR', 'RA BR HZ FU',\n",
       "       'MIFG BCFG BR', 'TSRA RA FG+ FG BR HZ', 'TSRA DZ BR HZ',\n",
       "       'TS TSRA RA FG BR HZ', 'RA DZ FG+ BR', 'TSRA FG+ BR HZ',\n",
       "       'FG+ FG BR HZ', 'FG BR HZ', 'TS RA BR HZ', 'BCFG BR', 'RA SN'],\n",
       "      dtype=object)"
      ]
     },
     "execution_count": 100,
     "metadata": {},
     "output_type": "execute_result"
    }
   ],
   "source": [
    "weather_df['CodeSum_1'].unique()"
   ]
  },
  {
   "cell_type": "code",
   "execution_count": 101,
   "id": "50cc1d09",
   "metadata": {},
   "outputs": [
    {
     "data": {
      "text/plain": [
       "array(['MD', 'BR HZ', 'HZ', 'TSRA RA BR', 'RA BR', 'TSRA RA', 'RA HZ',\n",
       "       'TSRA BR HZ', 'RA BR HZ VCTS', 'RA', 'TSRA RA HZ', 'TSRA RA HZ FU',\n",
       "       'BR', 'TSRA HZ', 'VCTS', 'TS TSRA RA BR HZ VCTS', 'TS TSRA BR HZ',\n",
       "       'RA BR HZ', 'TSRA RA BR VCTS', 'TSRA RA DZ BR HZ', 'TSRA',\n",
       "       'TS TSRA RA BR', 'TS RA BR', 'TS TSRA RA BR HZ', 'TS TSRA BR',\n",
       "       'TSRA RA BR HZ', 'RA BCFG BR', 'TSRA BR', 'RA DZ', 'RA DZ BR',\n",
       "       'TS TSRA RA HZ', 'TS BR', 'RA BR SQ', 'TS TSRA RA', 'TS RA',\n",
       "       'TSRA RA VCTS', 'TSRA RA BR HZ VCTS', 'BR VCTS', 'RA SN',\n",
       "       'TSRA RA DZ BR', 'DZ BR', 'DZ BR HZ', 'DZ', 'FG+ FG BR', 'FG+ BR',\n",
       "       'TSRA FG+ BR', 'RA DZ BR HZ', 'RA DZ SN', 'FG+ FG BR HZ',\n",
       "       'TS TSRA RA FG BR', 'TS BR HZ', 'BR HZ VCFG', 'TSRA RA FG+ BR',\n",
       "       'TS TSRA RA VCTS', 'FU', 'TS', 'TS TSRA VCFG', 'TS TSRA HZ',\n",
       "       'TS TSRA GR RA BR', 'HZ FU', 'RA BR HZ FU', 'FG+ BCFG BR',\n",
       "       'TSRA RA FG+ FG BR', 'FG+', 'TSRA BR SQ', 'RA BR HZ VCFG',\n",
       "       'RA FG+ BR', 'FG BR HZ', 'TS HZ', 'RA DZ FG+ BR HZ', 'RA BR VCFG',\n",
       "       'TS TSRA', 'RA SN BR'], dtype=object)"
      ]
     },
     "execution_count": 101,
     "metadata": {},
     "output_type": "execute_result"
    }
   ],
   "source": [
    "weather_df['CodeSum_2'].unique()"
   ]
  },
  {
   "cell_type": "code",
   "execution_count": 104,
   "id": "b8914e91",
   "metadata": {},
   "outputs": [],
   "source": [
    "# Write to csv\n",
    "weather_df.to_csv('../assets_clean/weather_clean.csv', index=False)"
   ]
  }
 ],
 "metadata": {
  "kernelspec": {
   "display_name": "Python 3",
   "language": "python",
   "name": "python3"
  },
  "language_info": {
   "codemirror_mode": {
    "name": "ipython",
    "version": 3
   },
   "file_extension": ".py",
   "mimetype": "text/x-python",
   "name": "python",
   "nbconvert_exporter": "python",
   "pygments_lexer": "ipython3",
   "version": "3.8.8"
  }
 },
 "nbformat": 4,
 "nbformat_minor": 5
}
