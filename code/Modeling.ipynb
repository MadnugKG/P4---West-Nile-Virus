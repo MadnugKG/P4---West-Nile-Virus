{
 "cells": [
  {
   "cell_type": "code",
   "execution_count": 1,
   "id": "2cb77cbe",
   "metadata": {},
   "outputs": [],
   "source": [
    "# Import libraries\n",
    "import pandas as pd\n",
    "import numpy as np\n",
    "import matplotlib.pyplot as plt\n",
    "import pickle\n",
    "\n",
    "\n",
    "from sklearn.preprocessing import StandardScaler\n",
    "from sklearn.pipeline import Pipeline\n",
    "from sklearn.model_selection import train_test_split, GridSearchCV, cross_val_score\n",
    "from sklearn.linear_model import LogisticRegression\n",
    "from sklearn.metrics import confusion_matrix, plot_confusion_matrix, plot_roc_curve, precision_recall_fscore_support,  roc_auc_score\n",
    "from sklearn.naive_bayes import GaussianNB, BernoulliNB\n",
    "from sklearn.ensemble import RandomForestClassifier, ExtraTreesClassifier, AdaBoostClassifier, GradientBoostingClassifier\n",
    "from sklearn.tree import DecisionTreeClassifier\n",
    "from sklearn.svm import SVC\n",
    "\n",
    "from imblearn.over_sampling import SMOTE\n",
    "from imblearn.pipeline import Pipeline\n"
   ]
  },
  {
   "cell_type": "code",
   "execution_count": 2,
   "id": "8b67d846",
   "metadata": {},
   "outputs": [],
   "source": [
    "df = pd.read_csv('/Users/kevinchew/Desktop/p44/P4---West-Nile-Virus/assets/cleaned_datasets/train_weather_weekly.csv')"
   ]
  },
  {
   "cell_type": "code",
   "execution_count": 3,
   "id": "5b01485c",
   "metadata": {},
   "outputs": [],
   "source": [
    "# Setting the variables\n",
    "X = df[[col for col in df.columns if col not in ['WnvPresent', 'Year-Week', 'Year', 'Month', 'Week','Species']]]\n",
    "y = df['WnvPresent']"
   ]
  },
  {
   "cell_type": "markdown",
   "id": "5946bd2f",
   "metadata": {},
   "source": [
    "## Modelling & Hyperparameter Tuning\n",
    "\n",
    "In this section, we will run hyperparameter tuning for the models chosen. Then, since the data is heavily imbalanced, we will re-fit the model using the over-sampled data, which is obtained using SMOTE and obtain the train and test scores. \n",
    "\n"
   ]
  },
  {
   "cell_type": "code",
   "execution_count": 4,
   "id": "3585076b",
   "metadata": {},
   "outputs": [],
   "source": [
    "# train test split\n",
    "X_train, X_test, y_train, y_test = train_test_split(X, y, random_state=42, test_size = 0.2, stratify=y)"
   ]
  },
  {
   "cell_type": "markdown",
   "id": "be42aaf4",
   "metadata": {},
   "source": [
    "### Baseline Prediction"
   ]
  },
  {
   "cell_type": "code",
   "execution_count": 5,
   "id": "278307da",
   "metadata": {},
   "outputs": [
    {
     "data": {
      "text/plain": [
       "0    0.941245\n",
       "1    0.058755\n",
       "Name: WnvPresent, dtype: float64"
      ]
     },
     "execution_count": 5,
     "metadata": {},
     "output_type": "execute_result"
    }
   ],
   "source": [
    "# Look at the proportions of each outcome\n",
    "y_train.value_counts(normalize=True)"
   ]
  },
  {
   "cell_type": "markdown",
   "id": "aa5cab35",
   "metadata": {},
   "source": [
    "The data is heavily imbalanced. We will be ~94% accurate if we were to predict all to be the negative class (WNV not present). As such, we will be optimizing our models using AUC score instead of accuracy. We will also deploy SMOTE (Synthetic Minority Over-sampling Technique) to help us with over-sampling."
   ]
  },
  {
   "cell_type": "code",
   "execution_count": 6,
   "id": "4edab3db",
   "metadata": {},
   "outputs": [],
   "source": [
    "# Scaling\n",
    "ss = StandardScaler()\n",
    "Xs_train = ss.fit_transform(X_train)\n",
    "Xs_test = ss.transform(X_test)"
   ]
  },
  {
   "cell_type": "code",
   "execution_count": 7,
   "id": "ba23bc68",
   "metadata": {},
   "outputs": [],
   "source": [
    "# Instantiate SMOTE\n",
    "sm = SMOTE(random_state=42)\n",
    "\n",
    "Xsm_train, ysm_train = sm.fit_resample(Xs_train, y_train)"
   ]
  },
  {
   "cell_type": "code",
   "execution_count": 8,
   "id": "4ede1d83",
   "metadata": {},
   "outputs": [
    {
     "data": {
      "text/plain": [
       "0    5687\n",
       "1    5687\n",
       "Name: WnvPresent, dtype: int64"
      ]
     },
     "execution_count": 8,
     "metadata": {},
     "output_type": "execute_result"
    }
   ],
   "source": [
    "# Check proportions after SMOTE\n",
    "ysm_train.value_counts()"
   ]
  },
  {
   "cell_type": "markdown",
   "id": "fac11c2a",
   "metadata": {},
   "source": [
    "The over-sampled data will only be used when evaluating the train and test scores. When we apply GridSearchCV to perform hyperparameter tuning, we will need to utilize an `imblearn.Pipeline` object to handle the imbalanced dataset correctly."
   ]
  },
  {
   "cell_type": "markdown",
   "id": "0c5c2392",
   "metadata": {},
   "source": [
    "## Fitting Logistic Regression"
   ]
  },
  {
   "cell_type": "code",
   "execution_count": 9,
   "id": "f7e566f4",
   "metadata": {},
   "outputs": [
    {
     "name": "stdout",
     "output_type": "stream",
     "text": [
      "Fitting Logistic Regression\n",
      "Fitting 5 folds for each of 5 candidates, totalling 25 fits\n",
      "The best parameters are Pipeline(steps=[('sampling', SMOTE(random_state=42)),\n",
      "                ('lr', LogisticRegression(solver='newton-cg'))]).\n",
      "CPU times: user 539 ms, sys: 85.3 ms, total: 625 ms\n",
      "Wall time: 5.52 s\n"
     ]
    }
   ],
   "source": [
    "%%time\n",
    "# This framework will be the one we use for our modelling\n",
    "\n",
    "print(f'Fitting Logistic Regression')      # Prints out what model that we are using \n",
    "\n",
    "# Set up pipeline\n",
    "lr_pipe = Pipeline([\n",
    "        ('sampling', SMOTE(random_state=42)),\n",
    "        ('lr', LogisticRegression(solver='newton-cg'))\n",
    "    ])\n",
    "\n",
    "# Hyperparameters\n",
    "lr_params = {\n",
    "    'lr__C': np.linspace(0.1,1,5),\n",
    "}\n",
    "\n",
    "# Instantiate 5-fold GridSearchCV.\n",
    "gs_lr = GridSearchCV(lr_pipe, param_grid = lr_params, cv=5,\n",
    "                     scoring='roc_auc', n_jobs=-1, verbose=1)\n",
    "\n",
    "# Fit\n",
    "gs_lr.fit(Xs_train, y_train)\n",
    "\n",
    "\n",
    "# See results\n",
    "print(f'The best parameters are {gs_lr.best_estimator_}.')"
   ]
  },
  {
   "cell_type": "markdown",
   "id": "6a761b2c",
   "metadata": {},
   "source": [
    "Using these best hyperparameters, we will re-fit the model based on the over-sampled data and obtain the scoring metrics"
   ]
  },
  {
   "cell_type": "code",
   "execution_count": 10,
   "id": "22d6f685",
   "metadata": {},
   "outputs": [
    {
     "data": {
      "text/plain": [
       "LogisticRegression(solver='newton-cg')"
      ]
     },
     "execution_count": 10,
     "metadata": {},
     "output_type": "execute_result"
    }
   ],
   "source": [
    "# Re-fit model on over-sampled data\n",
    "lr = LogisticRegression(solver='newton-cg')\n",
    "lr.fit(Xsm_train, ysm_train)"
   ]
  },
  {
   "cell_type": "code",
   "execution_count": 11,
   "id": "07fc6f96",
   "metadata": {},
   "outputs": [],
   "source": [
    "# Create list to store all the scores and corresponding model names\n",
    "model_name = []\n",
    "model_scores = []\n",
    "model_var = []\n",
    "model_test_scores = []\n",
    "\n",
    "\n",
    "model_name.append('Logistic Regression')\n",
    "model_scores.append(lr.score(Xsm_train, ysm_train))\n",
    "model_var.append(lr)\n",
    "model_test_scores.append(lr.score(Xs_test,y_test))"
   ]
  },
  {
   "cell_type": "markdown",
   "id": "c383ffdb",
   "metadata": {},
   "source": [
    "### Evaluating Logistic Regression Results"
   ]
  },
  {
   "cell_type": "markdown",
   "id": "316d803e",
   "metadata": {},
   "source": [
    "#### Let us find the factors/coeffciencts that had the most influence and try to make sense of it"
   ]
  },
  {
   "cell_type": "code",
   "execution_count": 12,
   "id": "08c5f7dd",
   "metadata": {
    "scrolled": true
   },
   "outputs": [
    {
     "data": {
      "text/html": [
       "<div>\n",
       "<style scoped>\n",
       "    .dataframe tbody tr th:only-of-type {\n",
       "        vertical-align: middle;\n",
       "    }\n",
       "\n",
       "    .dataframe tbody tr th {\n",
       "        vertical-align: top;\n",
       "    }\n",
       "\n",
       "    .dataframe thead th {\n",
       "        text-align: right;\n",
       "    }\n",
       "</style>\n",
       "<table border=\"1\" class=\"dataframe\">\n",
       "  <thead>\n",
       "    <tr style=\"text-align: right;\">\n",
       "      <th></th>\n",
       "      <th>weights</th>\n",
       "    </tr>\n",
       "  </thead>\n",
       "  <tbody>\n",
       "    <tr>\n",
       "      <th>Tmax_2</th>\n",
       "      <td>2.170868</td>\n",
       "    </tr>\n",
       "    <tr>\n",
       "      <th>NumMosquitos</th>\n",
       "      <td>1.990977</td>\n",
       "    </tr>\n",
       "    <tr>\n",
       "      <th>Tavg_1</th>\n",
       "      <td>1.900157</td>\n",
       "    </tr>\n",
       "    <tr>\n",
       "      <th>AvgSpeed_2</th>\n",
       "      <td>1.760986</td>\n",
       "    </tr>\n",
       "    <tr>\n",
       "      <th>RH_1</th>\n",
       "      <td>1.640499</td>\n",
       "    </tr>\n",
       "    <tr>\n",
       "      <th>Tmax_1</th>\n",
       "      <td>1.503653</td>\n",
       "    </tr>\n",
       "    <tr>\n",
       "      <th>WetBulb_1</th>\n",
       "      <td>1.421304</td>\n",
       "    </tr>\n",
       "    <tr>\n",
       "      <th>Tmin_1</th>\n",
       "      <td>1.260431</td>\n",
       "    </tr>\n",
       "    <tr>\n",
       "      <th>Is Wnv Mosquitoes Types</th>\n",
       "      <td>1.235923</td>\n",
       "    </tr>\n",
       "    <tr>\n",
       "      <th>SnowFall_1</th>\n",
       "      <td>1.112196</td>\n",
       "    </tr>\n",
       "    <tr>\n",
       "      <th>ResultDir_1</th>\n",
       "      <td>1.098247</td>\n",
       "    </tr>\n",
       "    <tr>\n",
       "      <th>StnPressure_2</th>\n",
       "      <td>1.090244</td>\n",
       "    </tr>\n",
       "    <tr>\n",
       "      <th>At_Least_One_Wet_Weather_1_shift21</th>\n",
       "      <td>0.927784</td>\n",
       "    </tr>\n",
       "    <tr>\n",
       "      <th>At_Least_One_Wet_Weather_2</th>\n",
       "      <td>0.843406</td>\n",
       "    </tr>\n",
       "    <tr>\n",
       "      <th>PrecipTotal_1</th>\n",
       "      <td>0.819735</td>\n",
       "    </tr>\n",
       "    <tr>\n",
       "      <th>At_Least_One_Tmin_2_Below_50F</th>\n",
       "      <td>0.808060</td>\n",
       "    </tr>\n",
       "    <tr>\n",
       "      <th>DewPoint_1</th>\n",
       "      <td>0.646686</td>\n",
       "    </tr>\n",
       "    <tr>\n",
       "      <th>Tavg_2</th>\n",
       "      <td>0.622815</td>\n",
       "    </tr>\n",
       "    <tr>\n",
       "      <th>At_Least_One_Wet_Weather_2_shift7</th>\n",
       "      <td>0.599966</td>\n",
       "    </tr>\n",
       "    <tr>\n",
       "      <th>PrecipTotal_2</th>\n",
       "      <td>0.580396</td>\n",
       "    </tr>\n",
       "    <tr>\n",
       "      <th>At_Least_One_Wet_Weather_2_shift14</th>\n",
       "      <td>0.559676</td>\n",
       "    </tr>\n",
       "    <tr>\n",
       "      <th>At_Least_One_Tmin_1_Below_50F</th>\n",
       "      <td>0.546615</td>\n",
       "    </tr>\n",
       "    <tr>\n",
       "      <th>At_Least_One_Wet_Weather_1_shift28</th>\n",
       "      <td>0.539197</td>\n",
       "    </tr>\n",
       "    <tr>\n",
       "      <th>PrecipTotal_2_shift14</th>\n",
       "      <td>0.437173</td>\n",
       "    </tr>\n",
       "    <tr>\n",
       "      <th>ResultSpeed_2</th>\n",
       "      <td>0.385883</td>\n",
       "    </tr>\n",
       "    <tr>\n",
       "      <th>PrecipTotal_2_shift28</th>\n",
       "      <td>0.380972</td>\n",
       "    </tr>\n",
       "    <tr>\n",
       "      <th>Tmin_2</th>\n",
       "      <td>0.314017</td>\n",
       "    </tr>\n",
       "    <tr>\n",
       "      <th>PrecipTotal_1_shift21</th>\n",
       "      <td>0.190097</td>\n",
       "    </tr>\n",
       "    <tr>\n",
       "      <th>dist_from_s1</th>\n",
       "      <td>0.086452</td>\n",
       "    </tr>\n",
       "    <tr>\n",
       "      <th>PrecipTotal_1_shift14</th>\n",
       "      <td>0.006676</td>\n",
       "    </tr>\n",
       "    <tr>\n",
       "      <th>At_Least_One_Tavg_2_Below_50F</th>\n",
       "      <td>0.000000</td>\n",
       "    </tr>\n",
       "    <tr>\n",
       "      <th>StnPressure_1</th>\n",
       "      <td>-0.047816</td>\n",
       "    </tr>\n",
       "    <tr>\n",
       "      <th>Longitude</th>\n",
       "      <td>-0.163818</td>\n",
       "    </tr>\n",
       "    <tr>\n",
       "      <th>PrecipTotal_2_shift21</th>\n",
       "      <td>-0.248593</td>\n",
       "    </tr>\n",
       "    <tr>\n",
       "      <th>At_Least_One_Wet_Weather_2_shift21</th>\n",
       "      <td>-0.288934</td>\n",
       "    </tr>\n",
       "    <tr>\n",
       "      <th>At_Least_One_Tavg_1_Below_50F</th>\n",
       "      <td>-0.369584</td>\n",
       "    </tr>\n",
       "    <tr>\n",
       "      <th>PrecipTotal_1_shift7</th>\n",
       "      <td>-0.395596</td>\n",
       "    </tr>\n",
       "    <tr>\n",
       "      <th>At_Least_One_Wet_Weather_1_shift14</th>\n",
       "      <td>-0.422553</td>\n",
       "    </tr>\n",
       "    <tr>\n",
       "      <th>At_Least_One_Wet_Weather_1_shift7</th>\n",
       "      <td>-0.433338</td>\n",
       "    </tr>\n",
       "    <tr>\n",
       "      <th>ResultDir_2</th>\n",
       "      <td>-0.494132</td>\n",
       "    </tr>\n",
       "    <tr>\n",
       "      <th>Latitude</th>\n",
       "      <td>-0.499300</td>\n",
       "    </tr>\n",
       "    <tr>\n",
       "      <th>PrecipTotal_2_shift7</th>\n",
       "      <td>-0.629967</td>\n",
       "    </tr>\n",
       "    <tr>\n",
       "      <th>dist_from_s2</th>\n",
       "      <td>-0.684559</td>\n",
       "    </tr>\n",
       "    <tr>\n",
       "      <th>PrecipTotal_1_shift28</th>\n",
       "      <td>-0.726831</td>\n",
       "    </tr>\n",
       "    <tr>\n",
       "      <th>At_Least_One_Wet_Weather_1</th>\n",
       "      <td>-0.793505</td>\n",
       "    </tr>\n",
       "    <tr>\n",
       "      <th>ResultSpeed_1</th>\n",
       "      <td>-0.799186</td>\n",
       "    </tr>\n",
       "    <tr>\n",
       "      <th>At_Least_One_Wet_Weather_2_shift28</th>\n",
       "      <td>-0.920605</td>\n",
       "    </tr>\n",
       "    <tr>\n",
       "      <th>WetBulb_2</th>\n",
       "      <td>-0.964341</td>\n",
       "    </tr>\n",
       "    <tr>\n",
       "      <th>RH_2</th>\n",
       "      <td>-1.166812</td>\n",
       "    </tr>\n",
       "    <tr>\n",
       "      <th>DewPoint_2</th>\n",
       "      <td>-1.830858</td>\n",
       "    </tr>\n",
       "    <tr>\n",
       "      <th>AvgSpeed_1</th>\n",
       "      <td>-2.457107</td>\n",
       "    </tr>\n",
       "    <tr>\n",
       "      <th>Depart_1</th>\n",
       "      <td>-4.817976</td>\n",
       "    </tr>\n",
       "    <tr>\n",
       "      <th>Daylight_Duration</th>\n",
       "      <td>-5.964951</td>\n",
       "    </tr>\n",
       "  </tbody>\n",
       "</table>\n",
       "</div>"
      ],
      "text/plain": [
       "                                     weights\n",
       "Tmax_2                              2.170868\n",
       "NumMosquitos                        1.990977\n",
       "Tavg_1                              1.900157\n",
       "AvgSpeed_2                          1.760986\n",
       "RH_1                                1.640499\n",
       "Tmax_1                              1.503653\n",
       "WetBulb_1                           1.421304\n",
       "Tmin_1                              1.260431\n",
       "Is Wnv Mosquitoes Types             1.235923\n",
       "SnowFall_1                          1.112196\n",
       "ResultDir_1                         1.098247\n",
       "StnPressure_2                       1.090244\n",
       "At_Least_One_Wet_Weather_1_shift21  0.927784\n",
       "At_Least_One_Wet_Weather_2          0.843406\n",
       "PrecipTotal_1                       0.819735\n",
       "At_Least_One_Tmin_2_Below_50F       0.808060\n",
       "DewPoint_1                          0.646686\n",
       "Tavg_2                              0.622815\n",
       "At_Least_One_Wet_Weather_2_shift7   0.599966\n",
       "PrecipTotal_2                       0.580396\n",
       "At_Least_One_Wet_Weather_2_shift14  0.559676\n",
       "At_Least_One_Tmin_1_Below_50F       0.546615\n",
       "At_Least_One_Wet_Weather_1_shift28  0.539197\n",
       "PrecipTotal_2_shift14               0.437173\n",
       "ResultSpeed_2                       0.385883\n",
       "PrecipTotal_2_shift28               0.380972\n",
       "Tmin_2                              0.314017\n",
       "PrecipTotal_1_shift21               0.190097\n",
       "dist_from_s1                        0.086452\n",
       "PrecipTotal_1_shift14               0.006676\n",
       "At_Least_One_Tavg_2_Below_50F       0.000000\n",
       "StnPressure_1                      -0.047816\n",
       "Longitude                          -0.163818\n",
       "PrecipTotal_2_shift21              -0.248593\n",
       "At_Least_One_Wet_Weather_2_shift21 -0.288934\n",
       "At_Least_One_Tavg_1_Below_50F      -0.369584\n",
       "PrecipTotal_1_shift7               -0.395596\n",
       "At_Least_One_Wet_Weather_1_shift14 -0.422553\n",
       "At_Least_One_Wet_Weather_1_shift7  -0.433338\n",
       "ResultDir_2                        -0.494132\n",
       "Latitude                           -0.499300\n",
       "PrecipTotal_2_shift7               -0.629967\n",
       "dist_from_s2                       -0.684559\n",
       "PrecipTotal_1_shift28              -0.726831\n",
       "At_Least_One_Wet_Weather_1         -0.793505\n",
       "ResultSpeed_1                      -0.799186\n",
       "At_Least_One_Wet_Weather_2_shift28 -0.920605\n",
       "WetBulb_2                          -0.964341\n",
       "RH_2                               -1.166812\n",
       "DewPoint_2                         -1.830858\n",
       "AvgSpeed_1                         -2.457107\n",
       "Depart_1                           -4.817976\n",
       "Daylight_Duration                  -5.964951"
      ]
     },
     "execution_count": 12,
     "metadata": {},
     "output_type": "execute_result"
    }
   ],
   "source": [
    "importance = lr.coef_\n",
    "features = X_train.columns\n",
    "importance = importance.reshape(lr.coef_.shape[1],1)\n",
    "imp_lr = pd.DataFrame(importance,\n",
    "                       index=features,\n",
    "                       columns=['weights']).sort_values(by='weights', ascending=False)\n",
    "imp_lr"
   ]
  },
  {
   "cell_type": "code",
   "execution_count": 13,
   "id": "9242988d",
   "metadata": {
    "scrolled": true
   },
   "outputs": [
    {
     "data": {
      "image/png": "[encoded data removed]",
      "text/plain": [
       "<Figure size 864x504 with 1 Axes>"
      ]
     },
     "metadata": {
      "needs_background": "light"
     },
     "output_type": "display_data"
    }
   ],
   "source": [
    "# Plotting top 20 +ve features in bar chart\n",
    "imp_lr['weights'].head(20).plot(kind='barh', figsize=(12,7))\n",
    "plt.title('Top 20 Feature Coefficients (+ve) for Logistic Regression', fontsize=15)\n",
    "plt.gca().invert_yaxis()\n",
    "plt.legend(loc=4);"
   ]
  },
  {
   "cell_type": "code",
   "execution_count": 14,
   "id": "8dba1b36",
   "metadata": {
    "scrolled": true
   },
   "outputs": [
    {
     "data": {
      "image/png": "[encoded data removed]",
      "text/plain": [
       "<Figure size 864x504 with 1 Axes>"
      ]
     },
     "metadata": {
      "needs_background": "light"
     },
     "output_type": "display_data"
    }
   ],
   "source": [
    "# Plotting top 20 -ve features in bar chart\n",
    "imp_lr['weights'].tail(20).plot(kind='barh', figsize=(12,7))\n",
    "plt.title('Top 20 Feature Coefficients (-ve) for Logistic Regression', fontsize=15)\n",
    "plt.legend(loc=3);"
   ]
  },
  {
   "cell_type": "markdown",
   "id": "0b8705fe",
   "metadata": {},
   "source": [
    "The plots above display the most important features that contribute to the presence of the Wnv Virus.\n",
    "According to this [article](https://blog.mosquito.buzz/how-weather-affects-mosquito-activity), weather is a major motivator for what mosquitoes do, and when. This would explain why the top predictors all involve elements that are related to weather. We should also expect the Number of Mosquitoes to be a strong influence as more mosquitoes would mean there is a greater chance that there is a Wnv presence amongst them."
   ]
  },
  {
   "cell_type": "code",
   "execution_count": 15,
   "id": "17b2ece4",
   "metadata": {},
   "outputs": [],
   "source": [
    "# Get predictions\n",
    "preds = lr.predict(Xs_test)\n",
    "\n",
    "# Save confusion matrix values\n",
    "tn, fp, fn, tp = confusion_matrix(y_test, preds).ravel()"
   ]
  },
  {
   "cell_type": "code",
   "execution_count": 16,
   "id": "a4708510",
   "metadata": {},
   "outputs": [
    {
     "name": "stderr",
     "output_type": "stream",
     "text": [
      "/Users/kevinchew/anaconda3/lib/python3.8/site-packages/sklearn/utils/deprecation.py:87: FutureWarning: Function plot_confusion_matrix is deprecated; Function `plot_confusion_matrix` is deprecated in 1.0 and will be removed in 1.2. Use one of the class methods: ConfusionMatrixDisplay.from_predictions or ConfusionMatrixDisplay.from_estimator.\n",
      "  warnings.warn(msg, category=FutureWarning)\n"
     ]
    },
    {
     "data": {
      "image/png": "[encoded data removed]",
      "text/plain": [
       "<Figure size 432x288 with 2 Axes>"
      ]
     },
     "metadata": {
      "needs_background": "light"
     },
     "output_type": "display_data"
    }
   ],
   "source": [
    "# View confusion matrix\n",
    "\n",
    "plot_confusion_matrix(lr, Xs_test, y_test, cmap='Blues', values_format='d');"
   ]
  },
  {
   "cell_type": "markdown",
   "id": "7ad922d2",
   "metadata": {},
   "source": [
    "Using Logistic Regression, out of 1511 data points in our test dataset, we classified 1178 (79.96%) correctly. "
   ]
  },
  {
   "cell_type": "markdown",
   "id": "65fe81a5",
   "metadata": {},
   "source": [
    "## Fitting Naive Bayes"
   ]
  },
  {
   "cell_type": "code",
   "execution_count": 17,
   "id": "04b2b17d",
   "metadata": {},
   "outputs": [
    {
     "name": "stdout",
     "output_type": "stream",
     "text": [
      "Fitting Naive Bayes\n",
      "Fitting 5 folds for each of 3 candidates, totalling 15 fits\n",
      "The best parameters are Pipeline(steps=[('sampling', SMOTE(random_state=42)),\n",
      "                ('nb', BernoulliNB(alpha=0.9))]).\n",
      "CPU times: user 89.5 ms, sys: 17 ms, total: 106 ms\n",
      "Wall time: 320 ms\n"
     ]
    }
   ],
   "source": [
    "%%time\n",
    "\n",
    "print(f'Fitting Naive Bayes')      \n",
    "\n",
    "# Set up pipeline\n",
    "nb_pipe = Pipeline([\n",
    "        ('sampling', SMOTE(random_state=42)),\n",
    "        ('nb', BernoulliNB())\n",
    "    ])\n",
    "\n",
    "# Hyperparameters\n",
    "nb_params = {\n",
    "    'nb__alpha': [0.9, 1, 1.1]\n",
    "}\n",
    "\n",
    "# Instantiate 5-fold GridSearchCV.\n",
    "gs_nb = GridSearchCV(nb_pipe, param_grid = nb_params, cv=5,\n",
    "                     scoring='roc_auc',n_jobs=-1,\n",
    "                     verbose=1)\n",
    "\n",
    "# Fit\n",
    "gs_nb.fit(Xs_train, y_train)\n",
    "\n",
    "# See results\n",
    "print(f'The best parameters are {gs_nb.best_estimator_}.')"
   ]
  },
  {
   "cell_type": "markdown",
   "id": "1a6ff13a",
   "metadata": {},
   "source": [
    "Using these best hyperparameters, we will re-fit the model based on the over-sampleted data and obtain the scoring metrics"
   ]
  },
  {
   "cell_type": "code",
   "execution_count": 18,
   "id": "895cf49c",
   "metadata": {},
   "outputs": [
    {
     "data": {
      "text/plain": [
       "BernoulliNB(alpha=0.9)"
      ]
     },
     "execution_count": 18,
     "metadata": {},
     "output_type": "execute_result"
    }
   ],
   "source": [
    "nb = BernoulliNB(alpha=0.9)\n",
    "nb.fit(Xsm_train, ysm_train)"
   ]
  },
  {
   "cell_type": "code",
   "execution_count": 19,
   "id": "b6d136fb",
   "metadata": {},
   "outputs": [],
   "source": [
    "# Append to the lists\n",
    "model_name.append('Naive Bayes')\n",
    "model_scores.append(nb.score(Xsm_train, ysm_train))\n",
    "model_var.append(nb)\n",
    "model_test_scores.append(nb.score(Xs_test,y_test)) "
   ]
  },
  {
   "cell_type": "markdown",
   "id": "37788d1d",
   "metadata": {},
   "source": [
    "### Evaluating Naive Bayes Results"
   ]
  },
  {
   "cell_type": "code",
   "execution_count": 20,
   "id": "e235dd6e",
   "metadata": {},
   "outputs": [
    {
     "data": {
      "text/plain": [
       "array([[5448., 2897., 2881.,  877., 3332., 2935., 2885., 3048., 3300.,\n",
       "        3227.,  203., 1971., 2973., 3187., 2906., 2517., 3089., 3305.,\n",
       "        3169., 3215., 3121., 2184., 2973., 3429., 3075., 2748., 3290.,\n",
       "        2755., 2442., 1726., 2146., 1755., 2502., 1771., 2351., 1670.,\n",
       "        2328., 5321., 5304., 5138., 5105., 5085., 4900., 5195., 5039.,\n",
       "        5330., 5064.,   63., 1098.,    0.,  764., 2912., 2845.],\n",
       "       [5687., 3274., 2217., 3879., 3844., 4191., 3848., 3405., 4313.,\n",
       "        4353.,   22., 2600., 3751., 2285., 3343., 1761., 3515., 4190.,\n",
       "        3961., 4077., 4059., 2490., 3745., 2743., 3590., 2111., 1644.,\n",
       "        3378., 2704., 2608., 2644., 2714., 2684., 2352., 2532., 1766.,\n",
       "        2173., 5266., 4839., 5138., 4928., 5427., 4992., 5619., 5338.,\n",
       "        5643., 5357.,    0.,  721.,    0.,  473., 3241., 2316.]])"
      ]
     },
     "execution_count": 20,
     "metadata": {},
     "output_type": "execute_result"
    }
   ],
   "source": [
    "nb.feature_count_"
   ]
  },
  {
   "cell_type": "code",
   "execution_count": 21,
   "id": "fa07e5d7",
   "metadata": {},
   "outputs": [
    {
     "data": {
      "text/plain": [
       "array([5448., 2897., 2881.,  877., 3332., 2935., 2885., 3048., 3300.,\n",
       "       3227.,  203., 1971., 2973., 3187., 2906., 2517., 3089., 3305.,\n",
       "       3169., 3215., 3121., 2184., 2973., 3429., 3075., 2748., 3290.,\n",
       "       2755., 2442., 1726., 2146., 1755., 2502., 1771., 2351., 1670.,\n",
       "       2328., 5321., 5304., 5138., 5105., 5085., 4900., 5195., 5039.,\n",
       "       5330., 5064.,   63., 1098.,    0.,  764., 2912., 2845.])"
      ]
     },
     "execution_count": 21,
     "metadata": {},
     "output_type": "execute_result"
    }
   ],
   "source": [
    "# number of times each feature appear in Wnv NOT present\n",
    "class0_count = nb.feature_count_[0, :]\n",
    "class0_count"
   ]
  },
  {
   "cell_type": "code",
   "execution_count": 22,
   "id": "eb4de5ab",
   "metadata": {},
   "outputs": [
    {
     "data": {
      "text/plain": [
       "array([5687., 3274., 2217., 3879., 3844., 4191., 3848., 3405., 4313.,\n",
       "       4353.,   22., 2600., 3751., 2285., 3343., 1761., 3515., 4190.,\n",
       "       3961., 4077., 4059., 2490., 3745., 2743., 3590., 2111., 1644.,\n",
       "       3378., 2704., 2608., 2644., 2714., 2684., 2352., 2532., 1766.,\n",
       "       2173., 5266., 4839., 5138., 4928., 5427., 4992., 5619., 5338.,\n",
       "       5643., 5357.,    0.,  721.,    0.,  473., 3241., 2316.])"
      ]
     },
     "execution_count": 22,
     "metadata": {},
     "output_type": "execute_result"
    }
   ],
   "source": [
    "# number of times each feature appear in Wnv present\n",
    "class1_count = nb.feature_count_[1, :]\n",
    "class1_count"
   ]
  },
  {
   "cell_type": "code",
   "execution_count": 23,
   "id": "e6ae8b02",
   "metadata": {},
   "outputs": [
    {
     "data": {
      "text/html": [
       "<div>\n",
       "<style scoped>\n",
       "    .dataframe tbody tr th:only-of-type {\n",
       "        vertical-align: middle;\n",
       "    }\n",
       "\n",
       "    .dataframe tbody tr th {\n",
       "        vertical-align: top;\n",
       "    }\n",
       "\n",
       "    .dataframe thead th {\n",
       "        text-align: right;\n",
       "    }\n",
       "</style>\n",
       "<table border=\"1\" class=\"dataframe\">\n",
       "  <thead>\n",
       "    <tr style=\"text-align: right;\">\n",
       "      <th></th>\n",
       "      <th>Wnv NOT present</th>\n",
       "      <th>Wnv present</th>\n",
       "    </tr>\n",
       "    <tr>\n",
       "      <th>feature</th>\n",
       "      <th></th>\n",
       "      <th></th>\n",
       "    </tr>\n",
       "  </thead>\n",
       "  <tbody>\n",
       "    <tr>\n",
       "      <th>Is Wnv Mosquitoes Types</th>\n",
       "      <td>5448.0</td>\n",
       "      <td>5687.0</td>\n",
       "    </tr>\n",
       "    <tr>\n",
       "      <th>Latitude</th>\n",
       "      <td>2897.0</td>\n",
       "      <td>3274.0</td>\n",
       "    </tr>\n",
       "    <tr>\n",
       "      <th>Longitude</th>\n",
       "      <td>2881.0</td>\n",
       "      <td>2217.0</td>\n",
       "    </tr>\n",
       "    <tr>\n",
       "      <th>NumMosquitos</th>\n",
       "      <td>877.0</td>\n",
       "      <td>3879.0</td>\n",
       "    </tr>\n",
       "    <tr>\n",
       "      <th>Tmax_1</th>\n",
       "      <td>3332.0</td>\n",
       "      <td>3844.0</td>\n",
       "    </tr>\n",
       "  </tbody>\n",
       "</table>\n",
       "</div>"
      ],
      "text/plain": [
       "                         Wnv NOT present  Wnv present\n",
       "feature                                              \n",
       "Is Wnv Mosquitoes Types           5448.0       5687.0\n",
       "Latitude                          2897.0       3274.0\n",
       "Longitude                         2881.0       2217.0\n",
       "NumMosquitos                       877.0       3879.0\n",
       "Tmax_1                            3332.0       3844.0"
      ]
     },
     "execution_count": 23,
     "metadata": {},
     "output_type": "execute_result"
    }
   ],
   "source": [
    "# create a DataFrame of features with their separate class counts\n",
    "features = pd.DataFrame({'feature':X_train.columns, 'Wnv NOT present':class0_count, 'Wnv present':class1_count}).set_index('feature')\n",
    "features.head()\n"
   ]
  },
  {
   "cell_type": "code",
   "execution_count": 24,
   "id": "2a7cd9a9",
   "metadata": {},
   "outputs": [
    {
     "data": {
      "text/plain": [
       "array([5687., 5687.])"
      ]
     },
     "execution_count": 24,
     "metadata": {},
     "output_type": "execute_result"
    }
   ],
   "source": [
    "# Naive Bayes counts the number of observations in each class\n",
    "nb.class_count_"
   ]
  },
  {
   "cell_type": "code",
   "execution_count": 25,
   "id": "fd7a8c6b",
   "metadata": {},
   "outputs": [
    {
     "data": {
      "text/html": [
       "<div>\n",
       "<style scoped>\n",
       "    .dataframe tbody tr th:only-of-type {\n",
       "        vertical-align: middle;\n",
       "    }\n",
       "\n",
       "    .dataframe tbody tr th {\n",
       "        vertical-align: top;\n",
       "    }\n",
       "\n",
       "    .dataframe thead th {\n",
       "        text-align: right;\n",
       "    }\n",
       "</style>\n",
       "<table border=\"1\" class=\"dataframe\">\n",
       "  <thead>\n",
       "    <tr style=\"text-align: right;\">\n",
       "      <th></th>\n",
       "      <th>Wnv NOT present</th>\n",
       "      <th>Wnv present</th>\n",
       "      <th>ratio</th>\n",
       "    </tr>\n",
       "    <tr>\n",
       "      <th>feature</th>\n",
       "      <th></th>\n",
       "      <th></th>\n",
       "      <th></th>\n",
       "    </tr>\n",
       "  </thead>\n",
       "  <tbody>\n",
       "    <tr>\n",
       "      <th>At_Least_One_Tmin_1_Below_50F</th>\n",
       "      <td>0.193248</td>\n",
       "      <td>0.126956</td>\n",
       "      <td>1.522161</td>\n",
       "    </tr>\n",
       "    <tr>\n",
       "      <th>At_Least_One_Tavg_2_Below_50F</th>\n",
       "      <td>0.000176</td>\n",
       "      <td>0.000176</td>\n",
       "      <td>1.000000</td>\n",
       "    </tr>\n",
       "    <tr>\n",
       "      <th>At_Least_One_Tmin_2_Below_50F</th>\n",
       "      <td>0.134517</td>\n",
       "      <td>0.083348</td>\n",
       "      <td>1.613924</td>\n",
       "    </tr>\n",
       "    <tr>\n",
       "      <th>dist_from_s1</th>\n",
       "      <td>0.512221</td>\n",
       "      <td>0.570072</td>\n",
       "      <td>0.898519</td>\n",
       "    </tr>\n",
       "    <tr>\n",
       "      <th>dist_from_s2</th>\n",
       "      <td>0.500440</td>\n",
       "      <td>0.407420</td>\n",
       "      <td>1.228312</td>\n",
       "    </tr>\n",
       "  </tbody>\n",
       "</table>\n",
       "</div>"
      ],
      "text/plain": [
       "                               Wnv NOT present  Wnv present     ratio\n",
       "feature                                                              \n",
       "At_Least_One_Tmin_1_Below_50F         0.193248     0.126956  1.522161\n",
       "At_Least_One_Tavg_2_Below_50F         0.000176     0.000176  1.000000\n",
       "At_Least_One_Tmin_2_Below_50F         0.134517     0.083348  1.613924\n",
       "dist_from_s1                          0.512221     0.570072  0.898519\n",
       "dist_from_s2                          0.500440     0.407420  1.228312"
      ]
     },
     "execution_count": 25,
     "metadata": {},
     "output_type": "execute_result"
    }
   ],
   "source": [
    "# Convert the token counts into frequencies\n",
    "# we add a value of 1 first to prevent divide by zero error\n",
    "features['Wnv NOT present'] = (features['Wnv NOT present'] + 1) / nb.class_count_[0]\n",
    "features['Wnv present'] = (features['Wnv present'] + 1) / nb.class_count_[1]\n",
    "\n",
    "# Calculate the ratio of class-to-class\n",
    "features['ratio'] = features['Wnv NOT present'] / features['Wnv present']\n",
    "\n",
    "features.tail()"
   ]
  },
  {
   "cell_type": "code",
   "execution_count": 26,
   "id": "31b9df23",
   "metadata": {
    "scrolled": true
   },
   "outputs": [
    {
     "data": {
      "text/html": [
       "<div>\n",
       "<style scoped>\n",
       "    .dataframe tbody tr th:only-of-type {\n",
       "        vertical-align: middle;\n",
       "    }\n",
       "\n",
       "    .dataframe tbody tr th {\n",
       "        vertical-align: top;\n",
       "    }\n",
       "\n",
       "    .dataframe thead th {\n",
       "        text-align: right;\n",
       "    }\n",
       "</style>\n",
       "<table border=\"1\" class=\"dataframe\">\n",
       "  <thead>\n",
       "    <tr style=\"text-align: right;\">\n",
       "      <th></th>\n",
       "      <th>Wnv NOT present</th>\n",
       "      <th>Wnv present</th>\n",
       "      <th>ratio</th>\n",
       "    </tr>\n",
       "    <tr>\n",
       "      <th>feature</th>\n",
       "      <th></th>\n",
       "      <th></th>\n",
       "      <th></th>\n",
       "    </tr>\n",
       "  </thead>\n",
       "  <tbody>\n",
       "    <tr>\n",
       "      <th>ResultDir_1</th>\n",
       "      <td>0.511166</td>\n",
       "      <td>0.588008</td>\n",
       "      <td>0.869318</td>\n",
       "    </tr>\n",
       "    <tr>\n",
       "      <th>Tmax_1</th>\n",
       "      <td>0.586074</td>\n",
       "      <td>0.676103</td>\n",
       "      <td>0.866840</td>\n",
       "    </tr>\n",
       "    <tr>\n",
       "      <th>ResultDir_2</th>\n",
       "      <td>0.540883</td>\n",
       "      <td>0.631440</td>\n",
       "      <td>0.856586</td>\n",
       "    </tr>\n",
       "    <tr>\n",
       "      <th>RH_1</th>\n",
       "      <td>0.484614</td>\n",
       "      <td>0.594162</td>\n",
       "      <td>0.815626</td>\n",
       "    </tr>\n",
       "    <tr>\n",
       "      <th>PrecipTotal_2_shift7</th>\n",
       "      <td>0.377528</td>\n",
       "      <td>0.465096</td>\n",
       "      <td>0.811720</td>\n",
       "    </tr>\n",
       "    <tr>\n",
       "      <th>Tavg_2</th>\n",
       "      <td>0.557412</td>\n",
       "      <td>0.696677</td>\n",
       "      <td>0.800101</td>\n",
       "    </tr>\n",
       "    <tr>\n",
       "      <th>StnPressure_2</th>\n",
       "      <td>0.522947</td>\n",
       "      <td>0.658695</td>\n",
       "      <td>0.793914</td>\n",
       "    </tr>\n",
       "    <tr>\n",
       "      <th>StnPressure_1</th>\n",
       "      <td>0.522947</td>\n",
       "      <td>0.659750</td>\n",
       "      <td>0.792644</td>\n",
       "    </tr>\n",
       "    <tr>\n",
       "      <th>Tmin_2</th>\n",
       "      <td>0.581326</td>\n",
       "      <td>0.736944</td>\n",
       "      <td>0.788833</td>\n",
       "    </tr>\n",
       "    <tr>\n",
       "      <th>DewPoint_2</th>\n",
       "      <td>0.565500</td>\n",
       "      <td>0.717074</td>\n",
       "      <td>0.788622</td>\n",
       "    </tr>\n",
       "    <tr>\n",
       "      <th>WetBulb_2</th>\n",
       "      <td>0.548971</td>\n",
       "      <td>0.713909</td>\n",
       "      <td>0.768966</td>\n",
       "    </tr>\n",
       "    <tr>\n",
       "      <th>DewPoint_1</th>\n",
       "      <td>0.580447</td>\n",
       "      <td>0.758572</td>\n",
       "      <td>0.765183</td>\n",
       "    </tr>\n",
       "    <tr>\n",
       "      <th>PrecipTotal_1</th>\n",
       "      <td>0.346756</td>\n",
       "      <td>0.457359</td>\n",
       "      <td>0.758170</td>\n",
       "    </tr>\n",
       "    <tr>\n",
       "      <th>PrecipTotal_1_shift21</th>\n",
       "      <td>0.311588</td>\n",
       "      <td>0.413751</td>\n",
       "      <td>0.753081</td>\n",
       "    </tr>\n",
       "    <tr>\n",
       "      <th>Tavg_1</th>\n",
       "      <td>0.507473</td>\n",
       "      <td>0.676807</td>\n",
       "      <td>0.749805</td>\n",
       "    </tr>\n",
       "    <tr>\n",
       "      <th>WetBulb_1</th>\n",
       "      <td>0.567610</td>\n",
       "      <td>0.765606</td>\n",
       "      <td>0.741387</td>\n",
       "    </tr>\n",
       "    <tr>\n",
       "      <th>Tmin_1</th>\n",
       "      <td>0.516265</td>\n",
       "      <td>0.737120</td>\n",
       "      <td>0.700382</td>\n",
       "    </tr>\n",
       "    <tr>\n",
       "      <th>PrecipTotal_1_shift7</th>\n",
       "      <td>0.303675</td>\n",
       "      <td>0.458766</td>\n",
       "      <td>0.661939</td>\n",
       "    </tr>\n",
       "    <tr>\n",
       "      <th>PrecipTotal_1_shift14</th>\n",
       "      <td>0.308774</td>\n",
       "      <td>0.477405</td>\n",
       "      <td>0.646777</td>\n",
       "    </tr>\n",
       "    <tr>\n",
       "      <th>NumMosquitos</th>\n",
       "      <td>0.154387</td>\n",
       "      <td>0.682258</td>\n",
       "      <td>0.226289</td>\n",
       "    </tr>\n",
       "  </tbody>\n",
       "</table>\n",
       "</div>"
      ],
      "text/plain": [
       "                       Wnv NOT present  Wnv present     ratio\n",
       "feature                                                      \n",
       "ResultDir_1                   0.511166     0.588008  0.869318\n",
       "Tmax_1                        0.586074     0.676103  0.866840\n",
       "ResultDir_2                   0.540883     0.631440  0.856586\n",
       "RH_1                          0.484614     0.594162  0.815626\n",
       "PrecipTotal_2_shift7          0.377528     0.465096  0.811720\n",
       "Tavg_2                        0.557412     0.696677  0.800101\n",
       "StnPressure_2                 0.522947     0.658695  0.793914\n",
       "StnPressure_1                 0.522947     0.659750  0.792644\n",
       "Tmin_2                        0.581326     0.736944  0.788833\n",
       "DewPoint_2                    0.565500     0.717074  0.788622\n",
       "WetBulb_2                     0.548971     0.713909  0.768966\n",
       "DewPoint_1                    0.580447     0.758572  0.765183\n",
       "PrecipTotal_1                 0.346756     0.457359  0.758170\n",
       "PrecipTotal_1_shift21         0.311588     0.413751  0.753081\n",
       "Tavg_1                        0.507473     0.676807  0.749805\n",
       "WetBulb_1                     0.567610     0.765606  0.741387\n",
       "Tmin_1                        0.516265     0.737120  0.700382\n",
       "PrecipTotal_1_shift7          0.303675     0.458766  0.661939\n",
       "PrecipTotal_1_shift14         0.308774     0.477405  0.646777\n",
       "NumMosquitos                  0.154387     0.682258  0.226289"
      ]
     },
     "execution_count": 26,
     "metadata": {},
     "output_type": "execute_result"
    }
   ],
   "source": [
    "# examine the DataFrame sorted by ratio\n",
    "sorted_features = features.sort_values('ratio', ascending=False)\n",
    "\n",
    "# View the bottom 20 features by ratio\n",
    "sorted_features.tail(20)"
   ]
  },
  {
   "cell_type": "markdown",
   "id": "e8716d55",
   "metadata": {},
   "source": [
    "The features with the lowest ratio are the ones which contributes the most in classifying the posts into Class 1 (Wnv present). Apart from the more obvious feature (NumMosquitos), we observe that the precipitaton levels at areas affeceted by Station 1 are the next biggest factors. This make sense as rain creates ideal breeding conditions for mosquitoes. More rain means more potential for puddles, and more potential for mosquito breeding."
   ]
  },
  {
   "cell_type": "code",
   "execution_count": 27,
   "id": "4c60e889",
   "metadata": {
    "scrolled": true
   },
   "outputs": [
    {
     "data": {
      "text/html": [
       "<div>\n",
       "<style scoped>\n",
       "    .dataframe tbody tr th:only-of-type {\n",
       "        vertical-align: middle;\n",
       "    }\n",
       "\n",
       "    .dataframe tbody tr th {\n",
       "        vertical-align: top;\n",
       "    }\n",
       "\n",
       "    .dataframe thead th {\n",
       "        text-align: right;\n",
       "    }\n",
       "</style>\n",
       "<table border=\"1\" class=\"dataframe\">\n",
       "  <thead>\n",
       "    <tr style=\"text-align: right;\">\n",
       "      <th></th>\n",
       "      <th>Wnv NOT present</th>\n",
       "      <th>Wnv present</th>\n",
       "      <th>ratio</th>\n",
       "    </tr>\n",
       "    <tr>\n",
       "      <th>feature</th>\n",
       "      <th></th>\n",
       "      <th></th>\n",
       "      <th></th>\n",
       "    </tr>\n",
       "  </thead>\n",
       "  <tbody>\n",
       "    <tr>\n",
       "      <th>At_Least_One_Tavg_1_Below_50F</th>\n",
       "      <td>0.011254</td>\n",
       "      <td>0.000176</td>\n",
       "      <td>64.000000</td>\n",
       "    </tr>\n",
       "    <tr>\n",
       "      <th>SnowFall_1</th>\n",
       "      <td>0.035871</td>\n",
       "      <td>0.004044</td>\n",
       "      <td>8.869565</td>\n",
       "    </tr>\n",
       "    <tr>\n",
       "      <th>Daylight_Duration</th>\n",
       "      <td>0.578688</td>\n",
       "      <td>0.289256</td>\n",
       "      <td>2.000608</td>\n",
       "    </tr>\n",
       "    <tr>\n",
       "      <th>At_Least_One_Tmin_2_Below_50F</th>\n",
       "      <td>0.134517</td>\n",
       "      <td>0.083348</td>\n",
       "      <td>1.613924</td>\n",
       "    </tr>\n",
       "    <tr>\n",
       "      <th>At_Least_One_Tmin_1_Below_50F</th>\n",
       "      <td>0.193248</td>\n",
       "      <td>0.126956</td>\n",
       "      <td>1.522161</td>\n",
       "    </tr>\n",
       "    <tr>\n",
       "      <th>AvgSpeed_1</th>\n",
       "      <td>0.442764</td>\n",
       "      <td>0.309829</td>\n",
       "      <td>1.429058</td>\n",
       "    </tr>\n",
       "    <tr>\n",
       "      <th>ResultSpeed_1</th>\n",
       "      <td>0.560577</td>\n",
       "      <td>0.401969</td>\n",
       "      <td>1.394576</td>\n",
       "    </tr>\n",
       "    <tr>\n",
       "      <th>AvgSpeed_2</th>\n",
       "      <td>0.483383</td>\n",
       "      <td>0.371373</td>\n",
       "      <td>1.301610</td>\n",
       "    </tr>\n",
       "    <tr>\n",
       "      <th>Longitude</th>\n",
       "      <td>0.506770</td>\n",
       "      <td>0.390012</td>\n",
       "      <td>1.299369</td>\n",
       "    </tr>\n",
       "    <tr>\n",
       "      <th>ResultSpeed_2</th>\n",
       "      <td>0.603130</td>\n",
       "      <td>0.482504</td>\n",
       "      <td>1.250000</td>\n",
       "    </tr>\n",
       "    <tr>\n",
       "      <th>dist_from_s2</th>\n",
       "      <td>0.500440</td>\n",
       "      <td>0.407420</td>\n",
       "      <td>1.228312</td>\n",
       "    </tr>\n",
       "    <tr>\n",
       "      <th>At_Least_One_Wet_Weather_2</th>\n",
       "      <td>0.932829</td>\n",
       "      <td>0.851064</td>\n",
       "      <td>1.096074</td>\n",
       "    </tr>\n",
       "    <tr>\n",
       "      <th>PrecipTotal_2_shift28</th>\n",
       "      <td>0.409531</td>\n",
       "      <td>0.382275</td>\n",
       "      <td>1.071297</td>\n",
       "    </tr>\n",
       "    <tr>\n",
       "      <th>At_Least_One_Wet_Weather_2_shift7</th>\n",
       "      <td>0.897837</td>\n",
       "      <td>0.866714</td>\n",
       "      <td>1.035910</td>\n",
       "    </tr>\n",
       "    <tr>\n",
       "      <th>At_Least_One_Wet_Weather_1</th>\n",
       "      <td>0.935819</td>\n",
       "      <td>0.926147</td>\n",
       "      <td>1.010442</td>\n",
       "    </tr>\n",
       "    <tr>\n",
       "      <th>At_Least_One_Tavg_2_Below_50F</th>\n",
       "      <td>0.000176</td>\n",
       "      <td>0.000176</td>\n",
       "      <td>1.000000</td>\n",
       "    </tr>\n",
       "    <tr>\n",
       "      <th>At_Least_One_Wet_Weather_1_shift7</th>\n",
       "      <td>0.903640</td>\n",
       "      <td>0.903640</td>\n",
       "      <td>1.000000</td>\n",
       "    </tr>\n",
       "    <tr>\n",
       "      <th>At_Least_One_Wet_Weather_2_shift14</th>\n",
       "      <td>0.861790</td>\n",
       "      <td>0.877967</td>\n",
       "      <td>0.981574</td>\n",
       "    </tr>\n",
       "    <tr>\n",
       "      <th>Is Wnv Mosquitoes Types</th>\n",
       "      <td>0.958150</td>\n",
       "      <td>1.000176</td>\n",
       "      <td>0.957982</td>\n",
       "    </tr>\n",
       "    <tr>\n",
       "      <th>PrecipTotal_1_shift28</th>\n",
       "      <td>0.293828</td>\n",
       "      <td>0.310709</td>\n",
       "      <td>0.945671</td>\n",
       "    </tr>\n",
       "  </tbody>\n",
       "</table>\n",
       "</div>"
      ],
      "text/plain": [
       "                                    Wnv NOT present  Wnv present      ratio\n",
       "feature                                                                    \n",
       "At_Least_One_Tavg_1_Below_50F              0.011254     0.000176  64.000000\n",
       "SnowFall_1                                 0.035871     0.004044   8.869565\n",
       "Daylight_Duration                          0.578688     0.289256   2.000608\n",
       "At_Least_One_Tmin_2_Below_50F              0.134517     0.083348   1.613924\n",
       "At_Least_One_Tmin_1_Below_50F              0.193248     0.126956   1.522161\n",
       "AvgSpeed_1                                 0.442764     0.309829   1.429058\n",
       "ResultSpeed_1                              0.560577     0.401969   1.394576\n",
       "AvgSpeed_2                                 0.483383     0.371373   1.301610\n",
       "Longitude                                  0.506770     0.390012   1.299369\n",
       "ResultSpeed_2                              0.603130     0.482504   1.250000\n",
       "dist_from_s2                               0.500440     0.407420   1.228312\n",
       "At_Least_One_Wet_Weather_2                 0.932829     0.851064   1.096074\n",
       "PrecipTotal_2_shift28                      0.409531     0.382275   1.071297\n",
       "At_Least_One_Wet_Weather_2_shift7          0.897837     0.866714   1.035910\n",
       "At_Least_One_Wet_Weather_1                 0.935819     0.926147   1.010442\n",
       "At_Least_One_Tavg_2_Below_50F              0.000176     0.000176   1.000000\n",
       "At_Least_One_Wet_Weather_1_shift7          0.903640     0.903640   1.000000\n",
       "At_Least_One_Wet_Weather_2_shift14         0.861790     0.877967   0.981574\n",
       "Is Wnv Mosquitoes Types                    0.958150     1.000176   0.957982\n",
       "PrecipTotal_1_shift28                      0.293828     0.310709   0.945671"
      ]
     },
     "execution_count": 27,
     "metadata": {},
     "output_type": "execute_result"
    }
   ],
   "source": [
    "# View the top 20 features by ratio\n",
    "sorted_features.head(20)"
   ]
  },
  {
   "cell_type": "markdown",
   "id": "7667c61e",
   "metadata": {},
   "source": [
    "The features with the highest ratio are the ones which contributes the most in classifying the posts into Class 0 (Wnv not present). "
   ]
  },
  {
   "cell_type": "code",
   "execution_count": 28,
   "id": "53ccb19e",
   "metadata": {},
   "outputs": [],
   "source": [
    "# Get predictions\n",
    "preds = nb.predict(Xs_test)\n",
    "\n",
    "# Save confusion matrix values\n",
    "tn, fp, fn, tp = confusion_matrix(y_test, preds).ravel()"
   ]
  },
  {
   "cell_type": "code",
   "execution_count": 29,
   "id": "63da374f",
   "metadata": {},
   "outputs": [
    {
     "name": "stderr",
     "output_type": "stream",
     "text": [
      "/Users/kevinchew/anaconda3/lib/python3.8/site-packages/sklearn/utils/deprecation.py:87: FutureWarning: Function plot_confusion_matrix is deprecated; Function `plot_confusion_matrix` is deprecated in 1.0 and will be removed in 1.2. Use one of the class methods: ConfusionMatrixDisplay.from_predictions or ConfusionMatrixDisplay.from_estimator.\n",
      "  warnings.warn(msg, category=FutureWarning)\n"
     ]
    },
    {
     "data": {
      "image/png": "[encoded data removed]",
      "text/plain": [
       "<Figure size 432x288 with 2 Axes>"
      ]
     },
     "metadata": {
      "needs_background": "light"
     },
     "output_type": "display_data"
    }
   ],
   "source": [
    "# View confusion matrix\n",
    "\n",
    "plot_confusion_matrix(nb, Xs_test, y_test, cmap='Blues', values_format='d');"
   ]
  },
  {
   "cell_type": "markdown",
   "id": "a030ec0a",
   "metadata": {},
   "source": [
    "Using Naive Bayes, out of 1511 data points in our test dataset, we classified 982 (64.99%) correctly. "
   ]
  },
  {
   "cell_type": "markdown",
   "id": "bb674e18",
   "metadata": {},
   "source": [
    "## Fitting Random Forest Classifier"
   ]
  },
  {
   "cell_type": "code",
   "execution_count": 30,
   "id": "d29dde2e",
   "metadata": {},
   "outputs": [
    {
     "name": "stdout",
     "output_type": "stream",
     "text": [
      "Fitting Random Forest Classifier\n",
      "The best parameters are Pipeline(steps=[('sampling', SMOTE(random_state=42)),\n",
      "                ('rf',\n",
      "                 RandomForestClassifier(max_depth=5, min_samples_leaf=4,\n",
      "                                        n_estimators=80, random_state=42))]).\n",
      "CPU times: user 1min 27s, sys: 1.1 s, total: 1min 28s\n",
      "Wall time: 1min 5s\n"
     ]
    }
   ],
   "source": [
    "%%time\n",
    "\n",
    "print(f'Fitting Random Forest Classifier')   \n",
    "\n",
    "# Set up pipeline\n",
    "rf_pipe = Pipeline([\n",
    "        ('sampling', SMOTE(random_state=42)),\n",
    "        ('rf', RandomForestClassifier(random_state=42))\n",
    "    ])\n",
    "\n",
    "# Hyperparameters\n",
    "rf_params = {\n",
    "    'rf__n_estimators': [80, 100, 120],\n",
    "    'rf__max_depth': [3, 5],\n",
    "    'rf__min_samples_leaf': [2, 4],\n",
    "    'rf__min_samples_split' : [2, 4]\n",
    "}\n",
    "\n",
    "# Instantiate 5-fold GridSearchCV.\n",
    "gs_rf = GridSearchCV(rf_pipe, param_grid = rf_params, cv=5,\n",
    "                     scoring='roc_auc')\n",
    "\n",
    "# Fit\n",
    "gs_rf.fit(Xs_train, y_train)\n",
    "gs_rf_model = gs_rf.best_estimator_\n",
    "\n",
    "# See results\n",
    "print(f'The best parameters are {gs_rf.best_estimator_}.')"
   ]
  },
  {
   "cell_type": "markdown",
   "id": "ca22d1f0",
   "metadata": {},
   "source": [
    "Using these best hyperparameters, we will re-fit the model based on the over-sampleted data and obtain the scoring metrics"
   ]
  },
  {
   "cell_type": "code",
   "execution_count": 31,
   "id": "7916dcf1",
   "metadata": {},
   "outputs": [
    {
     "data": {
      "text/plain": [
       "RandomForestClassifier(max_depth=5, min_samples_leaf=4, n_estimators=80,\n",
       "                       random_state=42)"
      ]
     },
     "execution_count": 31,
     "metadata": {},
     "output_type": "execute_result"
    }
   ],
   "source": [
    "rf = RandomForestClassifier(max_depth=5, min_samples_leaf=4, n_estimators=80,\n",
    "                       random_state=42)\n",
    "rf.fit(Xsm_train, ysm_train)"
   ]
  },
  {
   "cell_type": "code",
   "execution_count": 32,
   "id": "4f4972db",
   "metadata": {},
   "outputs": [],
   "source": [
    "# Append to the lists\n",
    "model_name.append('Random Forest')\n",
    "model_scores.append(rf.score(Xsm_train, ysm_train))\n",
    "model_var.append(rf)\n",
    "model_test_scores.append(rf.score(Xs_test,y_test)) "
   ]
  },
  {
   "cell_type": "markdown",
   "id": "5b16fdfa",
   "metadata": {},
   "source": [
    "### Evaluating Random Forest Results"
   ]
  },
  {
   "cell_type": "code",
   "execution_count": 33,
   "id": "cf1a36a5",
   "metadata": {},
   "outputs": [],
   "source": [
    "imp_rf = pd.DataFrame(rf.feature_importances_,\n",
    "                       index=X.columns,\n",
    "                       columns=['weights']).sort_values(by='weights',ascending=False)"
   ]
  },
  {
   "cell_type": "code",
   "execution_count": 34,
   "id": "6e6b1276",
   "metadata": {
    "scrolled": true
   },
   "outputs": [
    {
     "data": {
      "image/png": "[encoded data removed]",
      "text/plain": [
       "<Figure size 864x504 with 1 Axes>"
      ]
     },
     "metadata": {
      "needs_background": "light"
     },
     "output_type": "display_data"
    }
   ],
   "source": [
    "# Plotting Top 20 features in bar chart\n",
    "imp_rf.head(20).plot(kind='barh', label=imp_rf.columns[:20], figsize=(12,7), color='purple')\n",
    "plt.title('Top 20 Feature Importance for Random Forest', fontsize=15)\n",
    "plt.gca().invert_yaxis()\n",
    "plt.legend(loc=4);"
   ]
  },
  {
   "cell_type": "markdown",
   "id": "d9077bbb",
   "metadata": {},
   "source": [
    "Apart from Number of Mosquitoes, Daylight duration is the next strongest predictor for this model. According to this \n",
    "[article](https://blog.mosquito.buzz/how-weather-affects-mosquito-activity), warm evening temperatures allow mosquitoes to thrive, since prolonged sun exposure can actually dehydrate them. \n",
    "Also interesting is that Station StnPressure_1 and StnPressure_2 are one of the stronger predictors. According to this [article](https://www.ncbi.nlm.nih.gov/pmc/articles/PMC3788776/), there is some evidence that insects adjust their behaviours associated with flight, mating and foraging in response to changes in barometric pressure, which would in turn affect the Wnv Presence. "
   ]
  },
  {
   "cell_type": "code",
   "execution_count": 35,
   "id": "06378877",
   "metadata": {},
   "outputs": [],
   "source": [
    "# Get predictions\n",
    "preds = rf.predict(Xs_test)\n",
    "\n",
    "# Save confusion matrix values\n",
    "tn, fp, fn, tp = confusion_matrix(y_test, preds).ravel()"
   ]
  },
  {
   "cell_type": "code",
   "execution_count": 36,
   "id": "c557e0ab",
   "metadata": {},
   "outputs": [
    {
     "name": "stderr",
     "output_type": "stream",
     "text": [
      "/Users/kevinchew/anaconda3/lib/python3.8/site-packages/sklearn/utils/deprecation.py:87: FutureWarning: Function plot_confusion_matrix is deprecated; Function `plot_confusion_matrix` is deprecated in 1.0 and will be removed in 1.2. Use one of the class methods: ConfusionMatrixDisplay.from_predictions or ConfusionMatrixDisplay.from_estimator.\n",
      "  warnings.warn(msg, category=FutureWarning)\n"
     ]
    },
    {
     "data": {
      "image/png": "[encoded data removed]",
      "text/plain": [
       "<Figure size 432x288 with 2 Axes>"
      ]
     },
     "metadata": {
      "needs_background": "light"
     },
     "output_type": "display_data"
    }
   ],
   "source": [
    "# View confusion matrix\n",
    "\n",
    "plot_confusion_matrix(rf, Xs_test, y_test, cmap='Blues', values_format='d');"
   ]
  },
  {
   "cell_type": "markdown",
   "id": "d12936cb",
   "metadata": {},
   "source": [
    "Using Random Forest, out of 1511 data points in our test dataset, we classified 1223 (80.94%) correctly. \n"
   ]
  },
  {
   "cell_type": "markdown",
   "id": "6eec0498",
   "metadata": {},
   "source": [
    "## Fitting ExtraTrees Classifier"
   ]
  },
  {
   "cell_type": "code",
   "execution_count": 37,
   "id": "098e6a0e",
   "metadata": {},
   "outputs": [
    {
     "name": "stdout",
     "output_type": "stream",
     "text": [
      "Fitting Extra Trees\n",
      "Fitting 5 folds for each of 24 candidates, totalling 120 fits\n",
      "The best parameters are Pipeline(steps=[('sampling', SMOTE(random_state=42)),\n",
      "                ('et',\n",
      "                 ExtraTreesClassifier(max_depth=5, min_samples_leaf=4,\n",
      "                                      random_state=42))]).\n",
      "CPU times: user 846 ms, sys: 47.3 ms, total: 894 ms\n",
      "Wall time: 18.8 s\n"
     ]
    }
   ],
   "source": [
    "%%time\n",
    "\n",
    "print(f'Fitting Extra Trees')      \n",
    "\n",
    "# Set up pipeline\n",
    "et_pipe = Pipeline([\n",
    "        ('sampling', SMOTE(random_state=42)),\n",
    "        ('et', ExtraTreesClassifier(random_state=42))\n",
    "    ])\n",
    "\n",
    "# Hyperparameters\n",
    "et_params = {\n",
    "    'et__n_estimators': [80, 100, 120],\n",
    "    'et__max_depth': [3, 5],\n",
    "    'et__min_samples_leaf': [2, 4],\n",
    "    'et__min_samples_split' : [2, 4]\n",
    "}\n",
    "\n",
    "# Instantiate 5-fold GridSearchCV.\n",
    "gs_et = GridSearchCV(et_pipe, param_grid = et_params, cv=5,\n",
    "                     scoring='roc_auc',n_jobs=-1,\n",
    "                     verbose=1)\n",
    "\n",
    "# Fit\n",
    "gs_et.fit(Xs_train, y_train)\n",
    "gs_et_model = gs_et.best_estimator_\n",
    "\n",
    "# See results\n",
    "print(f'The best parameters are {gs_et.best_estimator_}.')"
   ]
  },
  {
   "cell_type": "markdown",
   "id": "3867b94f",
   "metadata": {},
   "source": [
    "Using these best hyperparameters, we will re-fit the model based on the over-sampleted data and obtain the scoring metrics"
   ]
  },
  {
   "cell_type": "code",
   "execution_count": 38,
   "id": "ee9fa6de",
   "metadata": {},
   "outputs": [
    {
     "data": {
      "text/plain": [
       "ExtraTreesClassifier(max_depth=5, min_samples_leaf=4, random_state=42)"
      ]
     },
     "execution_count": 38,
     "metadata": {},
     "output_type": "execute_result"
    }
   ],
   "source": [
    "et = ExtraTreesClassifier(max_depth=5, min_samples_leaf=4,\n",
    "                     random_state=42)\n",
    "et.fit(Xsm_train, ysm_train)"
   ]
  },
  {
   "cell_type": "code",
   "execution_count": 39,
   "id": "4c348d07",
   "metadata": {},
   "outputs": [],
   "source": [
    "# Append to the lists\n",
    "model_name.append('ExtraTrees')\n",
    "model_scores.append(et.score(Xsm_train, ysm_train))\n",
    "model_var.append(et)\n",
    "model_test_scores.append(et.score(Xs_test,y_test))"
   ]
  },
  {
   "cell_type": "markdown",
   "id": "9c20d058",
   "metadata": {},
   "source": [
    "### Evaluating ExtraTrees Results"
   ]
  },
  {
   "cell_type": "code",
   "execution_count": 40,
   "id": "9a44a0c6",
   "metadata": {},
   "outputs": [],
   "source": [
    "imp_et = pd.DataFrame(et.feature_importances_,\n",
    "                       index=X.columns,\n",
    "                       columns=['weights']).sort_values(by='weights', ascending=False)"
   ]
  },
  {
   "cell_type": "code",
   "execution_count": 41,
   "id": "1dafcf0a",
   "metadata": {
    "scrolled": true
   },
   "outputs": [
    {
     "data": {
      "image/png": "[encoded data removed]",
      "text/plain": [
       "<Figure size 864x504 with 1 Axes>"
      ]
     },
     "metadata": {
      "needs_background": "light"
     },
     "output_type": "display_data"
    }
   ],
   "source": [
    "# Top 20 features\n",
    "imp_et.head(20).plot(kind='barh', label=imp_et.columns, figsize=(12,7), color='red')\n",
    "plt.title('Top 20 Feature Importance for Extra Trees', fontsize=15)\n",
    "plt.gca().invert_yaxis()\n",
    "plt.legend(loc=4);"
   ]
  },
  {
   "cell_type": "markdown",
   "id": "927208e4",
   "metadata": {},
   "source": [
    "For this model, Daylight Duration is the strongest predictor. Next is the Species Culex Restuans, which is expected since it is one of the 3 species that were shown to carry the Wnv Virus in the EDA done during the earlier sections. Furthermore, many of the predictors are related to precipitation and wet weather, which is ideal for mosquito breeding. "
   ]
  },
  {
   "cell_type": "code",
   "execution_count": 42,
   "id": "ada20633",
   "metadata": {},
   "outputs": [],
   "source": [
    "# Get predictions\n",
    "preds = et.predict(Xs_test)\n",
    "\n",
    "# Save confusion matrix values\n",
    "tn, fp, fn, tp = confusion_matrix(y_test, preds).ravel()"
   ]
  },
  {
   "cell_type": "code",
   "execution_count": 43,
   "id": "3d8e2808",
   "metadata": {},
   "outputs": [
    {
     "name": "stderr",
     "output_type": "stream",
     "text": [
      "/Users/kevinchew/anaconda3/lib/python3.8/site-packages/sklearn/utils/deprecation.py:87: FutureWarning: Function plot_confusion_matrix is deprecated; Function `plot_confusion_matrix` is deprecated in 1.0 and will be removed in 1.2. Use one of the class methods: ConfusionMatrixDisplay.from_predictions or ConfusionMatrixDisplay.from_estimator.\n",
      "  warnings.warn(msg, category=FutureWarning)\n"
     ]
    },
    {
     "data": {
      "image/png": "[encoded data removed]",
      "text/plain": [
       "<Figure size 432x288 with 2 Axes>"
      ]
     },
     "metadata": {
      "needs_background": "light"
     },
     "output_type": "display_data"
    }
   ],
   "source": [
    "# View confusion matrix\n",
    "\n",
    "plot_confusion_matrix(et, Xs_test, y_test, cmap='Blues', values_format='d');"
   ]
  },
  {
   "cell_type": "markdown",
   "id": "96c1e0dd",
   "metadata": {},
   "source": [
    "Using Extra Trees, out of 1511 data points in our test dataset, we classified 1110 (73.46%) correctly."
   ]
  },
  {
   "cell_type": "markdown",
   "id": "ffcf8a97",
   "metadata": {},
   "source": [
    "### Fitting AdaBoost Classifier"
   ]
  },
  {
   "cell_type": "code",
   "execution_count": 44,
   "id": "7b1f6885",
   "metadata": {},
   "outputs": [
    {
     "name": "stdout",
     "output_type": "stream",
     "text": [
      "Fitting AdaBoost\n",
      "Fitting 5 folds for each of 12 candidates, totalling 60 fits\n",
      "The best parameters are Pipeline(steps=[('sampling', SMOTE(random_state=42)),\n",
      "                ('ada',\n",
      "                 AdaBoostClassifier(learning_rate=0.9, random_state=42))]).\n",
      "CPU times: user 1.15 s, sys: 30.1 ms, total: 1.18 s\n",
      "Wall time: 14.6 s\n"
     ]
    }
   ],
   "source": [
    "%%time\n",
    "\n",
    "print(f'Fitting AdaBoost')     \n",
    "\n",
    "# Set up pipeline\n",
    "ada_pipe = Pipeline([\n",
    "        ('sampling', SMOTE(random_state=42)),\n",
    "        ('ada', AdaBoostClassifier(random_state=42))\n",
    "    ])\n",
    "\n",
    "# Hyperparameters\n",
    "ada_params = {\n",
    "    'ada__n_estimators': [20, 30, 40, 50],\n",
    "    'ada__learning_rate': [0.8, 0.9, 1]\n",
    "}\n",
    "\n",
    "# Instantiate 5-fold GridSearchCV.\n",
    "gs_ada = GridSearchCV(ada_pipe, param_grid = ada_params, cv=5,\n",
    "                      scoring='roc_auc', n_jobs=-1,\n",
    "                     verbose=1)\n",
    "\n",
    "# Fit\n",
    "gs_ada.fit(Xs_train, y_train)\n",
    "gs_ada_model = gs_ada.best_estimator_\n",
    "\n",
    "# See results\n",
    "print(f'The best parameters are {gs_ada.best_estimator_}.')"
   ]
  },
  {
   "cell_type": "markdown",
   "id": "1e0b9bea",
   "metadata": {},
   "source": [
    "Using these best hyperparameters, we will re-fit the model based on the over-sampleted data and obtain the scoring metrics"
   ]
  },
  {
   "cell_type": "code",
   "execution_count": 45,
   "id": "1784c810",
   "metadata": {},
   "outputs": [
    {
     "data": {
      "text/plain": [
       "AdaBoostClassifier(learning_rate=0.9, random_state=42)"
      ]
     },
     "execution_count": 45,
     "metadata": {},
     "output_type": "execute_result"
    }
   ],
   "source": [
    "ada = AdaBoostClassifier(learning_rate=0.9, random_state=42)\n",
    "ada.fit(Xsm_train, ysm_train)"
   ]
  },
  {
   "cell_type": "code",
   "execution_count": 46,
   "id": "a78785ac",
   "metadata": {},
   "outputs": [],
   "source": [
    "# Append to the lists\n",
    "model_name.append('AdaBoost')\n",
    "model_scores.append(ada.score(Xsm_train, ysm_train))\n",
    "model_var.append(ada)\n",
    "model_test_scores.append(ada.score(Xs_test,y_test))"
   ]
  },
  {
   "cell_type": "markdown",
   "id": "b5d1f7cf",
   "metadata": {},
   "source": [
    "### Evaluating AdaBoost Results"
   ]
  },
  {
   "cell_type": "code",
   "execution_count": 47,
   "id": "3b08144e",
   "metadata": {},
   "outputs": [],
   "source": [
    "imp_ada = pd.DataFrame(ada.feature_importances_,\n",
    "                       index=X.columns,\n",
    "                       columns=['weights']).sort_values(by='weights', ascending=False)"
   ]
  },
  {
   "cell_type": "code",
   "execution_count": 48,
   "id": "bcdb10aa",
   "metadata": {
    "scrolled": true
   },
   "outputs": [
    {
     "data": {
      "image/png": "[encoded data removed]",
      "text/plain": [
       "<Figure size 864x504 with 1 Axes>"
      ]
     },
     "metadata": {
      "needs_background": "light"
     },
     "output_type": "display_data"
    }
   ],
   "source": [
    "# Plot in bar chart\n",
    "imp_ada.head(20).plot(kind='barh', label=imp_ada.columns[:20], figsize=(12,7), color='blue')\n",
    "plt.title('Top 20 Feature Importance for AdaBoost', fontsize=15)\n",
    "plt.gca().invert_yaxis()\n",
    "plt.legend(loc=4);"
   ]
  },
  {
   "cell_type": "code",
   "execution_count": 49,
   "id": "caf9132b",
   "metadata": {},
   "outputs": [],
   "source": [
    "# Get predictions\n",
    "preds = ada.predict(Xs_test)\n",
    "\n",
    "# Save confusion matrix values\n",
    "tn, fp, fn, tp = confusion_matrix(y_test, preds).ravel()"
   ]
  },
  {
   "cell_type": "code",
   "execution_count": 50,
   "id": "6af2e8a8",
   "metadata": {},
   "outputs": [
    {
     "name": "stderr",
     "output_type": "stream",
     "text": [
      "/Users/kevinchew/anaconda3/lib/python3.8/site-packages/sklearn/utils/deprecation.py:87: FutureWarning: Function plot_confusion_matrix is deprecated; Function `plot_confusion_matrix` is deprecated in 1.0 and will be removed in 1.2. Use one of the class methods: ConfusionMatrixDisplay.from_predictions or ConfusionMatrixDisplay.from_estimator.\n",
      "  warnings.warn(msg, category=FutureWarning)\n"
     ]
    },
    {
     "data": {
      "image/png": "[encoded data removed]",
      "text/plain": [
       "<Figure size 432x288 with 2 Axes>"
      ]
     },
     "metadata": {
      "needs_background": "light"
     },
     "output_type": "display_data"
    }
   ],
   "source": [
    "# View confusion matrix\n",
    "\n",
    "plot_confusion_matrix(ada, Xs_test, y_test, cmap='Blues', values_format='d');"
   ]
  },
  {
   "cell_type": "markdown",
   "id": "cfea8fc1",
   "metadata": {},
   "source": [
    "Using Extra Trees, out of 1511 data points in our test dataset, we classified 1282 (84.84%) correctly. \n"
   ]
  },
  {
   "cell_type": "markdown",
   "id": "2c6842b9",
   "metadata": {},
   "source": [
    "### Fitting Gradient Boost Classifier"
   ]
  },
  {
   "cell_type": "code",
   "execution_count": 51,
   "id": "3e00acb4",
   "metadata": {},
   "outputs": [
    {
     "name": "stdout",
     "output_type": "stream",
     "text": [
      "Fitting Gradient Boost\n",
      "Fitting 5 folds for each of 48 candidates, totalling 240 fits\n",
      "The best parameters are Pipeline(steps=[('sampling', SMOTE(random_state=42)),\n",
      "                ('gboost',\n",
      "                 GradientBoostingClassifier(max_depth=1, n_estimators=150))]).\n",
      "CPU times: user 2.69 s, sys: 93.1 ms, total: 2.78 s\n",
      "Wall time: 4min 3s\n"
     ]
    }
   ],
   "source": [
    "%%time\n",
    "\n",
    "print(f'Fitting Gradient Boost')     \n",
    "\n",
    "# Set up pipeline\n",
    "gboost_pipe = Pipeline([\n",
    "        ('sampling', SMOTE(random_state=42)),\n",
    "        ('gboost', GradientBoostingClassifier())\n",
    "    ])\n",
    "\n",
    "# Hyperparameters\n",
    "gboost_params = {\n",
    "    'gboost__n_estimators': [80, 100, 120, 150],\n",
    "    'gboost__max_depth': [1, 2, 3],\n",
    "    'gboost__min_samples_split': [2, 4],\n",
    "    'gboost__min_samples_leaf': [1, 2]\n",
    "}\n",
    "\n",
    "# Instantiate 5-fold GridSearchCV.\n",
    "gs_gboost = GridSearchCV(gboost_pipe, param_grid = gboost_params, cv=5,\n",
    "                         scoring='roc_auc',n_jobs=-1,\n",
    "                     verbose=1)\n",
    "\n",
    "# Fit\n",
    "gs_gboost.fit(Xs_train, y_train)\n",
    "gs_gboost_model = gs_ada.best_estimator_\n",
    "\n",
    "# See results\n",
    "print(f'The best parameters are {gs_gboost.best_estimator_}.')"
   ]
  },
  {
   "cell_type": "markdown",
   "id": "1addbd2a",
   "metadata": {},
   "source": [
    "Using these best hyperparameters, we will re-fit the model based on the over-sampleted data and obtain the scoring metrics"
   ]
  },
  {
   "cell_type": "code",
   "execution_count": 52,
   "id": "17f8b742",
   "metadata": {},
   "outputs": [
    {
     "data": {
      "text/plain": [
       "GradientBoostingClassifier(max_depth=1, n_estimators=150)"
      ]
     },
     "execution_count": 52,
     "metadata": {},
     "output_type": "execute_result"
    }
   ],
   "source": [
    "gboost = GradientBoostingClassifier(max_depth=1, n_estimators=150)\n",
    "gboost.fit(Xsm_train, ysm_train)"
   ]
  },
  {
   "cell_type": "code",
   "execution_count": 53,
   "id": "b2689326",
   "metadata": {},
   "outputs": [],
   "source": [
    "# Append to the lists\n",
    "model_name.append('GradientBooast')\n",
    "model_scores.append(gboost.score(Xsm_train, ysm_train))\n",
    "model_var.append(gboost)\n",
    "model_test_scores.append(gboost.score(Xs_test,y_test)) "
   ]
  },
  {
   "cell_type": "code",
   "execution_count": 54,
   "id": "d3cde048",
   "metadata": {},
   "outputs": [],
   "source": [
    "imp_gboost = pd.DataFrame(gboost.feature_importances_,\n",
    "                       index=X.columns,\n",
    "                       columns=['weights']).sort_values(by='weights', ascending=False)"
   ]
  },
  {
   "cell_type": "code",
   "execution_count": 55,
   "id": "97bb0097",
   "metadata": {},
   "outputs": [
    {
     "data": {
      "image/png": "[encoded data removed]",
      "text/plain": [
       "<Figure size 864x504 with 1 Axes>"
      ]
     },
     "metadata": {
      "needs_background": "light"
     },
     "output_type": "display_data"
    }
   ],
   "source": [
    "# Plot in bar chart\n",
    "imp_gboost.head(20).plot(kind='barh', label=imp_gboost.columns[:20], figsize=(12,7), color='green')\n",
    "plt.title('Top 20 Feature Importance for Gradient Boost', fontsize=15)\n",
    "plt.gca().invert_yaxis()\n",
    "plt.legend(loc=4);"
   ]
  },
  {
   "cell_type": "markdown",
   "id": "fd033b45",
   "metadata": {},
   "source": [
    "Number of Mosquitoes and Daylight duration are by far the strongest predictors for this model."
   ]
  },
  {
   "cell_type": "code",
   "execution_count": 56,
   "id": "c6996517",
   "metadata": {},
   "outputs": [],
   "source": [
    "# Get predictions\n",
    "preds = gboost.predict(Xs_test)\n",
    "\n",
    "# Save confusion matrix values\n",
    "tn, fp, fn, tp = confusion_matrix(y_test, preds).ravel()"
   ]
  },
  {
   "cell_type": "code",
   "execution_count": 57,
   "id": "727e25c1",
   "metadata": {},
   "outputs": [
    {
     "name": "stderr",
     "output_type": "stream",
     "text": [
      "/Users/kevinchew/anaconda3/lib/python3.8/site-packages/sklearn/utils/deprecation.py:87: FutureWarning: Function plot_confusion_matrix is deprecated; Function `plot_confusion_matrix` is deprecated in 1.0 and will be removed in 1.2. Use one of the class methods: ConfusionMatrixDisplay.from_predictions or ConfusionMatrixDisplay.from_estimator.\n",
      "  warnings.warn(msg, category=FutureWarning)\n"
     ]
    },
    {
     "data": {
      "image/png": "[encoded data removed]",
      "text/plain": [
       "<Figure size 432x288 with 2 Axes>"
      ]
     },
     "metadata": {
      "needs_background": "light"
     },
     "output_type": "display_data"
    }
   ],
   "source": [
    "# View confusion matrix\n",
    "\n",
    "plot_confusion_matrix(gboost, Xs_test, y_test, cmap='Blues', values_format='d');"
   ]
  },
  {
   "cell_type": "markdown",
   "id": "1322d8fe",
   "metadata": {},
   "source": [
    "Using Extra Trees, out of 1511 data points in our test dataset, we classified 1260 (83.39%) correctly. \n"
   ]
  },
  {
   "cell_type": "markdown",
   "id": "e95643ed",
   "metadata": {},
   "source": [
    "### Combining results together"
   ]
  },
  {
   "cell_type": "code",
   "execution_count": 58,
   "id": "5648700f",
   "metadata": {},
   "outputs": [
    {
     "data": {
      "text/html": [
       "<div>\n",
       "<style scoped>\n",
       "    .dataframe tbody tr th:only-of-type {\n",
       "        vertical-align: middle;\n",
       "    }\n",
       "\n",
       "    .dataframe tbody tr th {\n",
       "        vertical-align: top;\n",
       "    }\n",
       "\n",
       "    .dataframe thead th {\n",
       "        text-align: right;\n",
       "    }\n",
       "</style>\n",
       "<table border=\"1\" class=\"dataframe\">\n",
       "  <thead>\n",
       "    <tr style=\"text-align: right;\">\n",
       "      <th></th>\n",
       "      <th>Model Type</th>\n",
       "      <th>Train AUC</th>\n",
       "      <th>Test AUC</th>\n",
       "      <th>F1-Score</th>\n",
       "      <th>Recall</th>\n",
       "      <th>Precision</th>\n",
       "      <th>Train Accuracy</th>\n",
       "      <th>Test Accuracy</th>\n",
       "    </tr>\n",
       "  </thead>\n",
       "  <tbody>\n",
       "    <tr>\n",
       "      <th>0</th>\n",
       "      <td>Logistic Regression</td>\n",
       "      <td>0.823732</td>\n",
       "      <td>0.809182</td>\n",
       "      <td>0.589703</td>\n",
       "      <td>0.809182</td>\n",
       "      <td>0.588911</td>\n",
       "      <td>0.838931</td>\n",
       "      <td>0.779616</td>\n",
       "    </tr>\n",
       "    <tr>\n",
       "      <th>1</th>\n",
       "      <td>Naive Bayes</td>\n",
       "      <td>0.680590</td>\n",
       "      <td>0.661270</td>\n",
       "      <td>0.480988</td>\n",
       "      <td>0.661270</td>\n",
       "      <td>0.538324</td>\n",
       "      <td>0.690171</td>\n",
       "      <td>0.649901</td>\n",
       "    </tr>\n",
       "    <tr>\n",
       "      <th>2</th>\n",
       "      <td>Random Forest</td>\n",
       "      <td>0.832692</td>\n",
       "      <td>0.809206</td>\n",
       "      <td>0.611068</td>\n",
       "      <td>0.809206</td>\n",
       "      <td>0.597679</td>\n",
       "      <td>0.870406</td>\n",
       "      <td>0.809398</td>\n",
       "    </tr>\n",
       "    <tr>\n",
       "      <th>3</th>\n",
       "      <td>ExtraTrees</td>\n",
       "      <td>0.789876</td>\n",
       "      <td>0.790539</td>\n",
       "      <td>0.556225</td>\n",
       "      <td>0.790539</td>\n",
       "      <td>0.575688</td>\n",
       "      <td>0.806401</td>\n",
       "      <td>0.734613</td>\n",
       "    </tr>\n",
       "    <tr>\n",
       "      <th>4</th>\n",
       "      <td>AdaBoost</td>\n",
       "      <td>0.824732</td>\n",
       "      <td>0.798353</td>\n",
       "      <td>0.639797</td>\n",
       "      <td>0.798353</td>\n",
       "      <td>0.612042</td>\n",
       "      <td>0.886408</td>\n",
       "      <td>0.848445</td>\n",
       "    </tr>\n",
       "    <tr>\n",
       "      <th>5</th>\n",
       "      <td>GradientBooast</td>\n",
       "      <td>0.830380</td>\n",
       "      <td>0.795884</td>\n",
       "      <td>0.626434</td>\n",
       "      <td>0.795884</td>\n",
       "      <td>0.604122</td>\n",
       "      <td>0.872165</td>\n",
       "      <td>0.833885</td>\n",
       "    </tr>\n",
       "  </tbody>\n",
       "</table>\n",
       "</div>"
      ],
      "text/plain": [
       "            Model Type  Train AUC  Test AUC  F1-Score    Recall  Precision  \\\n",
       "0  Logistic Regression   0.823732  0.809182  0.589703  0.809182   0.588911   \n",
       "1          Naive Bayes   0.680590  0.661270  0.480988  0.661270   0.538324   \n",
       "2        Random Forest   0.832692  0.809206  0.611068  0.809206   0.597679   \n",
       "3           ExtraTrees   0.789876  0.790539  0.556225  0.790539   0.575688   \n",
       "4             AdaBoost   0.824732  0.798353  0.639797  0.798353   0.612042   \n",
       "5       GradientBooast   0.830380  0.795884  0.626434  0.795884   0.604122   \n",
       "\n",
       "   Train Accuracy  Test Accuracy  \n",
       "0        0.838931       0.779616  \n",
       "1        0.690171       0.649901  \n",
       "2        0.870406       0.809398  \n",
       "3        0.806401       0.734613  \n",
       "4        0.886408       0.848445  \n",
       "5        0.872165       0.833885  "
      ]
     },
     "execution_count": 58,
     "metadata": {},
     "output_type": "execute_result"
    }
   ],
   "source": [
    "# View the evaluation metrics for all models in a dataframe\n",
    "# Sorted by highest F1-Score\n",
    "precision_list = []\n",
    "recall_list = []\n",
    "fscore_list = []\n",
    "auc_list_train = []\n",
    "auc_list_test = []\n",
    "for model in model_var:\n",
    "    y_pred = model.predict(Xs_test)\n",
    "    y_pred_train = model.predict(Xs_train)\n",
    "    precision, recall, fscore, support = precision_recall_fscore_support(y_test, y_pred, average='macro')\n",
    "    precision_list.append(precision)\n",
    "    recall_list.append(recall)\n",
    "    fscore_list.append(fscore)\n",
    "    auc_list_train.append(roc_auc_score(y_train, y_pred_train))\n",
    "    auc_list_test.append(roc_auc_score(y_test, y_pred))\n",
    "\n",
    "pd.DataFrame({'Model Type': model_name,\n",
    "              'Train AUC': auc_list_train,\n",
    "              'Test AUC': auc_list_test,\n",
    "              'F1-Score': fscore_list,\n",
    "             'Recall': recall_list,\n",
    "              'Precision': precision_list,\n",
    "              'Train Accuracy': model_scores,\n",
    "             'Test Accuracy': model_test_scores})"
   ]
  },
  {
   "cell_type": "markdown",
   "id": "3fda499c",
   "metadata": {},
   "source": [
    "As earlier stated, we will first use AUC to filter out what model is best for this classficiation problem. This is because AUC works much better for imbalanced dataset.\n",
    "In this problem, the baseline accuracy is ~94%. This means that, if our model predicts that every point is Wnv NOT present, our accuracy is 94%. Thus, accuracy is not the best metric for validation in this situation.\n",
    "AUC, on the other hand, utilizes probabilites of class prediction and provides an aggregate measure of performance across all possible classification thresholds. This allows us to be able to more precisely evaluate and compare the models.\n",
    "\n",
    "Now, from the 'AUC' scores, it is clear that Naive Bayes and Extra Trees are the worst performing models with scores of ~0.70 and ~0.78 respectively. \n",
    "\n",
    "Naive Bayes is a classification method based on Bayes' theorem that derives the probability of the given vector being assocaited with a label. it has a naive assumption of conditional independece for every feature, which means that the algorithm expects the features to be independent which is not always the case. Thus, if some of the feautes are in fact dependent on each other, the prediction might be poor. In this classification problem, many of the features are in fact related to each other as several of them are weather related. So, Naive Bayes is not the optimal model for this case and we can eliminate it from our choice.\n"
   ]
  },
  {
   "cell_type": "code",
   "execution_count": 59,
   "id": "48e0d70e",
   "metadata": {},
   "outputs": [],
   "source": [
    "# Assign the selected production model\n",
    "production_model = ada"
   ]
  },
  {
   "cell_type": "code",
   "execution_count": 60,
   "id": "74f23d4e",
   "metadata": {},
   "outputs": [],
   "source": [
    "# Save scaler as a pickle file\n",
    "outfile = open('scaler.pkl','wb')\n",
    "pickle.dump(ss, outfile)\n",
    "outfile.close()"
   ]
  },
  {
   "cell_type": "code",
   "execution_count": 61,
   "id": "d7d1ba85",
   "metadata": {},
   "outputs": [],
   "source": [
    "# Save model as a pickle file\n",
    "outfile = open('production_model.pkl','wb')\n",
    "pickle.dump(production_model, outfile)\n",
    "outfile.close()"
   ]
  },
  {
   "cell_type": "markdown",
   "id": "4b3ee00a",
   "metadata": {},
   "source": [
    "### Preprocessing for Test Dataset\n",
    "\n",
    "Compared to the train dataset, the test dataset does not have a 'NumMosquitos' column. As seen in the results of our modeling above, NumMosquitoes is an important predictor/feature in determining if the point is WnvPresent or not. Thus, we would do feature engineering to create a 'NumMosquitos' column in the test dataset."
   ]
  },
  {
   "cell_type": "code",
   "execution_count": 62,
   "id": "c3d8d4d3",
   "metadata": {},
   "outputs": [],
   "source": [
    "df_train = pd.read_csv('/Users/kevinchew/Desktop/p44/P4---West-Nile-Virus/assets/cleaned_datasets/train_weather_weekly.csv')\n",
    "\n"
   ]
  },
  {
   "cell_type": "code",
   "execution_count": 63,
   "id": "45612c66",
   "metadata": {},
   "outputs": [],
   "source": [
    "# Setting the variables\n",
    "Xtrain = df_train[[col for col in df_train.columns if col not in ['WnvPresent', 'Year-Week', 'Year', 'Month', 'Week',\n",
    "                                                         'Species','NumMosquitos']]]\n",
    "ytrain = df_train['NumMosquitos']"
   ]
  },
  {
   "cell_type": "code",
   "execution_count": 64,
   "id": "f5c9ba74",
   "metadata": {},
   "outputs": [],
   "source": [
    "# train test split\n",
    "X_train, X_test, y_train, y_test = train_test_split(Xtrain, ytrain, random_state=42, test_size = 0.2)"
   ]
  },
  {
   "cell_type": "code",
   "execution_count": 65,
   "id": "26fd5b53",
   "metadata": {},
   "outputs": [],
   "source": [
    "# Scaling\n",
    "ss = StandardScaler()\n",
    "Xss_train = ss.fit_transform(X_train)\n",
    "Xss_test = ss.transform(X_test)"
   ]
  },
  {
   "cell_type": "code",
   "execution_count": 66,
   "id": "66872d60",
   "metadata": {},
   "outputs": [],
   "source": [
    "# Import Libraries\n",
    "from sklearn.model_selection import train_test_split, GridSearchCV\n",
    "from sklearn.preprocessing import StandardScaler\n",
    "from sklearn.linear_model import LinearRegression, LassoCV, RidgeCV, ElasticNetCV\n",
    "from sklearn.metrics import mean_absolute_error, mean_squared_error\n",
    "from joblib import dump, load"
   ]
  },
  {
   "cell_type": "markdown",
   "id": "ccf2842d",
   "metadata": {},
   "source": [
    "### Fitting Linear Regression Model"
   ]
  },
  {
   "cell_type": "code",
   "execution_count": 67,
   "id": "c4e1e3e5",
   "metadata": {},
   "outputs": [
    {
     "name": "stdout",
     "output_type": "stream",
     "text": [
      "Linear Regression MAE: 24.187954996690934\n",
      "Linear Regression RMSE: 79.27471524077286\n"
     ]
    }
   ],
   "source": [
    "# Fit linear regression model\n",
    "lr = LinearRegression()\n",
    "lr.fit(Xss_train,y_train)\n",
    "lr_pred = np.rint(lr.predict(Xss_test))\n",
    "print(f\"Linear Regression MAE: {mean_absolute_error(y_test,lr_pred)}\")\n",
    "print(f\"Linear Regression RMSE: {np.sqrt(mean_squared_error(y_test,lr_pred))}\")"
   ]
  },
  {
   "cell_type": "markdown",
   "id": "98e96149",
   "metadata": {},
   "source": [
    "### Fitting LassoCV Model"
   ]
  },
  {
   "cell_type": "code",
   "execution_count": 68,
   "id": "6660b1e9",
   "metadata": {},
   "outputs": [
    {
     "name": "stdout",
     "output_type": "stream",
     "text": [
      "LassoCV best alpha: 0.009023288475359756\n",
      "LassoCV MAE: 23.984778292521508\n",
      "LassoCV RMSE: 79.36665660928942\n"
     ]
    }
   ],
   "source": [
    "lasso_cv = LassoCV(eps=0.001,n_alphas=100,cv=5,max_iter=1_000_000)\n",
    "lasso_cv.fit(Xss_train,y_train)\n",
    "lasso_cv_pred = np.rint(lasso_cv.predict(Xss_test))\n",
    "print(f\"LassoCV best alpha: {lasso_cv.alpha_}\")\n",
    "print(f\"LassoCV MAE: {mean_absolute_error(y_test,lasso_cv_pred)}\")\n",
    "print(f\"LassoCV RMSE: {np.sqrt(mean_squared_error(y_test,lasso_cv_pred))}\")"
   ]
  },
  {
   "cell_type": "markdown",
   "id": "6d6b96c6",
   "metadata": {},
   "source": [
    "### Fitting RidgeCV Model"
   ]
  },
  {
   "cell_type": "code",
   "execution_count": 69,
   "id": "f41f07b7",
   "metadata": {},
   "outputs": [
    {
     "name": "stdout",
     "output_type": "stream",
     "text": [
      "RidgeCV best alpha: 1.0\n",
      "RidgeCV MAE: 23.99735274652548\n",
      "RidgeCV RMSE: 79.39958340656247\n"
     ]
    }
   ],
   "source": [
    "ridge_cv = RidgeCV(alphas=(0.1, 1.0, 10.0))\n",
    "ridge_cv.fit(Xss_train, y_train)\n",
    "ridge_cv_pred = np.rint(ridge_cv.predict(Xss_test))\n",
    "print(f\"RidgeCV best alpha: {ridge_cv.alpha_}\")\n",
    "print(f\"RidgeCV MAE: {mean_absolute_error(y_test,ridge_cv_pred)}\")\n",
    "print(f\"RidgeCV RMSE: {np.sqrt(mean_squared_error(y_test,ridge_cv_pred))}\")"
   ]
  },
  {
   "cell_type": "markdown",
   "id": "d6e8e9f1",
   "metadata": {},
   "source": [
    "### Selected Model to predict NumMosquitos in Test Dataset : LassoCV"
   ]
  },
  {
   "cell_type": "markdown",
   "id": "38816574",
   "metadata": {},
   "source": [
    "All the 3 models that were used produced good results. If we judge strictly based on the MAE and RMSE score, LassoCV Model performed best as its scores are numerically the lowest. Lasso is a modification of linear regression, where the model is penalized for the sum of absolute values of the weights. It punishes high values of the coefficients and sets them to zero if they are not relevant.\n",
    "\n",
    "We will use this model to create a 'NumMosquitos' column in the test dataset."
   ]
  },
  {
   "cell_type": "code",
   "execution_count": 70,
   "id": "23346aad",
   "metadata": {},
   "outputs": [
    {
     "data": {
      "text/plain": [
       "LassoCV(cv=5, max_iter=1000000)"
      ]
     },
     "execution_count": 70,
     "metadata": {},
     "output_type": "execute_result"
    }
   ],
   "source": [
    "X_scaled = ss.fit_transform(Xtrain)\n",
    "selected_lasso_cv = LassoCV (eps=0.001, n_alphas=100, cv=5, max_iter=1_000_000) \n",
    "selected_lasso_cv.fit(X_scaled, ytrain) # model we use to create 'NumMosquitos' column in test dataset"
   ]
  },
  {
   "cell_type": "code",
   "execution_count": 71,
   "id": "cb378b1f",
   "metadata": {},
   "outputs": [
    {
     "data": {
      "text/plain": [
       "['../assets/selected_lasso_cv.joblib']"
      ]
     },
     "execution_count": 71,
     "metadata": {},
     "output_type": "execute_result"
    }
   ],
   "source": [
    "dump(selected_lasso_cv,'../assets/selected_lasso_cv.joblib')"
   ]
  },
  {
   "cell_type": "code",
   "execution_count": 72,
   "id": "8b1e8755",
   "metadata": {},
   "outputs": [],
   "source": [
    "# Import cleaned test dataset\n",
    "test_weather_weekly = pd.read_csv('/Users/kevinchew/Desktop/p44/P4---West-Nile-Virus/code/test_weather_weekly.csv')"
   ]
  },
  {
   "cell_type": "code",
   "execution_count": 73,
   "id": "408c4df3",
   "metadata": {},
   "outputs": [
    {
     "data": {
      "text/plain": [
       "CULEX PIPIENS/RESTUANS    15359\n",
       "CULEX RESTUANS            14670\n",
       "CULEX PIPIENS             14521\n",
       "CULEX SALINARIUS          14355\n",
       "CULEX TERRITANS           14351\n",
       "CULEX TARSALIS            14347\n",
       "CULEX ERRATICUS           14345\n",
       "UNSPECIFIED CULEX         14345\n",
       "Name: Species, dtype: int64"
      ]
     },
     "execution_count": 73,
     "metadata": {},
     "output_type": "execute_result"
    }
   ],
   "source": [
    "# For species, there is a variable that is not found in the train dataset. This variable is called 'UNSPECIFIED CULEX'\n",
    "test_weather_weekly['Species'].value_counts()"
   ]
  },
  {
   "cell_type": "code",
   "execution_count": 74,
   "id": "cfd5d138",
   "metadata": {},
   "outputs": [],
   "source": [
    "# Breeds of mosquitoes that carries West Nile Virus\n",
    "wnv_species = ['CULEX PIPIENS/RESTUANS', 'CULEX PIPIENS', 'CULEX RESTUANS']"
   ]
  },
  {
   "cell_type": "code",
   "execution_count": 75,
   "id": "8ec94947",
   "metadata": {},
   "outputs": [],
   "source": [
    "# If Mosquitoes is of the 3 types, Is Wnv Mosquitoes Types is 1\n",
    "test_weather_weekly['Is Wnv Mosquitoes Types'] = test_weather_weekly['Species'].apply(lambda x: 1 if x in wnv_species else 0)\n"
   ]
  },
  {
   "cell_type": "code",
   "execution_count": 76,
   "id": "dc54b421",
   "metadata": {},
   "outputs": [],
   "source": [
    "test_weather_weekly.drop(['Date','Id','Species','AddressAccuracy','Year','Month','Week','Year-Month','Year-Week'],\n",
    "                        axis=1, inplace=True)"
   ]
  },
  {
   "cell_type": "code",
   "execution_count": 77,
   "id": "a8e5a9b1",
   "metadata": {},
   "outputs": [
    {
     "name": "stderr",
     "output_type": "stream",
     "text": [
      "/Users/kevinchew/anaconda3/lib/python3.8/site-packages/sklearn/base.py:443: UserWarning: X has feature names, but LassoCV was fitted without feature names\n",
      "  warnings.warn(\n"
     ]
    }
   ],
   "source": [
    "# Load the LassoCV model from earlier\n",
    "model_to_predict = load('/Users/kevinchew/Desktop/p44/P4---West-Nile-Virus/assets/selected_lasso_cv.joblib')\n",
    "\n",
    "# Predict NumMosquitos and save as a dataframe\n",
    "NumMosquitos = pd.DataFrame(data=np.rint(model_to_predict.predict(test_weather_weekly)),columns=['NumMosquitos'])\n",
    "\n",
    "# Add a new column to the test_clean_wea dataframe\n",
    "test_weather_weekly = pd.concat([test_weather_weekly,NumMosquitos],axis=1)\n",
    "\n"
   ]
  },
  {
   "cell_type": "code",
   "execution_count": 78,
   "id": "b19adefa",
   "metadata": {},
   "outputs": [
    {
     "data": {
      "text/plain": [
       "count    7553.000000\n",
       "mean       17.878856\n",
       "std        83.200195\n",
       "min         1.000000\n",
       "25%         2.000000\n",
       "50%         4.000000\n",
       "75%        12.000000\n",
       "max      2582.000000\n",
       "Name: NumMosquitos, dtype: float64"
      ]
     },
     "execution_count": 78,
     "metadata": {},
     "output_type": "execute_result"
    }
   ],
   "source": [
    "df['NumMosquitos'].describe()"
   ]
  },
  {
   "cell_type": "code",
   "execution_count": 79,
   "id": "697bc21d",
   "metadata": {},
   "outputs": [
    {
     "data": {
      "text/plain": [
       "count    116293.000000\n",
       "mean        887.174946\n",
       "std          11.773817\n",
       "min         864.000000\n",
       "25%         879.000000\n",
       "50%         887.000000\n",
       "75%         894.000000\n",
       "max         927.000000\n",
       "Name: NumMosquitos, dtype: float64"
      ]
     },
     "execution_count": 79,
     "metadata": {},
     "output_type": "execute_result"
    }
   ],
   "source": [
    "test_weather_weekly['NumMosquitos'].describe()"
   ]
  },
  {
   "cell_type": "markdown",
   "id": "ced601b0",
   "metadata": {},
   "source": [
    "### Kaggle Submission"
   ]
  },
  {
   "cell_type": "code",
   "execution_count": 80,
   "id": "ac4e7389",
   "metadata": {},
   "outputs": [
    {
     "name": "stdout",
     "output_type": "stream",
     "text": [
      "StandardScaler()\n",
      "AdaBoostClassifier(learning_rate=0.9, random_state=42)\n"
     ]
    }
   ],
   "source": [
    "# Load in production model and scaler\n",
    "ss = pickle.load(open('scaler.pkl', 'rb'))\n",
    "model = pickle.load(open('production_model.pkl', 'rb'))\n",
    "\n",
    "print(ss)\n",
    "print(model)"
   ]
  },
  {
   "cell_type": "code",
   "execution_count": 81,
   "id": "c6234ed8",
   "metadata": {},
   "outputs": [
    {
     "name": "stderr",
     "output_type": "stream",
     "text": [
      "/Users/kevinchew/anaconda3/lib/python3.8/site-packages/sklearn/base.py:493: FutureWarning: The feature names should match those that were passed during fit. Starting version 1.2, an error will be raised.\n",
      "Feature names must be in the same order as they were in fit.\n",
      "\n",
      "  warnings.warn(message, FutureWarning)\n"
     ]
    }
   ],
   "source": [
    "# Scale Processed Test Data\n",
    "Xscaled_test = ss.transform(test_weather_weekly)"
   ]
  },
  {
   "cell_type": "code",
   "execution_count": 82,
   "id": "181817f8",
   "metadata": {},
   "outputs": [],
   "source": [
    "# Get Predictions\n",
    "predictions = model.predict(Xscaled_test)"
   ]
  },
  {
   "cell_type": "code",
   "execution_count": 83,
   "id": "83f5dbd3",
   "metadata": {},
   "outputs": [],
   "source": [
    "# Import original Test Data\n",
    "original_test = pd.read_csv('/Users/kevinchew/Desktop/p44/P4---West-Nile-Virus/assets/raw_datasets/test.csv')"
   ]
  },
  {
   "cell_type": "code",
   "execution_count": 84,
   "id": "16e3f6a8",
   "metadata": {},
   "outputs": [],
   "source": [
    "submission = pd.DataFrame(original_test['Id'])\n",
    "submission['WnvPresent'] = predictions"
   ]
  },
  {
   "cell_type": "code",
   "execution_count": 85,
   "id": "756911de",
   "metadata": {},
   "outputs": [
    {
     "data": {
      "text/plain": [
       "0    116293\n",
       "Name: WnvPresent, dtype: int64"
      ]
     },
     "execution_count": 85,
     "metadata": {},
     "output_type": "execute_result"
    }
   ],
   "source": [
    "submission['WnvPresent'].value_counts()"
   ]
  },
  {
   "cell_type": "code",
   "execution_count": 86,
   "id": "6ee815d4",
   "metadata": {},
   "outputs": [],
   "source": [
    "# Save csv\n",
    "submission.to_csv('../assets/submission_predictions.csv', index=False)"
   ]
  },
  {
   "cell_type": "markdown",
   "id": "b8861cbc",
   "metadata": {},
   "source": [
    "![Submission](../images/kaggle_submission_1.png)"
   ]
  },
  {
   "cell_type": "code",
   "execution_count": null,
   "id": "83a3df63",
   "metadata": {},
   "outputs": [],
   "source": []
  }
 ],
 "metadata": {
  "kernelspec": {
   "display_name": "Python 3",
   "language": "python",
   "name": "python3"
  },
  "language_info": {
   "codemirror_mode": {
    "name": "ipython",
    "version": 3
   },
   "file_extension": ".py",
   "mimetype": "text/x-python",
   "name": "python",
   "nbconvert_exporter": "python",
   "pygments_lexer": "ipython3",
   "version": "3.8.8"
  }
 },
 "nbformat": 4,
 "nbformat_minor": 5
}
