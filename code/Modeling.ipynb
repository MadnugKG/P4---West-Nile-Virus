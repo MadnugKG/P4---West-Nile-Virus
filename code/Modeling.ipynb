{
 "cells": [
  {
   "cell_type": "code",
   "execution_count": 13,
   "id": "2cb77cbe",
   "metadata": {},
   "outputs": [],
   "source": [
    "# Import libraries\n",
    "import pandas as pd\n",
    "import numpy as np\n",
    "import matplotlib.pyplot as plt\n",
    "\n",
    "\n",
    "from sklearn.preprocessing import StandardScaler\n",
    "from sklearn.pipeline import Pipeline\n",
    "from sklearn.model_selection import train_test_split, GridSearchCV, cross_val_score\n",
    "from sklearn.linear_model import LogisticRegression\n",
    "from sklearn.metrics import confusion_matrix, plot_confusion_matrix, plot_roc_curve, precision_recall_fscore_support,  roc_auc_score\n",
    "from sklearn.naive_bayes import GaussianNB, BernoulliNB\n",
    "from sklearn.ensemble import RandomForestClassifier, ExtraTreesClassifier, AdaBoostClassifier, GradientBoostingClassifier\n",
    "from sklearn.tree import DecisionTreeClassifier\n",
    "from sklearn.svm import SVC\n",
    "\n",
    "from imblearn.over_sampling import SMOTE\n",
    "from imblearn.pipeline import Pipeline\n"
   ]
  },
  {
   "cell_type": "code",
   "execution_count": 14,
   "id": "8b67d846",
   "metadata": {},
   "outputs": [],
   "source": [
    "df = pd.read_csv('/Users/kevinchew/Desktop/p4/P4---West-Nile-Virus/code/train_weather_weekly.csv')"
   ]
  },
  {
   "cell_type": "markdown",
   "id": "2b2693ed",
   "metadata": {},
   "source": [
    "### Preprocessing"
   ]
  },
  {
   "cell_type": "code",
   "execution_count": 15,
   "id": "cf505ff2",
   "metadata": {},
   "outputs": [],
   "source": [
    "df['Species'] = df['Species'].map({'CULEX PIPIENS/RESTUANS': 1,'CULEX PIPIENS': 2,'CULEX RESTUANS': 3,\n",
    "                                  'CULEX TERRITANS' : 4, 'CULEX SALINARIUS' : 5, 'CULEX TARSALIS' : 6,\n",
    "                                  'CULEX ERRATICUS' : 7})"
   ]
  },
  {
   "cell_type": "code",
   "execution_count": 16,
   "id": "5b01485c",
   "metadata": {},
   "outputs": [],
   "source": [
    "# Setting the variables\n",
    "X = df[[col for col in df.columns if col not in ['Date', 'WnvPresent', 'Year-Week', 'Year_x']]]\n",
    "y = df['WnvPresent']"
   ]
  },
  {
   "cell_type": "markdown",
   "id": "5946bd2f",
   "metadata": {},
   "source": [
    "## Modelling & Hyperparameter Tuning\n",
    "\n",
    "In this section, we will run hyperparamter tuning for the models chosen. Then, since the data is heavily imbalanced, we will re-fit the model using the over-sampled data, which is obtained using SMOTE and obtain the train and test scores. \n",
    "\n"
   ]
  },
  {
   "cell_type": "code",
   "execution_count": 17,
   "id": "3585076b",
   "metadata": {},
   "outputs": [],
   "source": [
    "# train test split\n",
    "X_train, X_test, y_train, y_test = train_test_split(X, y, random_state=42, test_size = 0.2, stratify=y)"
   ]
  },
  {
   "cell_type": "markdown",
   "id": "be42aaf4",
   "metadata": {},
   "source": [
    "### Baseline Prediction"
   ]
  },
  {
   "cell_type": "code",
   "execution_count": 18,
   "id": "278307da",
   "metadata": {},
   "outputs": [
    {
     "data": {
      "text/plain": [
       "0    0.940842\n",
       "1    0.059158\n",
       "Name: WnvPresent, dtype: float64"
      ]
     },
     "execution_count": 18,
     "metadata": {},
     "output_type": "execute_result"
    }
   ],
   "source": [
    "# Look at the proportions of each outcome\n",
    "y_train.value_counts(normalize=True)"
   ]
  },
  {
   "cell_type": "markdown",
   "id": "aa5cab35",
   "metadata": {},
   "source": [
    "We observe that the data is heavily imbalanced. We will be ~94% accurate if we were to predict all to be the negative class (WNV not present). As such, we will be optimizing our models using AUC score instead of accuracy. We will also deploy SMOTE (Synthetic Minority Over-sampling Technique) to help us with over-sampling."
   ]
  },
  {
   "cell_type": "code",
   "execution_count": 21,
   "id": "4edab3db",
   "metadata": {},
   "outputs": [],
   "source": [
    "# Scaling\n",
    "ss = StandardScaler()\n",
    "Xs_train = ss.fit_transform(X_train)\n",
    "Xs_test = ss.transform(X_test)"
   ]
  },
  {
   "cell_type": "code",
   "execution_count": 22,
   "id": "ba23bc68",
   "metadata": {},
   "outputs": [],
   "source": [
    "# Instantiate SMOTE\n",
    "sm = SMOTE(random_state=42)\n",
    "\n",
    "Xsm_train, ysm_train = sm.fit_resample(Xs_train, y_train)"
   ]
  },
  {
   "cell_type": "code",
   "execution_count": 23,
   "id": "4ede1d83",
   "metadata": {},
   "outputs": [
    {
     "data": {
      "text/plain": [
       "0    5630\n",
       "1    5630\n",
       "Name: WnvPresent, dtype: int64"
      ]
     },
     "execution_count": 23,
     "metadata": {},
     "output_type": "execute_result"
    }
   ],
   "source": [
    "# Check proportions after SMOTE\n",
    "ysm_train.value_counts()"
   ]
  },
  {
   "cell_type": "markdown",
   "id": "fac11c2a",
   "metadata": {},
   "source": [
    "The over-sampled data will only be used when evaluating the train and test scores. When we are applying GridSearchCV to tune the hyperparameters, we will need to utilize an `imblearn.Pipeline` object to handle the samplers correctly."
   ]
  },
  {
   "cell_type": "markdown",
   "id": "0c5c2392",
   "metadata": {},
   "source": [
    "## Fitting Logistic Regression"
   ]
  },
  {
   "cell_type": "code",
   "execution_count": 25,
   "id": "f7e566f4",
   "metadata": {},
   "outputs": [
    {
     "name": "stdout",
     "output_type": "stream",
     "text": [
      "Fitting Logistic Regression\n",
      "Fitting 5 folds for each of 5 candidates, totalling 25 fits\n",
      "The best parameters are Pipeline(steps=[('sampling', SMOTE(random_state=42)),\n",
      "                ('lr', LogisticRegression(solver='newton-cg'))]).\n",
      "CPU times: user 556 ms, sys: 98.5 ms, total: 654 ms\n",
      "Wall time: 5.36 s\n"
     ]
    }
   ],
   "source": [
    "%%time\n",
    "# This framework will be the one we use for our modelling\n",
    "# We first work with a pipeline with Logistic Regression\n",
    "\n",
    "print(f'Fitting Logistic Regression')      # Prints out what model that we are using \n",
    "\n",
    "# Set up pipeline\n",
    "lr_pipe = Pipeline([\n",
    "        ('sampling', SMOTE(random_state=42)),\n",
    "        ('lr', LogisticRegression(solver='newton-cg'))\n",
    "    ])\n",
    "\n",
    "# Hyperparameters\n",
    "lr_params = {\n",
    "    'lr__C': np.linspace(0.1,1,5),\n",
    "}\n",
    "\n",
    "# Instantiate 5-fold GridSearchCV.\n",
    "gs_lr = GridSearchCV(lr_pipe, param_grid = lr_params, cv=5,\n",
    "                     scoring='roc_auc', n_jobs=-1, verbose=1)\n",
    "\n",
    "# Fit\n",
    "gs_lr.fit(Xs_train, y_train)\n",
    "\n",
    "\n",
    "# See results\n",
    "print(f'The best parameters are {gs_lr.best_estimator_}.')"
   ]
  },
  {
   "cell_type": "markdown",
   "id": "6a761b2c",
   "metadata": {},
   "source": [
    "Using these best hyperparameters, we will re-fit the model based on the over-sampleted data and obtain the scoring metrics"
   ]
  },
  {
   "cell_type": "code",
   "execution_count": 26,
   "id": "22d6f685",
   "metadata": {},
   "outputs": [
    {
     "data": {
      "text/plain": [
       "LogisticRegression(solver='newton-cg')"
      ]
     },
     "execution_count": 26,
     "metadata": {},
     "output_type": "execute_result"
    }
   ],
   "source": [
    "# Now we fit\n",
    "lr = LogisticRegression(solver='newton-cg')\n",
    "lr.fit(Xsm_train, ysm_train)"
   ]
  },
  {
   "cell_type": "code",
   "execution_count": 27,
   "id": "07fc6f96",
   "metadata": {},
   "outputs": [],
   "source": [
    "# Create list to store all the scores and corresponding model names\n",
    "model_name = []\n",
    "model_scores = []\n",
    "model_var = []\n",
    "model_test_scores = []\n",
    "\n",
    "\n",
    "model_name.append('Logistic Regression')\n",
    "model_scores.append(lr.score(Xsm_train, ysm_train))\n",
    "model_var.append(lr)\n",
    "model_test_scores.append(lr.score(Xs_test,y_test))"
   ]
  },
  {
   "cell_type": "markdown",
   "id": "c383ffdb",
   "metadata": {},
   "source": [
    "### Evaluating Logistic Regression Results"
   ]
  },
  {
   "cell_type": "code",
   "execution_count": 28,
   "id": "08c5f7dd",
   "metadata": {
    "scrolled": true
   },
   "outputs": [
    {
     "data": {
      "text/html": [
       "<div>\n",
       "<style scoped>\n",
       "    .dataframe tbody tr th:only-of-type {\n",
       "        vertical-align: middle;\n",
       "    }\n",
       "\n",
       "    .dataframe tbody tr th {\n",
       "        vertical-align: top;\n",
       "    }\n",
       "\n",
       "    .dataframe thead th {\n",
       "        text-align: right;\n",
       "    }\n",
       "</style>\n",
       "<table border=\"1\" class=\"dataframe\">\n",
       "  <thead>\n",
       "    <tr style=\"text-align: right;\">\n",
       "      <th></th>\n",
       "      <th>weights</th>\n",
       "    </tr>\n",
       "  </thead>\n",
       "  <tbody>\n",
       "    <tr>\n",
       "      <th>AvgSpeed_2</th>\n",
       "      <td>2.495271</td>\n",
       "    </tr>\n",
       "    <tr>\n",
       "      <th>NumMosquitos</th>\n",
       "      <td>2.050229</td>\n",
       "    </tr>\n",
       "    <tr>\n",
       "      <th>Tmin_2</th>\n",
       "      <td>1.714816</td>\n",
       "    </tr>\n",
       "    <tr>\n",
       "      <th>Tmax_2</th>\n",
       "      <td>1.671897</td>\n",
       "    </tr>\n",
       "    <tr>\n",
       "      <th>Week_x</th>\n",
       "      <td>1.661490</td>\n",
       "    </tr>\n",
       "    <tr>\n",
       "      <th>Week_y</th>\n",
       "      <td>1.661490</td>\n",
       "    </tr>\n",
       "    <tr>\n",
       "      <th>WetBulb_2</th>\n",
       "      <td>1.518317</td>\n",
       "    </tr>\n",
       "    <tr>\n",
       "      <th>PrecipTotal_2_shift14</th>\n",
       "      <td>1.317634</td>\n",
       "    </tr>\n",
       "    <tr>\n",
       "      <th>PrecipTotal_1</th>\n",
       "      <td>1.179041</td>\n",
       "    </tr>\n",
       "    <tr>\n",
       "      <th>Is Wnv Mosquitoes Types</th>\n",
       "      <td>1.141400</td>\n",
       "    </tr>\n",
       "    <tr>\n",
       "      <th>PrecipTotal_2</th>\n",
       "      <td>1.138254</td>\n",
       "    </tr>\n",
       "    <tr>\n",
       "      <th>ResultDir_2</th>\n",
       "      <td>1.080024</td>\n",
       "    </tr>\n",
       "    <tr>\n",
       "      <th>Tmin_1_Below_50F</th>\n",
       "      <td>1.025634</td>\n",
       "    </tr>\n",
       "    <tr>\n",
       "      <th>ResultSpeed_1</th>\n",
       "      <td>0.907002</td>\n",
       "    </tr>\n",
       "    <tr>\n",
       "      <th>Wet_Weather_2</th>\n",
       "      <td>0.875297</td>\n",
       "    </tr>\n",
       "    <tr>\n",
       "      <th>Month_x</th>\n",
       "      <td>0.853745</td>\n",
       "    </tr>\n",
       "    <tr>\n",
       "      <th>Wet_Weather_2_shift21</th>\n",
       "      <td>0.839879</td>\n",
       "    </tr>\n",
       "    <tr>\n",
       "      <th>Month_y</th>\n",
       "      <td>0.812456</td>\n",
       "    </tr>\n",
       "    <tr>\n",
       "      <th>Wet_Weather_1_shift28</th>\n",
       "      <td>0.773430</td>\n",
       "    </tr>\n",
       "    <tr>\n",
       "      <th>Wet_Weather_2_shift7</th>\n",
       "      <td>0.769240</td>\n",
       "    </tr>\n",
       "    <tr>\n",
       "      <th>Wet_Weather_2_shift14</th>\n",
       "      <td>0.754090</td>\n",
       "    </tr>\n",
       "    <tr>\n",
       "      <th>Year_y</th>\n",
       "      <td>0.646580</td>\n",
       "    </tr>\n",
       "    <tr>\n",
       "      <th>RH_1</th>\n",
       "      <td>0.624606</td>\n",
       "    </tr>\n",
       "    <tr>\n",
       "      <th>SnowFall_1</th>\n",
       "      <td>0.598654</td>\n",
       "    </tr>\n",
       "    <tr>\n",
       "      <th>DewPoint_1</th>\n",
       "      <td>0.506465</td>\n",
       "    </tr>\n",
       "    <tr>\n",
       "      <th>Tavg_2</th>\n",
       "      <td>0.348069</td>\n",
       "    </tr>\n",
       "    <tr>\n",
       "      <th>Tmax_1</th>\n",
       "      <td>0.334087</td>\n",
       "    </tr>\n",
       "    <tr>\n",
       "      <th>WetBulb_1</th>\n",
       "      <td>0.326292</td>\n",
       "    </tr>\n",
       "    <tr>\n",
       "      <th>Wet_Weather_1_shift21</th>\n",
       "      <td>0.208121</td>\n",
       "    </tr>\n",
       "    <tr>\n",
       "      <th>DewPoint_2</th>\n",
       "      <td>0.202250</td>\n",
       "    </tr>\n",
       "    <tr>\n",
       "      <th>ResultDir_1</th>\n",
       "      <td>0.160976</td>\n",
       "    </tr>\n",
       "    <tr>\n",
       "      <th>Tavg_1</th>\n",
       "      <td>0.151337</td>\n",
       "    </tr>\n",
       "    <tr>\n",
       "      <th>PrecipTotal_2_shift21</th>\n",
       "      <td>0.041997</td>\n",
       "    </tr>\n",
       "    <tr>\n",
       "      <th>StnPressure_1</th>\n",
       "      <td>0.041074</td>\n",
       "    </tr>\n",
       "    <tr>\n",
       "      <th>Tavg_2_Below_50F</th>\n",
       "      <td>0.000000</td>\n",
       "    </tr>\n",
       "    <tr>\n",
       "      <th>PrecipTotal_2_shift28</th>\n",
       "      <td>-0.009137</td>\n",
       "    </tr>\n",
       "    <tr>\n",
       "      <th>Tmin_2_Below_50F</th>\n",
       "      <td>-0.028208</td>\n",
       "    </tr>\n",
       "    <tr>\n",
       "      <th>Latitude</th>\n",
       "      <td>-0.064930</td>\n",
       "    </tr>\n",
       "    <tr>\n",
       "      <th>StnPressure_2</th>\n",
       "      <td>-0.189126</td>\n",
       "    </tr>\n",
       "    <tr>\n",
       "      <th>PrecipTotal_1_shift7</th>\n",
       "      <td>-0.196564</td>\n",
       "    </tr>\n",
       "    <tr>\n",
       "      <th>Species</th>\n",
       "      <td>-0.222772</td>\n",
       "    </tr>\n",
       "    <tr>\n",
       "      <th>PrecipTotal_1_shift14</th>\n",
       "      <td>-0.454153</td>\n",
       "    </tr>\n",
       "    <tr>\n",
       "      <th>PrecipTotal_2_shift7</th>\n",
       "      <td>-0.494663</td>\n",
       "    </tr>\n",
       "    <tr>\n",
       "      <th>Tavg_1_Below_50F</th>\n",
       "      <td>-0.540192</td>\n",
       "    </tr>\n",
       "    <tr>\n",
       "      <th>Wet_Weather_2_shift28</th>\n",
       "      <td>-0.540342</td>\n",
       "    </tr>\n",
       "    <tr>\n",
       "      <th>Longitude</th>\n",
       "      <td>-0.546322</td>\n",
       "    </tr>\n",
       "    <tr>\n",
       "      <th>RH_2</th>\n",
       "      <td>-0.663507</td>\n",
       "    </tr>\n",
       "    <tr>\n",
       "      <th>Wet_Weather_1_shift14</th>\n",
       "      <td>-0.835512</td>\n",
       "    </tr>\n",
       "    <tr>\n",
       "      <th>PrecipTotal_1_shift21</th>\n",
       "      <td>-0.846483</td>\n",
       "    </tr>\n",
       "    <tr>\n",
       "      <th>Daylight_Duration</th>\n",
       "      <td>-1.039159</td>\n",
       "    </tr>\n",
       "    <tr>\n",
       "      <th>PrecipTotal_1_shift28</th>\n",
       "      <td>-1.056633</td>\n",
       "    </tr>\n",
       "    <tr>\n",
       "      <th>Tmin_1</th>\n",
       "      <td>-1.320416</td>\n",
       "    </tr>\n",
       "    <tr>\n",
       "      <th>Wet_Weather_1_shift7</th>\n",
       "      <td>-1.324726</td>\n",
       "    </tr>\n",
       "    <tr>\n",
       "      <th>ResultSpeed_2</th>\n",
       "      <td>-2.012590</td>\n",
       "    </tr>\n",
       "    <tr>\n",
       "      <th>Wet_Weather_1</th>\n",
       "      <td>-2.383171</td>\n",
       "    </tr>\n",
       "    <tr>\n",
       "      <th>AvgSpeed_1</th>\n",
       "      <td>-3.292691</td>\n",
       "    </tr>\n",
       "    <tr>\n",
       "      <th>Depart_1</th>\n",
       "      <td>-4.539646</td>\n",
       "    </tr>\n",
       "  </tbody>\n",
       "</table>\n",
       "</div>"
      ],
      "text/plain": [
       "                          weights\n",
       "AvgSpeed_2               2.495271\n",
       "NumMosquitos             2.050229\n",
       "Tmin_2                   1.714816\n",
       "Tmax_2                   1.671897\n",
       "Week_x                   1.661490\n",
       "Week_y                   1.661490\n",
       "WetBulb_2                1.518317\n",
       "PrecipTotal_2_shift14    1.317634\n",
       "PrecipTotal_1            1.179041\n",
       "Is Wnv Mosquitoes Types  1.141400\n",
       "PrecipTotal_2            1.138254\n",
       "ResultDir_2              1.080024\n",
       "Tmin_1_Below_50F         1.025634\n",
       "ResultSpeed_1            0.907002\n",
       "Wet_Weather_2            0.875297\n",
       "Month_x                  0.853745\n",
       "Wet_Weather_2_shift21    0.839879\n",
       "Month_y                  0.812456\n",
       "Wet_Weather_1_shift28    0.773430\n",
       "Wet_Weather_2_shift7     0.769240\n",
       "Wet_Weather_2_shift14    0.754090\n",
       "Year_y                   0.646580\n",
       "RH_1                     0.624606\n",
       "SnowFall_1               0.598654\n",
       "DewPoint_1               0.506465\n",
       "Tavg_2                   0.348069\n",
       "Tmax_1                   0.334087\n",
       "WetBulb_1                0.326292\n",
       "Wet_Weather_1_shift21    0.208121\n",
       "DewPoint_2               0.202250\n",
       "ResultDir_1              0.160976\n",
       "Tavg_1                   0.151337\n",
       "PrecipTotal_2_shift21    0.041997\n",
       "StnPressure_1            0.041074\n",
       "Tavg_2_Below_50F         0.000000\n",
       "PrecipTotal_2_shift28   -0.009137\n",
       "Tmin_2_Below_50F        -0.028208\n",
       "Latitude                -0.064930\n",
       "StnPressure_2           -0.189126\n",
       "PrecipTotal_1_shift7    -0.196564\n",
       "Species                 -0.222772\n",
       "PrecipTotal_1_shift14   -0.454153\n",
       "PrecipTotal_2_shift7    -0.494663\n",
       "Tavg_1_Below_50F        -0.540192\n",
       "Wet_Weather_2_shift28   -0.540342\n",
       "Longitude               -0.546322\n",
       "RH_2                    -0.663507\n",
       "Wet_Weather_1_shift14   -0.835512\n",
       "PrecipTotal_1_shift21   -0.846483\n",
       "Daylight_Duration       -1.039159\n",
       "PrecipTotal_1_shift28   -1.056633\n",
       "Tmin_1                  -1.320416\n",
       "Wet_Weather_1_shift7    -1.324726\n",
       "ResultSpeed_2           -2.012590\n",
       "Wet_Weather_1           -2.383171\n",
       "AvgSpeed_1              -3.292691\n",
       "Depart_1                -4.539646"
      ]
     },
     "execution_count": 28,
     "metadata": {},
     "output_type": "execute_result"
    }
   ],
   "source": [
    "importance = lr.coef_\n",
    "features = X_train.columns\n",
    "importance = importance.reshape(lr.coef_.shape[1],1)\n",
    "imp_lr = pd.DataFrame(importance,\n",
    "                       index=features,\n",
    "                       columns=['weights']).sort_values(by='weights', ascending=False)\n",
    "imp_lr"
   ]
  },
  {
   "cell_type": "code",
   "execution_count": 29,
   "id": "9242988d",
   "metadata": {
    "scrolled": true
   },
   "outputs": [
    {
     "data": {
      "image/png": "[encoded data removed]",
      "text/plain": [
       "<Figure size 864x504 with 1 Axes>"
      ]
     },
     "metadata": {
      "needs_background": "light"
     },
     "output_type": "display_data"
    }
   ],
   "source": [
    "# Plotting top 20 +ve features in bar chart\n",
    "imp_lr['weights'].head(20).plot(kind='barh', figsize=(12,7))\n",
    "plt.title('Top 20 Feature Coefficients (+ve) for Logistic Regression', fontsize=15)\n",
    "plt.gca().invert_yaxis()\n",
    "plt.legend(loc=4);"
   ]
  },
  {
   "cell_type": "code",
   "execution_count": 30,
   "id": "8dba1b36",
   "metadata": {
    "scrolled": true
   },
   "outputs": [
    {
     "data": {
      "image/png": "[encoded data removed]",
      "text/plain": [
       "<Figure size 864x504 with 1 Axes>"
      ]
     },
     "metadata": {
      "needs_background": "light"
     },
     "output_type": "display_data"
    }
   ],
   "source": [
    "# Plotting top 20 -ve features in bar chart\n",
    "imp_lr['weights'].tail(20).plot(kind='barh', figsize=(12,7))\n",
    "plt.title('Top 20 Feature Coefficients (-ve) for Logistic Regression', fontsize=15)\n",
    "plt.legend(loc=3);"
   ]
  },
  {
   "cell_type": "markdown",
   "id": "65fe81a5",
   "metadata": {},
   "source": [
    "## Fitting Naive Bayes"
   ]
  },
  {
   "cell_type": "code",
   "execution_count": 31,
   "id": "04b2b17d",
   "metadata": {},
   "outputs": [
    {
     "name": "stdout",
     "output_type": "stream",
     "text": [
      "Fitting Naive Bayes\n",
      "Fitting 5 folds for each of 3 candidates, totalling 15 fits\n",
      "The best parameters are Pipeline(steps=[('sampling', SMOTE(random_state=42)),\n",
      "                ('nb', BernoulliNB(alpha=0.9))]).\n",
      "CPU times: user 80 ms, sys: 18.4 ms, total: 98.4 ms\n",
      "Wall time: 316 ms\n"
     ]
    }
   ],
   "source": [
    "%%time\n",
    "# This framework will be the one we use for our modelling\n",
    "\n",
    "print(f'Fitting Naive Bayes')      # Prints out what model and vectorizer we are looking at\n",
    "\n",
    "# Set up pipeline\n",
    "nb_pipe = Pipeline([\n",
    "        ('sampling', SMOTE(random_state=42)),\n",
    "        ('nb', BernoulliNB())\n",
    "    ])\n",
    "\n",
    "# Hyperparameters\n",
    "nb_params = {\n",
    "    'nb__alpha': [0.9, 1, 1.1]\n",
    "}\n",
    "\n",
    "# Instantiate 5-fold GridSearchCV.\n",
    "gs_nb = GridSearchCV(nb_pipe, param_grid = nb_params, cv=5,\n",
    "                     scoring='roc_auc',n_jobs=-1,\n",
    "                     verbose=1)\n",
    "\n",
    "# Fit\n",
    "gs_nb.fit(Xs_train, y_train)\n",
    "\n",
    "# See results\n",
    "print(f'The best parameters are {gs_nb.best_estimator_}.')"
   ]
  },
  {
   "cell_type": "markdown",
   "id": "1a6ff13a",
   "metadata": {},
   "source": [
    "Using these best hyperparameters, we will re-fit the model based on the over-sampleted data and obtain the scoring metrics"
   ]
  },
  {
   "cell_type": "code",
   "execution_count": 32,
   "id": "895cf49c",
   "metadata": {},
   "outputs": [
    {
     "data": {
      "text/plain": [
       "BernoulliNB(alpha=0.9)"
      ]
     },
     "execution_count": 32,
     "metadata": {},
     "output_type": "execute_result"
    }
   ],
   "source": [
    "nb = BernoulliNB(alpha=0.9)\n",
    "nb.fit(Xsm_train, ysm_train)"
   ]
  },
  {
   "cell_type": "code",
   "execution_count": 33,
   "id": "fd18de0f",
   "metadata": {},
   "outputs": [
    {
     "data": {
      "text/plain": [
       "0.7206927175843695"
      ]
     },
     "execution_count": 33,
     "metadata": {},
     "output_type": "execute_result"
    }
   ],
   "source": [
    "nb.score(Xsm_train,ysm_train)"
   ]
  },
  {
   "cell_type": "code",
   "execution_count": 34,
   "id": "b6d136fb",
   "metadata": {},
   "outputs": [],
   "source": [
    "# Append to the lists\n",
    "model_name.append('Naive Bayes')\n",
    "model_scores.append(nb.score(Xsm_train, ysm_train))\n",
    "model_var.append(nb)\n",
    "model_test_scores.append(nb.score(Xs_test,y_test)) "
   ]
  },
  {
   "cell_type": "markdown",
   "id": "37788d1d",
   "metadata": {},
   "source": [
    "### Evaluating Naive Bayes Results"
   ]
  },
  {
   "cell_type": "code",
   "execution_count": 35,
   "id": "e235dd6e",
   "metadata": {},
   "outputs": [
    {
     "data": {
      "text/plain": [
       "array([[3139., 5384., 2908., 2840.,  863., 3365., 2852., 3169., 2921.,\n",
       "        2864., 3020., 3259., 3209.,  207., 1945., 2943., 3144., 2881.,\n",
       "        2475., 3067., 3288., 3147., 3182., 3107., 2162., 2943., 3399.,\n",
       "        3047., 2716., 2511., 3158., 2852.,   55., 1097.,    0.,  756.,\n",
       "        3270., 2729., 2422., 2619., 2931., 2642., 2715., 1732., 2121.,\n",
       "        2573., 2461., 1743., 2236., 2712., 2888., 1751., 2322., 2793.,\n",
       "        2962., 1650., 2316.],\n",
       "       [2373., 5630., 3126., 2229., 3838., 5124., 4673., 4038., 4124.,\n",
       "        4029., 3661., 4257., 4348.,    9., 2419., 3624., 2394., 3284.,\n",
       "        1904., 3696., 4130., 4095., 3936., 4032., 2437., 3611., 2753.,\n",
       "        3574., 2194., 3176., 4943., 4673.,    0.,  653.,    0.,  410.,\n",
       "        1613., 3212., 2651., 2417., 2364., 2350., 2358., 2374., 2653.,\n",
       "        2484., 2617., 2605., 2619., 2011., 2574., 2409., 2492., 2129.,\n",
       "        2722., 1818., 2007.]])"
      ]
     },
     "execution_count": 35,
     "metadata": {},
     "output_type": "execute_result"
    }
   ],
   "source": [
    "nb.feature_count_"
   ]
  },
  {
   "cell_type": "code",
   "execution_count": 36,
   "id": "fa07e5d7",
   "metadata": {},
   "outputs": [
    {
     "data": {
      "text/plain": [
       "array([3139., 5384., 2908., 2840.,  863., 3365., 2852., 3169., 2921.,\n",
       "       2864., 3020., 3259., 3209.,  207., 1945., 2943., 3144., 2881.,\n",
       "       2475., 3067., 3288., 3147., 3182., 3107., 2162., 2943., 3399.,\n",
       "       3047., 2716., 2511., 3158., 2852.,   55., 1097.,    0.,  756.,\n",
       "       3270., 2729., 2422., 2619., 2931., 2642., 2715., 1732., 2121.,\n",
       "       2573., 2461., 1743., 2236., 2712., 2888., 1751., 2322., 2793.,\n",
       "       2962., 1650., 2316.])"
      ]
     },
     "execution_count": 36,
     "metadata": {},
     "output_type": "execute_result"
    }
   ],
   "source": [
    "# number of times each feature appear in Wnv NOT present\n",
    "class0_count = nb.feature_count_[0, :]\n",
    "class0_count"
   ]
  },
  {
   "cell_type": "code",
   "execution_count": 37,
   "id": "eb4de5ab",
   "metadata": {},
   "outputs": [
    {
     "data": {
      "text/plain": [
       "array([2373., 5630., 3126., 2229., 3838., 5124., 4673., 4038., 4124.,\n",
       "       4029., 3661., 4257., 4348.,    9., 2419., 3624., 2394., 3284.,\n",
       "       1904., 3696., 4130., 4095., 3936., 4032., 2437., 3611., 2753.,\n",
       "       3574., 2194., 3176., 4943., 4673.,    0.,  653.,    0.,  410.,\n",
       "       1613., 3212., 2651., 2417., 2364., 2350., 2358., 2374., 2653.,\n",
       "       2484., 2617., 2605., 2619., 2011., 2574., 2409., 2492., 2129.,\n",
       "       2722., 1818., 2007.])"
      ]
     },
     "execution_count": 37,
     "metadata": {},
     "output_type": "execute_result"
    }
   ],
   "source": [
    "# number of times each feature appear in Wnv present\n",
    "class1_count = nb.feature_count_[1, :]\n",
    "class1_count"
   ]
  },
  {
   "cell_type": "code",
   "execution_count": 38,
   "id": "e6ae8b02",
   "metadata": {},
   "outputs": [
    {
     "data": {
      "text/html": [
       "<div>\n",
       "<style scoped>\n",
       "    .dataframe tbody tr th:only-of-type {\n",
       "        vertical-align: middle;\n",
       "    }\n",
       "\n",
       "    .dataframe tbody tr th {\n",
       "        vertical-align: top;\n",
       "    }\n",
       "\n",
       "    .dataframe thead th {\n",
       "        text-align: right;\n",
       "    }\n",
       "</style>\n",
       "<table border=\"1\" class=\"dataframe\">\n",
       "  <thead>\n",
       "    <tr style=\"text-align: right;\">\n",
       "      <th></th>\n",
       "      <th>Wnv NOT present</th>\n",
       "      <th>Wnv present</th>\n",
       "    </tr>\n",
       "    <tr>\n",
       "      <th>feature</th>\n",
       "      <th></th>\n",
       "      <th></th>\n",
       "    </tr>\n",
       "  </thead>\n",
       "  <tbody>\n",
       "    <tr>\n",
       "      <th>Species</th>\n",
       "      <td>3139.0</td>\n",
       "      <td>2373.0</td>\n",
       "    </tr>\n",
       "    <tr>\n",
       "      <th>Is Wnv Mosquitoes Types</th>\n",
       "      <td>5384.0</td>\n",
       "      <td>5630.0</td>\n",
       "    </tr>\n",
       "    <tr>\n",
       "      <th>Latitude</th>\n",
       "      <td>2908.0</td>\n",
       "      <td>3126.0</td>\n",
       "    </tr>\n",
       "    <tr>\n",
       "      <th>Longitude</th>\n",
       "      <td>2840.0</td>\n",
       "      <td>2229.0</td>\n",
       "    </tr>\n",
       "    <tr>\n",
       "      <th>NumMosquitos</th>\n",
       "      <td>863.0</td>\n",
       "      <td>3838.0</td>\n",
       "    </tr>\n",
       "  </tbody>\n",
       "</table>\n",
       "</div>"
      ],
      "text/plain": [
       "                         Wnv NOT present  Wnv present\n",
       "feature                                              \n",
       "Species                           3139.0       2373.0\n",
       "Is Wnv Mosquitoes Types           5384.0       5630.0\n",
       "Latitude                          2908.0       3126.0\n",
       "Longitude                         2840.0       2229.0\n",
       "NumMosquitos                       863.0       3838.0"
      ]
     },
     "execution_count": 38,
     "metadata": {},
     "output_type": "execute_result"
    }
   ],
   "source": [
    "# create a DataFrame of features with their separate class counts\n",
    "features = pd.DataFrame({'feature':X_train.columns, 'Wnv NOT present':class0_count, 'Wnv present':class1_count}).set_index('feature')\n",
    "features.head()\n"
   ]
  },
  {
   "cell_type": "code",
   "execution_count": 39,
   "id": "2a7cd9a9",
   "metadata": {},
   "outputs": [
    {
     "data": {
      "text/plain": [
       "array([5630., 5630.])"
      ]
     },
     "execution_count": 39,
     "metadata": {},
     "output_type": "execute_result"
    }
   ],
   "source": [
    "# Naive Bayes counts the number of observations in each class\n",
    "nb.class_count_"
   ]
  },
  {
   "cell_type": "code",
   "execution_count": 40,
   "id": "fd7a8c6b",
   "metadata": {},
   "outputs": [
    {
     "data": {
      "text/html": [
       "<div>\n",
       "<style scoped>\n",
       "    .dataframe tbody tr th:only-of-type {\n",
       "        vertical-align: middle;\n",
       "    }\n",
       "\n",
       "    .dataframe tbody tr th {\n",
       "        vertical-align: top;\n",
       "    }\n",
       "\n",
       "    .dataframe thead th {\n",
       "        text-align: right;\n",
       "    }\n",
       "</style>\n",
       "<table border=\"1\" class=\"dataframe\">\n",
       "  <thead>\n",
       "    <tr style=\"text-align: right;\">\n",
       "      <th></th>\n",
       "      <th>Wnv NOT present</th>\n",
       "      <th>Wnv present</th>\n",
       "      <th>ratio</th>\n",
       "    </tr>\n",
       "    <tr>\n",
       "      <th>feature</th>\n",
       "      <th></th>\n",
       "      <th></th>\n",
       "      <th></th>\n",
       "    </tr>\n",
       "  </thead>\n",
       "  <tbody>\n",
       "    <tr>\n",
       "      <th>PrecipTotal_2_shift21</th>\n",
       "      <td>0.412611</td>\n",
       "      <td>0.442806</td>\n",
       "      <td>0.931809</td>\n",
       "    </tr>\n",
       "    <tr>\n",
       "      <th>Wet_Weather_1_shift28</th>\n",
       "      <td>0.496270</td>\n",
       "      <td>0.378330</td>\n",
       "      <td>1.311737</td>\n",
       "    </tr>\n",
       "    <tr>\n",
       "      <th>Wet_Weather_2_shift28</th>\n",
       "      <td>0.526288</td>\n",
       "      <td>0.483659</td>\n",
       "      <td>1.088138</td>\n",
       "    </tr>\n",
       "    <tr>\n",
       "      <th>PrecipTotal_1_shift28</th>\n",
       "      <td>0.293250</td>\n",
       "      <td>0.323091</td>\n",
       "      <td>0.907642</td>\n",
       "    </tr>\n",
       "    <tr>\n",
       "      <th>PrecipTotal_2_shift28</th>\n",
       "      <td>0.411545</td>\n",
       "      <td>0.356661</td>\n",
       "      <td>1.153884</td>\n",
       "    </tr>\n",
       "  </tbody>\n",
       "</table>\n",
       "</div>"
      ],
      "text/plain": [
       "                       Wnv NOT present  Wnv present     ratio\n",
       "feature                                                      \n",
       "PrecipTotal_2_shift21         0.412611     0.442806  0.931809\n",
       "Wet_Weather_1_shift28         0.496270     0.378330  1.311737\n",
       "Wet_Weather_2_shift28         0.526288     0.483659  1.088138\n",
       "PrecipTotal_1_shift28         0.293250     0.323091  0.907642\n",
       "PrecipTotal_2_shift28         0.411545     0.356661  1.153884"
      ]
     },
     "execution_count": 40,
     "metadata": {},
     "output_type": "execute_result"
    }
   ],
   "source": [
    "# Convert the token counts into frequencies\n",
    "# we add a value of 1 first to prevent divide by zero error\n",
    "features['Wnv NOT present'] = (features['Wnv NOT present'] + 1) / nb.class_count_[0]\n",
    "features['Wnv present'] = (features['Wnv present'] + 1) / nb.class_count_[1]\n",
    "\n",
    "# Calculate the ratio of class-to-class\n",
    "features['ratio'] = features['Wnv NOT present'] / features['Wnv present']\n",
    "\n",
    "features.tail()"
   ]
  },
  {
   "cell_type": "code",
   "execution_count": 41,
   "id": "31b9df23",
   "metadata": {
    "scrolled": true
   },
   "outputs": [
    {
     "data": {
      "text/html": [
       "<div>\n",
       "<style scoped>\n",
       "    .dataframe tbody tr th:only-of-type {\n",
       "        vertical-align: middle;\n",
       "    }\n",
       "\n",
       "    .dataframe tbody tr th {\n",
       "        vertical-align: top;\n",
       "    }\n",
       "\n",
       "    .dataframe thead th {\n",
       "        text-align: right;\n",
       "    }\n",
       "</style>\n",
       "<table border=\"1\" class=\"dataframe\">\n",
       "  <thead>\n",
       "    <tr style=\"text-align: right;\">\n",
       "      <th></th>\n",
       "      <th>Wnv NOT present</th>\n",
       "      <th>Wnv present</th>\n",
       "      <th>ratio</th>\n",
       "    </tr>\n",
       "    <tr>\n",
       "      <th>feature</th>\n",
       "      <th></th>\n",
       "      <th></th>\n",
       "      <th></th>\n",
       "    </tr>\n",
       "  </thead>\n",
       "  <tbody>\n",
       "    <tr>\n",
       "      <th>DewPoint_2</th>\n",
       "      <td>0.565364</td>\n",
       "      <td>0.699290</td>\n",
       "      <td>0.808484</td>\n",
       "    </tr>\n",
       "    <tr>\n",
       "      <th>PrecipTotal_1</th>\n",
       "      <td>0.345648</td>\n",
       "      <td>0.429840</td>\n",
       "      <td>0.804132</td>\n",
       "    </tr>\n",
       "    <tr>\n",
       "      <th>PrecipTotal_2_shift7</th>\n",
       "      <td>0.376909</td>\n",
       "      <td>0.471403</td>\n",
       "      <td>0.799548</td>\n",
       "    </tr>\n",
       "    <tr>\n",
       "      <th>Tmin_2</th>\n",
       "      <td>0.584192</td>\n",
       "      <td>0.733748</td>\n",
       "      <td>0.796175</td>\n",
       "    </tr>\n",
       "    <tr>\n",
       "      <th>Year_y</th>\n",
       "      <td>0.446181</td>\n",
       "      <td>0.564298</td>\n",
       "      <td>0.790683</td>\n",
       "    </tr>\n",
       "    <tr>\n",
       "      <th>Tmax_1</th>\n",
       "      <td>0.563055</td>\n",
       "      <td>0.717407</td>\n",
       "      <td>0.784848</td>\n",
       "    </tr>\n",
       "    <tr>\n",
       "      <th>WetBulb_2</th>\n",
       "      <td>0.552043</td>\n",
       "      <td>0.716341</td>\n",
       "      <td>0.770642</td>\n",
       "    </tr>\n",
       "    <tr>\n",
       "      <th>Tavg_2</th>\n",
       "      <td>0.559147</td>\n",
       "      <td>0.727531</td>\n",
       "      <td>0.768555</td>\n",
       "    </tr>\n",
       "    <tr>\n",
       "      <th>DewPoint_1</th>\n",
       "      <td>0.579041</td>\n",
       "      <td>0.756306</td>\n",
       "      <td>0.765618</td>\n",
       "    </tr>\n",
       "    <tr>\n",
       "      <th>WetBulb_1</th>\n",
       "      <td>0.570160</td>\n",
       "      <td>0.772469</td>\n",
       "      <td>0.738101</td>\n",
       "    </tr>\n",
       "    <tr>\n",
       "      <th>PrecipTotal_1_shift7</th>\n",
       "      <td>0.307815</td>\n",
       "      <td>0.421847</td>\n",
       "      <td>0.729684</td>\n",
       "    </tr>\n",
       "    <tr>\n",
       "      <th>PrecipTotal_1_shift21</th>\n",
       "      <td>0.311190</td>\n",
       "      <td>0.428064</td>\n",
       "      <td>0.726971</td>\n",
       "    </tr>\n",
       "    <tr>\n",
       "      <th>Tavg_1</th>\n",
       "      <td>0.508881</td>\n",
       "      <td>0.715808</td>\n",
       "      <td>0.710918</td>\n",
       "    </tr>\n",
       "    <tr>\n",
       "      <th>Tmin_1</th>\n",
       "      <td>0.519005</td>\n",
       "      <td>0.732682</td>\n",
       "      <td>0.708364</td>\n",
       "    </tr>\n",
       "    <tr>\n",
       "      <th>PrecipTotal_1_shift14</th>\n",
       "      <td>0.309769</td>\n",
       "      <td>0.462877</td>\n",
       "      <td>0.669225</td>\n",
       "    </tr>\n",
       "    <tr>\n",
       "      <th>Month_x</th>\n",
       "      <td>0.597869</td>\n",
       "      <td>0.910302</td>\n",
       "      <td>0.656780</td>\n",
       "    </tr>\n",
       "    <tr>\n",
       "      <th>Month_y</th>\n",
       "      <td>0.561101</td>\n",
       "      <td>0.878153</td>\n",
       "      <td>0.638956</td>\n",
       "    </tr>\n",
       "    <tr>\n",
       "      <th>Week_x</th>\n",
       "      <td>0.506750</td>\n",
       "      <td>0.830195</td>\n",
       "      <td>0.610398</td>\n",
       "    </tr>\n",
       "    <tr>\n",
       "      <th>Week_y</th>\n",
       "      <td>0.506750</td>\n",
       "      <td>0.830195</td>\n",
       "      <td>0.610398</td>\n",
       "    </tr>\n",
       "    <tr>\n",
       "      <th>NumMosquitos</th>\n",
       "      <td>0.153464</td>\n",
       "      <td>0.681883</td>\n",
       "      <td>0.225059</td>\n",
       "    </tr>\n",
       "  </tbody>\n",
       "</table>\n",
       "</div>"
      ],
      "text/plain": [
       "                       Wnv NOT present  Wnv present     ratio\n",
       "feature                                                      \n",
       "DewPoint_2                    0.565364     0.699290  0.808484\n",
       "PrecipTotal_1                 0.345648     0.429840  0.804132\n",
       "PrecipTotal_2_shift7          0.376909     0.471403  0.799548\n",
       "Tmin_2                        0.584192     0.733748  0.796175\n",
       "Year_y                        0.446181     0.564298  0.790683\n",
       "Tmax_1                        0.563055     0.717407  0.784848\n",
       "WetBulb_2                     0.552043     0.716341  0.770642\n",
       "Tavg_2                        0.559147     0.727531  0.768555\n",
       "DewPoint_1                    0.579041     0.756306  0.765618\n",
       "WetBulb_1                     0.570160     0.772469  0.738101\n",
       "PrecipTotal_1_shift7          0.307815     0.421847  0.729684\n",
       "PrecipTotal_1_shift21         0.311190     0.428064  0.726971\n",
       "Tavg_1                        0.508881     0.715808  0.710918\n",
       "Tmin_1                        0.519005     0.732682  0.708364\n",
       "PrecipTotal_1_shift14         0.309769     0.462877  0.669225\n",
       "Month_x                       0.597869     0.910302  0.656780\n",
       "Month_y                       0.561101     0.878153  0.638956\n",
       "Week_x                        0.506750     0.830195  0.610398\n",
       "Week_y                        0.506750     0.830195  0.610398\n",
       "NumMosquitos                  0.153464     0.681883  0.225059"
      ]
     },
     "execution_count": 41,
     "metadata": {},
     "output_type": "execute_result"
    }
   ],
   "source": [
    "# examine the DataFrame sorted by ratio\n",
    "sorted_features = features.sort_values('ratio', ascending=False)\n",
    "\n",
    "# View the bottom 20 features by ratio\n",
    "sorted_features.tail(20)"
   ]
  },
  {
   "cell_type": "code",
   "execution_count": 42,
   "id": "065c82b8",
   "metadata": {
    "scrolled": true
   },
   "outputs": [
    {
     "data": {
      "text/html": [
       "<div>\n",
       "<style scoped>\n",
       "    .dataframe tbody tr th:only-of-type {\n",
       "        vertical-align: middle;\n",
       "    }\n",
       "\n",
       "    .dataframe tbody tr th {\n",
       "        vertical-align: top;\n",
       "    }\n",
       "\n",
       "    .dataframe thead th {\n",
       "        text-align: right;\n",
       "    }\n",
       "</style>\n",
       "<table border=\"1\" class=\"dataframe\">\n",
       "  <thead>\n",
       "    <tr style=\"text-align: right;\">\n",
       "      <th></th>\n",
       "      <th>Wnv NOT present</th>\n",
       "      <th>Wnv present</th>\n",
       "      <th>ratio</th>\n",
       "    </tr>\n",
       "    <tr>\n",
       "      <th>feature</th>\n",
       "      <th></th>\n",
       "      <th></th>\n",
       "      <th></th>\n",
       "    </tr>\n",
       "  </thead>\n",
       "  <tbody>\n",
       "    <tr>\n",
       "      <th>Tavg_1_Below_50F</th>\n",
       "      <td>0.009947</td>\n",
       "      <td>0.000178</td>\n",
       "      <td>56.000000</td>\n",
       "    </tr>\n",
       "    <tr>\n",
       "      <th>SnowFall_1</th>\n",
       "      <td>0.036945</td>\n",
       "      <td>0.001776</td>\n",
       "      <td>20.800000</td>\n",
       "    </tr>\n",
       "    <tr>\n",
       "      <th>Daylight_Duration</th>\n",
       "      <td>0.580995</td>\n",
       "      <td>0.286679</td>\n",
       "      <td>2.026642</td>\n",
       "    </tr>\n",
       "    <tr>\n",
       "      <th>Tmin_2_Below_50F</th>\n",
       "      <td>0.134458</td>\n",
       "      <td>0.073002</td>\n",
       "      <td>1.841849</td>\n",
       "    </tr>\n",
       "    <tr>\n",
       "      <th>Tmin_1_Below_50F</th>\n",
       "      <td>0.195027</td>\n",
       "      <td>0.116163</td>\n",
       "      <td>1.678899</td>\n",
       "    </tr>\n",
       "    <tr>\n",
       "      <th>Wet_Weather_1_shift21</th>\n",
       "      <td>0.481883</td>\n",
       "      <td>0.357371</td>\n",
       "      <td>1.348410</td>\n",
       "    </tr>\n",
       "    <tr>\n",
       "      <th>Species</th>\n",
       "      <td>0.557726</td>\n",
       "      <td>0.421670</td>\n",
       "      <td>1.322662</td>\n",
       "    </tr>\n",
       "    <tr>\n",
       "      <th>ResultSpeed_1</th>\n",
       "      <td>0.558615</td>\n",
       "      <td>0.425400</td>\n",
       "      <td>1.313152</td>\n",
       "    </tr>\n",
       "    <tr>\n",
       "      <th>Wet_Weather_1_shift28</th>\n",
       "      <td>0.496270</td>\n",
       "      <td>0.378330</td>\n",
       "      <td>1.311737</td>\n",
       "    </tr>\n",
       "    <tr>\n",
       "      <th>AvgSpeed_1</th>\n",
       "      <td>0.439787</td>\n",
       "      <td>0.338366</td>\n",
       "      <td>1.299738</td>\n",
       "    </tr>\n",
       "    <tr>\n",
       "      <th>Longitude</th>\n",
       "      <td>0.504618</td>\n",
       "      <td>0.396092</td>\n",
       "      <td>1.273991</td>\n",
       "    </tr>\n",
       "    <tr>\n",
       "      <th>Wet_Weather_2</th>\n",
       "      <td>0.520782</td>\n",
       "      <td>0.420071</td>\n",
       "      <td>1.239746</td>\n",
       "    </tr>\n",
       "    <tr>\n",
       "      <th>AvgSpeed_2</th>\n",
       "      <td>0.482593</td>\n",
       "      <td>0.389876</td>\n",
       "      <td>1.237813</td>\n",
       "    </tr>\n",
       "    <tr>\n",
       "      <th>ResultSpeed_2</th>\n",
       "      <td>0.603908</td>\n",
       "      <td>0.489165</td>\n",
       "      <td>1.234568</td>\n",
       "    </tr>\n",
       "    <tr>\n",
       "      <th>PrecipTotal_2_shift28</th>\n",
       "      <td>0.411545</td>\n",
       "      <td>0.356661</td>\n",
       "      <td>1.153884</td>\n",
       "    </tr>\n",
       "    <tr>\n",
       "      <th>Wet_Weather_2_shift7</th>\n",
       "      <td>0.482416</td>\n",
       "      <td>0.419005</td>\n",
       "      <td>1.151335</td>\n",
       "    </tr>\n",
       "    <tr>\n",
       "      <th>Wet_Weather_1_shift7</th>\n",
       "      <td>0.469449</td>\n",
       "      <td>0.417584</td>\n",
       "      <td>1.124202</td>\n",
       "    </tr>\n",
       "    <tr>\n",
       "      <th>Wet_Weather_2_shift21</th>\n",
       "      <td>0.513144</td>\n",
       "      <td>0.457371</td>\n",
       "      <td>1.121942</td>\n",
       "    </tr>\n",
       "    <tr>\n",
       "      <th>Wet_Weather_2_shift28</th>\n",
       "      <td>0.526288</td>\n",
       "      <td>0.483659</td>\n",
       "      <td>1.088138</td>\n",
       "    </tr>\n",
       "    <tr>\n",
       "      <th>Wet_Weather_1</th>\n",
       "      <td>0.465364</td>\n",
       "      <td>0.429485</td>\n",
       "      <td>1.083540</td>\n",
       "    </tr>\n",
       "  </tbody>\n",
       "</table>\n",
       "</div>"
      ],
      "text/plain": [
       "                       Wnv NOT present  Wnv present      ratio\n",
       "feature                                                       \n",
       "Tavg_1_Below_50F              0.009947     0.000178  56.000000\n",
       "SnowFall_1                    0.036945     0.001776  20.800000\n",
       "Daylight_Duration             0.580995     0.286679   2.026642\n",
       "Tmin_2_Below_50F              0.134458     0.073002   1.841849\n",
       "Tmin_1_Below_50F              0.195027     0.116163   1.678899\n",
       "Wet_Weather_1_shift21         0.481883     0.357371   1.348410\n",
       "Species                       0.557726     0.421670   1.322662\n",
       "ResultSpeed_1                 0.558615     0.425400   1.313152\n",
       "Wet_Weather_1_shift28         0.496270     0.378330   1.311737\n",
       "AvgSpeed_1                    0.439787     0.338366   1.299738\n",
       "Longitude                     0.504618     0.396092   1.273991\n",
       "Wet_Weather_2                 0.520782     0.420071   1.239746\n",
       "AvgSpeed_2                    0.482593     0.389876   1.237813\n",
       "ResultSpeed_2                 0.603908     0.489165   1.234568\n",
       "PrecipTotal_2_shift28         0.411545     0.356661   1.153884\n",
       "Wet_Weather_2_shift7          0.482416     0.419005   1.151335\n",
       "Wet_Weather_1_shift7          0.469449     0.417584   1.124202\n",
       "Wet_Weather_2_shift21         0.513144     0.457371   1.121942\n",
       "Wet_Weather_2_shift28         0.526288     0.483659   1.088138\n",
       "Wet_Weather_1                 0.465364     0.429485   1.083540"
      ]
     },
     "execution_count": 42,
     "metadata": {},
     "output_type": "execute_result"
    }
   ],
   "source": [
    "# View the top 20 features by ratio\n",
    "sorted_features.head(20)"
   ]
  },
  {
   "cell_type": "markdown",
   "id": "bb674e18",
   "metadata": {},
   "source": [
    "## Fitting Random Forest Classifier"
   ]
  },
  {
   "cell_type": "code",
   "execution_count": 44,
   "id": "d29dde2e",
   "metadata": {},
   "outputs": [
    {
     "name": "stdout",
     "output_type": "stream",
     "text": [
      "Fitting Random Forest Classifier\n",
      "The best parameters are Pipeline(steps=[('sampling', SMOTE(random_state=42)),\n",
      "                ('rf',\n",
      "                 RandomForestClassifier(max_depth=5, min_samples_leaf=2,\n",
      "                                        n_estimators=80, random_state=42))]).\n",
      "CPU times: user 1min 26s, sys: 1.11 s, total: 1min 27s\n",
      "Wall time: 1min 3s\n"
     ]
    }
   ],
   "source": [
    "%%time\n",
    "# This framework will be the one we use for our modelling\n",
    "\n",
    "print(f'Fitting Random Forest Classifier')   \n",
    "\n",
    "# Set up pipeline\n",
    "rf_pipe = Pipeline([\n",
    "        ('sampling', SMOTE(random_state=42)),\n",
    "        ('rf', RandomForestClassifier(random_state=42))\n",
    "    ])\n",
    "\n",
    "# Hyperparameters\n",
    "rf_params = {\n",
    "    'rf__n_estimators': [80, 100, 120],\n",
    "    'rf__max_depth': [3, 5],\n",
    "    'rf__min_samples_leaf': [2, 4],\n",
    "    'rf__min_samples_split' : [2, 4]\n",
    "}\n",
    "\n",
    "# Instantiate 5-fold GridSearchCV.\n",
    "gs_rf = GridSearchCV(rf_pipe, param_grid = rf_params, cv=5,\n",
    "                     scoring='roc_auc')\n",
    "\n",
    "# Fit\n",
    "gs_rf.fit(Xs_train, y_train)\n",
    "gs_rf_model = gs_rf.best_estimator_\n",
    "\n",
    "# See results\n",
    "print(f'The best parameters are {gs_rf.best_estimator_}.')"
   ]
  },
  {
   "cell_type": "markdown",
   "id": "ca22d1f0",
   "metadata": {},
   "source": [
    "Using these best hyperparameters, we will re-fit the model based on the over-sampleted data and obtain the scoring metrics"
   ]
  },
  {
   "cell_type": "code",
   "execution_count": 45,
   "id": "7916dcf1",
   "metadata": {},
   "outputs": [
    {
     "data": {
      "text/plain": [
       "RandomForestClassifier(max_depth=5, min_samples_leaf=2, n_estimators=80,\n",
       "                       random_state=42)"
      ]
     },
     "execution_count": 45,
     "metadata": {},
     "output_type": "execute_result"
    }
   ],
   "source": [
    "rf = RandomForestClassifier(max_depth=5, min_samples_leaf=2, n_estimators=80,\n",
    "                       random_state=42)\n",
    "rf.fit(Xsm_train, ysm_train)"
   ]
  },
  {
   "cell_type": "code",
   "execution_count": 46,
   "id": "700cb250",
   "metadata": {},
   "outputs": [
    {
     "data": {
      "text/plain": [
       "0.8728241563055062"
      ]
     },
     "execution_count": 46,
     "metadata": {},
     "output_type": "execute_result"
    }
   ],
   "source": [
    "rf.score(Xsm_train,ysm_train)"
   ]
  },
  {
   "cell_type": "code",
   "execution_count": 47,
   "id": "4f4972db",
   "metadata": {},
   "outputs": [],
   "source": [
    "# Append to the lists\n",
    "model_name.append('Random Forest')\n",
    "model_scores.append(rf.score(Xsm_train, ysm_train))\n",
    "model_var.append(rf)\n",
    "model_test_scores.append(rf.score(Xs_test,y_test)) "
   ]
  },
  {
   "cell_type": "markdown",
   "id": "5b16fdfa",
   "metadata": {},
   "source": [
    "### Evaluating Random Forest Results"
   ]
  },
  {
   "cell_type": "code",
   "execution_count": 48,
   "id": "cf1a36a5",
   "metadata": {},
   "outputs": [],
   "source": [
    "imp_rf = pd.DataFrame(rf.feature_importances_,\n",
    "                       index=X.columns,\n",
    "                       columns=['weights']).sort_values(by='weights',ascending=False)"
   ]
  },
  {
   "cell_type": "code",
   "execution_count": 49,
   "id": "6e6b1276",
   "metadata": {
    "scrolled": true
   },
   "outputs": [
    {
     "data": {
      "image/png": "[encoded data removed]",
      "text/plain": [
       "<Figure size 864x504 with 1 Axes>"
      ]
     },
     "metadata": {
      "needs_background": "light"
     },
     "output_type": "display_data"
    }
   ],
   "source": [
    "# Plotting Top 20 features in bar chart\n",
    "imp_rf.head(20).plot(kind='barh', label=imp_rf.columns[:20], figsize=(12,7), color='purple')\n",
    "plt.title('Top 20 Feature Importance for Random Forest', fontsize=15)\n",
    "plt.gca().invert_yaxis()\n",
    "plt.legend(loc=4);"
   ]
  },
  {
   "cell_type": "markdown",
   "id": "6eec0498",
   "metadata": {},
   "source": [
    "## Fitting ExtraTrees Classifier"
   ]
  },
  {
   "cell_type": "code",
   "execution_count": 51,
   "id": "098e6a0e",
   "metadata": {},
   "outputs": [
    {
     "name": "stdout",
     "output_type": "stream",
     "text": [
      "Fitting Extra Trees\n",
      "Fitting 5 folds for each of 24 candidates, totalling 120 fits\n",
      "The best parameters are Pipeline(steps=[('sampling', SMOTE(random_state=42)),\n",
      "                ('et',\n",
      "                 ExtraTreesClassifier(max_depth=5, min_samples_leaf=2,\n",
      "                                      random_state=42))]).\n",
      "CPU times: user 911 ms, sys: 110 ms, total: 1.02 s\n",
      "Wall time: 20.8 s\n"
     ]
    }
   ],
   "source": [
    "%%time\n",
    "# This framework will be the one we use for our modelling\n",
    "\n",
    "print(f'Fitting Extra Trees')      \n",
    "\n",
    "# Set up pipeline\n",
    "et_pipe = Pipeline([\n",
    "        ('sampling', SMOTE(random_state=42)),\n",
    "        ('et', ExtraTreesClassifier(random_state=42))\n",
    "    ])\n",
    "\n",
    "# Hyperparameters\n",
    "et_params = {\n",
    "    'et__n_estimators': [80, 100, 120],\n",
    "    'et__max_depth': [3, 5],\n",
    "    'et__min_samples_leaf': [2, 4],\n",
    "    'et__min_samples_split' : [2, 4]\n",
    "}\n",
    "\n",
    "# Instantiate 5-fold GridSearchCV.\n",
    "gs_et = GridSearchCV(et_pipe, param_grid = et_params, cv=5,\n",
    "                     scoring='roc_auc',n_jobs=-1,\n",
    "                     verbose=1)\n",
    "\n",
    "# Fit\n",
    "gs_et.fit(Xs_train, y_train)\n",
    "gs_et_model = gs_et.best_estimator_\n",
    "\n",
    "# See results\n",
    "print(f'The best parameters are {gs_et.best_estimator_}.')"
   ]
  },
  {
   "cell_type": "markdown",
   "id": "3867b94f",
   "metadata": {},
   "source": [
    "Using these best hyperparameters, we will re-fit the model based on the over-sampleted data and obtain the scoring metrics"
   ]
  },
  {
   "cell_type": "code",
   "execution_count": 52,
   "id": "ee9fa6de",
   "metadata": {},
   "outputs": [
    {
     "data": {
      "text/plain": [
       "ExtraTreesClassifier(max_depth=5, min_samples_leaf=2, random_state=42)"
      ]
     },
     "execution_count": 52,
     "metadata": {},
     "output_type": "execute_result"
    }
   ],
   "source": [
    "et = ExtraTreesClassifier(max_depth=5, min_samples_leaf=2,\n",
    "                     random_state=42)\n",
    "et.fit(Xsm_train, ysm_train)"
   ]
  },
  {
   "cell_type": "code",
   "execution_count": 53,
   "id": "8ca71544",
   "metadata": {},
   "outputs": [
    {
     "data": {
      "text/plain": [
       "0.8018650088809947"
      ]
     },
     "execution_count": 53,
     "metadata": {},
     "output_type": "execute_result"
    }
   ],
   "source": [
    "et.score(Xsm_train,ysm_train)"
   ]
  },
  {
   "cell_type": "code",
   "execution_count": 54,
   "id": "4c348d07",
   "metadata": {},
   "outputs": [],
   "source": [
    "# Append to the lists\n",
    "model_name.append('ExtraTrees')\n",
    "model_scores.append(et.score(Xsm_train, ysm_train))\n",
    "model_var.append(et)\n",
    "model_test_scores.append(et.score(Xs_test,y_test))"
   ]
  },
  {
   "cell_type": "markdown",
   "id": "9c20d058",
   "metadata": {},
   "source": [
    "### Evaluating ExtraTrees Results"
   ]
  },
  {
   "cell_type": "code",
   "execution_count": 55,
   "id": "9a44a0c6",
   "metadata": {},
   "outputs": [],
   "source": [
    "imp_et = pd.DataFrame(et.feature_importances_,\n",
    "                       index=X.columns,\n",
    "                       columns=['weights']).sort_values(by='weights', ascending=False)"
   ]
  },
  {
   "cell_type": "code",
   "execution_count": 56,
   "id": "1dafcf0a",
   "metadata": {
    "scrolled": true
   },
   "outputs": [
    {
     "data": {
      "image/png": "[encoded data removed]",
      "text/plain": [
       "<Figure size 864x504 with 1 Axes>"
      ]
     },
     "metadata": {
      "needs_background": "light"
     },
     "output_type": "display_data"
    }
   ],
   "source": [
    "# Top 20 features\n",
    "imp_et.head(20).plot(kind='barh', label=imp_et.columns, figsize=(12,7), color='red')\n",
    "plt.title('Top 20 Feature Importance for Extra Trees', fontsize=15)\n",
    "plt.gca().invert_yaxis()\n",
    "plt.legend(loc=4);"
   ]
  },
  {
   "cell_type": "markdown",
   "id": "ffcf8a97",
   "metadata": {},
   "source": [
    "### Fitting AdaBoost Classifier"
   ]
  },
  {
   "cell_type": "code",
   "execution_count": 57,
   "id": "7b1f6885",
   "metadata": {},
   "outputs": [
    {
     "name": "stdout",
     "output_type": "stream",
     "text": [
      "Fitting AdaBoost\n",
      "Fitting 5 folds for each of 12 candidates, totalling 60 fits\n",
      "The best parameters are Pipeline(steps=[('sampling', SMOTE(random_state=42)),\n",
      "                ('ada',\n",
      "                 AdaBoostClassifier(learning_rate=0.9, random_state=42))]).\n",
      "CPU times: user 1.18 s, sys: 34.9 ms, total: 1.21 s\n",
      "Wall time: 14.7 s\n"
     ]
    }
   ],
   "source": [
    "%%time\n",
    "# This framework will be the one we use for our modelling\n",
    "\n",
    "print(f'Fitting AdaBoost')     \n",
    "\n",
    "# Set up pipeline\n",
    "ada_pipe = Pipeline([\n",
    "        ('sampling', SMOTE(random_state=42)),\n",
    "        ('ada', AdaBoostClassifier(random_state=42))\n",
    "    ])\n",
    "\n",
    "# Hyperparameters\n",
    "ada_params = {\n",
    "    'ada__n_estimators': [20, 30, 40, 50],\n",
    "    'ada__learning_rate': [0.8, 0.9, 1]\n",
    "}\n",
    "\n",
    "# Instantiate 5-fold GridSearchCV.\n",
    "gs_ada = GridSearchCV(ada_pipe, param_grid = ada_params, cv=5,\n",
    "                      scoring='roc_auc', n_jobs=-1,\n",
    "                     verbose=1)\n",
    "\n",
    "# Fit\n",
    "gs_ada.fit(Xs_train, y_train)\n",
    "gs_ada_model = gs_ada.best_estimator_\n",
    "\n",
    "# See results\n",
    "print(f'The best parameters are {gs_ada.best_estimator_}.')"
   ]
  },
  {
   "cell_type": "markdown",
   "id": "1e0b9bea",
   "metadata": {},
   "source": [
    "Using these best hyperparameters, we will re-fit the model based on the over-sampleted data and obtain the scoring metrics"
   ]
  },
  {
   "cell_type": "code",
   "execution_count": 58,
   "id": "1784c810",
   "metadata": {},
   "outputs": [
    {
     "data": {
      "text/plain": [
       "AdaBoostClassifier(learning_rate=0.9, random_state=42)"
      ]
     },
     "execution_count": 58,
     "metadata": {},
     "output_type": "execute_result"
    }
   ],
   "source": [
    "ada = AdaBoostClassifier(learning_rate=0.9, random_state=42)\n",
    "ada.fit(Xsm_train, ysm_train)"
   ]
  },
  {
   "cell_type": "code",
   "execution_count": 59,
   "id": "cfb970f4",
   "metadata": {},
   "outputs": [
    {
     "data": {
      "text/plain": [
       "0.9023978685612789"
      ]
     },
     "execution_count": 59,
     "metadata": {},
     "output_type": "execute_result"
    }
   ],
   "source": [
    "ada.score(Xsm_train,ysm_train)"
   ]
  },
  {
   "cell_type": "code",
   "execution_count": 60,
   "id": "a78785ac",
   "metadata": {},
   "outputs": [],
   "source": [
    "# Append to the lists\n",
    "model_name.append('AdaBoost')\n",
    "model_scores.append(ada.score(Xsm_train, ysm_train))\n",
    "model_var.append(ada)\n",
    "model_test_scores.append(ada.score(Xs_test,y_test))"
   ]
  },
  {
   "cell_type": "markdown",
   "id": "b5d1f7cf",
   "metadata": {},
   "source": [
    "### Evaluating AdaBoost Results"
   ]
  },
  {
   "cell_type": "code",
   "execution_count": 61,
   "id": "3b08144e",
   "metadata": {},
   "outputs": [],
   "source": [
    "imp_ada = pd.DataFrame(ada.feature_importances_,\n",
    "                       index=X.columns,\n",
    "                       columns=['weights']).sort_values(by='weights', ascending=False)"
   ]
  },
  {
   "cell_type": "code",
   "execution_count": 62,
   "id": "bcdb10aa",
   "metadata": {
    "scrolled": true
   },
   "outputs": [
    {
     "data": {
      "image/png": "[encoded data removed]",
      "text/plain": [
       "<Figure size 864x504 with 1 Axes>"
      ]
     },
     "metadata": {
      "needs_background": "light"
     },
     "output_type": "display_data"
    }
   ],
   "source": [
    "# Plot in bar chart\n",
    "imp_ada.head(20).plot(kind='barh', label=imp_ada.columns[:20], figsize=(12,7), color='blue')\n",
    "plt.title('Top 20 Feature Importance for AdaBoost', fontsize=15)\n",
    "plt.gca().invert_yaxis()\n",
    "plt.legend(loc=4);"
   ]
  },
  {
   "cell_type": "markdown",
   "id": "2c6842b9",
   "metadata": {},
   "source": [
    "### Fitting Gradient Boost Classifier"
   ]
  },
  {
   "cell_type": "code",
   "execution_count": 63,
   "id": "3e00acb4",
   "metadata": {},
   "outputs": [
    {
     "name": "stdout",
     "output_type": "stream",
     "text": [
      "Fitting Gradient Boost\n",
      "Fitting 5 folds for each of 48 candidates, totalling 240 fits\n",
      "The best parameters are Pipeline(steps=[('sampling', SMOTE(random_state=42)),\n",
      "                ('gboost',\n",
      "                 GradientBoostingClassifier(min_samples_leaf=2,\n",
      "                                            n_estimators=80))]).\n",
      "CPU times: user 3.52 s, sys: 88.4 ms, total: 3.6 s\n",
      "Wall time: 4min 13s\n"
     ]
    }
   ],
   "source": [
    "%%time\n",
    "# This framework will be the one we use for our modelling\n",
    "\n",
    "print(f'Fitting Gradient Boost')     \n",
    "\n",
    "# Set up pipeline\n",
    "gboost_pipe = Pipeline([\n",
    "        ('sampling', SMOTE(random_state=42)),\n",
    "        ('gboost', GradientBoostingClassifier())\n",
    "    ])\n",
    "\n",
    "# Hyperparameters\n",
    "gboost_params = {\n",
    "    'gboost__n_estimators': [80, 100, 120, 150],\n",
    "    'gboost__max_depth': [1, 2, 3],\n",
    "    'gboost__min_samples_split': [2, 4],\n",
    "    'gboost__min_samples_leaf': [1, 2]\n",
    "}\n",
    "\n",
    "# Instantiate 5-fold GridSearchCV.\n",
    "gs_gboost = GridSearchCV(gboost_pipe, param_grid = gboost_params, cv=5,\n",
    "                         scoring='roc_auc',n_jobs=-1,\n",
    "                     verbose=1)\n",
    "\n",
    "# Fit\n",
    "gs_gboost.fit(Xs_train, y_train)\n",
    "gs_gboost_model = gs_ada.best_estimator_\n",
    "\n",
    "# See results\n",
    "print(f'The best parameters are {gs_gboost.best_estimator_}.')"
   ]
  },
  {
   "cell_type": "markdown",
   "id": "1addbd2a",
   "metadata": {},
   "source": [
    "Using these best hyperparameters, we will re-fit the model based on the over-sampleted data and obtain the scoring metrics"
   ]
  },
  {
   "cell_type": "code",
   "execution_count": 64,
   "id": "17f8b742",
   "metadata": {},
   "outputs": [
    {
     "data": {
      "text/plain": [
       "GradientBoostingClassifier(min_samples_leaf=2, min_samples_split=4,\n",
       "                           n_estimators=80)"
      ]
     },
     "execution_count": 64,
     "metadata": {},
     "output_type": "execute_result"
    }
   ],
   "source": [
    "gboost = GradientBoostingClassifier(min_samples_leaf=2, min_samples_split=4, n_estimators=80)\n",
    "gboost.fit(Xsm_train, ysm_train)"
   ]
  },
  {
   "cell_type": "code",
   "execution_count": 65,
   "id": "a5490d35",
   "metadata": {},
   "outputs": [
    {
     "data": {
      "text/plain": [
       "0.9278863232682061"
      ]
     },
     "execution_count": 65,
     "metadata": {},
     "output_type": "execute_result"
    }
   ],
   "source": [
    "gboost.score(Xsm_train,ysm_train)"
   ]
  },
  {
   "cell_type": "code",
   "execution_count": 66,
   "id": "b2689326",
   "metadata": {},
   "outputs": [],
   "source": [
    "# Append to the lists\n",
    "model_name.append('GradientBooast')\n",
    "model_scores.append(gboost.score(Xsm_train, ysm_train))\n",
    "model_var.append(gboost)\n",
    "model_test_scores.append(gboost.score(Xs_test,y_test)) "
   ]
  },
  {
   "cell_type": "code",
   "execution_count": 67,
   "id": "d3cde048",
   "metadata": {},
   "outputs": [],
   "source": [
    "imp_gboost = pd.DataFrame(gboost.feature_importances_,\n",
    "                       index=X.columns,\n",
    "                       columns=['weights']).sort_values(by='weights', ascending=False)"
   ]
  },
  {
   "cell_type": "code",
   "execution_count": 68,
   "id": "97bb0097",
   "metadata": {},
   "outputs": [
    {
     "data": {
      "image/png": "[encoded data removed]",
      "text/plain": [
       "<Figure size 864x504 with 1 Axes>"
      ]
     },
     "metadata": {
      "needs_background": "light"
     },
     "output_type": "display_data"
    }
   ],
   "source": [
    "# Plot in bar chart\n",
    "imp_gboost.head(20).plot(kind='barh', label=imp_gboost.columns[:20], figsize=(12,7), color='green')\n",
    "plt.title('Top 20 Feature Importance for Gradient Boost', fontsize=15)\n",
    "plt.gca().invert_yaxis()\n",
    "plt.legend(loc=4);"
   ]
  },
  {
   "cell_type": "markdown",
   "id": "e95643ed",
   "metadata": {},
   "source": [
    "### Combining results together"
   ]
  },
  {
   "cell_type": "code",
   "execution_count": 69,
   "id": "5648700f",
   "metadata": {},
   "outputs": [
    {
     "data": {
      "text/html": [
       "<div>\n",
       "<style scoped>\n",
       "    .dataframe tbody tr th:only-of-type {\n",
       "        vertical-align: middle;\n",
       "    }\n",
       "\n",
       "    .dataframe tbody tr th {\n",
       "        vertical-align: top;\n",
       "    }\n",
       "\n",
       "    .dataframe thead th {\n",
       "        text-align: right;\n",
       "    }\n",
       "</style>\n",
       "<table border=\"1\" class=\"dataframe\">\n",
       "  <thead>\n",
       "    <tr style=\"text-align: right;\">\n",
       "      <th></th>\n",
       "      <th>Model Type</th>\n",
       "      <th>Train AUC</th>\n",
       "      <th>Test AUC</th>\n",
       "      <th>F1-Score</th>\n",
       "      <th>Recall</th>\n",
       "      <th>Precision</th>\n",
       "      <th>Train Accuracy</th>\n",
       "      <th>Test Accuracy</th>\n",
       "    </tr>\n",
       "  </thead>\n",
       "  <tbody>\n",
       "    <tr>\n",
       "      <th>0</th>\n",
       "      <td>Logistic Regression</td>\n",
       "      <td>0.822426</td>\n",
       "      <td>0.804288</td>\n",
       "      <td>0.596738</td>\n",
       "      <td>0.804288</td>\n",
       "      <td>0.591278</td>\n",
       "      <td>0.840675</td>\n",
       "      <td>0.790247</td>\n",
       "    </tr>\n",
       "    <tr>\n",
       "      <th>1</th>\n",
       "      <td>Naive Bayes</td>\n",
       "      <td>0.721080</td>\n",
       "      <td>0.706560</td>\n",
       "      <td>0.520258</td>\n",
       "      <td>0.706560</td>\n",
       "      <td>0.553142</td>\n",
       "      <td>0.720693</td>\n",
       "      <td>0.705411</td>\n",
       "    </tr>\n",
       "    <tr>\n",
       "      <th>2</th>\n",
       "      <td>Random Forest</td>\n",
       "      <td>0.823978</td>\n",
       "      <td>0.788919</td>\n",
       "      <td>0.600008</td>\n",
       "      <td>0.788919</td>\n",
       "      <td>0.590728</td>\n",
       "      <td>0.872824</td>\n",
       "      <td>0.800935</td>\n",
       "    </tr>\n",
       "    <tr>\n",
       "      <th>3</th>\n",
       "      <td>ExtraTrees</td>\n",
       "      <td>0.783513</td>\n",
       "      <td>0.762194</td>\n",
       "      <td>0.519981</td>\n",
       "      <td>0.762194</td>\n",
       "      <td>0.563578</td>\n",
       "      <td>0.801865</td>\n",
       "      <td>0.681363</td>\n",
       "    </tr>\n",
       "    <tr>\n",
       "      <th>4</th>\n",
       "      <td>AdaBoost</td>\n",
       "      <td>0.831723</td>\n",
       "      <td>0.792789</td>\n",
       "      <td>0.647540</td>\n",
       "      <td>0.792789</td>\n",
       "      <td>0.616944</td>\n",
       "      <td>0.902398</td>\n",
       "      <td>0.857715</td>\n",
       "    </tr>\n",
       "    <tr>\n",
       "      <th>5</th>\n",
       "      <td>GradientBooast</td>\n",
       "      <td>0.846093</td>\n",
       "      <td>0.783812</td>\n",
       "      <td>0.667459</td>\n",
       "      <td>0.783812</td>\n",
       "      <td>0.631591</td>\n",
       "      <td>0.927886</td>\n",
       "      <td>0.880428</td>\n",
       "    </tr>\n",
       "  </tbody>\n",
       "</table>\n",
       "</div>"
      ],
      "text/plain": [
       "            Model Type  Train AUC  Test AUC  F1-Score    Recall  Precision  \\\n",
       "0  Logistic Regression   0.822426  0.804288  0.596738  0.804288   0.591278   \n",
       "1          Naive Bayes   0.721080  0.706560  0.520258  0.706560   0.553142   \n",
       "2        Random Forest   0.823978  0.788919  0.600008  0.788919   0.590728   \n",
       "3           ExtraTrees   0.783513  0.762194  0.519981  0.762194   0.563578   \n",
       "4             AdaBoost   0.831723  0.792789  0.647540  0.792789   0.616944   \n",
       "5       GradientBooast   0.846093  0.783812  0.667459  0.783812   0.631591   \n",
       "\n",
       "   Train Accuracy  Test Accuracy  \n",
       "0        0.840675       0.790247  \n",
       "1        0.720693       0.705411  \n",
       "2        0.872824       0.800935  \n",
       "3        0.801865       0.681363  \n",
       "4        0.902398       0.857715  \n",
       "5        0.927886       0.880428  "
      ]
     },
     "execution_count": 69,
     "metadata": {},
     "output_type": "execute_result"
    }
   ],
   "source": [
    "# View the evaluation metrics for all models in a dataframe\n",
    "# Sorted by highest F1-Score\n",
    "precision_list = []\n",
    "recall_list = []\n",
    "fscore_list = []\n",
    "auc_list_train = []\n",
    "auc_list_test = []\n",
    "for model in model_var:\n",
    "    y_pred = model.predict(Xs_test)\n",
    "    y_pred_train = model.predict(Xs_train)\n",
    "    precision, recall, fscore, support = precision_recall_fscore_support(y_test, y_pred, average='macro')\n",
    "    precision_list.append(precision)\n",
    "    recall_list.append(recall)\n",
    "    fscore_list.append(fscore)\n",
    "    auc_list_train.append(roc_auc_score(y_train, y_pred_train))\n",
    "    auc_list_test.append(roc_auc_score(y_test, y_pred))\n",
    "\n",
    "pd.DataFrame({'Model Type': model_name,\n",
    "              'Train AUC': auc_list_train,\n",
    "              'Test AUC': auc_list_test,\n",
    "              'F1-Score': fscore_list,\n",
    "             'Recall': recall_list,\n",
    "              'Precision': precision_list,\n",
    "              'Train Accuracy': model_scores,\n",
    "             'Test Accuracy': model_test_scores})"
   ]
  },
  {
   "cell_type": "code",
   "execution_count": null,
   "id": "416d95d0",
   "metadata": {},
   "outputs": [],
   "source": []
  }
 ],
 "metadata": {
  "kernelspec": {
   "display_name": "Python 3",
   "language": "python",
   "name": "python3"
  },
  "language_info": {
   "codemirror_mode": {
    "name": "ipython",
    "version": 3
   },
   "file_extension": ".py",
   "mimetype": "text/x-python",
   "name": "python",
   "nbconvert_exporter": "python",
   "pygments_lexer": "ipython3",
   "version": "3.8.8"
  }
 },
 "nbformat": 4,
 "nbformat_minor": 5
}
