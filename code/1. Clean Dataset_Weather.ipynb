{
 "cells": [
  {
   "cell_type": "markdown",
   "metadata": {},
   "source": [
    "### Import Libraries"
   ]
  },
  {
   "cell_type": "code",
   "execution_count": 1,
   "metadata": {},
   "outputs": [],
   "source": [
    "import pandas as pd\n",
    "import numpy as np\n",
    "import matplotlib.pyplot as plt\n",
    "import seaborn as sns\n",
    "\n",
    "from sklearn.linear_model import LinearRegression\n",
    "from sklearn.model_selection import cross_val_score, train_test_split\n",
    "\n",
    "from datetime import datetime as dt"
   ]
  },
  {
   "cell_type": "markdown",
   "metadata": {},
   "source": [
    "### Define Functions"
   ]
  },
  {
   "cell_type": "code",
   "execution_count": 2,
   "metadata": {},
   "outputs": [],
   "source": [
    "def fit_OLS_model(X, y, train_size=0.8, cv=5, random_state=42):\n",
    "    # Fit model to prepare for imputation\n",
    "    X_train, X_test, y_train, y_test = train_test_split(X, y, train_size=train_size, random_state=random_state)\n",
    "    lr = LinearRegression()\n",
    "    lr.fit(X_train, y_train)\n",
    "    print(f'Train Score: {lr.score(X_train, y_train)}')\n",
    "    print(f'Train CV Score: {cross_val_score(lr, X_train, y_train, cv=cv).mean()}')\n",
    "    print(f'Test Score: {lr.score(X_test, y_test)}')\n",
    "    print(f'Coefficient: {lr.coef_[0]}')\n",
    "    print(f'Intercept: {lr.intercept_}')\n",
    "    \n",
    "    return lr"
   ]
  },
  {
   "cell_type": "markdown",
   "metadata": {},
   "source": [
    "### Clean Weather Dataset"
   ]
  },
  {
   "cell_type": "code",
   "execution_count": 3,
   "metadata": {},
   "outputs": [
    {
     "data": {
      "text/html": [
       "<div>\n",
       "<style scoped>\n",
       "    .dataframe tbody tr th:only-of-type {\n",
       "        vertical-align: middle;\n",
       "    }\n",
       "\n",
       "    .dataframe tbody tr th {\n",
       "        vertical-align: top;\n",
       "    }\n",
       "\n",
       "    .dataframe thead th {\n",
       "        text-align: right;\n",
       "    }\n",
       "</style>\n",
       "<table border=\"1\" class=\"dataframe\">\n",
       "  <thead>\n",
       "    <tr style=\"text-align: right;\">\n",
       "      <th></th>\n",
       "      <th>Station</th>\n",
       "      <th>Date</th>\n",
       "      <th>Tmax</th>\n",
       "      <th>Tmin</th>\n",
       "      <th>Tavg</th>\n",
       "      <th>Depart</th>\n",
       "      <th>DewPoint</th>\n",
       "      <th>WetBulb</th>\n",
       "      <th>Heat</th>\n",
       "      <th>Cool</th>\n",
       "      <th>...</th>\n",
       "      <th>CodeSum</th>\n",
       "      <th>Depth</th>\n",
       "      <th>Water1</th>\n",
       "      <th>SnowFall</th>\n",
       "      <th>PrecipTotal</th>\n",
       "      <th>StnPressure</th>\n",
       "      <th>SeaLevel</th>\n",
       "      <th>ResultSpeed</th>\n",
       "      <th>ResultDir</th>\n",
       "      <th>AvgSpeed</th>\n",
       "    </tr>\n",
       "  </thead>\n",
       "  <tbody>\n",
       "    <tr>\n",
       "      <th>0</th>\n",
       "      <td>1</td>\n",
       "      <td>2007-05-01</td>\n",
       "      <td>83</td>\n",
       "      <td>50</td>\n",
       "      <td>67.0</td>\n",
       "      <td>14.0</td>\n",
       "      <td>51</td>\n",
       "      <td>56.0</td>\n",
       "      <td>0.0</td>\n",
       "      <td>2.0</td>\n",
       "      <td>...</td>\n",
       "      <td>NaN</td>\n",
       "      <td>0.0</td>\n",
       "      <td>NaN</td>\n",
       "      <td>0.0</td>\n",
       "      <td>0.00</td>\n",
       "      <td>29.10</td>\n",
       "      <td>29.82</td>\n",
       "      <td>1.7</td>\n",
       "      <td>27</td>\n",
       "      <td>9.2</td>\n",
       "    </tr>\n",
       "    <tr>\n",
       "      <th>1</th>\n",
       "      <td>2</td>\n",
       "      <td>2007-05-01</td>\n",
       "      <td>84</td>\n",
       "      <td>52</td>\n",
       "      <td>68.0</td>\n",
       "      <td>NaN</td>\n",
       "      <td>51</td>\n",
       "      <td>57.0</td>\n",
       "      <td>0.0</td>\n",
       "      <td>3.0</td>\n",
       "      <td>...</td>\n",
       "      <td>NaN</td>\n",
       "      <td>NaN</td>\n",
       "      <td>NaN</td>\n",
       "      <td>NaN</td>\n",
       "      <td>0.00</td>\n",
       "      <td>29.18</td>\n",
       "      <td>29.82</td>\n",
       "      <td>2.7</td>\n",
       "      <td>25</td>\n",
       "      <td>9.6</td>\n",
       "    </tr>\n",
       "    <tr>\n",
       "      <th>2</th>\n",
       "      <td>1</td>\n",
       "      <td>2007-05-02</td>\n",
       "      <td>59</td>\n",
       "      <td>42</td>\n",
       "      <td>51.0</td>\n",
       "      <td>-3.0</td>\n",
       "      <td>42</td>\n",
       "      <td>47.0</td>\n",
       "      <td>14.0</td>\n",
       "      <td>0.0</td>\n",
       "      <td>...</td>\n",
       "      <td>BR</td>\n",
       "      <td>0.0</td>\n",
       "      <td>NaN</td>\n",
       "      <td>0.0</td>\n",
       "      <td>0.00</td>\n",
       "      <td>29.38</td>\n",
       "      <td>30.09</td>\n",
       "      <td>13.0</td>\n",
       "      <td>4</td>\n",
       "      <td>13.4</td>\n",
       "    </tr>\n",
       "    <tr>\n",
       "      <th>3</th>\n",
       "      <td>2</td>\n",
       "      <td>2007-05-02</td>\n",
       "      <td>60</td>\n",
       "      <td>43</td>\n",
       "      <td>52.0</td>\n",
       "      <td>NaN</td>\n",
       "      <td>42</td>\n",
       "      <td>47.0</td>\n",
       "      <td>13.0</td>\n",
       "      <td>0.0</td>\n",
       "      <td>...</td>\n",
       "      <td>BR HZ</td>\n",
       "      <td>NaN</td>\n",
       "      <td>NaN</td>\n",
       "      <td>NaN</td>\n",
       "      <td>0.00</td>\n",
       "      <td>29.44</td>\n",
       "      <td>30.08</td>\n",
       "      <td>13.3</td>\n",
       "      <td>2</td>\n",
       "      <td>13.4</td>\n",
       "    </tr>\n",
       "    <tr>\n",
       "      <th>4</th>\n",
       "      <td>1</td>\n",
       "      <td>2007-05-03</td>\n",
       "      <td>66</td>\n",
       "      <td>46</td>\n",
       "      <td>56.0</td>\n",
       "      <td>2.0</td>\n",
       "      <td>40</td>\n",
       "      <td>48.0</td>\n",
       "      <td>9.0</td>\n",
       "      <td>0.0</td>\n",
       "      <td>...</td>\n",
       "      <td>NaN</td>\n",
       "      <td>0.0</td>\n",
       "      <td>NaN</td>\n",
       "      <td>0.0</td>\n",
       "      <td>0.00</td>\n",
       "      <td>29.39</td>\n",
       "      <td>30.12</td>\n",
       "      <td>11.7</td>\n",
       "      <td>7</td>\n",
       "      <td>11.9</td>\n",
       "    </tr>\n",
       "  </tbody>\n",
       "</table>\n",
       "<p>5 rows × 22 columns</p>\n",
       "</div>"
      ],
      "text/plain": [
       "   Station        Date  Tmax  Tmin  Tavg  Depart  DewPoint  WetBulb  Heat  \\\n",
       "0        1  2007-05-01    83    50  67.0    14.0        51     56.0   0.0   \n",
       "1        2  2007-05-01    84    52  68.0     NaN        51     57.0   0.0   \n",
       "2        1  2007-05-02    59    42  51.0    -3.0        42     47.0  14.0   \n",
       "3        2  2007-05-02    60    43  52.0     NaN        42     47.0  13.0   \n",
       "4        1  2007-05-03    66    46  56.0     2.0        40     48.0   9.0   \n",
       "\n",
       "   Cool  ...  CodeSum  Depth Water1  SnowFall  PrecipTotal StnPressure  \\\n",
       "0   2.0  ...      NaN    0.0    NaN       0.0         0.00       29.10   \n",
       "1   3.0  ...      NaN    NaN    NaN       NaN         0.00       29.18   \n",
       "2   0.0  ...       BR    0.0    NaN       0.0         0.00       29.38   \n",
       "3   0.0  ...    BR HZ    NaN    NaN       NaN         0.00       29.44   \n",
       "4   0.0  ...      NaN    0.0    NaN       0.0         0.00       29.39   \n",
       "\n",
       "  SeaLevel  ResultSpeed  ResultDir  AvgSpeed  \n",
       "0    29.82          1.7         27       9.2  \n",
       "1    29.82          2.7         25       9.6  \n",
       "2    30.09         13.0          4      13.4  \n",
       "3    30.08         13.3          2      13.4  \n",
       "4    30.12         11.7          7      11.9  \n",
       "\n",
       "[5 rows x 22 columns]"
      ]
     },
     "execution_count": 3,
     "metadata": {},
     "output_type": "execute_result"
    }
   ],
   "source": [
    "weather = pd.read_csv(\"../assets/weather.csv\", na_values=['M', '-', ' '])\n",
    "weather.head()"
   ]
  },
  {
   "cell_type": "code",
   "execution_count": 4,
   "metadata": {},
   "outputs": [
    {
     "data": {
      "text/plain": [
       "(2944, 22)"
      ]
     },
     "execution_count": 4,
     "metadata": {},
     "output_type": "execute_result"
    }
   ],
   "source": [
    "weather.shape"
   ]
  },
  {
   "cell_type": "markdown",
   "metadata": {},
   "source": [
    "#### Checking datatype\n",
    "Snowfall and PrecipTotal are typed as object instead of numeric while Sunrise and Sunset were typed as float64 instead of datetime."
   ]
  },
  {
   "cell_type": "code",
   "execution_count": 5,
   "metadata": {},
   "outputs": [
    {
     "data": {
      "text/plain": [
       "Station          int64\n",
       "Date            object\n",
       "Tmax             int64\n",
       "Tmin             int64\n",
       "Tavg           float64\n",
       "Depart         float64\n",
       "DewPoint         int64\n",
       "WetBulb        float64\n",
       "Heat           float64\n",
       "Cool           float64\n",
       "Sunrise        float64\n",
       "Sunset         float64\n",
       "CodeSum         object\n",
       "Depth          float64\n",
       "Water1         float64\n",
       "SnowFall        object\n",
       "PrecipTotal     object\n",
       "StnPressure    float64\n",
       "SeaLevel       float64\n",
       "ResultSpeed    float64\n",
       "ResultDir        int64\n",
       "AvgSpeed       float64\n",
       "dtype: object"
      ]
     },
     "execution_count": 5,
     "metadata": {},
     "output_type": "execute_result"
    }
   ],
   "source": [
    "# Snowfall and PrecipTotal are identified as object rather than float64\n",
    "# Sunrise and Sunset were typed as float64 instead of datetime\n",
    "# Date was typed as object rather than datetime\n",
    "weather.dtypes"
   ]
  },
  {
   "cell_type": "code",
   "execution_count": 6,
   "metadata": {},
   "outputs": [],
   "source": [
    "# Change Date, Sunrise and Sunset to datetime format\n",
    "weather['Date'] = pd.to_datetime(weather['Date'])"
   ]
  },
  {
   "cell_type": "markdown",
   "metadata": {},
   "source": [
    "#### Finding out why Snowfall and PrecipTotal are typed as object"
   ]
  },
  {
   "cell_type": "markdown",
   "metadata": {},
   "source": [
    "'SnowFall' has 12 rows of data are having '  T' as values. To replace '  T' as 0.01 as '  T' means that there are traces amount which meant that it is in very small qunatity. Hence replace '  T' with a value smaller than the 2nd smallest value (0.1) in the data for this predictor."
   ]
  },
  {
   "cell_type": "code",
   "execution_count": 7,
   "metadata": {},
   "outputs": [
    {
     "data": {
      "text/plain": [
       "array(['0.0', nan, '  T', '0.1'], dtype=object)"
      ]
     },
     "execution_count": 7,
     "metadata": {},
     "output_type": "execute_result"
    }
   ],
   "source": [
    "# There is a '  T' in the list of unique values for SnowFall\n",
    "weather['SnowFall'].unique()"
   ]
  },
  {
   "cell_type": "code",
   "execution_count": 8,
   "metadata": {},
   "outputs": [
    {
     "data": {
      "text/plain": [
       "0.0    1459\n",
       "  T      12\n",
       "0.1       1\n",
       "Name: SnowFall, dtype: int64"
      ]
     },
     "execution_count": 8,
     "metadata": {},
     "output_type": "execute_result"
    }
   ],
   "source": [
    "# Checking number of rows with '  T'\n",
    "weather['SnowFall'].value_counts()"
   ]
  },
  {
   "cell_type": "code",
   "execution_count": 9,
   "metadata": {},
   "outputs": [],
   "source": [
    "# Replace ' T' as 0.001\n",
    "weather['SnowFall'].replace(to_replace='  T', value = 0.01, inplace=True)"
   ]
  },
  {
   "cell_type": "markdown",
   "metadata": {},
   "source": [
    "'PrecipTotal' has 318 rows of data are having '  T' as values. To replace '  T' as 0.001 as '  T' means that there are traces amount which meant that it is in very small qunatity. Hence replace '  T' with a value smaller than the 2nd smallest value (0.01) in the data for this predictor."
   ]
  },
  {
   "cell_type": "code",
   "execution_count": 10,
   "metadata": {},
   "outputs": [
    {
     "data": {
      "text/plain": [
       "array(['0.00', '  T', '0.13', '0.02', '0.38', '0.60', '0.14', '0.07',\n",
       "       '0.11', '0.09', '1.01', '0.28', '0.04', '0.08', '0.01', '0.53',\n",
       "       '0.19', '0.21', '0.32', '0.39', '0.31', '0.42', '0.27', '0.16',\n",
       "       '0.58', '0.93', '0.05', '0.34', '0.15', '0.35', nan, '0.40',\n",
       "       '0.66', '0.30', '0.24', '0.43', '1.55', '0.92', '0.89', '0.17',\n",
       "       '0.03', '1.43', '0.97', '0.26', '1.31', '0.06', '0.46', '0.29',\n",
       "       '0.23', '0.41', '0.45', '0.83', '1.33', '0.91', '0.48', '0.37',\n",
       "       '0.88', '2.35', '1.96', '0.20', '0.25', '0.18', '0.67', '0.36',\n",
       "       '0.33', '1.28', '0.74', '0.76', '0.71', '0.95', '1.46', '0.12',\n",
       "       '0.52', '0.64', '0.22', '1.24', '0.72', '0.73', '0.65', '1.61',\n",
       "       '1.22', '0.50', '1.05', '2.43', '0.59', '2.90', '2.68', '1.23',\n",
       "       '0.62', '6.64', '3.07', '1.44', '1.75', '0.82', '0.80', '0.86',\n",
       "       '0.63', '0.55', '1.03', '0.70', '1.73', '1.38', '0.44', '1.14',\n",
       "       '1.07', '3.97', '0.87', '0.78', '1.12', '0.68', '0.10', '0.61',\n",
       "       '0.54', '1.19', '0.75', '0.84', '1.29', '0.81', '1.15', '1.49',\n",
       "       '1.57', '1.02', '1.30', '0.51', '0.85', '0.79', '0.77', '2.79',\n",
       "       '3.15', '3.64', '4.73', '1.60', '0.57', '2.24', '1.90', '1.06',\n",
       "       '1.88', '0.69', '2.17', '6.86', '0.49', '1.11', '1.21', '0.90',\n",
       "       '1.34', '0.47', '0.56', '3.66', '1.09', '1.25', '1.35', '2.20',\n",
       "       '1.48', '0.96', '1.16', '1.04', '2.03', '2.09', '1.26', '2.60',\n",
       "       '2.06', '3.31', '2.76', '1.82', '0.98', '1.58', '3.17', '1.18'],\n",
       "      dtype=object)"
      ]
     },
     "execution_count": 10,
     "metadata": {},
     "output_type": "execute_result"
    }
   ],
   "source": [
    "# There is a '  T' in the list of unique values for PrecipTotal\n",
    "weather['PrecipTotal'].unique()"
   ]
  },
  {
   "cell_type": "code",
   "execution_count": 11,
   "metadata": {
    "scrolled": true
   },
   "outputs": [
    {
     "data": {
      "text/plain": [
       "array([0.  , 0.01, 0.02, 0.03, 0.04, 0.05, 0.06, 0.07, 0.08, 0.09, 0.1 ,\n",
       "       0.11, 0.12, 0.13, 0.14, 0.15, 0.16, 0.17, 0.18, 0.19, 0.2 , 0.21,\n",
       "       0.22, 0.23, 0.24, 0.25, 0.26, 0.27, 0.28, 0.29, 0.3 , 0.31, 0.32,\n",
       "       0.33, 0.34, 0.35, 0.36, 0.37, 0.38, 0.39, 0.4 , 0.41, 0.42, 0.43,\n",
       "       0.44, 0.45, 0.46, 0.47, 0.48, 0.49, 0.5 , 0.51, 0.52, 0.53, 0.54,\n",
       "       0.55, 0.56, 0.57, 0.58, 0.59, 0.6 , 0.61, 0.62, 0.63, 0.64, 0.65,\n",
       "       0.66, 0.67, 0.68, 0.69, 0.7 , 0.71, 0.72, 0.73, 0.74, 0.75, 0.76,\n",
       "       0.77, 0.78, 0.79, 0.8 , 0.81, 0.82, 0.83, 0.84, 0.85, 0.86, 0.87,\n",
       "       0.88, 0.89, 0.9 , 0.91, 0.92, 0.93, 0.95, 0.96, 0.97, 0.98, 1.01,\n",
       "       1.02, 1.03, 1.04, 1.05, 1.06, 1.07, 1.09, 1.11, 1.12, 1.14, 1.15,\n",
       "       1.16, 1.18, 1.19, 1.21, 1.22, 1.23, 1.24, 1.25, 1.26, 1.28, 1.29,\n",
       "       1.3 , 1.31, 1.33, 1.34, 1.35, 1.38, 1.43, 1.44, 1.46, 1.48, 1.49,\n",
       "       1.55, 1.57, 1.58, 1.6 , 1.61, 1.73, 1.75, 1.82, 1.88, 1.9 , 1.96,\n",
       "       2.03, 2.06, 2.09, 2.17, 2.2 , 2.24, 2.35, 2.43, 2.6 , 2.68, 2.76,\n",
       "       2.79, 2.9 , 3.07, 3.15, 3.17, 3.31, 3.64, 3.66, 3.97, 4.73, 6.64,\n",
       "       6.86,  nan])"
      ]
     },
     "execution_count": 11,
     "metadata": {},
     "output_type": "execute_result"
    }
   ],
   "source": [
    "# Second smallest value is 0.01\n",
    "np.sort([float(i) for i in np.delete(weather['PrecipTotal'].unique(), 1)])"
   ]
  },
  {
   "cell_type": "code",
   "execution_count": 12,
   "metadata": {},
   "outputs": [
    {
     "data": {
      "text/plain": [
       "0.00    1577\n",
       "  T      318\n",
       "0.01     127\n",
       "0.02      63\n",
       "0.03      46\n",
       "        ... \n",
       "1.48       1\n",
       "2.79       1\n",
       "1.75       1\n",
       "1.34       1\n",
       "6.64       1\n",
       "Name: PrecipTotal, Length: 167, dtype: int64"
      ]
     },
     "execution_count": 12,
     "metadata": {},
     "output_type": "execute_result"
    }
   ],
   "source": [
    "# Checking number of rows with ' T'\n",
    "weather['PrecipTotal'].value_counts()"
   ]
  },
  {
   "cell_type": "code",
   "execution_count": 13,
   "metadata": {},
   "outputs": [],
   "source": [
    "# Replace ' T' as 0.001\n",
    "weather['PrecipTotal'].replace(to_replace='  T', value = 0.001, inplace=True)"
   ]
  },
  {
   "cell_type": "code",
   "execution_count": 14,
   "metadata": {},
   "outputs": [],
   "source": [
    "# Typecast 'SnowFall' and 'PrecipTotal' as float64\n",
    "weather = weather.astype({'SnowFall': 'float64', 'PrecipTotal': 'float64'})"
   ]
  },
  {
   "cell_type": "code",
   "execution_count": 15,
   "metadata": {},
   "outputs": [
    {
     "data": {
      "text/plain": [
       "Station                 int64\n",
       "Date           datetime64[ns]\n",
       "Tmax                    int64\n",
       "Tmin                    int64\n",
       "Tavg                  float64\n",
       "Depart                float64\n",
       "DewPoint                int64\n",
       "WetBulb               float64\n",
       "Heat                  float64\n",
       "Cool                  float64\n",
       "Sunrise               float64\n",
       "Sunset                float64\n",
       "CodeSum                object\n",
       "Depth                 float64\n",
       "Water1                float64\n",
       "SnowFall              float64\n",
       "PrecipTotal           float64\n",
       "StnPressure           float64\n",
       "SeaLevel              float64\n",
       "ResultSpeed           float64\n",
       "ResultDir               int64\n",
       "AvgSpeed              float64\n",
       "dtype: object"
      ]
     },
     "execution_count": 15,
     "metadata": {},
     "output_type": "execute_result"
    }
   ],
   "source": [
    "# Checking that the typecast is done\n",
    "weather.dtypes"
   ]
  },
  {
   "cell_type": "markdown",
   "metadata": {},
   "source": [
    "#### Dropping Depth and Water1 due to no variance in data\n",
    "As 'Water1' and 'Depth' only have zero and a single value respectively, hence no variance, it would not be able to provide information or contribute to the model. As such, decided to drop 'Water1' and 'Depth' from data."
   ]
  },
  {
   "cell_type": "code",
   "execution_count": 16,
   "metadata": {},
   "outputs": [
    {
     "name": "stdout",
     "output_type": "stream",
     "text": [
      "Number of unique values for each predictor\n",
      "Station: 2\n",
      "Date: 1472\n",
      "Tmax: 63\n",
      "Tmin: 54\n",
      "Tavg: 59\n",
      "Depart: 41\n",
      "DewPoint: 54\n",
      "WetBulb: 47\n",
      "Heat: 30\n",
      "Cool: 30\n",
      "Sunrise: 121\n",
      "Sunset: 118\n",
      "CodeSum: 97\n",
      "Depth: 1\n",
      "Water1: 0\n",
      "SnowFall: 3\n",
      "PrecipTotal: 167\n",
      "StnPressure: 103\n",
      "SeaLevel: 101\n",
      "ResultSpeed: 190\n",
      "ResultDir: 36\n",
      "AvgSpeed: 177\n"
     ]
    }
   ],
   "source": [
    "# Checking number of unique values per predictor\n",
    "print(\"Number of unique values for each predictor\")\n",
    "for col in weather.columns:\n",
    "    print(f'{col}: {weather[col].nunique()}')"
   ]
  },
  {
   "cell_type": "code",
   "execution_count": 17,
   "metadata": {},
   "outputs": [],
   "source": [
    "# Droppping 'Depth' and 'Water1' from data\n",
    "weather.drop(columns=['Depth', 'Water1'], inplace=True)"
   ]
  },
  {
   "cell_type": "markdown",
   "metadata": {},
   "source": [
    "#### Checking for missing values"
   ]
  },
  {
   "cell_type": "code",
   "execution_count": 18,
   "metadata": {},
   "outputs": [
    {
     "data": {
      "text/plain": [
       "Station           0\n",
       "Date              0\n",
       "Tmax              0\n",
       "Tmin              0\n",
       "Tavg             11\n",
       "Depart         1472\n",
       "DewPoint          0\n",
       "WetBulb           4\n",
       "Heat             11\n",
       "Cool             11\n",
       "Sunrise        1472\n",
       "Sunset         1472\n",
       "CodeSum        1609\n",
       "SnowFall       1472\n",
       "PrecipTotal       2\n",
       "StnPressure       4\n",
       "SeaLevel          9\n",
       "ResultSpeed       0\n",
       "ResultDir         0\n",
       "AvgSpeed          3\n",
       "dtype: int64"
      ]
     },
     "execution_count": 18,
     "metadata": {},
     "output_type": "execute_result"
    }
   ],
   "source": [
    "weather.isnull().sum()"
   ]
  },
  {
   "cell_type": "markdown",
   "metadata": {},
   "source": [
    "#### Imputing NA in CodeSum as MD\n",
    "As CodeSum whitespace string, which was treated as missing values, means that the weather is moderate. Hence instead of NA, to replace with 'MD'."
   ]
  },
  {
   "cell_type": "code",
   "execution_count": 19,
   "metadata": {},
   "outputs": [],
   "source": [
    "weather['CodeSum'].fillna('MD', inplace=True)"
   ]
  },
  {
   "cell_type": "markdown",
   "metadata": {},
   "source": [
    "#### Dropping Heat and Cold\n",
    "As Heat and Cool are known as heating degree day (HDD) and cooling degree day (CDD) respectively and are calculated based on differences from 65°F. When Tavg is lower than 65°F, HDD will be non-zero and will be equal to 65 - Tavg while CDD will be 0. On the otherhand if Tavg is higher than 65°F, CDD will be non-zero and equal to Tavg - 65 while HDD will be 0. Hence, it does not provide additional information that Tavg does not provide."
   ]
  },
  {
   "cell_type": "code",
   "execution_count": 20,
   "metadata": {
    "scrolled": false
   },
   "outputs": [
    {
     "data": {
      "text/plain": [
       "Text(0.5, 1.0, 'Cool vs Tavg')"
      ]
     },
     "execution_count": 20,
     "metadata": {},
     "output_type": "execute_result"
    },
    {
     "data": {
      "image/png": "[encoded data removed]",
      "text/plain": [
       "<Figure size 1080x360 with 2 Axes>"
      ]
     },
     "metadata": {
      "needs_background": "light"
     },
     "output_type": "display_data"
    }
   ],
   "source": [
    "# SHowing how Heat and Cool vary with Tavg\n",
    "fig, ax = plt.subplots(1,2, figsize=(15,5))\n",
    "sns.regplot(x='Tavg', y='Heat', data=weather, ax=ax[0])\n",
    "ax[0].set_title('Heat vs Tavg')\n",
    "sns.regplot(x='Tavg', y='Cool', data=weather, ax=ax[1])\n",
    "ax[1].set_title('Cool vs Tavg')"
   ]
  },
  {
   "cell_type": "code",
   "execution_count": 21,
   "metadata": {},
   "outputs": [],
   "source": [
    "weather.drop(columns=['Heat', 'Cool'], inplace=True)"
   ]
  },
  {
   "cell_type": "markdown",
   "metadata": {},
   "source": [
    "#### Split Data Set into station 1 and station 2\n",
    "As station 2 has multiple predictors having missing values, either dropping the columns or dropping NA rows would lead to valuable data loss. Hence, to retain as much data as possible, the decision is to separate the data for the 2 stations with their own columns."
   ]
  },
  {
   "cell_type": "code",
   "execution_count": 22,
   "metadata": {},
   "outputs": [
    {
     "name": "stdout",
     "output_type": "stream",
     "text": [
      "Depart \n",
      " Station\n",
      "2    1472\n",
      "dtype: int64 \n",
      "\n",
      "Sunrise \n",
      " Station\n",
      "2    1472\n",
      "dtype: int64 \n",
      "\n",
      "Sunset \n",
      " Station\n",
      "2    1472\n",
      "dtype: int64 \n",
      "\n",
      "SnowFall \n",
      " Station\n",
      "2    1472\n",
      "dtype: int64 \n",
      "\n"
     ]
    }
   ],
   "source": [
    "# All 1472 rows that are missing are from station 2\n",
    "for col in ['Depart', 'Sunrise', 'Sunset', 'SnowFall']:\n",
    "    print(col, \"\\n\", weather[weather[col].isnull()].groupby('Station').size(), \"\\n\")"
   ]
  },
  {
   "cell_type": "code",
   "execution_count": 23,
   "metadata": {},
   "outputs": [],
   "source": [
    "# Split weather dataset into weather1 and weather2\n",
    "weather1 = weather[weather['Station'] == 1].copy()\n",
    "weather2 = weather[weather['Station'] == 2].copy()"
   ]
  },
  {
   "cell_type": "code",
   "execution_count": 24,
   "metadata": {},
   "outputs": [],
   "source": [
    "# Converting sunrise and sunset to correct format\n",
    "weather1['Sunset'] = weather1['Sunset'].apply(lambda x: (int(x/100)+1)*100 if x%100==60 else int(x)).astype('str')\n",
    "weather1['Sunrise'] = weather1['Sunrise'].apply(lambda x: (int(x/100)+1)*100 if x%100==60 else int(x)).astype('str')\n",
    "\n",
    "# Adding Date to Sunset and Sunrise\n",
    "weather1['Sunset'] = weather1['Date'].astype('str') + \" \" + weather1['Sunset']\n",
    "weather1['Sunrise'] = weather1['Date'].astype('str') + \" \" + weather1['Sunrise']\n",
    "\n",
    "# Change Sunset and Sunrise to datetime format\n",
    "weather1['Sunset'] = pd.to_datetime(weather1['Sunset'], format='%Y-%m-%d %H%M')\n",
    "weather1['Sunrise'] = pd.to_datetime(weather1['Sunrise'], format='%Y-%m-%d %H%M')"
   ]
  },
  {
   "cell_type": "code",
   "execution_count": 25,
   "metadata": {},
   "outputs": [],
   "source": [
    "# Drop columns 'Depart', 'Sunrise', 'Sunset', 'Depth', 'SnowFall' from weather 2 since all rows are missing data\n",
    "weather2.drop(columns=['Depart', 'Sunrise', 'Sunset', 'SnowFall'], inplace=True)"
   ]
  },
  {
   "cell_type": "code",
   "execution_count": 26,
   "metadata": {},
   "outputs": [
    {
     "data": {
      "text/html": [
       "<div>\n",
       "<style scoped>\n",
       "    .dataframe tbody tr th:only-of-type {\n",
       "        vertical-align: middle;\n",
       "    }\n",
       "\n",
       "    .dataframe tbody tr th {\n",
       "        vertical-align: top;\n",
       "    }\n",
       "\n",
       "    .dataframe thead th {\n",
       "        text-align: right;\n",
       "    }\n",
       "</style>\n",
       "<table border=\"1\" class=\"dataframe\">\n",
       "  <thead>\n",
       "    <tr style=\"text-align: right;\">\n",
       "      <th></th>\n",
       "      <th>Date</th>\n",
       "      <th>Tmax_1</th>\n",
       "      <th>Tmin_1</th>\n",
       "      <th>Tavg_1</th>\n",
       "      <th>Depart_1</th>\n",
       "      <th>DewPoint_1</th>\n",
       "      <th>WetBulb_1</th>\n",
       "      <th>Sunrise_1</th>\n",
       "      <th>Sunset_1</th>\n",
       "      <th>CodeSum_1</th>\n",
       "      <th>...</th>\n",
       "      <th>Tavg_2</th>\n",
       "      <th>DewPoint_2</th>\n",
       "      <th>WetBulb_2</th>\n",
       "      <th>CodeSum_2</th>\n",
       "      <th>PrecipTotal_2</th>\n",
       "      <th>StnPressure_2</th>\n",
       "      <th>SeaLevel_2</th>\n",
       "      <th>ResultSpeed_2</th>\n",
       "      <th>ResultDir_2</th>\n",
       "      <th>AvgSpeed_2</th>\n",
       "    </tr>\n",
       "  </thead>\n",
       "  <tbody>\n",
       "    <tr>\n",
       "      <th>0</th>\n",
       "      <td>2007-05-01</td>\n",
       "      <td>83</td>\n",
       "      <td>50</td>\n",
       "      <td>67.0</td>\n",
       "      <td>14.0</td>\n",
       "      <td>51</td>\n",
       "      <td>56.0</td>\n",
       "      <td>2007-05-01 04:48:00</td>\n",
       "      <td>2007-05-01 18:49:00</td>\n",
       "      <td>MD</td>\n",
       "      <td>...</td>\n",
       "      <td>68.0</td>\n",
       "      <td>51</td>\n",
       "      <td>57.0</td>\n",
       "      <td>MD</td>\n",
       "      <td>0.000</td>\n",
       "      <td>29.18</td>\n",
       "      <td>29.82</td>\n",
       "      <td>2.7</td>\n",
       "      <td>25</td>\n",
       "      <td>9.6</td>\n",
       "    </tr>\n",
       "    <tr>\n",
       "      <th>1</th>\n",
       "      <td>2007-05-02</td>\n",
       "      <td>59</td>\n",
       "      <td>42</td>\n",
       "      <td>51.0</td>\n",
       "      <td>-3.0</td>\n",
       "      <td>42</td>\n",
       "      <td>47.0</td>\n",
       "      <td>2007-05-02 04:47:00</td>\n",
       "      <td>2007-05-02 18:50:00</td>\n",
       "      <td>BR</td>\n",
       "      <td>...</td>\n",
       "      <td>52.0</td>\n",
       "      <td>42</td>\n",
       "      <td>47.0</td>\n",
       "      <td>BR HZ</td>\n",
       "      <td>0.000</td>\n",
       "      <td>29.44</td>\n",
       "      <td>30.08</td>\n",
       "      <td>13.3</td>\n",
       "      <td>2</td>\n",
       "      <td>13.4</td>\n",
       "    </tr>\n",
       "    <tr>\n",
       "      <th>2</th>\n",
       "      <td>2007-05-03</td>\n",
       "      <td>66</td>\n",
       "      <td>46</td>\n",
       "      <td>56.0</td>\n",
       "      <td>2.0</td>\n",
       "      <td>40</td>\n",
       "      <td>48.0</td>\n",
       "      <td>2007-05-03 04:46:00</td>\n",
       "      <td>2007-05-03 18:51:00</td>\n",
       "      <td>MD</td>\n",
       "      <td>...</td>\n",
       "      <td>58.0</td>\n",
       "      <td>40</td>\n",
       "      <td>50.0</td>\n",
       "      <td>HZ</td>\n",
       "      <td>0.000</td>\n",
       "      <td>29.46</td>\n",
       "      <td>30.12</td>\n",
       "      <td>12.9</td>\n",
       "      <td>6</td>\n",
       "      <td>13.2</td>\n",
       "    </tr>\n",
       "    <tr>\n",
       "      <th>3</th>\n",
       "      <td>2007-05-04</td>\n",
       "      <td>66</td>\n",
       "      <td>49</td>\n",
       "      <td>58.0</td>\n",
       "      <td>4.0</td>\n",
       "      <td>41</td>\n",
       "      <td>50.0</td>\n",
       "      <td>2007-05-04 04:44:00</td>\n",
       "      <td>2007-05-04 18:52:00</td>\n",
       "      <td>RA</td>\n",
       "      <td>...</td>\n",
       "      <td>NaN</td>\n",
       "      <td>42</td>\n",
       "      <td>50.0</td>\n",
       "      <td>MD</td>\n",
       "      <td>0.000</td>\n",
       "      <td>29.36</td>\n",
       "      <td>30.04</td>\n",
       "      <td>10.1</td>\n",
       "      <td>7</td>\n",
       "      <td>10.4</td>\n",
       "    </tr>\n",
       "    <tr>\n",
       "      <th>4</th>\n",
       "      <td>2007-05-05</td>\n",
       "      <td>66</td>\n",
       "      <td>53</td>\n",
       "      <td>60.0</td>\n",
       "      <td>5.0</td>\n",
       "      <td>38</td>\n",
       "      <td>49.0</td>\n",
       "      <td>2007-05-05 04:43:00</td>\n",
       "      <td>2007-05-05 18:53:00</td>\n",
       "      <td>MD</td>\n",
       "      <td>...</td>\n",
       "      <td>60.0</td>\n",
       "      <td>39</td>\n",
       "      <td>50.0</td>\n",
       "      <td>MD</td>\n",
       "      <td>0.001</td>\n",
       "      <td>29.46</td>\n",
       "      <td>30.09</td>\n",
       "      <td>11.2</td>\n",
       "      <td>7</td>\n",
       "      <td>11.5</td>\n",
       "    </tr>\n",
       "    <tr>\n",
       "      <th>...</th>\n",
       "      <td>...</td>\n",
       "      <td>...</td>\n",
       "      <td>...</td>\n",
       "      <td>...</td>\n",
       "      <td>...</td>\n",
       "      <td>...</td>\n",
       "      <td>...</td>\n",
       "      <td>...</td>\n",
       "      <td>...</td>\n",
       "      <td>...</td>\n",
       "      <td>...</td>\n",
       "      <td>...</td>\n",
       "      <td>...</td>\n",
       "      <td>...</td>\n",
       "      <td>...</td>\n",
       "      <td>...</td>\n",
       "      <td>...</td>\n",
       "      <td>...</td>\n",
       "      <td>...</td>\n",
       "      <td>...</td>\n",
       "      <td>...</td>\n",
       "    </tr>\n",
       "    <tr>\n",
       "      <th>1467</th>\n",
       "      <td>2014-10-27</td>\n",
       "      <td>77</td>\n",
       "      <td>51</td>\n",
       "      <td>64.0</td>\n",
       "      <td>16.0</td>\n",
       "      <td>51</td>\n",
       "      <td>58.0</td>\n",
       "      <td>2014-10-27 06:18:00</td>\n",
       "      <td>2014-10-27 16:53:00</td>\n",
       "      <td>MD</td>\n",
       "      <td>...</td>\n",
       "      <td>67.0</td>\n",
       "      <td>52</td>\n",
       "      <td>59.0</td>\n",
       "      <td>RA</td>\n",
       "      <td>0.020</td>\n",
       "      <td>29.00</td>\n",
       "      <td>29.67</td>\n",
       "      <td>12.7</td>\n",
       "      <td>19</td>\n",
       "      <td>13.6</td>\n",
       "    </tr>\n",
       "    <tr>\n",
       "      <th>1468</th>\n",
       "      <td>2014-10-28</td>\n",
       "      <td>68</td>\n",
       "      <td>45</td>\n",
       "      <td>57.0</td>\n",
       "      <td>10.0</td>\n",
       "      <td>38</td>\n",
       "      <td>47.0</td>\n",
       "      <td>2014-10-28 06:19:00</td>\n",
       "      <td>2014-10-28 16:51:00</td>\n",
       "      <td>MD</td>\n",
       "      <td>...</td>\n",
       "      <td>57.0</td>\n",
       "      <td>40</td>\n",
       "      <td>48.0</td>\n",
       "      <td>RA</td>\n",
       "      <td>0.030</td>\n",
       "      <td>29.23</td>\n",
       "      <td>29.85</td>\n",
       "      <td>14.0</td>\n",
       "      <td>26</td>\n",
       "      <td>14.6</td>\n",
       "    </tr>\n",
       "    <tr>\n",
       "      <th>1469</th>\n",
       "      <td>2014-10-29</td>\n",
       "      <td>49</td>\n",
       "      <td>36</td>\n",
       "      <td>43.0</td>\n",
       "      <td>-4.0</td>\n",
       "      <td>32</td>\n",
       "      <td>40.0</td>\n",
       "      <td>2014-10-29 06:20:00</td>\n",
       "      <td>2014-10-29 16:50:00</td>\n",
       "      <td>MD</td>\n",
       "      <td>...</td>\n",
       "      <td>45.0</td>\n",
       "      <td>34</td>\n",
       "      <td>42.0</td>\n",
       "      <td>MD</td>\n",
       "      <td>0.000</td>\n",
       "      <td>29.42</td>\n",
       "      <td>30.07</td>\n",
       "      <td>8.5</td>\n",
       "      <td>29</td>\n",
       "      <td>9.0</td>\n",
       "    </tr>\n",
       "    <tr>\n",
       "      <th>1470</th>\n",
       "      <td>2014-10-30</td>\n",
       "      <td>51</td>\n",
       "      <td>32</td>\n",
       "      <td>42.0</td>\n",
       "      <td>-4.0</td>\n",
       "      <td>34</td>\n",
       "      <td>40.0</td>\n",
       "      <td>2014-10-30 06:22:00</td>\n",
       "      <td>2014-10-30 16:49:00</td>\n",
       "      <td>MD</td>\n",
       "      <td>...</td>\n",
       "      <td>45.0</td>\n",
       "      <td>35</td>\n",
       "      <td>42.0</td>\n",
       "      <td>RA</td>\n",
       "      <td>0.001</td>\n",
       "      <td>29.41</td>\n",
       "      <td>30.10</td>\n",
       "      <td>5.9</td>\n",
       "      <td>23</td>\n",
       "      <td>6.5</td>\n",
       "    </tr>\n",
       "    <tr>\n",
       "      <th>1471</th>\n",
       "      <td>2014-10-31</td>\n",
       "      <td>47</td>\n",
       "      <td>33</td>\n",
       "      <td>40.0</td>\n",
       "      <td>-6.0</td>\n",
       "      <td>25</td>\n",
       "      <td>33.0</td>\n",
       "      <td>2014-10-31 06:23:00</td>\n",
       "      <td>2014-10-31 16:47:00</td>\n",
       "      <td>RA SN</td>\n",
       "      <td>...</td>\n",
       "      <td>42.0</td>\n",
       "      <td>29</td>\n",
       "      <td>36.0</td>\n",
       "      <td>RA SN BR</td>\n",
       "      <td>0.040</td>\n",
       "      <td>29.54</td>\n",
       "      <td>30.20</td>\n",
       "      <td>21.7</td>\n",
       "      <td>34</td>\n",
       "      <td>22.6</td>\n",
       "    </tr>\n",
       "  </tbody>\n",
       "</table>\n",
       "<p>1472 rows × 29 columns</p>\n",
       "</div>"
      ],
      "text/plain": [
       "           Date  Tmax_1  Tmin_1  Tavg_1  Depart_1  DewPoint_1  WetBulb_1  \\\n",
       "0    2007-05-01      83      50    67.0      14.0          51       56.0   \n",
       "1    2007-05-02      59      42    51.0      -3.0          42       47.0   \n",
       "2    2007-05-03      66      46    56.0       2.0          40       48.0   \n",
       "3    2007-05-04      66      49    58.0       4.0          41       50.0   \n",
       "4    2007-05-05      66      53    60.0       5.0          38       49.0   \n",
       "...         ...     ...     ...     ...       ...         ...        ...   \n",
       "1467 2014-10-27      77      51    64.0      16.0          51       58.0   \n",
       "1468 2014-10-28      68      45    57.0      10.0          38       47.0   \n",
       "1469 2014-10-29      49      36    43.0      -4.0          32       40.0   \n",
       "1470 2014-10-30      51      32    42.0      -4.0          34       40.0   \n",
       "1471 2014-10-31      47      33    40.0      -6.0          25       33.0   \n",
       "\n",
       "               Sunrise_1            Sunset_1 CodeSum_1  ...  Tavg_2  \\\n",
       "0    2007-05-01 04:48:00 2007-05-01 18:49:00        MD  ...    68.0   \n",
       "1    2007-05-02 04:47:00 2007-05-02 18:50:00        BR  ...    52.0   \n",
       "2    2007-05-03 04:46:00 2007-05-03 18:51:00        MD  ...    58.0   \n",
       "3    2007-05-04 04:44:00 2007-05-04 18:52:00        RA  ...     NaN   \n",
       "4    2007-05-05 04:43:00 2007-05-05 18:53:00        MD  ...    60.0   \n",
       "...                  ...                 ...       ...  ...     ...   \n",
       "1467 2014-10-27 06:18:00 2014-10-27 16:53:00        MD  ...    67.0   \n",
       "1468 2014-10-28 06:19:00 2014-10-28 16:51:00        MD  ...    57.0   \n",
       "1469 2014-10-29 06:20:00 2014-10-29 16:50:00        MD  ...    45.0   \n",
       "1470 2014-10-30 06:22:00 2014-10-30 16:49:00        MD  ...    45.0   \n",
       "1471 2014-10-31 06:23:00 2014-10-31 16:47:00     RA SN  ...    42.0   \n",
       "\n",
       "      DewPoint_2  WetBulb_2  CodeSum_2  PrecipTotal_2  StnPressure_2  \\\n",
       "0             51       57.0         MD          0.000          29.18   \n",
       "1             42       47.0      BR HZ          0.000          29.44   \n",
       "2             40       50.0         HZ          0.000          29.46   \n",
       "3             42       50.0         MD          0.000          29.36   \n",
       "4             39       50.0         MD          0.001          29.46   \n",
       "...          ...        ...        ...            ...            ...   \n",
       "1467          52       59.0         RA          0.020          29.00   \n",
       "1468          40       48.0         RA          0.030          29.23   \n",
       "1469          34       42.0         MD          0.000          29.42   \n",
       "1470          35       42.0         RA          0.001          29.41   \n",
       "1471          29       36.0   RA SN BR          0.040          29.54   \n",
       "\n",
       "      SeaLevel_2  ResultSpeed_2  ResultDir_2  AvgSpeed_2  \n",
       "0          29.82            2.7           25         9.6  \n",
       "1          30.08           13.3            2        13.4  \n",
       "2          30.12           12.9            6        13.2  \n",
       "3          30.04           10.1            7        10.4  \n",
       "4          30.09           11.2            7        11.5  \n",
       "...          ...            ...          ...         ...  \n",
       "1467       29.67           12.7           19        13.6  \n",
       "1468       29.85           14.0           26        14.6  \n",
       "1469       30.07            8.5           29         9.0  \n",
       "1470       30.10            5.9           23         6.5  \n",
       "1471       30.20           21.7           34        22.6  \n",
       "\n",
       "[1472 rows x 29 columns]"
      ]
     },
     "execution_count": 26,
     "metadata": {},
     "output_type": "execute_result"
    }
   ],
   "source": [
    "# Merge weather_1 and weather_2 together\n",
    "weather_df = pd.merge(left=weather1,\n",
    "                     right=weather2,\n",
    "                     on='Date',\n",
    "                     suffixes=('_1', '_2'))\n",
    "\n",
    "# Dropping \"Station_1\" and \"Station_2\"\n",
    "weather_df.drop(columns=['Station_1', 'Station_2'], inplace=True)\n",
    "\n",
    "# Renaming Sunrise, Sunset, SnowFall with suffix _1\n",
    "weather_df.rename(columns={'Depart': 'Depart_1',\n",
    "                           'Sunrise': 'Sunrise_1',\n",
    "                           'Sunset': 'Sunset_1',\n",
    "                           'SnowFall': 'SnowFall_1'}, inplace=True)\n",
    "\n",
    "weather_df['Sunrise_1'] = pd.to_datetime(weather_df['Sunrise_1'], format='%H%M')\n",
    "\n",
    "# Checking if changes were done correctly\n",
    "weather_df"
   ]
  },
  {
   "cell_type": "markdown",
   "metadata": {},
   "source": [
    "#### Checking which columns missing values are coming from"
   ]
  },
  {
   "cell_type": "code",
   "execution_count": 27,
   "metadata": {
    "scrolled": true
   },
   "outputs": [
    {
     "data": {
      "text/plain": [
       "Tavg_2           11\n",
       "SeaLevel_1        5\n",
       "SeaLevel_2        4\n",
       "WetBulb_1         3\n",
       "AvgSpeed_2        3\n",
       "PrecipTotal_2     2\n",
       "StnPressure_2     2\n",
       "StnPressure_1     2\n",
       "WetBulb_2         1\n",
       "Tmin_1            0\n",
       "Tavg_1            0\n",
       "SnowFall_1        0\n",
       "Depart_1          0\n",
       "DewPoint_1        0\n",
       "Sunrise_1         0\n",
       "Sunset_1          0\n",
       "Tmax_1            0\n",
       "CodeSum_1         0\n",
       "ResultSpeed_1     0\n",
       "PrecipTotal_1     0\n",
       "ResultDir_2       0\n",
       "ResultDir_1       0\n",
       "AvgSpeed_1        0\n",
       "Tmax_2            0\n",
       "Tmin_2            0\n",
       "DewPoint_2        0\n",
       "CodeSum_2         0\n",
       "ResultSpeed_2     0\n",
       "Date              0\n",
       "dtype: int64"
      ]
     },
     "execution_count": 27,
     "metadata": {},
     "output_type": "execute_result"
    }
   ],
   "source": [
    "weather_df.isnull().sum().sort_values(ascending=False)"
   ]
  },
  {
   "cell_type": "markdown",
   "metadata": {},
   "source": [
    "#### Imputing Tavg_2 missing data with model using Tavg_1\n",
    "As Tavg_2 is highly collinear with Tavg_1, missing values from Tavg_2 would be imputed using OLS model using Tavg_1 as predictor."
   ]
  },
  {
   "cell_type": "code",
   "execution_count": 28,
   "metadata": {},
   "outputs": [
    {
     "name": "stdout",
     "output_type": "stream",
     "text": [
      "          Tavg_1    Tavg_2\n",
      "Tavg_1  1.000000  0.992288\n",
      "Tavg_2  0.992288  1.000000\n"
     ]
    },
    {
     "data": {
      "text/plain": [
       "<AxesSubplot:xlabel='Tavg_1', ylabel='Tavg_2'>"
      ]
     },
     "execution_count": 28,
     "metadata": {},
     "output_type": "execute_result"
    },
    {
     "data": {
      "image/png": "[encoded data removed]",
      "text/plain": [
       "<Figure size 432x288 with 1 Axes>"
      ]
     },
     "metadata": {
      "needs_background": "light"
     },
     "output_type": "display_data"
    }
   ],
   "source": [
    "# Checking if Tavg_1 and Tavg_2 are correlated\n",
    "print(weather_df[['Tavg_1', 'Tavg_2']].corr())\n",
    "sns.regplot(x='Tavg_1', y='Tavg_2', data=weather_df)"
   ]
  },
  {
   "cell_type": "code",
   "execution_count": 29,
   "metadata": {},
   "outputs": [
    {
     "name": "stdout",
     "output_type": "stream",
     "text": [
      "Train Score: 0.9840088837573961\n",
      "Train CV Score: 0.9838207971882893\n",
      "Test Score: 0.9867643556783723\n",
      "Coefficient: 0.9948824015847249\n",
      "Intercept: 1.6023004436676445\n"
     ]
    }
   ],
   "source": [
    "# Fit model using Tavg_1 and Tavg_2\n",
    "temp = weather_df[['Tavg_1', 'Tavg_2']].dropna()\n",
    "X = temp[['Tavg_1']]\n",
    "y = temp['Tavg_2']\n",
    "lr = fit_OLS_model(X, y, train_size=0.8, cv=5)\n",
    "\n",
    "# Impute missing value via prediction using linear model\n",
    "target = 'Tavg_2'\n",
    "predictor = 'Tavg_1'\n",
    "for i in weather_df[weather_df[target].isnull()].index:\n",
    "    weather_df.loc[i, target] = lr.predict([[weather_df.loc[i, predictor]]])"
   ]
  },
  {
   "cell_type": "markdown",
   "metadata": {},
   "source": [
    "#### Using StnPressure_1 and StnPressure_2 for imputation\n",
    "There is 1 missing data when trying to use either StnPressure_1  or StnPressure_2 for imputation for each other, to look for other predictors to fill the remaining missing values."
   ]
  },
  {
   "cell_type": "code",
   "execution_count": 30,
   "metadata": {},
   "outputs": [
    {
     "name": "stdout",
     "output_type": "stream",
     "text": [
      "               StnPressure_1  StnPressure_2\n",
      "StnPressure_1       1.000000       0.998212\n",
      "StnPressure_2       0.998212       1.000000\n"
     ]
    },
    {
     "data": {
      "text/plain": [
       "<AxesSubplot:xlabel='StnPressure_1', ylabel='StnPressure_2'>"
      ]
     },
     "execution_count": 30,
     "metadata": {},
     "output_type": "execute_result"
    },
    {
     "data": {
      "image/png": "[encoded data removed]",
      "text/plain": [
       "<Figure size 432x288 with 1 Axes>"
      ]
     },
     "metadata": {
      "needs_background": "light"
     },
     "output_type": "display_data"
    }
   ],
   "source": [
    "# Checking if StnPressure_1 and StnPressure_2 are correlated\n",
    "print(weather_df[['StnPressure_1', 'StnPressure_2']].corr())\n",
    "sns.regplot(x='StnPressure_1', y='StnPressure_2', data=weather_df)"
   ]
  },
  {
   "cell_type": "code",
   "execution_count": 31,
   "metadata": {},
   "outputs": [
    {
     "data": {
      "text/plain": [
       "424     29.2\n",
       "1205     NaN\n",
       "Name: StnPressure_2, dtype: float64"
      ]
     },
     "execution_count": 31,
     "metadata": {},
     "output_type": "execute_result"
    }
   ],
   "source": [
    "# There is a missing value if we are using StnPressure_2 values to impute for StnPressure_1\n",
    "# To look for other predictors as source of imputation\n",
    "weather_df[weather_df['StnPressure_1'].isnull()]['StnPressure_2']"
   ]
  },
  {
   "cell_type": "code",
   "execution_count": 32,
   "metadata": {},
   "outputs": [
    {
     "data": {
      "text/plain": [
       "43      29.36\n",
       "1205      NaN\n",
       "Name: StnPressure_1, dtype: float64"
      ]
     },
     "execution_count": 32,
     "metadata": {},
     "output_type": "execute_result"
    }
   ],
   "source": [
    "# There is a missing value if we are using StnPressure_1 values to impute for StnPressure_2\n",
    "# To look for other predictors as source of imputation\n",
    "weather_df[weather_df['StnPressure_2'].isnull()]['StnPressure_1']"
   ]
  },
  {
   "cell_type": "code",
   "execution_count": 33,
   "metadata": {},
   "outputs": [
    {
     "name": "stdout",
     "output_type": "stream",
     "text": [
      "For StnPressure_1\n",
      "Train Score: 0.9962937629594687\n",
      "Train CV Score: 0.9962532831804897\n",
      "Test Score: 0.9968994945824139\n",
      "Coefficient: 1.005038349695792\n",
      "Intercept: -0.20832017824454496\n",
      "For StnPressure_2\n",
      "Train Score: 0.9962937629594686\n",
      "Train CV Score: 0.9962540863323076\n",
      "Test Score: 0.9968952478936524\n",
      "Coefficient: 0.9912992506813582\n",
      "Intercept: 0.3151682612203466\n"
     ]
    }
   ],
   "source": [
    "# Fit model using StnPressure_1 and StnPressure_2\n",
    "temp = weather_df[['StnPressure_1', 'StnPressure_2']].dropna()\n",
    "\n",
    "#Modeling and Imputing for StnPressure_1\n",
    "print('For StnPressure_1')\n",
    "X = temp[['StnPressure_2']]\n",
    "y = temp['StnPressure_1']\n",
    "lr = fit_OLS_model(X, y, train_size=0.8, cv=5)\n",
    "\n",
    "# Impute missing value via prediction using linear model\n",
    "target = 'StnPressure_1'\n",
    "predictor = 'StnPressure_2'\n",
    "for i in weather_df[weather_df[target].isnull()].index:\n",
    "    if not(np.isnan(weather_df.loc[i, predictor])):\n",
    "        weather_df.loc[i, target] = lr.predict([[weather_df.loc[i, predictor]]])\n",
    "    \n",
    "    \n",
    "#Modeling and Imputing for StnPressure_2\n",
    "print('For StnPressure_2')\n",
    "X = temp[['StnPressure_1']]\n",
    "y = temp['StnPressure_2']\n",
    "lr = fit_OLS_model(X, y, train_size=0.8, cv=5)\n",
    "\n",
    "# Impute missing value via prediction using linear model\n",
    "target = 'StnPressure_2'\n",
    "predictor = 'StnPressure_1'\n",
    "for i in weather_df[weather_df[target].isnull()].index:\n",
    "    if not(np.isnan(weather_df.loc[i, predictor])):\n",
    "        weather_df.loc[i, target] = lr.predict([[weather_df.loc[i, predictor]]])"
   ]
  },
  {
   "cell_type": "markdown",
   "metadata": {},
   "source": [
    "#### Using SeaLevel to impute StnPressure"
   ]
  },
  {
   "cell_type": "code",
   "execution_count": 34,
   "metadata": {},
   "outputs": [
    {
     "name": "stdout",
     "output_type": "stream",
     "text": [
      "               StnPressure_1  SeaLevel_1\n",
      "StnPressure_1       1.000000    0.993643\n",
      "SeaLevel_1          0.993643    1.000000\n"
     ]
    },
    {
     "data": {
      "text/plain": [
       "<AxesSubplot:xlabel='SeaLevel_1', ylabel='StnPressure_1'>"
      ]
     },
     "execution_count": 34,
     "metadata": {},
     "output_type": "execute_result"
    },
    {
     "data": {
      "image/png": "[encoded data removed]",
      "text/plain": [
       "<Figure size 432x288 with 1 Axes>"
      ]
     },
     "metadata": {
      "needs_background": "light"
     },
     "output_type": "display_data"
    }
   ],
   "source": [
    "# Checking if SeaLevel_1 and StnPressure_1 are correlated to use for imputation\n",
    "print(weather_df[['StnPressure_1', 'SeaLevel_1']].corr())\n",
    "sns.regplot(x='SeaLevel_1', y='StnPressure_1', data=weather_df)"
   ]
  },
  {
   "cell_type": "code",
   "execution_count": 35,
   "metadata": {},
   "outputs": [
    {
     "name": "stdout",
     "output_type": "stream",
     "text": [
      "Train Score: 0.9867446004080416\n",
      "Train CV Score: 0.9864941964814136\n",
      "Test Score: 0.9894378883879629\n",
      "Coefficient: 0.9794838492654315\n",
      "Intercept: -0.10392655852587751\n"
     ]
    }
   ],
   "source": [
    "# Model and impute StnPressure_1 using SeaLevel_1\n",
    "temp = weather_df[['StnPressure_1', 'SeaLevel_1']].dropna()\n",
    "X = temp[['SeaLevel_1']]\n",
    "y = temp['StnPressure_1']\n",
    "fit_OLS_model(X, y, train_size=0.8, cv=5)\n",
    "\n",
    "# Impute missing value via prediction using linear model\n",
    "target = 'StnPressure_1'\n",
    "predictor = 'SeaLevel_1'\n",
    "for i in weather_df[weather_df[target].isnull()].index:\n",
    "    weather_df.loc[i, target] = lr.predict([[weather_df.loc[i, predictor]]])"
   ]
  },
  {
   "cell_type": "code",
   "execution_count": 36,
   "metadata": {},
   "outputs": [
    {
     "name": "stdout",
     "output_type": "stream",
     "text": [
      "               StnPressure_2  SeaLevel_2\n",
      "StnPressure_2       1.000000    0.991628\n",
      "SeaLevel_2          0.991628    1.000000\n"
     ]
    },
    {
     "data": {
      "text/plain": [
       "<AxesSubplot:xlabel='SeaLevel_2', ylabel='StnPressure_2'>"
      ]
     },
     "execution_count": 36,
     "metadata": {},
     "output_type": "execute_result"
    },
    {
     "data": {
      "image/png": "[encoded data removed]",
      "text/plain": [
       "<Figure size 432x288 with 1 Axes>"
      ]
     },
     "metadata": {
      "needs_background": "light"
     },
     "output_type": "display_data"
    }
   ],
   "source": [
    "# Checking if SeaLevel_2 and StnPressure_2 are correlated to use for imputation\n",
    "print(weather_df[['StnPressure_2', 'SeaLevel_2']].corr())\n",
    "sns.regplot(x='SeaLevel_2', y='StnPressure_2', data=weather_df)"
   ]
  },
  {
   "cell_type": "code",
   "execution_count": 37,
   "metadata": {},
   "outputs": [
    {
     "name": "stdout",
     "output_type": "stream",
     "text": [
      "Train Score: 0.9828848857831869\n",
      "Train CV Score: 0.9826193032229069\n",
      "Test Score: 0.984802286260711\n",
      "Coefficient: 0.9680718619108806\n",
      "Intercept: 0.3075384459098487\n"
     ]
    }
   ],
   "source": [
    "# Model and impute StnPressure_1 using SeaLevel_1\n",
    "temp = weather_df[['StnPressure_2', 'SeaLevel_2']].dropna()\n",
    "X = temp[['SeaLevel_2']]\n",
    "y = temp['StnPressure_2']\n",
    "fit_OLS_model(X, y, train_size=0.8, cv=5)\n",
    "\n",
    "# Impute missing value via prediction using linear model\n",
    "target = 'StnPressure_2'\n",
    "predictor = 'SeaLevel_2'\n",
    "for i in weather_df[weather_df[target].isnull()].index:\n",
    "    weather_df.loc[i, target] = lr.predict([[weather_df.loc[i, predictor]]])"
   ]
  },
  {
   "cell_type": "markdown",
   "metadata": {},
   "source": [
    "#### Imputing for WetBulb_1 and WetBulb_2"
   ]
  },
  {
   "cell_type": "code",
   "execution_count": 38,
   "metadata": {},
   "outputs": [
    {
     "name": "stdout",
     "output_type": "stream",
     "text": [
      "           WetBulb_1  WetBulb_2\n",
      "WetBulb_1   1.000000   0.994167\n",
      "WetBulb_2   0.994167   1.000000\n"
     ]
    },
    {
     "data": {
      "text/plain": [
       "<AxesSubplot:xlabel='WetBulb_1', ylabel='WetBulb_2'>"
      ]
     },
     "execution_count": 38,
     "metadata": {},
     "output_type": "execute_result"
    },
    {
     "data": {
      "image/png": "[encoded data removed]",
      "text/plain": [
       "<Figure size 432x288 with 1 Axes>"
      ]
     },
     "metadata": {
      "needs_background": "light"
     },
     "output_type": "display_data"
    }
   ],
   "source": [
    "# Checking if WetBulb_1 and WetBulb_2 are correlated to use for imputation\n",
    "print(weather_df[['WetBulb_1', 'WetBulb_2']].corr())\n",
    "sns.regplot(x='WetBulb_1', y='WetBulb_2', data=weather_df)"
   ]
  },
  {
   "cell_type": "code",
   "execution_count": 39,
   "metadata": {},
   "outputs": [
    {
     "name": "stdout",
     "output_type": "stream",
     "text": [
      "For WetBulb_1\n",
      "Train Score: 0.9885044205748277\n",
      "Train CV Score: 0.9883210880374598\n",
      "Test Score: 0.9877777336453579\n",
      "Coefficient: 1.000814977318124\n",
      "Intercept: -0.5791687352401738\n",
      "For WetBulb_2\n",
      "Train Score: 0.9885044205748277\n",
      "Train CV Score: 0.9883156237759081\n",
      "Test Score: 0.9877627325977675\n",
      "Coefficient: 0.9876994679113561\n",
      "Intercept: 1.256217671726155\n"
     ]
    }
   ],
   "source": [
    "# Fit model using WetBulb_1 and WetBulb_2\n",
    "temp = weather_df[['WetBulb_1', 'WetBulb_2']].dropna()\n",
    "\n",
    "#Modeling and Imputing for WetBulb_1\n",
    "print('For WetBulb_1')\n",
    "X = temp[['WetBulb_2']]\n",
    "y = temp['WetBulb_1']\n",
    "lr = fit_OLS_model(X, y, train_size=0.8, cv=5)\n",
    "\n",
    "# Impute missing value via prediction using linear model\n",
    "target = 'WetBulb_1'\n",
    "predictor = 'WetBulb_2'\n",
    "for i in weather_df[weather_df[target].isnull()].index:\n",
    "    if not(np.isnan(weather_df.loc[i, predictor])):\n",
    "        weather_df.loc[i, target] = lr.predict([[weather_df.loc[i, predictor]]])\n",
    "    \n",
    "    \n",
    "#Modeling and Imputing for WetBulb_2\n",
    "print('For WetBulb_2')\n",
    "X = temp[['WetBulb_1']]\n",
    "y = temp['WetBulb_2']\n",
    "lr = fit_OLS_model(X, y, train_size=0.8, cv=5)\n",
    "\n",
    "# Impute missing value via prediction using linear model\n",
    "target = 'WetBulb_2'\n",
    "predictor = 'WetBulb_1'\n",
    "for i in weather_df[weather_df[target].isnull()].index:\n",
    "    if not(np.isnan(weather_df.loc[i, predictor])):\n",
    "        weather_df.loc[i, target] = lr.predict([[weather_df.loc[i, predictor]]])"
   ]
  },
  {
   "cell_type": "markdown",
   "metadata": {},
   "source": [
    "#### Imputing for AvgSpeed_2"
   ]
  },
  {
   "cell_type": "code",
   "execution_count": 40,
   "metadata": {},
   "outputs": [
    {
     "name": "stdout",
     "output_type": "stream",
     "text": [
      "            AvgSpeed_1  AvgSpeed_2\n",
      "AvgSpeed_1    1.000000    0.950779\n",
      "AvgSpeed_2    0.950779    1.000000\n"
     ]
    },
    {
     "data": {
      "text/plain": [
       "<AxesSubplot:xlabel='AvgSpeed_1', ylabel='AvgSpeed_2'>"
      ]
     },
     "execution_count": 40,
     "metadata": {},
     "output_type": "execute_result"
    },
    {
     "data": {
      "image/png": "[encoded data removed]",
      "text/plain": [
       "<Figure size 432x288 with 1 Axes>"
      ]
     },
     "metadata": {
      "needs_background": "light"
     },
     "output_type": "display_data"
    }
   ],
   "source": [
    "# Checking if AvgSpeed_1 and AvgSpeed_2 are correlated to use for imputation\n",
    "print(weather_df[['AvgSpeed_1', 'AvgSpeed_2']].corr())\n",
    "sns.regplot(x='AvgSpeed_1', y='AvgSpeed_2', data=weather_df)"
   ]
  },
  {
   "cell_type": "code",
   "execution_count": 41,
   "metadata": {},
   "outputs": [
    {
     "name": "stdout",
     "output_type": "stream",
     "text": [
      "For AvgSpeed_2\n",
      "Train Score: 0.9063718971133733\n",
      "Train CV Score: 0.9043196124722789\n",
      "Test Score: 0.8934017556138528\n",
      "Coefficient: 0.9240877554860656\n",
      "Intercept: 0.6697866952739204\n"
     ]
    }
   ],
   "source": [
    "# Fit model using AvgSpeed_1 and AvgSpeed_2\n",
    "temp = weather_df[['AvgSpeed_1', 'AvgSpeed_2']].dropna()\n",
    "\n",
    "#Modeling and Imputing for AvgSpeed_2\n",
    "print('For AvgSpeed_2')\n",
    "X = temp[['AvgSpeed_1']]\n",
    "y = temp['AvgSpeed_2']\n",
    "lr = fit_OLS_model(X, y, train_size=0.8, cv=5)\n",
    "\n",
    "# Impute missing value via prediction using linear model\n",
    "target = 'AvgSpeed_2'\n",
    "predictor = 'AvgSpeed_1'\n",
    "for i in weather_df[weather_df[target].isnull()].index:\n",
    "    if not(np.isnan(weather_df.loc[i, predictor])):\n",
    "        weather_df.loc[i, target] = lr.predict([[weather_df.loc[i, predictor]]])"
   ]
  },
  {
   "cell_type": "markdown",
   "metadata": {},
   "source": [
    "#### Checking if PrecipTotal_2 can be imputed using PrecipTotal_1"
   ]
  },
  {
   "cell_type": "code",
   "execution_count": 42,
   "metadata": {},
   "outputs": [
    {
     "name": "stdout",
     "output_type": "stream",
     "text": [
      "               PrecipTotal_1  PrecipTotal_2\n",
      "PrecipTotal_1       1.000000       0.669436\n",
      "PrecipTotal_2       0.669436       1.000000\n"
     ]
    },
    {
     "data": {
      "text/plain": [
       "<AxesSubplot:xlabel='PrecipTotal_1', ylabel='PrecipTotal_2'>"
      ]
     },
     "execution_count": 42,
     "metadata": {},
     "output_type": "execute_result"
    },
    {
     "data": {
      "image/png": "[encoded data removed]",
      "text/plain": [
       "<Figure size 432x288 with 1 Axes>"
      ]
     },
     "metadata": {
      "needs_background": "light"
     },
     "output_type": "display_data"
    }
   ],
   "source": [
    "# Checking if AvgSpeed_1 and AvgSpeed_2 are correlated to use for imputation\n",
    "print(weather_df[['PrecipTotal_1', 'PrecipTotal_2']].corr())\n",
    "sns.regplot(x='PrecipTotal_1', y='PrecipTotal_2', data=weather_df)"
   ]
  },
  {
   "cell_type": "code",
   "execution_count": 43,
   "metadata": {},
   "outputs": [],
   "source": [
    "# Since the correlation is less than ideal, to impute PrecipTotal_2 using median of PrecipTotal_2 instead\n",
    "weather_df['PrecipTotal_2'].fillna(weather_df['PrecipTotal_2'].median(), inplace=True)"
   ]
  },
  {
   "cell_type": "code",
   "execution_count": 44,
   "metadata": {},
   "outputs": [],
   "source": [
    "# Since SeaLevel_1 and SeaLevel_2 are highly correlated to StnPressure, to drop SeaLevel_1 and SeaLevel_2 instead\n",
    "weather_df.drop(columns=['SeaLevel_1', 'SeaLevel_2'], inplace=True)"
   ]
  },
  {
   "cell_type": "code",
   "execution_count": 45,
   "metadata": {},
   "outputs": [
    {
     "data": {
      "text/plain": [
       "Date             0\n",
       "Tmax_1           0\n",
       "Tmin_1           0\n",
       "Tavg_1           0\n",
       "Depart_1         0\n",
       "DewPoint_1       0\n",
       "WetBulb_1        0\n",
       "Sunrise_1        0\n",
       "Sunset_1         0\n",
       "CodeSum_1        0\n",
       "SnowFall_1       0\n",
       "PrecipTotal_1    0\n",
       "StnPressure_1    0\n",
       "ResultSpeed_1    0\n",
       "ResultDir_1      0\n",
       "AvgSpeed_1       0\n",
       "Tmax_2           0\n",
       "Tmin_2           0\n",
       "Tavg_2           0\n",
       "DewPoint_2       0\n",
       "WetBulb_2        0\n",
       "CodeSum_2        0\n",
       "PrecipTotal_2    0\n",
       "StnPressure_2    0\n",
       "ResultSpeed_2    0\n",
       "ResultDir_2      0\n",
       "AvgSpeed_2       0\n",
       "dtype: int64"
      ]
     },
     "execution_count": 45,
     "metadata": {},
     "output_type": "execute_result"
    }
   ],
   "source": [
    "# Check that all missing values are addressed\n",
    "weather_df.isnull().sum()"
   ]
  },
  {
   "cell_type": "markdown",
   "metadata": {},
   "source": [
    "#### Output as csv"
   ]
  },
  {
   "cell_type": "code",
   "execution_count": 46,
   "metadata": {},
   "outputs": [],
   "source": [
    "# Write to csv\n",
    "weather_df.to_csv('../assets_clean/weather_clean.csv', index=False)"
   ]
  }
 ],
 "metadata": {
  "kernelspec": {
   "display_name": "Python 3",
   "language": "python",
   "name": "python3"
  },
  "language_info": {
   "codemirror_mode": {
    "name": "ipython",
    "version": 3
   },
   "file_extension": ".py",
   "mimetype": "text/x-python",
   "name": "python",
   "nbconvert_exporter": "python",
   "pygments_lexer": "ipython3",
   "version": "3.7.1"
  }
 },
 "nbformat": 4,
 "nbformat_minor": 5
}
