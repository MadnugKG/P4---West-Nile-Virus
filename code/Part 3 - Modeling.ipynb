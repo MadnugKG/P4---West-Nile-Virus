{
 "cells": [
  {
   "cell_type": "markdown",
   "id": "a42b6f74",
   "metadata": {},
   "source": [
    "![](../assets/images/banner.png)"
   ]
  },
  {
   "cell_type": "markdown",
   "id": "69433b12",
   "metadata": {},
   "source": [
    "# Part 3: Modeling"
   ]
  },
  {
   "cell_type": "markdown",
   "id": "47b645b0",
   "metadata": {},
   "source": [
    "## Summary"
   ]
  },
  {
   "cell_type": "markdown",
   "id": "dd547d38",
   "metadata": {},
   "source": [
    "In this section, with the cleaned 'train_weather_weekly' dataset, we can now proceed to modeling. We will be using the following models. They are\n",
    "\n",
    "* Logistic Regression\n",
    "* Naive Bayes\n",
    "* Random Forest\n",
    "* Extra Trees\n",
    "* AdaBoost\n",
    "* GradientBoost\n",
    "\n",
    "The 'train_weather_weekly' dataset is split into 80% train and validation set, 20% test set. GridSearch CV is applied across 5 folds on the data, to find the best hyperparameters for all the models. We will also evaluate the results of each of the model to help us gain more perpective on the West Nile Virus.\n",
    "\n",
    "Do note that the data is heavily imbalanced (the baseline score is ~94.12%). Thus, after determining the best hyperparameters for each of the model, we will re-fit the model using over-sampled data, which is obtained using SMOTE (Synthetic Minority Over-sampling Technique).\n",
    "\n",
    "To determine the final model to use to perform the predictions in the test dataset, we will assess the models using the following metrics. We will primarily look at:\n",
    "* AUC Score\n",
    "* Training Score\n",
    "* Test Score\n",
    "* Recall\n",
    "* Precision\n",
    "\n",
    "\n",
    "Why do we want to look at AUC score then? As earlier stated, our dataset is heavily imbalanced and the baseline accuracy is ~94%. This means that, if our model predicts that every point is Wnv NOT present, our accuracy is 94%. Thus, accuracy is not the best metric for validation in this situation. AUC, on the other hand, utilizes probabilites of class prediction and provides an aggregate measure of performance across all possible classification thresholds. This allows us to be able to more precisely evaluate and compare the models.\n",
    "\n",
    "Our final selected model is the GradientBoostingClassifier(max_depth=2, min_samples_leaf=2). After running this model on the test dataset, we achieved a Kaggle Score of 0.49709.\n"
   ]
  },
  {
   "cell_type": "markdown",
   "id": "4b909f38",
   "metadata": {},
   "source": [
    "## Outline\n",
    "\n",
    "* [Section 1: Preprocessing](#sec_1)\n",
    "* [Section 2: Hyperparameter Tuning & Modeling](#sec_2)\n",
    "    * 2.1 Logsitic Regression\n",
    "    * 2.2 Naives Bayes\n",
    "    * 2.3 Random Forest\n",
    "    * 2.4 EctraTrees\n",
    "    * 2.5 AdaBoost\n",
    "    * 2.6 GradientBoost\n",
    "* [Section 3: Final Model Selection](#sec_3)\n",
    "* [Section 4: Cleaning & Preprocessing for Test dataset](#sec_4)\n",
    "* [Section 5: Kaggle Submission](#sec_5)\n",
    "* [Section 6: Future Recommendations](#sec_6)"
   ]
  },
  {
   "cell_type": "code",
   "execution_count": 1,
   "id": "2cb77cbe",
   "metadata": {},
   "outputs": [],
   "source": [
    "# Import libraries\n",
    "import pandas as pd\n",
    "import numpy as np\n",
    "import matplotlib.pyplot as plt\n",
    "import pickle\n",
    "\n",
    "\n",
    "from sklearn.preprocessing import StandardScaler\n",
    "from sklearn.pipeline import Pipeline\n",
    "from sklearn.model_selection import train_test_split, GridSearchCV, cross_val_score\n",
    "from sklearn.linear_model import LogisticRegression\n",
    "from sklearn.metrics import confusion_matrix, plot_confusion_matrix, plot_roc_curve, precision_recall_fscore_support,  roc_auc_score\n",
    "from sklearn.naive_bayes import GaussianNB, BernoulliNB, ComplementNB, MultinomialNB\n",
    "from sklearn.ensemble import RandomForestClassifier, ExtraTreesClassifier, AdaBoostClassifier, GradientBoostingClassifier\n",
    "from sklearn.tree import DecisionTreeClassifier\n",
    "from sklearn.svm import SVC\n",
    "\n",
    "from imblearn.over_sampling import SMOTE\n",
    "from imblearn.pipeline import Pipeline\n",
    "\n",
    "from datetime import datetime as dt\n",
    "from metpy.units import units\n",
    "import metpy.calc as mpcalc"
   ]
  },
  {
   "cell_type": "markdown",
   "id": "4ee8b96a",
   "metadata": {},
   "source": [
    "## <a name=\"sec_1\"></a>Section 1: Preprocessing"
   ]
  },
  {
   "cell_type": "markdown",
   "id": "ace0cec6",
   "metadata": {},
   "source": [
    "We will be dropping the features 'Year-Week', 'Year', 'Month', 'Week', 'Species', 'NumMosquitos'.\n",
    "\n",
    "For 'NumMosquitos', we will drop this because this feature is not present in the test dataset. We ran a few linear regression models to predict the NumMosquitos in the test dataset. However, we did not get successful enough results to improve our final model in the prediction of the presence of the Wnv Virus.\n",
    "\n",
    "For 'Species', we will drop this column as the column 'Is WnV Present' is already indicative of the Species as only certain type of species were found to contain the Wnv Virus.\n",
    "\n",
    "For 'Year-Week', 'Year', 'Month' and 'Week', we iniitally thought these to be useful as there are should be more mosquitos and hence a greater probability of the presence of the Wnv Virus in certain times of the year. However, these are already covered and touched upon by the other features which describe the weather."
   ]
  },
  {
   "cell_type": "code",
   "execution_count": 2,
   "id": "8b67d846",
   "metadata": {},
   "outputs": [],
   "source": [
    "df = pd.read_csv('../assets/cleaned_datasets/train_weather_weekly.csv')"
   ]
  },
  {
   "cell_type": "code",
   "execution_count": 3,
   "id": "5b01485c",
   "metadata": {},
   "outputs": [],
   "source": [
    "# Setting the variables\n",
    "X = df[[col for col in df.columns if col not in ['WnvPresent', 'Year-Week', 'Year', 'Month', 'Week','Species','NumMosquitos']]]\n",
    "y = df['WnvPresent']"
   ]
  },
  {
   "cell_type": "markdown",
   "id": "5946bd2f",
   "metadata": {},
   "source": [
    "## <a name=\"sec_2\"></a>Section 2: Hyperparameter Tuning & Modeling\n",
    "\n",
    "In this section, we will run hyperparameter tuning for the models chosen. Then, since the data is heavily imbalanced, we will re-fit the model using the over-sampled data, which is obtained using SMOTE and obtain the train and test scores. \n",
    "\n"
   ]
  },
  {
   "cell_type": "code",
   "execution_count": 4,
   "id": "3585076b",
   "metadata": {},
   "outputs": [],
   "source": [
    "# train test split\n",
    "X_train, X_test, y_train, y_test = train_test_split(X, y, random_state=42, test_size = 0.2, stratify=y)"
   ]
  },
  {
   "cell_type": "markdown",
   "id": "be42aaf4",
   "metadata": {},
   "source": [
    "### Baseline Prediction"
   ]
  },
  {
   "cell_type": "code",
   "execution_count": 5,
   "id": "278307da",
   "metadata": {},
   "outputs": [
    {
     "data": {
      "text/plain": [
       "0    0.941245\n",
       "1    0.058755\n",
       "Name: WnvPresent, dtype: float64"
      ]
     },
     "execution_count": 5,
     "metadata": {},
     "output_type": "execute_result"
    }
   ],
   "source": [
    "# Look at the proportions of each outcome\n",
    "y_train.value_counts(normalize=True)"
   ]
  },
  {
   "cell_type": "markdown",
   "id": "aa5cab35",
   "metadata": {},
   "source": [
    "The data is heavily imbalanced. We will be ~94% accurate if we were to predict all to be the negative class (WNV not present). As such, we will be optimizing our models using AUC score instead of accuracy. We will also deploy SMOTE (Synthetic Minority Over-sampling Technique) to help us with over-sampling."
   ]
  },
  {
   "cell_type": "code",
   "execution_count": 6,
   "id": "4edab3db",
   "metadata": {},
   "outputs": [],
   "source": [
    "# Scaling\n",
    "ss = StandardScaler()\n",
    "Xs_train = ss.fit_transform(X_train)\n",
    "Xs_test = ss.transform(X_test)"
   ]
  },
  {
   "cell_type": "code",
   "execution_count": 7,
   "id": "ba23bc68",
   "metadata": {},
   "outputs": [],
   "source": [
    "# Instantiate SMOTE\n",
    "sm = SMOTE(random_state=42)\n",
    "\n",
    "Xsm_train, ysm_train = sm.fit_resample(Xs_train, y_train)"
   ]
  },
  {
   "cell_type": "code",
   "execution_count": 8,
   "id": "4ede1d83",
   "metadata": {},
   "outputs": [
    {
     "data": {
      "text/plain": [
       "0    5687\n",
       "1    5687\n",
       "Name: WnvPresent, dtype: int64"
      ]
     },
     "execution_count": 8,
     "metadata": {},
     "output_type": "execute_result"
    }
   ],
   "source": [
    "# Check proportions after SMOTE\n",
    "ysm_train.value_counts()"
   ]
  },
  {
   "cell_type": "markdown",
   "id": "fac11c2a",
   "metadata": {},
   "source": [
    "When we apply GridSearchCV to perform hyperparameter tuning, we will need to utilize an `imblearn.Pipeline` object to handle the imbalanced dataset correctly. The over-sampled data will only be used when evaluating the train and test scores. "
   ]
  },
  {
   "cell_type": "markdown",
   "id": "0c5c2392",
   "metadata": {},
   "source": [
    "### 2.1 Logistic Regression"
   ]
  },
  {
   "cell_type": "code",
   "execution_count": 9,
   "id": "f7e566f4",
   "metadata": {},
   "outputs": [
    {
     "name": "stdout",
     "output_type": "stream",
     "text": [
      "Fitting Logistic Regression\n",
      "Fitting 5 folds for each of 5 candidates, totalling 25 fits\n",
      "The best parameters are Pipeline(steps=[('sampling', SMOTE(random_state=42)),\n",
      "                ('lr', LogisticRegression(solver='newton-cg'))]).\n",
      "CPU times: user 1.3 s, sys: 530 ms, total: 1.83 s\n",
      "Wall time: 3.58 s\n"
     ]
    }
   ],
   "source": [
    "%%time\n",
    "# This framework will be the one we use for our modelling\n",
    "\n",
    "print(f'Fitting Logistic Regression')      # Prints out what model that we are using \n",
    "\n",
    "# Set up pipeline\n",
    "lr_pipe = Pipeline([\n",
    "        ('sampling', SMOTE(random_state=42)),\n",
    "        ('lr', LogisticRegression(solver='newton-cg'))\n",
    "    ])\n",
    "\n",
    "# Hyperparameters\n",
    "lr_params = {\n",
    "    'lr__C': np.linspace(0.1,1,5),\n",
    "}\n",
    "\n",
    "# Instantiate 5-fold GridSearchCV.\n",
    "gs_lr = GridSearchCV(lr_pipe, param_grid = lr_params, cv=5,\n",
    "                     scoring='roc_auc', n_jobs=-1, verbose=1)\n",
    "\n",
    "# Fit\n",
    "gs_lr.fit(Xs_train, y_train)\n",
    "\n",
    "\n",
    "# See results\n",
    "print(f'The best parameters are {gs_lr.best_estimator_}.')"
   ]
  },
  {
   "cell_type": "markdown",
   "id": "6a761b2c",
   "metadata": {},
   "source": [
    "Using these best hyperparameters, we will re-fit the model based on the over-sampled data and obtain the scoring metrics"
   ]
  },
  {
   "cell_type": "code",
   "execution_count": 10,
   "id": "22d6f685",
   "metadata": {},
   "outputs": [
    {
     "data": {
      "text/plain": [
       "LogisticRegression(solver='newton-cg')"
      ]
     },
     "execution_count": 10,
     "metadata": {},
     "output_type": "execute_result"
    }
   ],
   "source": [
    "# Re-fit model on over-sampled data\n",
    "lr = LogisticRegression(solver='newton-cg')\n",
    "lr.fit(Xsm_train, ysm_train)"
   ]
  },
  {
   "cell_type": "code",
   "execution_count": 11,
   "id": "07fc6f96",
   "metadata": {},
   "outputs": [],
   "source": [
    "# Create list to store all the scores and corresponding model names\n",
    "model_name = []\n",
    "model_scores = []\n",
    "model_var = []\n",
    "model_test_scores = []\n",
    "\n",
    "\n",
    "model_name.append('Logistic Regression')\n",
    "model_scores.append(lr.score(Xsm_train, ysm_train))\n",
    "model_var.append(lr)\n",
    "model_test_scores.append(lr.score(Xs_test,y_test))"
   ]
  },
  {
   "cell_type": "markdown",
   "id": "c383ffdb",
   "metadata": {},
   "source": [
    "### Evaluating Logistic Regression Results"
   ]
  },
  {
   "cell_type": "markdown",
   "id": "ac6aa987",
   "metadata": {},
   "source": [
    "Let us find the factors/coeffciencts that had the most influence and try to make sense of it"
   ]
  },
  {
   "cell_type": "code",
   "execution_count": 12,
   "id": "08c5f7dd",
   "metadata": {
    "scrolled": true
   },
   "outputs": [
    {
     "data": {
      "text/html": [
       "<div>\n",
       "<style scoped>\n",
       "    .dataframe tbody tr th:only-of-type {\n",
       "        vertical-align: middle;\n",
       "    }\n",
       "\n",
       "    .dataframe tbody tr th {\n",
       "        vertical-align: top;\n",
       "    }\n",
       "\n",
       "    .dataframe thead th {\n",
       "        text-align: right;\n",
       "    }\n",
       "</style>\n",
       "<table border=\"1\" class=\"dataframe\">\n",
       "  <thead>\n",
       "    <tr style=\"text-align: right;\">\n",
       "      <th></th>\n",
       "      <th>weights</th>\n",
       "    </tr>\n",
       "  </thead>\n",
       "  <tbody>\n",
       "    <tr>\n",
       "      <th>Tavg_1</th>\n",
       "      <td>2.742006</td>\n",
       "    </tr>\n",
       "    <tr>\n",
       "      <th>Tmax_1</th>\n",
       "      <td>2.437016</td>\n",
       "    </tr>\n",
       "    <tr>\n",
       "      <th>RH_1</th>\n",
       "      <td>1.994128</td>\n",
       "    </tr>\n",
       "    <tr>\n",
       "      <th>AvgSpeed_2</th>\n",
       "      <td>1.765830</td>\n",
       "    </tr>\n",
       "    <tr>\n",
       "      <th>Tmin_1</th>\n",
       "      <td>1.482819</td>\n",
       "    </tr>\n",
       "    <tr>\n",
       "      <th>Is Wnv Mosquitoes Types</th>\n",
       "      <td>1.383828</td>\n",
       "    </tr>\n",
       "    <tr>\n",
       "      <th>WetBulb_1</th>\n",
       "      <td>1.269261</td>\n",
       "    </tr>\n",
       "    <tr>\n",
       "      <th>Tmax_2</th>\n",
       "      <td>1.265871</td>\n",
       "    </tr>\n",
       "    <tr>\n",
       "      <th>DewPoint_1</th>\n",
       "      <td>1.011346</td>\n",
       "    </tr>\n",
       "    <tr>\n",
       "      <th>PrecipTotal_2</th>\n",
       "      <td>0.981208</td>\n",
       "    </tr>\n",
       "    <tr>\n",
       "      <th>At_Least_One_Tmin_2_Below_50F</th>\n",
       "      <td>0.905640</td>\n",
       "    </tr>\n",
       "    <tr>\n",
       "      <th>At_Least_One_Wet_Weather_2</th>\n",
       "      <td>0.838325</td>\n",
       "    </tr>\n",
       "    <tr>\n",
       "      <th>SnowFall_1</th>\n",
       "      <td>0.779521</td>\n",
       "    </tr>\n",
       "    <tr>\n",
       "      <th>StnPressure_1</th>\n",
       "      <td>0.766841</td>\n",
       "    </tr>\n",
       "    <tr>\n",
       "      <th>Tmin_2</th>\n",
       "      <td>0.645590</td>\n",
       "    </tr>\n",
       "    <tr>\n",
       "      <th>At_Least_One_Wet_Weather_2_shift14</th>\n",
       "      <td>0.570238</td>\n",
       "    </tr>\n",
       "    <tr>\n",
       "      <th>At_Least_One_Wet_Weather_2_shift7</th>\n",
       "      <td>0.566982</td>\n",
       "    </tr>\n",
       "    <tr>\n",
       "      <th>ResultDir_1</th>\n",
       "      <td>0.552503</td>\n",
       "    </tr>\n",
       "    <tr>\n",
       "      <th>At_Least_One_Wet_Weather_1_shift21</th>\n",
       "      <td>0.543006</td>\n",
       "    </tr>\n",
       "    <tr>\n",
       "      <th>dist_from_s1</th>\n",
       "      <td>0.482664</td>\n",
       "    </tr>\n",
       "    <tr>\n",
       "      <th>PrecipTotal_2_shift14</th>\n",
       "      <td>0.456044</td>\n",
       "    </tr>\n",
       "    <tr>\n",
       "      <th>At_Least_One_Wet_Weather_1_shift28</th>\n",
       "      <td>0.339927</td>\n",
       "    </tr>\n",
       "    <tr>\n",
       "      <th>PrecipTotal_2_shift28</th>\n",
       "      <td>0.318479</td>\n",
       "    </tr>\n",
       "    <tr>\n",
       "      <th>StnPressure_2</th>\n",
       "      <td>0.282772</td>\n",
       "    </tr>\n",
       "    <tr>\n",
       "      <th>At_Least_One_Tmin_1_Below_50F</th>\n",
       "      <td>0.249069</td>\n",
       "    </tr>\n",
       "    <tr>\n",
       "      <th>PrecipTotal_1_shift21</th>\n",
       "      <td>0.201795</td>\n",
       "    </tr>\n",
       "    <tr>\n",
       "      <th>At_Least_One_Wet_Weather_2_shift21</th>\n",
       "      <td>0.052011</td>\n",
       "    </tr>\n",
       "    <tr>\n",
       "      <th>PrecipTotal_1_shift7</th>\n",
       "      <td>0.000894</td>\n",
       "    </tr>\n",
       "    <tr>\n",
       "      <th>At_Least_One_Tavg_2_Below_50F</th>\n",
       "      <td>0.000000</td>\n",
       "    </tr>\n",
       "    <tr>\n",
       "      <th>Longitude</th>\n",
       "      <td>-0.084577</td>\n",
       "    </tr>\n",
       "    <tr>\n",
       "      <th>PrecipTotal_1_shift14</th>\n",
       "      <td>-0.136981</td>\n",
       "    </tr>\n",
       "    <tr>\n",
       "      <th>PrecipTotal_2_shift7</th>\n",
       "      <td>-0.177980</td>\n",
       "    </tr>\n",
       "    <tr>\n",
       "      <th>PrecipTotal_1</th>\n",
       "      <td>-0.258072</td>\n",
       "    </tr>\n",
       "    <tr>\n",
       "      <th>At_Least_One_Wet_Weather_2_shift28</th>\n",
       "      <td>-0.280240</td>\n",
       "    </tr>\n",
       "    <tr>\n",
       "      <th>ResultDir_2</th>\n",
       "      <td>-0.300576</td>\n",
       "    </tr>\n",
       "    <tr>\n",
       "      <th>ResultSpeed_2</th>\n",
       "      <td>-0.410840</td>\n",
       "    </tr>\n",
       "    <tr>\n",
       "      <th>At_Least_One_Wet_Weather_1_shift14</th>\n",
       "      <td>-0.415931</td>\n",
       "    </tr>\n",
       "    <tr>\n",
       "      <th>At_Least_One_Tavg_1_Below_50F</th>\n",
       "      <td>-0.436708</td>\n",
       "    </tr>\n",
       "    <tr>\n",
       "      <th>Tavg_2</th>\n",
       "      <td>-0.439914</td>\n",
       "    </tr>\n",
       "    <tr>\n",
       "      <th>PrecipTotal_2_shift21</th>\n",
       "      <td>-0.455056</td>\n",
       "    </tr>\n",
       "    <tr>\n",
       "      <th>At_Least_One_Wet_Weather_1_shift7</th>\n",
       "      <td>-0.503926</td>\n",
       "    </tr>\n",
       "    <tr>\n",
       "      <th>PrecipTotal_1_shift28</th>\n",
       "      <td>-0.701506</td>\n",
       "    </tr>\n",
       "    <tr>\n",
       "      <th>ResultSpeed_1</th>\n",
       "      <td>-0.771522</td>\n",
       "    </tr>\n",
       "    <tr>\n",
       "      <th>At_Least_One_Wet_Weather_1</th>\n",
       "      <td>-0.954414</td>\n",
       "    </tr>\n",
       "    <tr>\n",
       "      <th>RH_2</th>\n",
       "      <td>-1.026460</td>\n",
       "    </tr>\n",
       "    <tr>\n",
       "      <th>Latitude</th>\n",
       "      <td>-1.254208</td>\n",
       "    </tr>\n",
       "    <tr>\n",
       "      <th>dist_from_s2</th>\n",
       "      <td>-1.289874</td>\n",
       "    </tr>\n",
       "    <tr>\n",
       "      <th>AvgSpeed_1</th>\n",
       "      <td>-1.368251</td>\n",
       "    </tr>\n",
       "    <tr>\n",
       "      <th>WetBulb_2</th>\n",
       "      <td>-1.921367</td>\n",
       "    </tr>\n",
       "    <tr>\n",
       "      <th>DewPoint_2</th>\n",
       "      <td>-3.141626</td>\n",
       "    </tr>\n",
       "    <tr>\n",
       "      <th>Depart_1</th>\n",
       "      <td>-3.397516</td>\n",
       "    </tr>\n",
       "    <tr>\n",
       "      <th>Daylight_Duration</th>\n",
       "      <td>-4.331187</td>\n",
       "    </tr>\n",
       "  </tbody>\n",
       "</table>\n",
       "</div>"
      ],
      "text/plain": [
       "                                     weights\n",
       "Tavg_1                              2.742006\n",
       "Tmax_1                              2.437016\n",
       "RH_1                                1.994128\n",
       "AvgSpeed_2                          1.765830\n",
       "Tmin_1                              1.482819\n",
       "Is Wnv Mosquitoes Types             1.383828\n",
       "WetBulb_1                           1.269261\n",
       "Tmax_2                              1.265871\n",
       "DewPoint_1                          1.011346\n",
       "PrecipTotal_2                       0.981208\n",
       "At_Least_One_Tmin_2_Below_50F       0.905640\n",
       "At_Least_One_Wet_Weather_2          0.838325\n",
       "SnowFall_1                          0.779521\n",
       "StnPressure_1                       0.766841\n",
       "Tmin_2                              0.645590\n",
       "At_Least_One_Wet_Weather_2_shift14  0.570238\n",
       "At_Least_One_Wet_Weather_2_shift7   0.566982\n",
       "ResultDir_1                         0.552503\n",
       "At_Least_One_Wet_Weather_1_shift21  0.543006\n",
       "dist_from_s1                        0.482664\n",
       "PrecipTotal_2_shift14               0.456044\n",
       "At_Least_One_Wet_Weather_1_shift28  0.339927\n",
       "PrecipTotal_2_shift28               0.318479\n",
       "StnPressure_2                       0.282772\n",
       "At_Least_One_Tmin_1_Below_50F       0.249069\n",
       "PrecipTotal_1_shift21               0.201795\n",
       "At_Least_One_Wet_Weather_2_shift21  0.052011\n",
       "PrecipTotal_1_shift7                0.000894\n",
       "At_Least_One_Tavg_2_Below_50F       0.000000\n",
       "Longitude                          -0.084577\n",
       "PrecipTotal_1_shift14              -0.136981\n",
       "PrecipTotal_2_shift7               -0.177980\n",
       "PrecipTotal_1                      -0.258072\n",
       "At_Least_One_Wet_Weather_2_shift28 -0.280240\n",
       "ResultDir_2                        -0.300576\n",
       "ResultSpeed_2                      -0.410840\n",
       "At_Least_One_Wet_Weather_1_shift14 -0.415931\n",
       "At_Least_One_Tavg_1_Below_50F      -0.436708\n",
       "Tavg_2                             -0.439914\n",
       "PrecipTotal_2_shift21              -0.455056\n",
       "At_Least_One_Wet_Weather_1_shift7  -0.503926\n",
       "PrecipTotal_1_shift28              -0.701506\n",
       "ResultSpeed_1                      -0.771522\n",
       "At_Least_One_Wet_Weather_1         -0.954414\n",
       "RH_2                               -1.026460\n",
       "Latitude                           -1.254208\n",
       "dist_from_s2                       -1.289874\n",
       "AvgSpeed_1                         -1.368251\n",
       "WetBulb_2                          -1.921367\n",
       "DewPoint_2                         -3.141626\n",
       "Depart_1                           -3.397516\n",
       "Daylight_Duration                  -4.331187"
      ]
     },
     "execution_count": 12,
     "metadata": {},
     "output_type": "execute_result"
    }
   ],
   "source": [
    "importance = lr.coef_\n",
    "features = X_train.columns\n",
    "importance = importance.reshape(lr.coef_.shape[1],1)\n",
    "imp_lr = pd.DataFrame(importance,\n",
    "                       index=features,\n",
    "                       columns=['weights']).sort_values(by='weights', ascending=False)\n",
    "imp_lr"
   ]
  },
  {
   "cell_type": "code",
   "execution_count": 13,
   "id": "9242988d",
   "metadata": {
    "scrolled": true
   },
   "outputs": [
    {
     "data": {
      "image/png": "[encoded data removed]",
      "text/plain": [
       "<Figure size 864x504 with 1 Axes>"
      ]
     },
     "metadata": {
      "needs_background": "light"
     },
     "output_type": "display_data"
    }
   ],
   "source": [
    "# Plotting top 20 +ve features in bar chart\n",
    "imp_lr['weights'].head(20).plot(kind='barh', figsize=(12,7))\n",
    "plt.title('Top 20 Feature Coefficients (+ve) for Logistic Regression', fontsize=15)\n",
    "plt.gca().invert_yaxis()\n",
    "plt.legend(loc=4);"
   ]
  },
  {
   "cell_type": "code",
   "execution_count": 14,
   "id": "8dba1b36",
   "metadata": {
    "scrolled": true
   },
   "outputs": [
    {
     "data": {
      "image/png": "[encoded data removed]",
      "text/plain": [
       "<Figure size 864x504 with 1 Axes>"
      ]
     },
     "metadata": {
      "needs_background": "light"
     },
     "output_type": "display_data"
    }
   ],
   "source": [
    "# Plotting top 20 -ve features in bar chart\n",
    "imp_lr['weights'].tail(20).plot(kind='barh', figsize=(12,7))\n",
    "plt.title('Top 20 Feature Coefficients (-ve) for Logistic Regression', fontsize=15)\n",
    "plt.legend(loc=3);"
   ]
  },
  {
   "cell_type": "markdown",
   "id": "39865b6b",
   "metadata": {},
   "source": [
    "The plots above display the most important features that contribute to the presence of the Wnv Virus.\n",
    "According to this [article](https://blog.mosquito.buzz/how-weather-affects-mosquito-activity), weather is a major motivator for what mosquitoes do, and when. This would explain why the top predictors all involve elements that are related to present weather condition.\n",
    "\n",
    "Moreover, the Daylight duration has a high negative coefficient which suggests that the longer the daylight duration, the lower the chance of Wnv being present. This corroborates with this [article](https://blog.mosquito.buzz/how-weather-affects-mosquito-activity), where it states that warm evening temperatures allow mosquitoes to thrive, since prolonged sun exposure can actually dehydrate them.\n"
   ]
  },
  {
   "cell_type": "code",
   "execution_count": 15,
   "id": "157ac665",
   "metadata": {},
   "outputs": [],
   "source": [
    "# Get predictions\n",
    "preds = lr.predict(Xs_test)\n",
    "\n",
    "# Save confusion matrix values\n",
    "tn, fp, fn, tp = confusion_matrix(y_test, preds).ravel()"
   ]
  },
  {
   "cell_type": "code",
   "execution_count": 16,
   "id": "bcaa3b39",
   "metadata": {},
   "outputs": [
    {
     "name": "stderr",
     "output_type": "stream",
     "text": [
      "/Users/joeltan/opt/anaconda3/lib/python3.8/site-packages/sklearn/utils/deprecation.py:87: FutureWarning: Function plot_confusion_matrix is deprecated; Function `plot_confusion_matrix` is deprecated in 1.0 and will be removed in 1.2. Use one of the class methods: ConfusionMatrixDisplay.from_predictions or ConfusionMatrixDisplay.from_estimator.\n",
      "  warnings.warn(msg, category=FutureWarning)\n"
     ]
    },
    {
     "data": {
      "image/png": "[encoded data removed]",
      "text/plain": [
       "<Figure size 432x288 with 2 Axes>"
      ]
     },
     "metadata": {
      "needs_background": "light"
     },
     "output_type": "display_data"
    }
   ],
   "source": [
    "# View confusion matrix\n",
    "\n",
    "plot_confusion_matrix(lr, Xs_test, y_test, cmap='Blues', values_format='d');"
   ]
  },
  {
   "cell_type": "markdown",
   "id": "62747ad9",
   "metadata": {},
   "source": [
    "Using Logistic Regression, out of 1511 data points in our test dataset, we classified 1123 (74.32%) correctly. "
   ]
  },
  {
   "cell_type": "markdown",
   "id": "65fe81a5",
   "metadata": {},
   "source": [
    "### 2.2 Naive Bayes"
   ]
  },
  {
   "cell_type": "code",
   "execution_count": 17,
   "id": "04b2b17d",
   "metadata": {},
   "outputs": [
    {
     "name": "stdout",
     "output_type": "stream",
     "text": [
      "Fitting Naive Bayes\n",
      "Fitting 5 folds for each of 3 candidates, totalling 15 fits\n",
      "The best parameters are Pipeline(steps=[('sampling', SMOTE(random_state=42)),\n",
      "                ('nb', BernoulliNB(alpha=0.9))]).\n",
      "CPU times: user 407 ms, sys: 193 ms, total: 600 ms\n",
      "Wall time: 263 ms\n"
     ]
    }
   ],
   "source": [
    "%%time\n",
    "\n",
    "print(f'Fitting Naive Bayes')      \n",
    "\n",
    "# Set up pipeline\n",
    "nb_pipe = Pipeline([\n",
    "        ('sampling', SMOTE(random_state=42)),\n",
    "        ('nb', BernoulliNB())\n",
    "    ])\n",
    "\n",
    "# Hyperparameters\n",
    "nb_params = {\n",
    "    'nb__alpha': [0.9, 1, 1.1]\n",
    "}\n",
    "\n",
    "# Instantiate 5-fold GridSearchCV.\n",
    "gs_nb = GridSearchCV(nb_pipe, param_grid = nb_params, cv=5,\n",
    "                     scoring='roc_auc',n_jobs=-1,\n",
    "                     verbose=1)\n",
    "\n",
    "# Fit\n",
    "gs_nb.fit(Xs_train, y_train)\n",
    "\n",
    "# See results\n",
    "print(f'The best parameters are {gs_nb.best_estimator_}.')"
   ]
  },
  {
   "cell_type": "markdown",
   "id": "1a6ff13a",
   "metadata": {},
   "source": [
    "Using these best hyperparameters, we will re-fit the model based on the over-sampleted data and obtain the scoring metrics"
   ]
  },
  {
   "cell_type": "code",
   "execution_count": 18,
   "id": "895cf49c",
   "metadata": {},
   "outputs": [
    {
     "data": {
      "text/plain": [
       "BernoulliNB(alpha=0.9)"
      ]
     },
     "execution_count": 18,
     "metadata": {},
     "output_type": "execute_result"
    }
   ],
   "source": [
    "nb = BernoulliNB(alpha=0.9)\n",
    "nb.fit(Xsm_train, ysm_train)"
   ]
  },
  {
   "cell_type": "code",
   "execution_count": 19,
   "id": "b6d136fb",
   "metadata": {},
   "outputs": [],
   "source": [
    "# Append to the lists\n",
    "model_name.append('Naive Bayes')\n",
    "model_scores.append(nb.score(Xsm_train, ysm_train))\n",
    "model_var.append(nb)\n",
    "model_test_scores.append(nb.score(Xs_test,y_test)) "
   ]
  },
  {
   "cell_type": "markdown",
   "id": "37788d1d",
   "metadata": {},
   "source": [
    "### Evaluating Naive Bayes Results"
   ]
  },
  {
   "cell_type": "code",
   "execution_count": 20,
   "id": "e235dd6e",
   "metadata": {},
   "outputs": [
    {
     "data": {
      "text/plain": [
       "array([[5448., 2897., 2881., 3332., 2935., 2885., 3048., 3300., 3227.,\n",
       "         203., 1971., 2973., 3187., 2906., 2517., 3089., 3305., 3169.,\n",
       "        3215., 3121., 2184., 2973., 3429., 3075., 2748., 3290., 2755.,\n",
       "        2442., 1726., 2146., 1755., 2502., 1771., 2351., 1670., 2328.,\n",
       "        5321., 5304., 5138., 5105., 5085., 4900., 5195., 5039., 5330.,\n",
       "        5064.,   63., 1098.,    0.,  764., 2912., 2845.],\n",
       "       [5687., 3270., 2263., 3854., 4170., 3823., 3410., 4285., 4350.,\n",
       "          22., 2584., 3750., 2272., 3355., 1757., 3526., 4171., 3942.,\n",
       "        4082., 4059., 2477., 3749., 2732., 3615., 2109., 1633., 3360.,\n",
       "        2681., 2609., 2642., 2691., 2661., 2361., 2558., 1760., 2195.,\n",
       "        5268., 4841., 5152., 4942., 5427., 4992., 5619., 5338., 5643.,\n",
       "        5355.,    0.,  721.,    0.,  473., 3269., 2323.]])"
      ]
     },
     "execution_count": 20,
     "metadata": {},
     "output_type": "execute_result"
    }
   ],
   "source": [
    "nb.feature_count_"
   ]
  },
  {
   "cell_type": "code",
   "execution_count": 21,
   "id": "fa07e5d7",
   "metadata": {},
   "outputs": [
    {
     "data": {
      "text/plain": [
       "array([5448., 2897., 2881., 3332., 2935., 2885., 3048., 3300., 3227.,\n",
       "        203., 1971., 2973., 3187., 2906., 2517., 3089., 3305., 3169.,\n",
       "       3215., 3121., 2184., 2973., 3429., 3075., 2748., 3290., 2755.,\n",
       "       2442., 1726., 2146., 1755., 2502., 1771., 2351., 1670., 2328.,\n",
       "       5321., 5304., 5138., 5105., 5085., 4900., 5195., 5039., 5330.,\n",
       "       5064.,   63., 1098.,    0.,  764., 2912., 2845.])"
      ]
     },
     "execution_count": 21,
     "metadata": {},
     "output_type": "execute_result"
    }
   ],
   "source": [
    "# number of times each feature appear in Wnv NOT present\n",
    "class0_count = nb.feature_count_[0, :]\n",
    "class0_count"
   ]
  },
  {
   "cell_type": "code",
   "execution_count": 22,
   "id": "eb4de5ab",
   "metadata": {},
   "outputs": [
    {
     "data": {
      "text/plain": [
       "array([5687., 3270., 2263., 3854., 4170., 3823., 3410., 4285., 4350.,\n",
       "         22., 2584., 3750., 2272., 3355., 1757., 3526., 4171., 3942.,\n",
       "       4082., 4059., 2477., 3749., 2732., 3615., 2109., 1633., 3360.,\n",
       "       2681., 2609., 2642., 2691., 2661., 2361., 2558., 1760., 2195.,\n",
       "       5268., 4841., 5152., 4942., 5427., 4992., 5619., 5338., 5643.,\n",
       "       5355.,    0.,  721.,    0.,  473., 3269., 2323.])"
      ]
     },
     "execution_count": 22,
     "metadata": {},
     "output_type": "execute_result"
    }
   ],
   "source": [
    "# number of times each feature appear in Wnv present\n",
    "class1_count = nb.feature_count_[1, :]\n",
    "class1_count"
   ]
  },
  {
   "cell_type": "code",
   "execution_count": 23,
   "id": "e6ae8b02",
   "metadata": {},
   "outputs": [
    {
     "data": {
      "text/html": [
       "<div>\n",
       "<style scoped>\n",
       "    .dataframe tbody tr th:only-of-type {\n",
       "        vertical-align: middle;\n",
       "    }\n",
       "\n",
       "    .dataframe tbody tr th {\n",
       "        vertical-align: top;\n",
       "    }\n",
       "\n",
       "    .dataframe thead th {\n",
       "        text-align: right;\n",
       "    }\n",
       "</style>\n",
       "<table border=\"1\" class=\"dataframe\">\n",
       "  <thead>\n",
       "    <tr style=\"text-align: right;\">\n",
       "      <th></th>\n",
       "      <th>Wnv NOT present</th>\n",
       "      <th>Wnv present</th>\n",
       "    </tr>\n",
       "    <tr>\n",
       "      <th>feature</th>\n",
       "      <th></th>\n",
       "      <th></th>\n",
       "    </tr>\n",
       "  </thead>\n",
       "  <tbody>\n",
       "    <tr>\n",
       "      <th>Is Wnv Mosquitoes Types</th>\n",
       "      <td>5448.0</td>\n",
       "      <td>5687.0</td>\n",
       "    </tr>\n",
       "    <tr>\n",
       "      <th>Latitude</th>\n",
       "      <td>2897.0</td>\n",
       "      <td>3270.0</td>\n",
       "    </tr>\n",
       "    <tr>\n",
       "      <th>Longitude</th>\n",
       "      <td>2881.0</td>\n",
       "      <td>2263.0</td>\n",
       "    </tr>\n",
       "    <tr>\n",
       "      <th>Tmax_1</th>\n",
       "      <td>3332.0</td>\n",
       "      <td>3854.0</td>\n",
       "    </tr>\n",
       "    <tr>\n",
       "      <th>Tmin_1</th>\n",
       "      <td>2935.0</td>\n",
       "      <td>4170.0</td>\n",
       "    </tr>\n",
       "  </tbody>\n",
       "</table>\n",
       "</div>"
      ],
      "text/plain": [
       "                         Wnv NOT present  Wnv present\n",
       "feature                                              \n",
       "Is Wnv Mosquitoes Types           5448.0       5687.0\n",
       "Latitude                          2897.0       3270.0\n",
       "Longitude                         2881.0       2263.0\n",
       "Tmax_1                            3332.0       3854.0\n",
       "Tmin_1                            2935.0       4170.0"
      ]
     },
     "execution_count": 23,
     "metadata": {},
     "output_type": "execute_result"
    }
   ],
   "source": [
    "# create a DataFrame of features with their separate class counts\n",
    "features = pd.DataFrame({'feature':X_train.columns, 'Wnv NOT present':class0_count, 'Wnv present':class1_count}).set_index('feature')\n",
    "features.head()\n"
   ]
  },
  {
   "cell_type": "code",
   "execution_count": 24,
   "id": "2a7cd9a9",
   "metadata": {},
   "outputs": [
    {
     "data": {
      "text/plain": [
       "array([5687., 5687.])"
      ]
     },
     "execution_count": 24,
     "metadata": {},
     "output_type": "execute_result"
    }
   ],
   "source": [
    "# Naive Bayes counts the number of observations in each class\n",
    "nb.class_count_"
   ]
  },
  {
   "cell_type": "code",
   "execution_count": 25,
   "id": "fd7a8c6b",
   "metadata": {},
   "outputs": [
    {
     "data": {
      "text/html": [
       "<div>\n",
       "<style scoped>\n",
       "    .dataframe tbody tr th:only-of-type {\n",
       "        vertical-align: middle;\n",
       "    }\n",
       "\n",
       "    .dataframe tbody tr th {\n",
       "        vertical-align: top;\n",
       "    }\n",
       "\n",
       "    .dataframe thead th {\n",
       "        text-align: right;\n",
       "    }\n",
       "</style>\n",
       "<table border=\"1\" class=\"dataframe\">\n",
       "  <thead>\n",
       "    <tr style=\"text-align: right;\">\n",
       "      <th></th>\n",
       "      <th>Wnv NOT present</th>\n",
       "      <th>Wnv present</th>\n",
       "      <th>ratio</th>\n",
       "    </tr>\n",
       "    <tr>\n",
       "      <th>feature</th>\n",
       "      <th></th>\n",
       "      <th></th>\n",
       "      <th></th>\n",
       "    </tr>\n",
       "  </thead>\n",
       "  <tbody>\n",
       "    <tr>\n",
       "      <th>At_Least_One_Tmin_1_Below_50F</th>\n",
       "      <td>0.193248</td>\n",
       "      <td>0.126956</td>\n",
       "      <td>1.522161</td>\n",
       "    </tr>\n",
       "    <tr>\n",
       "      <th>At_Least_One_Tavg_2_Below_50F</th>\n",
       "      <td>0.000176</td>\n",
       "      <td>0.000176</td>\n",
       "      <td>1.000000</td>\n",
       "    </tr>\n",
       "    <tr>\n",
       "      <th>At_Least_One_Tmin_2_Below_50F</th>\n",
       "      <td>0.134517</td>\n",
       "      <td>0.083348</td>\n",
       "      <td>1.613924</td>\n",
       "    </tr>\n",
       "    <tr>\n",
       "      <th>dist_from_s1</th>\n",
       "      <td>0.512221</td>\n",
       "      <td>0.574996</td>\n",
       "      <td>0.890826</td>\n",
       "    </tr>\n",
       "    <tr>\n",
       "      <th>dist_from_s2</th>\n",
       "      <td>0.500440</td>\n",
       "      <td>0.408651</td>\n",
       "      <td>1.224613</td>\n",
       "    </tr>\n",
       "  </tbody>\n",
       "</table>\n",
       "</div>"
      ],
      "text/plain": [
       "                               Wnv NOT present  Wnv present     ratio\n",
       "feature                                                              \n",
       "At_Least_One_Tmin_1_Below_50F         0.193248     0.126956  1.522161\n",
       "At_Least_One_Tavg_2_Below_50F         0.000176     0.000176  1.000000\n",
       "At_Least_One_Tmin_2_Below_50F         0.134517     0.083348  1.613924\n",
       "dist_from_s1                          0.512221     0.574996  0.890826\n",
       "dist_from_s2                          0.500440     0.408651  1.224613"
      ]
     },
     "execution_count": 25,
     "metadata": {},
     "output_type": "execute_result"
    }
   ],
   "source": [
    "# Convert the token counts into frequencies\n",
    "# we add a value of 1 first to prevent divide by zero error\n",
    "features['Wnv NOT present'] = (features['Wnv NOT present'] + 1) / nb.class_count_[0]\n",
    "features['Wnv present'] = (features['Wnv present'] + 1) / nb.class_count_[1]\n",
    "\n",
    "# Calculate the ratio of class-to-class\n",
    "features['ratio'] = features['Wnv NOT present'] / features['Wnv present']\n",
    "\n",
    "features.tail()"
   ]
  },
  {
   "cell_type": "code",
   "execution_count": 26,
   "id": "31b9df23",
   "metadata": {
    "scrolled": true
   },
   "outputs": [
    {
     "data": {
      "text/html": [
       "<div>\n",
       "<style scoped>\n",
       "    .dataframe tbody tr th:only-of-type {\n",
       "        vertical-align: middle;\n",
       "    }\n",
       "\n",
       "    .dataframe tbody tr th {\n",
       "        vertical-align: top;\n",
       "    }\n",
       "\n",
       "    .dataframe thead th {\n",
       "        text-align: right;\n",
       "    }\n",
       "</style>\n",
       "<table border=\"1\" class=\"dataframe\">\n",
       "  <thead>\n",
       "    <tr style=\"text-align: right;\">\n",
       "      <th></th>\n",
       "      <th>Wnv NOT present</th>\n",
       "      <th>Wnv present</th>\n",
       "      <th>ratio</th>\n",
       "    </tr>\n",
       "    <tr>\n",
       "      <th>feature</th>\n",
       "      <th></th>\n",
       "      <th></th>\n",
       "      <th></th>\n",
       "    </tr>\n",
       "  </thead>\n",
       "  <tbody>\n",
       "    <tr>\n",
       "      <th>Tmax_2</th>\n",
       "      <td>0.543344</td>\n",
       "      <td>0.620186</td>\n",
       "      <td>0.876099</td>\n",
       "    </tr>\n",
       "    <tr>\n",
       "      <th>ResultDir_1</th>\n",
       "      <td>0.511166</td>\n",
       "      <td>0.590118</td>\n",
       "      <td>0.866210</td>\n",
       "    </tr>\n",
       "    <tr>\n",
       "      <th>Tmax_1</th>\n",
       "      <td>0.586074</td>\n",
       "      <td>0.677862</td>\n",
       "      <td>0.864591</td>\n",
       "    </tr>\n",
       "    <tr>\n",
       "      <th>ResultDir_2</th>\n",
       "      <td>0.540883</td>\n",
       "      <td>0.635836</td>\n",
       "      <td>0.850664</td>\n",
       "    </tr>\n",
       "    <tr>\n",
       "      <th>RH_1</th>\n",
       "      <td>0.484614</td>\n",
       "      <td>0.590997</td>\n",
       "      <td>0.819994</td>\n",
       "    </tr>\n",
       "    <tr>\n",
       "      <th>PrecipTotal_2_shift7</th>\n",
       "      <td>0.377528</td>\n",
       "      <td>0.464744</td>\n",
       "      <td>0.812334</td>\n",
       "    </tr>\n",
       "    <tr>\n",
       "      <th>Tavg_2</th>\n",
       "      <td>0.557412</td>\n",
       "      <td>0.693336</td>\n",
       "      <td>0.803956</td>\n",
       "    </tr>\n",
       "    <tr>\n",
       "      <th>StnPressure_2</th>\n",
       "      <td>0.522947</td>\n",
       "      <td>0.659399</td>\n",
       "      <td>0.793067</td>\n",
       "    </tr>\n",
       "    <tr>\n",
       "      <th>StnPressure_1</th>\n",
       "      <td>0.522947</td>\n",
       "      <td>0.659574</td>\n",
       "      <td>0.792855</td>\n",
       "    </tr>\n",
       "    <tr>\n",
       "      <th>Tmin_2</th>\n",
       "      <td>0.581326</td>\n",
       "      <td>0.733603</td>\n",
       "      <td>0.792426</td>\n",
       "    </tr>\n",
       "    <tr>\n",
       "      <th>DewPoint_2</th>\n",
       "      <td>0.565500</td>\n",
       "      <td>0.717953</td>\n",
       "      <td>0.787656</td>\n",
       "    </tr>\n",
       "    <tr>\n",
       "      <th>DewPoint_1</th>\n",
       "      <td>0.580447</td>\n",
       "      <td>0.753649</td>\n",
       "      <td>0.770182</td>\n",
       "    </tr>\n",
       "    <tr>\n",
       "      <th>WetBulb_2</th>\n",
       "      <td>0.548971</td>\n",
       "      <td>0.713909</td>\n",
       "      <td>0.768966</td>\n",
       "    </tr>\n",
       "    <tr>\n",
       "      <th>PrecipTotal_1</th>\n",
       "      <td>0.346756</td>\n",
       "      <td>0.454545</td>\n",
       "      <td>0.762863</td>\n",
       "    </tr>\n",
       "    <tr>\n",
       "      <th>Tavg_1</th>\n",
       "      <td>0.507473</td>\n",
       "      <td>0.672411</td>\n",
       "      <td>0.754707</td>\n",
       "    </tr>\n",
       "    <tr>\n",
       "      <th>PrecipTotal_1_shift21</th>\n",
       "      <td>0.311588</td>\n",
       "      <td>0.415333</td>\n",
       "      <td>0.750212</td>\n",
       "    </tr>\n",
       "    <tr>\n",
       "      <th>WetBulb_1</th>\n",
       "      <td>0.567610</td>\n",
       "      <td>0.765078</td>\n",
       "      <td>0.741898</td>\n",
       "    </tr>\n",
       "    <tr>\n",
       "      <th>Tmin_1</th>\n",
       "      <td>0.516265</td>\n",
       "      <td>0.733427</td>\n",
       "      <td>0.703908</td>\n",
       "    </tr>\n",
       "    <tr>\n",
       "      <th>PrecipTotal_1_shift7</th>\n",
       "      <td>0.303675</td>\n",
       "      <td>0.458941</td>\n",
       "      <td>0.661686</td>\n",
       "    </tr>\n",
       "    <tr>\n",
       "      <th>PrecipTotal_1_shift14</th>\n",
       "      <td>0.308774</td>\n",
       "      <td>0.473360</td>\n",
       "      <td>0.652303</td>\n",
       "    </tr>\n",
       "  </tbody>\n",
       "</table>\n",
       "</div>"
      ],
      "text/plain": [
       "                       Wnv NOT present  Wnv present     ratio\n",
       "feature                                                      \n",
       "Tmax_2                        0.543344     0.620186  0.876099\n",
       "ResultDir_1                   0.511166     0.590118  0.866210\n",
       "Tmax_1                        0.586074     0.677862  0.864591\n",
       "ResultDir_2                   0.540883     0.635836  0.850664\n",
       "RH_1                          0.484614     0.590997  0.819994\n",
       "PrecipTotal_2_shift7          0.377528     0.464744  0.812334\n",
       "Tavg_2                        0.557412     0.693336  0.803956\n",
       "StnPressure_2                 0.522947     0.659399  0.793067\n",
       "StnPressure_1                 0.522947     0.659574  0.792855\n",
       "Tmin_2                        0.581326     0.733603  0.792426\n",
       "DewPoint_2                    0.565500     0.717953  0.787656\n",
       "DewPoint_1                    0.580447     0.753649  0.770182\n",
       "WetBulb_2                     0.548971     0.713909  0.768966\n",
       "PrecipTotal_1                 0.346756     0.454545  0.762863\n",
       "Tavg_1                        0.507473     0.672411  0.754707\n",
       "PrecipTotal_1_shift21         0.311588     0.415333  0.750212\n",
       "WetBulb_1                     0.567610     0.765078  0.741898\n",
       "Tmin_1                        0.516265     0.733427  0.703908\n",
       "PrecipTotal_1_shift7          0.303675     0.458941  0.661686\n",
       "PrecipTotal_1_shift14         0.308774     0.473360  0.652303"
      ]
     },
     "execution_count": 26,
     "metadata": {},
     "output_type": "execute_result"
    }
   ],
   "source": [
    "# examine the DataFrame sorted by ratio\n",
    "sorted_features = features.sort_values('ratio', ascending=False)\n",
    "\n",
    "# View the bottom 20 features by ratio\n",
    "sorted_features.tail(20)"
   ]
  },
  {
   "cell_type": "markdown",
   "id": "e9e2def3",
   "metadata": {},
   "source": [
    "The features with the lowest ratio are the ones which help to classify the posts into Class 1 (Wnv present). These features are all related to rain and wet weather, which makes sense as mosquitos tend to be active after rainfall as the puddles provide ideal environment for breeding."
   ]
  },
  {
   "cell_type": "code",
   "execution_count": 27,
   "id": "7385d186",
   "metadata": {
    "scrolled": true
   },
   "outputs": [
    {
     "data": {
      "text/html": [
       "<div>\n",
       "<style scoped>\n",
       "    .dataframe tbody tr th:only-of-type {\n",
       "        vertical-align: middle;\n",
       "    }\n",
       "\n",
       "    .dataframe tbody tr th {\n",
       "        vertical-align: top;\n",
       "    }\n",
       "\n",
       "    .dataframe thead th {\n",
       "        text-align: right;\n",
       "    }\n",
       "</style>\n",
       "<table border=\"1\" class=\"dataframe\">\n",
       "  <thead>\n",
       "    <tr style=\"text-align: right;\">\n",
       "      <th></th>\n",
       "      <th>Wnv NOT present</th>\n",
       "      <th>Wnv present</th>\n",
       "      <th>ratio</th>\n",
       "    </tr>\n",
       "    <tr>\n",
       "      <th>feature</th>\n",
       "      <th></th>\n",
       "      <th></th>\n",
       "      <th></th>\n",
       "    </tr>\n",
       "  </thead>\n",
       "  <tbody>\n",
       "    <tr>\n",
       "      <th>At_Least_One_Tavg_1_Below_50F</th>\n",
       "      <td>0.011254</td>\n",
       "      <td>0.000176</td>\n",
       "      <td>64.000000</td>\n",
       "    </tr>\n",
       "    <tr>\n",
       "      <th>SnowFall_1</th>\n",
       "      <td>0.035871</td>\n",
       "      <td>0.004044</td>\n",
       "      <td>8.869565</td>\n",
       "    </tr>\n",
       "    <tr>\n",
       "      <th>Daylight_Duration</th>\n",
       "      <td>0.578688</td>\n",
       "      <td>0.287322</td>\n",
       "      <td>2.014076</td>\n",
       "    </tr>\n",
       "    <tr>\n",
       "      <th>At_Least_One_Tmin_2_Below_50F</th>\n",
       "      <td>0.134517</td>\n",
       "      <td>0.083348</td>\n",
       "      <td>1.613924</td>\n",
       "    </tr>\n",
       "    <tr>\n",
       "      <th>At_Least_One_Tmin_1_Below_50F</th>\n",
       "      <td>0.193248</td>\n",
       "      <td>0.126956</td>\n",
       "      <td>1.522161</td>\n",
       "    </tr>\n",
       "    <tr>\n",
       "      <th>AvgSpeed_1</th>\n",
       "      <td>0.442764</td>\n",
       "      <td>0.309126</td>\n",
       "      <td>1.432309</td>\n",
       "    </tr>\n",
       "    <tr>\n",
       "      <th>ResultSpeed_1</th>\n",
       "      <td>0.560577</td>\n",
       "      <td>0.399683</td>\n",
       "      <td>1.402552</td>\n",
       "    </tr>\n",
       "    <tr>\n",
       "      <th>AvgSpeed_2</th>\n",
       "      <td>0.483383</td>\n",
       "      <td>0.371022</td>\n",
       "      <td>1.302844</td>\n",
       "    </tr>\n",
       "    <tr>\n",
       "      <th>Longitude</th>\n",
       "      <td>0.506770</td>\n",
       "      <td>0.398101</td>\n",
       "      <td>1.272968</td>\n",
       "    </tr>\n",
       "    <tr>\n",
       "      <th>ResultSpeed_2</th>\n",
       "      <td>0.603130</td>\n",
       "      <td>0.480570</td>\n",
       "      <td>1.255031</td>\n",
       "    </tr>\n",
       "    <tr>\n",
       "      <th>dist_from_s2</th>\n",
       "      <td>0.500440</td>\n",
       "      <td>0.408651</td>\n",
       "      <td>1.224613</td>\n",
       "    </tr>\n",
       "    <tr>\n",
       "      <th>At_Least_One_Wet_Weather_2</th>\n",
       "      <td>0.932829</td>\n",
       "      <td>0.851416</td>\n",
       "      <td>1.095622</td>\n",
       "    </tr>\n",
       "    <tr>\n",
       "      <th>PrecipTotal_2_shift28</th>\n",
       "      <td>0.409531</td>\n",
       "      <td>0.386144</td>\n",
       "      <td>1.060565</td>\n",
       "    </tr>\n",
       "    <tr>\n",
       "      <th>At_Least_One_Wet_Weather_2_shift7</th>\n",
       "      <td>0.897837</td>\n",
       "      <td>0.869175</td>\n",
       "      <td>1.032976</td>\n",
       "    </tr>\n",
       "    <tr>\n",
       "      <th>At_Least_One_Wet_Weather_1</th>\n",
       "      <td>0.935819</td>\n",
       "      <td>0.926499</td>\n",
       "      <td>1.010059</td>\n",
       "    </tr>\n",
       "    <tr>\n",
       "      <th>At_Least_One_Tavg_2_Below_50F</th>\n",
       "      <td>0.000176</td>\n",
       "      <td>0.000176</td>\n",
       "      <td>1.000000</td>\n",
       "    </tr>\n",
       "    <tr>\n",
       "      <th>At_Least_One_Wet_Weather_1_shift7</th>\n",
       "      <td>0.903640</td>\n",
       "      <td>0.906102</td>\n",
       "      <td>0.997283</td>\n",
       "    </tr>\n",
       "    <tr>\n",
       "      <th>At_Least_One_Wet_Weather_2_shift14</th>\n",
       "      <td>0.861790</td>\n",
       "      <td>0.877967</td>\n",
       "      <td>0.981574</td>\n",
       "    </tr>\n",
       "    <tr>\n",
       "      <th>Is Wnv Mosquitoes Types</th>\n",
       "      <td>0.958150</td>\n",
       "      <td>1.000176</td>\n",
       "      <td>0.957982</td>\n",
       "    </tr>\n",
       "    <tr>\n",
       "      <th>PrecipTotal_1_shift28</th>\n",
       "      <td>0.293828</td>\n",
       "      <td>0.309654</td>\n",
       "      <td>0.948893</td>\n",
       "    </tr>\n",
       "  </tbody>\n",
       "</table>\n",
       "</div>"
      ],
      "text/plain": [
       "                                    Wnv NOT present  Wnv present      ratio\n",
       "feature                                                                    \n",
       "At_Least_One_Tavg_1_Below_50F              0.011254     0.000176  64.000000\n",
       "SnowFall_1                                 0.035871     0.004044   8.869565\n",
       "Daylight_Duration                          0.578688     0.287322   2.014076\n",
       "At_Least_One_Tmin_2_Below_50F              0.134517     0.083348   1.613924\n",
       "At_Least_One_Tmin_1_Below_50F              0.193248     0.126956   1.522161\n",
       "AvgSpeed_1                                 0.442764     0.309126   1.432309\n",
       "ResultSpeed_1                              0.560577     0.399683   1.402552\n",
       "AvgSpeed_2                                 0.483383     0.371022   1.302844\n",
       "Longitude                                  0.506770     0.398101   1.272968\n",
       "ResultSpeed_2                              0.603130     0.480570   1.255031\n",
       "dist_from_s2                               0.500440     0.408651   1.224613\n",
       "At_Least_One_Wet_Weather_2                 0.932829     0.851416   1.095622\n",
       "PrecipTotal_2_shift28                      0.409531     0.386144   1.060565\n",
       "At_Least_One_Wet_Weather_2_shift7          0.897837     0.869175   1.032976\n",
       "At_Least_One_Wet_Weather_1                 0.935819     0.926499   1.010059\n",
       "At_Least_One_Tavg_2_Below_50F              0.000176     0.000176   1.000000\n",
       "At_Least_One_Wet_Weather_1_shift7          0.903640     0.906102   0.997283\n",
       "At_Least_One_Wet_Weather_2_shift14         0.861790     0.877967   0.981574\n",
       "Is Wnv Mosquitoes Types                    0.958150     1.000176   0.957982\n",
       "PrecipTotal_1_shift28                      0.293828     0.309654   0.948893"
      ]
     },
     "execution_count": 27,
     "metadata": {},
     "output_type": "execute_result"
    }
   ],
   "source": [
    "# View the top 20 features by ratio\n",
    "sorted_features.head(20)"
   ]
  },
  {
   "cell_type": "markdown",
   "id": "24e663c6",
   "metadata": {},
   "source": [
    "The features with the highest ratio are the ones which contributes the most in classifying the posts into Class 0 (Wnv not present). One of these features is 'Wnv Mosquitoes Type', which makes sense as only certain mosquitoes types have been found to contain Wnv virus."
   ]
  },
  {
   "cell_type": "code",
   "execution_count": 28,
   "id": "dd048a62",
   "metadata": {},
   "outputs": [],
   "source": [
    "# Get predictions\n",
    "preds = nb.predict(Xs_test)\n",
    "\n",
    "# Save confusion matrix values\n",
    "tn, fp, fn, tp = confusion_matrix(y_test, preds).ravel()"
   ]
  },
  {
   "cell_type": "code",
   "execution_count": 29,
   "id": "b1122897",
   "metadata": {},
   "outputs": [
    {
     "name": "stderr",
     "output_type": "stream",
     "text": [
      "/Users/joeltan/opt/anaconda3/lib/python3.8/site-packages/sklearn/utils/deprecation.py:87: FutureWarning: Function plot_confusion_matrix is deprecated; Function `plot_confusion_matrix` is deprecated in 1.0 and will be removed in 1.2. Use one of the class methods: ConfusionMatrixDisplay.from_predictions or ConfusionMatrixDisplay.from_estimator.\n",
      "  warnings.warn(msg, category=FutureWarning)\n"
     ]
    },
    {
     "data": {
      "image/png": "[encoded data removed]",
      "text/plain": [
       "<Figure size 432x288 with 2 Axes>"
      ]
     },
     "metadata": {
      "needs_background": "light"
     },
     "output_type": "display_data"
    }
   ],
   "source": [
    "# View confusion matrix\n",
    "\n",
    "plot_confusion_matrix(nb, Xs_test, y_test, cmap='Blues', values_format='d');"
   ]
  },
  {
   "cell_type": "markdown",
   "id": "64680cfc",
   "metadata": {},
   "source": [
    "Using Naive Bayes, out of 1511 data points in our test dataset, we classified 950 (62.87%) correctly. "
   ]
  },
  {
   "cell_type": "markdown",
   "id": "bb674e18",
   "metadata": {},
   "source": [
    "### 2.3 Random Forest"
   ]
  },
  {
   "cell_type": "code",
   "execution_count": 30,
   "id": "d29dde2e",
   "metadata": {},
   "outputs": [
    {
     "name": "stdout",
     "output_type": "stream",
     "text": [
      "Fitting Random Forest Classifier\n",
      "The best parameters are Pipeline(steps=[('sampling', SMOTE(random_state=42)),\n",
      "                ('rf',\n",
      "                 RandomForestClassifier(max_depth=5, min_samples_leaf=2,\n",
      "                                        n_estimators=120, random_state=42))]).\n",
      "CPU times: user 2min 33s, sys: 37.8 s, total: 3min 11s\n",
      "Wall time: 49.3 s\n"
     ]
    }
   ],
   "source": [
    "%%time\n",
    "\n",
    "print(f'Fitting Random Forest Classifier')   \n",
    "\n",
    "# Set up pipeline\n",
    "rf_pipe = Pipeline([\n",
    "        ('sampling', SMOTE(random_state=42)),\n",
    "        ('rf', RandomForestClassifier(random_state=42))\n",
    "    ])\n",
    "\n",
    "# Hyperparameters\n",
    "rf_params = {\n",
    "    'rf__n_estimators': [80, 100, 120],\n",
    "    'rf__max_depth': [3, 5],\n",
    "    'rf__min_samples_leaf': [2, 4],\n",
    "    'rf__min_samples_split' : [2, 4]\n",
    "}\n",
    "\n",
    "# Instantiate 5-fold GridSearchCV.\n",
    "gs_rf = GridSearchCV(rf_pipe, param_grid = rf_params, cv=5,\n",
    "                     scoring='roc_auc')\n",
    "\n",
    "# Fit\n",
    "gs_rf.fit(Xs_train, y_train)\n",
    "gs_rf_model = gs_rf.best_estimator_\n",
    "\n",
    "# See results\n",
    "print(f'The best parameters are {gs_rf.best_estimator_}.')"
   ]
  },
  {
   "cell_type": "markdown",
   "id": "ca22d1f0",
   "metadata": {},
   "source": [
    "Using these best hyperparameters, we will re-fit the model based on the over-sampleted data and obtain the scoring metrics"
   ]
  },
  {
   "cell_type": "code",
   "execution_count": 31,
   "id": "7916dcf1",
   "metadata": {},
   "outputs": [
    {
     "data": {
      "text/plain": [
       "RandomForestClassifier(max_depth=5, min_samples_leaf=2, n_estimators=120,\n",
       "                       random_state=42)"
      ]
     },
     "execution_count": 31,
     "metadata": {},
     "output_type": "execute_result"
    }
   ],
   "source": [
    "rf = RandomForestClassifier(max_depth=5, min_samples_leaf=2, n_estimators=120,\n",
    "                       random_state=42)\n",
    "rf.fit(Xsm_train, ysm_train)"
   ]
  },
  {
   "cell_type": "code",
   "execution_count": 32,
   "id": "4f4972db",
   "metadata": {},
   "outputs": [],
   "source": [
    "# Append to the lists\n",
    "model_name.append('Random Forest')\n",
    "model_scores.append(rf.score(Xsm_train, ysm_train))\n",
    "model_var.append(rf)\n",
    "model_test_scores.append(rf.score(Xs_test,y_test)) "
   ]
  },
  {
   "cell_type": "markdown",
   "id": "5b16fdfa",
   "metadata": {},
   "source": [
    "### Evaluating Random Forest Results"
   ]
  },
  {
   "cell_type": "code",
   "execution_count": 33,
   "id": "cf1a36a5",
   "metadata": {},
   "outputs": [],
   "source": [
    "imp_rf = pd.DataFrame(rf.feature_importances_,\n",
    "                       index=X.columns,\n",
    "                       columns=['weights']).sort_values(by='weights',ascending=False)"
   ]
  },
  {
   "cell_type": "code",
   "execution_count": 34,
   "id": "6e6b1276",
   "metadata": {
    "scrolled": true
   },
   "outputs": [
    {
     "data": {
      "image/png": "[encoded data removed]",
      "text/plain": [
       "<Figure size 864x504 with 1 Axes>"
      ]
     },
     "metadata": {
      "needs_background": "light"
     },
     "output_type": "display_data"
    }
   ],
   "source": [
    "# Plotting Top 20 features in bar chart\n",
    "imp_rf.head(20).plot(kind='barh', label=imp_rf.columns[:20], figsize=(12,7), color='purple')\n",
    "plt.title('Top 20 Feature Importance for Random Forest', fontsize=15)\n",
    "plt.gca().invert_yaxis()\n",
    "plt.legend(loc=4);"
   ]
  },
  {
   "cell_type": "markdown",
   "id": "5863554a",
   "metadata": {},
   "source": [
    "As earlier seen when evaluating the Logistic Regression results, mosquitos activity is influenced by daylight duraton and will look to avoid sunlight.\n",
    "\n",
    "The next top 2 features are Dewpoint and Relative Humidity. These are inter-related, as the dew point is the temperature the air needs to be cooled to (at constant pressure) in order to achieve a relative humidity (RH) of 100%.\n",
    "According to this [article](https://www.orkin.com/pests/mosquitoes/when-are-mosquitoes-most-active), Relative humidity is important to mosquito activity. In general, high humidity conditions favor mosquito activity\n",
    "\n",
    "Also interesting is that Station StnPressure_1 and StnPressure_2 are one of the more important features. According to this [article](https://www.ncbi.nlm.nih.gov/pmc/articles/PMC3788776/), there is some evidence that insects adjust their behaviours associated with flight, mating and foraging in response to changes in barometric pressure, which would in turn affect the Wnv Presence. "
   ]
  },
  {
   "cell_type": "code",
   "execution_count": 35,
   "id": "01b54594",
   "metadata": {},
   "outputs": [],
   "source": [
    "# Get predictions\n",
    "preds = rf.predict(Xs_test)\n",
    "\n",
    "# Save confusion matrix values\n",
    "tn, fp, fn, tp = confusion_matrix(y_test, preds).ravel()"
   ]
  },
  {
   "cell_type": "code",
   "execution_count": 36,
   "id": "d50ba736",
   "metadata": {},
   "outputs": [
    {
     "name": "stderr",
     "output_type": "stream",
     "text": [
      "/Users/joeltan/opt/anaconda3/lib/python3.8/site-packages/sklearn/utils/deprecation.py:87: FutureWarning: Function plot_confusion_matrix is deprecated; Function `plot_confusion_matrix` is deprecated in 1.0 and will be removed in 1.2. Use one of the class methods: ConfusionMatrixDisplay.from_predictions or ConfusionMatrixDisplay.from_estimator.\n",
      "  warnings.warn(msg, category=FutureWarning)\n"
     ]
    },
    {
     "data": {
      "image/png": "[encoded data removed]",
      "text/plain": [
       "<Figure size 432x288 with 2 Axes>"
      ]
     },
     "metadata": {
      "needs_background": "light"
     },
     "output_type": "display_data"
    }
   ],
   "source": [
    "# View confusion matrix\n",
    "\n",
    "plot_confusion_matrix(rf, Xs_test, y_test, cmap='Blues', values_format='d');"
   ]
  },
  {
   "cell_type": "markdown",
   "id": "13701ab5",
   "metadata": {},
   "source": [
    "Using Random Forest, out of 1511 data points in our test dataset, we classified 1023 (67.70%) correctly. "
   ]
  },
  {
   "cell_type": "markdown",
   "id": "6eec0498",
   "metadata": {},
   "source": [
    "### 2.4 ExtraTrees"
   ]
  },
  {
   "cell_type": "code",
   "execution_count": 37,
   "id": "098e6a0e",
   "metadata": {},
   "outputs": [
    {
     "name": "stdout",
     "output_type": "stream",
     "text": [
      "Fitting Extra Trees\n",
      "Fitting 5 folds for each of 24 candidates, totalling 120 fits\n",
      "The best parameters are Pipeline(steps=[('sampling', SMOTE(random_state=42)),\n",
      "                ('et',\n",
      "                 ExtraTreesClassifier(max_depth=5, min_samples_leaf=4,\n",
      "                                      n_estimators=120, random_state=42))]).\n",
      "CPU times: user 1.76 s, sys: 396 ms, total: 2.16 s\n",
      "Wall time: 6.75 s\n"
     ]
    }
   ],
   "source": [
    "%%time\n",
    "\n",
    "print(f'Fitting Extra Trees')      \n",
    "\n",
    "# Set up pipeline\n",
    "et_pipe = Pipeline([\n",
    "        ('sampling', SMOTE(random_state=42)),\n",
    "        ('et', ExtraTreesClassifier(random_state=42))\n",
    "    ])\n",
    "\n",
    "# Hyperparameters\n",
    "et_params = {\n",
    "    'et__n_estimators': [80, 100, 120],\n",
    "    'et__max_depth': [3, 5],\n",
    "    'et__min_samples_leaf': [2, 4],\n",
    "    'et__min_samples_split' : [2, 4]\n",
    "}\n",
    "\n",
    "# Instantiate 5-fold GridSearchCV.\n",
    "gs_et = GridSearchCV(et_pipe, param_grid = et_params, cv=5,\n",
    "                     scoring='roc_auc',n_jobs=-1,\n",
    "                     verbose=1)\n",
    "\n",
    "# Fit\n",
    "gs_et.fit(Xs_train, y_train)\n",
    "gs_et_model = gs_et.best_estimator_\n",
    "\n",
    "# See results\n",
    "print(f'The best parameters are {gs_et.best_estimator_}.')"
   ]
  },
  {
   "cell_type": "markdown",
   "id": "3867b94f",
   "metadata": {},
   "source": [
    "Using these best hyperparameters, we will re-fit the model based on the over-sampleted data and obtain the scoring metrics"
   ]
  },
  {
   "cell_type": "code",
   "execution_count": 38,
   "id": "ee9fa6de",
   "metadata": {},
   "outputs": [
    {
     "data": {
      "text/plain": [
       "ExtraTreesClassifier(max_depth=5, min_samples_leaf=4, n_estimators=120,\n",
       "                     random_state=42)"
      ]
     },
     "execution_count": 38,
     "metadata": {},
     "output_type": "execute_result"
    }
   ],
   "source": [
    "et = ExtraTreesClassifier(max_depth=5, min_samples_leaf=4,n_estimators=120,\n",
    "                     random_state=42)\n",
    "et.fit(Xsm_train, ysm_train)"
   ]
  },
  {
   "cell_type": "code",
   "execution_count": 39,
   "id": "4c348d07",
   "metadata": {},
   "outputs": [],
   "source": [
    "# Append to the lists\n",
    "model_name.append('ExtraTrees')\n",
    "model_scores.append(et.score(Xsm_train, ysm_train))\n",
    "model_var.append(et)\n",
    "model_test_scores.append(et.score(Xs_test,y_test))"
   ]
  },
  {
   "cell_type": "markdown",
   "id": "9c20d058",
   "metadata": {},
   "source": [
    "### Evaluating ExtraTrees Results"
   ]
  },
  {
   "cell_type": "code",
   "execution_count": 40,
   "id": "9a44a0c6",
   "metadata": {},
   "outputs": [],
   "source": [
    "imp_et = pd.DataFrame(et.feature_importances_,\n",
    "                       index=X.columns,\n",
    "                       columns=['weights']).sort_values(by='weights', ascending=False)"
   ]
  },
  {
   "cell_type": "code",
   "execution_count": 41,
   "id": "1dafcf0a",
   "metadata": {
    "scrolled": true
   },
   "outputs": [
    {
     "data": {
      "image/png": "[encoded data removed]",
      "text/plain": [
       "<Figure size 864x504 with 1 Axes>"
      ]
     },
     "metadata": {
      "needs_background": "light"
     },
     "output_type": "display_data"
    }
   ],
   "source": [
    "# Top 20 features\n",
    "imp_et.head(20).plot(kind='barh', label=imp_et.columns, figsize=(12,7), color='red')\n",
    "plt.title('Top 20 Feature Importance for Extra Trees', fontsize=15)\n",
    "plt.gca().invert_yaxis()\n",
    "plt.legend(loc=4);"
   ]
  },
  {
   "cell_type": "markdown",
   "id": "a5183b9d",
   "metadata": {},
   "source": [
    "For this model, Daylight Duration is the strongest predictor. \n",
    "\n",
    "Out of the next 6 top important features, 4 of them are related to precipitation and wet weather. This makes sense as stagnant water is ideal for mosquito breeding. "
   ]
  },
  {
   "cell_type": "code",
   "execution_count": 42,
   "id": "663ea579",
   "metadata": {},
   "outputs": [],
   "source": [
    "# Get predictions\n",
    "preds = et.predict(Xs_test)\n",
    "\n",
    "# Save confusion matrix values\n",
    "tn, fp, fn, tp = confusion_matrix(y_test, preds).ravel()"
   ]
  },
  {
   "cell_type": "code",
   "execution_count": 43,
   "id": "c00610a4",
   "metadata": {},
   "outputs": [
    {
     "name": "stderr",
     "output_type": "stream",
     "text": [
      "/Users/joeltan/opt/anaconda3/lib/python3.8/site-packages/sklearn/utils/deprecation.py:87: FutureWarning: Function plot_confusion_matrix is deprecated; Function `plot_confusion_matrix` is deprecated in 1.0 and will be removed in 1.2. Use one of the class methods: ConfusionMatrixDisplay.from_predictions or ConfusionMatrixDisplay.from_estimator.\n",
      "  warnings.warn(msg, category=FutureWarning)\n"
     ]
    },
    {
     "data": {
      "image/png": "[encoded data removed]",
      "text/plain": [
       "<Figure size 432x288 with 2 Axes>"
      ]
     },
     "metadata": {
      "needs_background": "light"
     },
     "output_type": "display_data"
    }
   ],
   "source": [
    "# View confusion matrix\n",
    "\n",
    "plot_confusion_matrix(et, Xs_test, y_test, cmap='Blues', values_format='d');"
   ]
  },
  {
   "cell_type": "markdown",
   "id": "74d27a8c",
   "metadata": {},
   "source": [
    "Using ExtraTrees, out of 1511 data points in our test dataset, we classified 1128 (74.65%) correctly. "
   ]
  },
  {
   "cell_type": "markdown",
   "id": "ffcf8a97",
   "metadata": {},
   "source": [
    "### 2.5 AdaBoost"
   ]
  },
  {
   "cell_type": "code",
   "execution_count": 44,
   "id": "7b1f6885",
   "metadata": {},
   "outputs": [
    {
     "name": "stdout",
     "output_type": "stream",
     "text": [
      "Fitting AdaBoost\n",
      "Fitting 5 folds for each of 12 candidates, totalling 60 fits\n",
      "The best parameters are Pipeline(steps=[('sampling', SMOTE(random_state=42)),\n",
      "                ('ada',\n",
      "                 AdaBoostClassifier(learning_rate=0.8, n_estimators=30,\n",
      "                                    random_state=42))]).\n",
      "CPU times: user 1.51 s, sys: 342 ms, total: 1.85 s\n",
      "Wall time: 5.6 s\n"
     ]
    }
   ],
   "source": [
    "%%time\n",
    "\n",
    "print(f'Fitting AdaBoost')     \n",
    "\n",
    "# Set up pipeline\n",
    "ada_pipe = Pipeline([\n",
    "        ('sampling', SMOTE(random_state=42)),\n",
    "        ('ada', AdaBoostClassifier(random_state=42))\n",
    "    ])\n",
    "\n",
    "# Hyperparameters\n",
    "ada_params = {\n",
    "    'ada__n_estimators': [20, 30, 40, 50],\n",
    "    'ada__learning_rate': [0.8, 0.9, 1]\n",
    "}\n",
    "\n",
    "# Instantiate 5-fold GridSearchCV.\n",
    "gs_ada = GridSearchCV(ada_pipe, param_grid = ada_params, cv=5,\n",
    "                      scoring='roc_auc', n_jobs=-1,\n",
    "                     verbose=1)\n",
    "\n",
    "# Fit\n",
    "gs_ada.fit(Xs_train, y_train)\n",
    "gs_ada_model = gs_ada.best_estimator_\n",
    "\n",
    "# See results\n",
    "print(f'The best parameters are {gs_ada.best_estimator_}.')"
   ]
  },
  {
   "cell_type": "markdown",
   "id": "1e0b9bea",
   "metadata": {},
   "source": [
    "Using these best hyperparameters, we will re-fit the model based on the over-sampleted data and obtain the scoring metrics"
   ]
  },
  {
   "cell_type": "code",
   "execution_count": 45,
   "id": "1784c810",
   "metadata": {},
   "outputs": [
    {
     "data": {
      "text/plain": [
       "AdaBoostClassifier(learning_rate=0.8, n_estimators=30, random_state=42)"
      ]
     },
     "execution_count": 45,
     "metadata": {},
     "output_type": "execute_result"
    }
   ],
   "source": [
    "ada = AdaBoostClassifier(learning_rate=0.8, n_estimators=30, random_state=42)\n",
    "ada.fit(Xsm_train, ysm_train)"
   ]
  },
  {
   "cell_type": "code",
   "execution_count": 46,
   "id": "a78785ac",
   "metadata": {},
   "outputs": [],
   "source": [
    "# Append to the lists\n",
    "model_name.append('AdaBoost')\n",
    "model_scores.append(ada.score(Xsm_train, ysm_train))\n",
    "model_var.append(ada)\n",
    "model_test_scores.append(ada.score(Xs_test,y_test))"
   ]
  },
  {
   "cell_type": "markdown",
   "id": "b5d1f7cf",
   "metadata": {},
   "source": [
    "### Evaluating AdaBoost Results"
   ]
  },
  {
   "cell_type": "code",
   "execution_count": 47,
   "id": "3b08144e",
   "metadata": {},
   "outputs": [],
   "source": [
    "imp_ada = pd.DataFrame(ada.feature_importances_,\n",
    "                       index=X.columns,\n",
    "                       columns=['weights']).sort_values(by='weights', ascending=False)"
   ]
  },
  {
   "cell_type": "code",
   "execution_count": 48,
   "id": "bcdb10aa",
   "metadata": {
    "scrolled": true
   },
   "outputs": [
    {
     "data": {
      "image/png": "[encoded data removed]",
      "text/plain": [
       "<Figure size 864x504 with 1 Axes>"
      ]
     },
     "metadata": {
      "needs_background": "light"
     },
     "output_type": "display_data"
    }
   ],
   "source": [
    "# Plot in bar chart\n",
    "imp_ada.head(20).plot(kind='barh', label=imp_ada.columns[:20], figsize=(12,7), color='blue')\n",
    "plt.title('Top 20 Feature Importance for AdaBoost', fontsize=15)\n",
    "plt.gca().invert_yaxis()\n",
    "plt.legend(loc=4);"
   ]
  },
  {
   "cell_type": "markdown",
   "id": "31dd0975",
   "metadata": {},
   "source": [
    "For this model, out of the top 4 features, 1 is daylight duration which we had also seen in the previous models. The other 3, however are 'Latitude', 'dist_from_s2' and 'dist_from_s1', which desribes the location and the distance from Station 1 and Station 2 and are not part of the top features seen in previous models.\n",
    "\n",
    "Though this might seem uncanny at first, the distance from Station 1 and Station 2 would indicate how much influence the weather affects the location since the weather conditions are measured at the Stations. Thus, the nearer the data point is to the Station, the more influence the weather would have had, which would in turn affects the prsence of the Wnv virus.\n",
    "\n"
   ]
  },
  {
   "cell_type": "code",
   "execution_count": 49,
   "id": "2159d237",
   "metadata": {},
   "outputs": [],
   "source": [
    "# Get predictions\n",
    "preds = ada.predict(Xs_test)\n",
    "\n",
    "# Save confusion matrix values\n",
    "tn, fp, fn, tp = confusion_matrix(y_test, preds).ravel()"
   ]
  },
  {
   "cell_type": "code",
   "execution_count": 50,
   "id": "c4f2fed2",
   "metadata": {},
   "outputs": [
    {
     "name": "stderr",
     "output_type": "stream",
     "text": [
      "/Users/joeltan/opt/anaconda3/lib/python3.8/site-packages/sklearn/utils/deprecation.py:87: FutureWarning: Function plot_confusion_matrix is deprecated; Function `plot_confusion_matrix` is deprecated in 1.0 and will be removed in 1.2. Use one of the class methods: ConfusionMatrixDisplay.from_predictions or ConfusionMatrixDisplay.from_estimator.\n",
      "  warnings.warn(msg, category=FutureWarning)\n"
     ]
    },
    {
     "data": {
      "image/png": "[encoded data removed]",
      "text/plain": [
       "<Figure size 432x288 with 2 Axes>"
      ]
     },
     "metadata": {
      "needs_background": "light"
     },
     "output_type": "display_data"
    }
   ],
   "source": [
    "# View confusion matrix\n",
    "\n",
    "plot_confusion_matrix(ada, Xs_test, y_test, cmap='Blues', values_format='d');"
   ]
  },
  {
   "cell_type": "markdown",
   "id": "104db46e",
   "metadata": {},
   "source": [
    "Using AdaBoost, out of 1511 data points in our test dataset, we classified 1126 (74.52%) correctly. "
   ]
  },
  {
   "cell_type": "markdown",
   "id": "2c6842b9",
   "metadata": {},
   "source": [
    "### 2.6 GradientBoost"
   ]
  },
  {
   "cell_type": "code",
   "execution_count": 51,
   "id": "3e00acb4",
   "metadata": {},
   "outputs": [
    {
     "name": "stdout",
     "output_type": "stream",
     "text": [
      "Fitting Gradient Boost\n",
      "Fitting 5 folds for each of 48 candidates, totalling 240 fits\n",
      "The best parameters are Pipeline(steps=[('sampling', SMOTE(random_state=42)),\n",
      "                ('gboost',\n",
      "                 GradientBoostingClassifier(max_depth=2, min_samples_leaf=2))]).\n",
      "CPU times: user 3.73 s, sys: 435 ms, total: 4.16 s\n",
      "Wall time: 1min 37s\n"
     ]
    }
   ],
   "source": [
    "%%time\n",
    "\n",
    "print(f'Fitting Gradient Boost')     \n",
    "\n",
    "# Set up pipeline\n",
    "gboost_pipe = Pipeline([\n",
    "        ('sampling', SMOTE(random_state=42)),\n",
    "        ('gboost', GradientBoostingClassifier())\n",
    "    ])\n",
    "\n",
    "# Hyperparameters\n",
    "gboost_params = {\n",
    "    'gboost__n_estimators': [80, 100, 120, 150],\n",
    "    'gboost__max_depth': [1, 2, 3],\n",
    "    'gboost__min_samples_split': [2, 4],\n",
    "    'gboost__min_samples_leaf': [1, 2]\n",
    "}\n",
    "\n",
    "# Instantiate 5-fold GridSearchCV.\n",
    "gs_gboost = GridSearchCV(gboost_pipe, param_grid = gboost_params, cv=5,\n",
    "                         scoring='roc_auc',n_jobs=-1,\n",
    "                     verbose=1)\n",
    "\n",
    "# Fit\n",
    "gs_gboost.fit(Xs_train, y_train)\n",
    "gs_gboost_model = gs_ada.best_estimator_\n",
    "\n",
    "# See results\n",
    "print(f'The best parameters are {gs_gboost.best_estimator_}.')"
   ]
  },
  {
   "cell_type": "markdown",
   "id": "1addbd2a",
   "metadata": {},
   "source": [
    "Using these best hyperparameters, we will re-fit the model based on the over-sampleted data and obtain the scoring metrics"
   ]
  },
  {
   "cell_type": "code",
   "execution_count": 52,
   "id": "17f8b742",
   "metadata": {},
   "outputs": [
    {
     "data": {
      "text/plain": [
       "GradientBoostingClassifier(max_depth=2, min_samples_leaf=2)"
      ]
     },
     "execution_count": 52,
     "metadata": {},
     "output_type": "execute_result"
    }
   ],
   "source": [
    "gboost = GradientBoostingClassifier(max_depth=2, min_samples_leaf=2)\n",
    "gboost.fit(Xsm_train, ysm_train)"
   ]
  },
  {
   "cell_type": "code",
   "execution_count": 53,
   "id": "b2689326",
   "metadata": {},
   "outputs": [],
   "source": [
    "# Append to the lists\n",
    "model_name.append('GradientBooast')\n",
    "model_scores.append(gboost.score(Xsm_train, ysm_train))\n",
    "model_var.append(gboost)\n",
    "model_test_scores.append(gboost.score(Xs_test,y_test)) "
   ]
  },
  {
   "cell_type": "code",
   "execution_count": 54,
   "id": "d3cde048",
   "metadata": {},
   "outputs": [],
   "source": [
    "imp_gboost = pd.DataFrame(gboost.feature_importances_,\n",
    "                       index=X.columns,\n",
    "                       columns=['weights']).sort_values(by='weights', ascending=False)"
   ]
  },
  {
   "cell_type": "code",
   "execution_count": 55,
   "id": "97bb0097",
   "metadata": {},
   "outputs": [
    {
     "data": {
      "image/png": "[encoded data removed]",
      "text/plain": [
       "<Figure size 864x504 with 1 Axes>"
      ]
     },
     "metadata": {
      "needs_background": "light"
     },
     "output_type": "display_data"
    }
   ],
   "source": [
    "# Plot in bar chart\n",
    "imp_gboost.head(20).plot(kind='barh', label=imp_gboost.columns[:20], figsize=(12,7), color='green')\n",
    "plt.title('Top 20 Feature Importance for Gradient Boost', fontsize=15)\n",
    "plt.gca().invert_yaxis()\n",
    "plt.legend(loc=4);"
   ]
  },
  {
   "cell_type": "markdown",
   "id": "07e14817",
   "metadata": {},
   "source": [
    "For this model, unlike the results seen in the previous models, the top features contain a mix of weather conditions and location and distance from Station 1 and Station 2. "
   ]
  },
  {
   "cell_type": "code",
   "execution_count": 56,
   "id": "622c66c9",
   "metadata": {},
   "outputs": [],
   "source": [
    "# Get predictions\n",
    "preds = gboost.predict(Xs_test)\n",
    "\n",
    "# Save confusion matrix values\n",
    "tn, fp, fn, tp = confusion_matrix(y_test, preds).ravel()"
   ]
  },
  {
   "cell_type": "code",
   "execution_count": 57,
   "id": "889b7798",
   "metadata": {},
   "outputs": [
    {
     "name": "stderr",
     "output_type": "stream",
     "text": [
      "/Users/joeltan/opt/anaconda3/lib/python3.8/site-packages/sklearn/utils/deprecation.py:87: FutureWarning: Function plot_confusion_matrix is deprecated; Function `plot_confusion_matrix` is deprecated in 1.0 and will be removed in 1.2. Use one of the class methods: ConfusionMatrixDisplay.from_predictions or ConfusionMatrixDisplay.from_estimator.\n",
      "  warnings.warn(msg, category=FutureWarning)\n"
     ]
    },
    {
     "data": {
      "image/png": "[encoded data removed]",
      "text/plain": [
       "<Figure size 432x288 with 2 Axes>"
      ]
     },
     "metadata": {
      "needs_background": "light"
     },
     "output_type": "display_data"
    }
   ],
   "source": [
    "# View confusion matrix\n",
    "\n",
    "plot_confusion_matrix(gboost, Xs_test, y_test, cmap='Blues', values_format='d');"
   ]
  },
  {
   "cell_type": "markdown",
   "id": "34ecae95",
   "metadata": {},
   "source": [
    "Using GradientBoost, out of 1511 data points in our test dataset, we classified 1138 (75.31%) correctly. "
   ]
  },
  {
   "cell_type": "markdown",
   "id": "e95643ed",
   "metadata": {},
   "source": [
    "## <a name=\"sec_3\"></a>Section 3: Final Model Selection"
   ]
  },
  {
   "cell_type": "code",
   "execution_count": 58,
   "id": "5648700f",
   "metadata": {},
   "outputs": [
    {
     "data": {
      "text/html": [
       "<div>\n",
       "<style scoped>\n",
       "    .dataframe tbody tr th:only-of-type {\n",
       "        vertical-align: middle;\n",
       "    }\n",
       "\n",
       "    .dataframe tbody tr th {\n",
       "        vertical-align: top;\n",
       "    }\n",
       "\n",
       "    .dataframe thead th {\n",
       "        text-align: right;\n",
       "    }\n",
       "</style>\n",
       "<table border=\"1\" class=\"dataframe\">\n",
       "  <thead>\n",
       "    <tr style=\"text-align: right;\">\n",
       "      <th></th>\n",
       "      <th>Model Type</th>\n",
       "      <th>Train AUC</th>\n",
       "      <th>Test AUC</th>\n",
       "      <th>F1-Score</th>\n",
       "      <th>Recall</th>\n",
       "      <th>Precision</th>\n",
       "      <th>Train Accuracy</th>\n",
       "      <th>Test Accuracy</th>\n",
       "      <th>Overfitting</th>\n",
       "    </tr>\n",
       "  </thead>\n",
       "  <tbody>\n",
       "    <tr>\n",
       "      <th>0</th>\n",
       "      <td>Logistic Regression</td>\n",
       "      <td>0.791011</td>\n",
       "      <td>0.752979</td>\n",
       "      <td>0.552109</td>\n",
       "      <td>0.752979</td>\n",
       "      <td>0.568403</td>\n",
       "      <td>0.804115</td>\n",
       "      <td>0.743216</td>\n",
       "      <td>0.060898</td>\n",
       "    </tr>\n",
       "    <tr>\n",
       "      <th>1</th>\n",
       "      <td>Naive Bayes</td>\n",
       "      <td>0.654022</td>\n",
       "      <td>0.644752</td>\n",
       "      <td>0.467174</td>\n",
       "      <td>0.644752</td>\n",
       "      <td>0.533713</td>\n",
       "      <td>0.657289</td>\n",
       "      <td>0.628723</td>\n",
       "      <td>0.028566</td>\n",
       "    </tr>\n",
       "    <tr>\n",
       "      <th>2</th>\n",
       "      <td>Random Forest</td>\n",
       "      <td>0.773268</td>\n",
       "      <td>0.749415</td>\n",
       "      <td>0.514089</td>\n",
       "      <td>0.749415</td>\n",
       "      <td>0.559862</td>\n",
       "      <td>0.804554</td>\n",
       "      <td>0.677035</td>\n",
       "      <td>0.127519</td>\n",
       "    </tr>\n",
       "    <tr>\n",
       "      <th>3</th>\n",
       "      <td>ExtraTrees</td>\n",
       "      <td>0.776749</td>\n",
       "      <td>0.754737</td>\n",
       "      <td>0.554513</td>\n",
       "      <td>0.754737</td>\n",
       "      <td>0.569357</td>\n",
       "      <td>0.792597</td>\n",
       "      <td>0.746525</td>\n",
       "      <td>0.046072</td>\n",
       "    </tr>\n",
       "    <tr>\n",
       "      <th>4</th>\n",
       "      <td>AdaBoost</td>\n",
       "      <td>0.779383</td>\n",
       "      <td>0.722436</td>\n",
       "      <td>0.545206</td>\n",
       "      <td>0.722436</td>\n",
       "      <td>0.561436</td>\n",
       "      <td>0.813610</td>\n",
       "      <td>0.745202</td>\n",
       "      <td>0.068408</td>\n",
       "    </tr>\n",
       "    <tr>\n",
       "      <th>5</th>\n",
       "      <td>GradientBooast</td>\n",
       "      <td>0.796718</td>\n",
       "      <td>0.747720</td>\n",
       "      <td>0.556597</td>\n",
       "      <td>0.747720</td>\n",
       "      <td>0.568825</td>\n",
       "      <td>0.828732</td>\n",
       "      <td>0.753144</td>\n",
       "      <td>0.075589</td>\n",
       "    </tr>\n",
       "  </tbody>\n",
       "</table>\n",
       "</div>"
      ],
      "text/plain": [
       "            Model Type  Train AUC  Test AUC  F1-Score    Recall  Precision  \\\n",
       "0  Logistic Regression   0.791011  0.752979  0.552109  0.752979   0.568403   \n",
       "1          Naive Bayes   0.654022  0.644752  0.467174  0.644752   0.533713   \n",
       "2        Random Forest   0.773268  0.749415  0.514089  0.749415   0.559862   \n",
       "3           ExtraTrees   0.776749  0.754737  0.554513  0.754737   0.569357   \n",
       "4             AdaBoost   0.779383  0.722436  0.545206  0.722436   0.561436   \n",
       "5       GradientBooast   0.796718  0.747720  0.556597  0.747720   0.568825   \n",
       "\n",
       "   Train Accuracy  Test Accuracy  Overfitting  \n",
       "0        0.804115       0.743216     0.060898  \n",
       "1        0.657289       0.628723     0.028566  \n",
       "2        0.804554       0.677035     0.127519  \n",
       "3        0.792597       0.746525     0.046072  \n",
       "4        0.813610       0.745202     0.068408  \n",
       "5        0.828732       0.753144     0.075589  "
      ]
     },
     "execution_count": 58,
     "metadata": {},
     "output_type": "execute_result"
    }
   ],
   "source": [
    "# View the evaluation metrics for all models in a dataframe\n",
    "\n",
    "precision_list = []\n",
    "recall_list = []\n",
    "fscore_list = []\n",
    "auc_list_train = []\n",
    "auc_list_test = []\n",
    "for model in model_var:\n",
    "    y_pred = model.predict(Xs_test)\n",
    "    y_pred_train = model.predict(Xs_train)\n",
    "    precision, recall, fscore, support = precision_recall_fscore_support(y_test, y_pred, average='macro')\n",
    "    precision_list.append(precision)\n",
    "    recall_list.append(recall)\n",
    "    fscore_list.append(fscore)\n",
    "    auc_list_train.append(roc_auc_score(y_train, y_pred_train))\n",
    "    auc_list_test.append(roc_auc_score(y_test, y_pred))\n",
    "\n",
    "table_of_results = pd.DataFrame({'Model Type': model_name,\n",
    "              'Train AUC': auc_list_train,\n",
    "              'Test AUC': auc_list_test,\n",
    "              'F1-Score': fscore_list,\n",
    "             'Recall': recall_list,\n",
    "              'Precision': precision_list,\n",
    "              'Train Accuracy': model_scores,\n",
    "             'Test Accuracy': model_test_scores})\n",
    "table_of_results['Overfitting'] = table_of_results['Train Accuracy'] - table_of_results['Test Accuracy']\n",
    "table_of_results"
   ]
  },
  {
   "cell_type": "markdown",
   "id": "00a76833",
   "metadata": {},
   "source": [
    "As earlier stated, we will first use AUC to filter out what model is best for this classficiation problem. This is because AUC works much better for imbalanced dataset.\n",
    "\n",
    "Now, from the 'AUC' scores, it is clear that Naive Bayes is the worst performing models with scores of ~0.65 and ~0.78 respectively. \n",
    "\n",
    "Naive Bayes is a classification method based on Bayes' theorem that derives the probability of the given vector being assocaited with a label. it has a naive assumption of conditional independece for every feature, which means that the algorithm expects the features to be independent which is not always the case. Thus, if some of the feautes are in fact dependent on each other, the prediction might be poor. In this classification problem, many of the features are in fact related to each other as several of them are weather related. So, Naive Bayes is not the optimal model for this case and we can eliminate it from our choice.\n",
    "\n",
    "Next, let us look at Random Forest and ExtraTrees, which have the next 2 better AUC Scores.\n",
    "\n",
    "Random Forest consists of a large number of individual decision trees that operate as an ensemble. Each invidual trees in the random forest spits out a class prediction and the class with the most votes become our model's prediction.\n",
    "Random Forest performs best when there is low correlation between the models, whereby uncorrelated models can produce ensemble predictions that are more accurate than any of the individual predictions. The reason for this wonderful effect is that the trees protect each other from their individual errors. \n",
    "\n",
    "Exratrees is an extension of Random Forests, and like Random Forests, are trained using the random subspace method (sampling of features). However, they are trained using the random subspace method (sampling of features). This reduces the variance, but causes an increase in bias. This is reflected in the Train and Test Scores, where ExtraTrees scored slightly better in the Test Scores but slightly worse in the Train Scores compared to Random Forest.\n",
    "\n",
    "Why then, are Random Forest and ExtraTrees one of the worst performing models for this problem? This could be because, for the model to do well, the predictions and errors made by the individual trees need to have low correlations with each other, and many of our features are weather related and are thus have decent coorelations with one another.\n",
    "\n",
    "Now then, we are left with Logistic Regression, AdaBoost and Gradient boost\n",
    "\n",
    "Logistic regression is a linear classification method that learns the probability of a sample belonging to a certain class. Logistic regression tries to find the optimal decision boundary that best separates the classes. Logistic Regression is a discriminative model, whereby for Feature X and Target y, it directly models the posterior probability of P(y|X) by learning the input to output mapping by minimising the error. Logistic regression splits feature space linearly, and typically works reasonably well even when some of the variables are correlated. A major limitation, however, is the assumption of linearity between the dependent variable and the independent variables.\n",
    "\n",
    "AdaBoost is an ensemble learning method, which uses an iterative approach to learn fromn the mistakes of weak classifiers, and turn them into strong ones. Thus, the core principle of AdaBoost is to fit a sequence of weak on repeatedly modified versions of the data. After each fit, the importance weights on each observation need to be updated. As a result, AdaBoost can be used to improve the accuracy of the weak classifiers and hence makes it flexible. However, a drawback is that it is also extremely sensitive to noisy data and outliers.\n",
    "\n",
    "GradientBoost is also a Boosting ensemlbe model and is a generalization of boosting to arbitrary, differentiable loss functions. It is a robust machine learning algorithm made up of Gradient Descent and Boosting. In the case of AdaBoost, it minimises the exponential loss function that can make the algorithm sensitive to the outliers. With Gradient Boosting, any differentiable loss function can be utilised. Gradient Boosting algorithm is more robust to outliers than AdaBoost. Another benefit is its natural handling of mixed data types (= heterogeneous features).\n",
    "\n",
    "Now that we have a greater appreciation of what these models do, let us compare their scores.\n",
    "\n",
    "Out of Logsitic Regression, AdaBoost and GradientBoost, GradientBoost and Logistic Regression Recall Scores are similar and are slightly better than AdaBooast. Recall talks about how, out of all the labeled Postives by the model, how many of them are actually Postive. Thus, this is a good measure to use when the costs of False Negative is high. This is relevant in this situation, as, we feel that minimising the False Negatives is very important. This is because we feel that it is unethical to tell the public that a certain lcation do not have any presence of the Wnv Virus when in fact there is. We thus eliminate AdaBoost from our final model selection.\n",
    "\n",
    "Between Logistic Regression and GradientBoost, though there is a slight greater overfitting for GradientBoost compared to Logistic Regression, GradientBoost scored slightly higher on the Train and Test Scores. Also, we feel more confident of the fact that GradientBoost, in general, has a high predictive power.\n",
    "\n",
    "As a result, we choose GradientBoost as our final model selection."
   ]
  },
  {
   "cell_type": "code",
   "execution_count": 59,
   "id": "681f2f79",
   "metadata": {},
   "outputs": [],
   "source": [
    "# Assign the selected production model\n",
    "production_model = gboost"
   ]
  },
  {
   "cell_type": "code",
   "execution_count": 60,
   "id": "d3b719bf",
   "metadata": {},
   "outputs": [],
   "source": [
    "# Save scaler as a pickle file\n",
    "outfile = open('scaler_model.pkl','wb')\n",
    "pickle.dump(ss, outfile)\n",
    "outfile.close()"
   ]
  },
  {
   "cell_type": "code",
   "execution_count": 61,
   "id": "9055cd79",
   "metadata": {},
   "outputs": [],
   "source": [
    "# Save model as a pickle file\n",
    "outfile = open('production_model.pkl','wb')\n",
    "pickle.dump(production_model, outfile)\n",
    "outfile.close()"
   ]
  },
  {
   "cell_type": "markdown",
   "id": "5a4ab447",
   "metadata": {},
   "source": [
    "## <a name=\"sec_4\"></a>Section 4: Cleaning & Preprocessing for Test dataset\n",
    "\n",
    "We have already cleaned and performed feature engineering on the test dataset in the previous sections. For the column \"Species\", though, there is a variable that is not found in the train dataset. This varaible is called \"UNSPECIFIED CULEX\". We would need to feature engineering on this. "
   ]
  },
  {
   "cell_type": "code",
   "execution_count": 62,
   "id": "573d9bd4",
   "metadata": {},
   "outputs": [],
   "source": [
    "# Functions to clean the test dataset\n",
    "\n",
    "def create_date_predictors(data, date_col_name):\n",
    "    data['Year'] = data[date_col_name].dt.year\n",
    "    data['Month'] = data[date_col_name].dt.month\n",
    "    data['Week'] = data[date_col_name].dt.isocalendar().week\n",
    "    data['Year-Month'] = data['Year'].astype('str') + \"-\" + data['Month'].astype('str')\n",
    "    data['Year-Week'] = data['Year'].astype('str') + \"-\" + data['Week'].astype('str')    \n",
    "    return data\n",
    "\n",
    "def transform_weather_to_weekly(weather):\n",
    "    # Set all data types correctly\n",
    "    weather['Date'] = pd.to_datetime(weather['Date'])\n",
    "    weather['Sunrise_1'] = pd.to_datetime(weather['Sunrise_1'])\n",
    "    weather['Sunset_1'] = pd.to_datetime(weather['Sunset_1'])\n",
    "\n",
    "    # Create date related predictors\n",
    "    weather = create_date_predictors(weather, 'Date')\n",
    "\n",
    "    # Since mosquitoes dies/greatly inhibited at temperature below 50F, to create 4 additional predictors to indicate this for Tavg and Tmin\n",
    "    weather['Tavg_1_Below_50F'] = weather['Tavg_1'].apply(lambda x: 1 if x < 50 else 0)\n",
    "    weather['Tmin_1_Below_50F'] = weather['Tmin_1'].apply(lambda x: 1 if x < 50 else 0)\n",
    "    weather['Tavg_2_Below_50F'] = weather['Tavg_2'].apply(lambda x: 1 if x < 50 else 0)\n",
    "    weather['Tmin_2_Below_50F'] = weather['Tmin_2'].apply(lambda x: 1 if x < 50 else 0)\n",
    "\n",
    "    # Calculate duration of daylight\n",
    "    weather['Daylight_Duration'] = (weather['Sunset_1'] - weather['Sunrise_1']).dt.total_seconds()/60\n",
    "\n",
    "    # Calculate relative humidity\n",
    "    weather['RH_1'] = mpcalc.relative_humidity_from_dewpoint(weather['Tavg_1'].values * units.degF, weather['DewPoint_1'].values * units.degF)\n",
    "    weather['RH_2'] = mpcalc.relative_humidity_from_dewpoint(weather['Tavg_2'].values * units.degF, weather['DewPoint_2'].values * units.degF)\n",
    "\n",
    "    # Define wet weather\n",
    "    wet_weather = ['GR', 'TS', 'RA', 'DZ', 'GS', 'UP', 'SQ', 'SH', 'PY', 'SN', 'SG', 'PL', 'IC']\n",
    "\n",
    "    # Check if the day is a wet weather\n",
    "    weather['Wet_Weather_1'] = weather['CodeSum_1'].apply(lambda x: int(any([1 if weather in x else 0 for weather in wet_weather])))\n",
    "    weather['Wet_Weather_2'] = weather['CodeSum_2'].apply(lambda x: int(any([1 if weather in x else 0 for weather in wet_weather])))\n",
    "\n",
    "    # Set Date as index\n",
    "    weather.set_index('Date', inplace=True)\n",
    "\n",
    "    # Shift Wet_Weather and PrecipTotal by 7 days\n",
    "    lag = 7\n",
    "    weather['Wet_Weather_1_shift7'] = weather['Wet_Weather_1'].shift(lag)\n",
    "    weather['Wet_Weather_2_shift7'] = weather['Wet_Weather_2'].shift(lag)\n",
    "    weather['PrecipTotal_1_shift7'] = weather['PrecipTotal_1'].shift(lag)\n",
    "    weather['PrecipTotal_2_shift7'] = weather['PrecipTotal_2'].shift(lag)\n",
    "\n",
    "    # Shift Wet_Weather and PrecipTotal by 14 days\n",
    "    lag = 14\n",
    "    weather['Wet_Weather_1_shift14'] = weather['Wet_Weather_1'].shift(lag)\n",
    "    weather['Wet_Weather_2_shift14'] = weather['Wet_Weather_2'].shift(lag)\n",
    "    weather['PrecipTotal_1_shift14'] = weather['PrecipTotal_1'].shift(lag)\n",
    "    weather['PrecipTotal_2_shift14'] = weather['PrecipTotal_2'].shift(lag)\n",
    "\n",
    "    # Shift Wet_Weather and PrecipTotal by 21 days\n",
    "    lag = 21\n",
    "    weather['Wet_Weather_1_shift21'] = weather['Wet_Weather_1'].shift(lag)\n",
    "    weather['Wet_Weather_2_shift21'] = weather['Wet_Weather_2'].shift(lag)\n",
    "    weather['PrecipTotal_1_shift21'] = weather['PrecipTotal_1'].shift(lag)\n",
    "    weather['PrecipTotal_2_shift21'] = weather['PrecipTotal_2'].shift(lag)\n",
    "\n",
    "    # Shift Wet_Weather and PrecipTotal by 28 days\n",
    "    lag = 28\n",
    "    weather['Wet_Weather_1_shift28'] = weather['Wet_Weather_1'].shift(lag)\n",
    "    weather['Wet_Weather_2_shift28'] = weather['Wet_Weather_2'].shift(lag)\n",
    "    weather['PrecipTotal_1_shift28'] = weather['PrecipTotal_1'].shift(lag)\n",
    "    weather['PrecipTotal_2_shift28'] = weather['PrecipTotal_2'].shift(lag)\n",
    "\n",
    "    #create dataframe for weekly, monthly and yearly\n",
    "    weather_weekly = weather.resample('W').mean()\n",
    "    return pd.DataFrame(weather_weekly)\n",
    "\n",
    "def transform_test_weather_weekly(data, weather_weekly):\n",
    "    \"\"\"\n",
    "    This function helps to transform the test data into weekly data and merge with the weather_weekly dataset.\n",
    "    Additonal features are feature engineered to be used for modeling.\n",
    "    \"\"\"\n",
    "    # Drop columns not in the list of column names\n",
    "    data.drop(columns=[col for col in data.columns if col not in ['Id', 'Date', 'Species', 'Latitude', 'Longitude', 'AddressAccuracy', 'NumMosquitos', 'WnvPresent']], inplace=True)\n",
    "    \n",
    "    # Convert Date to datetime\n",
    "    data['Date'] = pd.to_datetime(data['Date'])\n",
    "    \n",
    "    # Create date additional date features\n",
    "    data = create_date_predictors(data, 'Date')\n",
    "    \n",
    "    # Set Date as index\n",
    "    data.set_index('Date', inplace=True)\n",
    "    \n",
    "    # Get Weekly Date by resampling and replace date in data through merging\n",
    "    # Get Weekly Date by resampling\n",
    "    temp = data['AddressAccuracy'].resample('W').mean()\n",
    "    temp = pd.DataFrame(temp)\n",
    "    temp['Year-Week'] = temp.index.year.astype('str') + \"-\" + temp.index.isocalendar().week.astype('str')\n",
    "    temp.drop(columns=['AddressAccuracy'], inplace=True)\n",
    "    temp.reset_index(inplace=True)\n",
    "    weekly_date_df = temp.drop_duplicates()\n",
    "    \n",
    "    # Replace date in data through merging\n",
    "    data_weekly = pd.merge(left=data,\n",
    "                    right=weekly_date_df,\n",
    "                    on='Year-Week',\n",
    "                    how='left', )\n",
    "    data_weekly.set_index('Date', inplace=True)\n",
    "    \n",
    "   # Merge test\n",
    "    data_weather_weekly = pd.merge(left=data_weekly,\n",
    "                                    right=weather_weekly,\n",
    "                                    left_index=True,\n",
    "                                    right_index=True,\n",
    "                                    how='left'\n",
    "                                   )\n",
    "\n",
    "    # Drop unneeded columns\n",
    "    data_weather_weekly.drop(columns=['Year_y', 'Month_y', 'Week_y'], inplace=True)\n",
    "    data_weather_weekly.rename(columns={'Year_x': 'Year', 'Month_x': 'Month', 'Week_x': 'Week'}, inplace=True)\n",
    "\n",
    "    # Check if there are any null rows after merge\n",
    "    print(f\"There are {data_weather_weekly.isnull().sum().sum()} rows with N.A.\")\n",
    "\n",
    "    #Check that there are no duplicates\n",
    "    print(f\"There are {data_weather_weekly.shape[0] - data_weather_weekly.drop_duplicates().shape[0]} duplicated rows.\")\n",
    "\n",
    "    # Creating new predictors if wet weather or temperature fell below 50F at least once per week\n",
    "    data_weather_weekly['At_Least_One_Wet_Weather_1'] = data_weather_weekly['Wet_Weather_1'].apply(lambda x: 1 if x > 0 else 0)\n",
    "    data_weather_weekly['At_Least_One_Wet_Weather_2'] = data_weather_weekly['Wet_Weather_2'].apply(lambda x: 1 if x > 0 else 0)\n",
    "    data_weather_weekly['At_Least_One_Wet_Weather_1_shift7'] = data_weather_weekly['Wet_Weather_1_shift7'].apply(lambda x: 1 if x > 0 else 0)\n",
    "    data_weather_weekly['At_Least_One_Wet_Weather_2_shift7'] = data_weather_weekly['Wet_Weather_2_shift7'].apply(lambda x: 1 if x > 0 else 0)\n",
    "    data_weather_weekly['At_Least_One_Wet_Weather_1_shift14'] = data_weather_weekly['Wet_Weather_1_shift14'].apply(lambda x: 1 if x > 0 else 0)\n",
    "    data_weather_weekly['At_Least_One_Wet_Weather_2_shift14'] = data_weather_weekly['Wet_Weather_2_shift14'].apply(lambda x: 1 if x > 0 else 0)\n",
    "    data_weather_weekly['At_Least_One_Wet_Weather_1_shift21'] = data_weather_weekly['Wet_Weather_1_shift21'].apply(lambda x: 1 if x > 0 else 0)\n",
    "    data_weather_weekly['At_Least_One_Wet_Weather_2_shift21'] = data_weather_weekly['Wet_Weather_2_shift21'].apply(lambda x: 1 if x > 0 else 0)\n",
    "    data_weather_weekly['At_Least_One_Wet_Weather_1_shift28'] = data_weather_weekly['Wet_Weather_1_shift28'].apply(lambda x: 1 if x > 0 else 0)\n",
    "    data_weather_weekly['At_Least_One_Wet_Weather_2_shift28'] = data_weather_weekly['Wet_Weather_2_shift28'].apply(lambda x: 1 if x > 0 else 0)\n",
    "    data_weather_weekly['At_Least_One_Tavg_1_Below_50F'] = data_weather_weekly['Tavg_1_Below_50F'].apply(lambda x: 1 if x > 0 else 0)\n",
    "    data_weather_weekly['At_Least_One_Tmin_1_Below_50F'] = data_weather_weekly['Tmin_1_Below_50F'].apply(lambda x: 1 if x > 0 else 0)\n",
    "    data_weather_weekly['At_Least_One_Tavg_2_Below_50F'] = data_weather_weekly['Tavg_2_Below_50F'].apply(lambda x: 1 if x > 0 else 0)\n",
    "    data_weather_weekly['At_Least_One_Tmin_2_Below_50F'] = data_weather_weekly['Tmin_2_Below_50F'].apply(lambda x: 1 if x > 0 else 0)\n",
    "\n",
    "    # Create distance of trap from weather stations\n",
    "    traps = np.array(list(zip(data_weather_weekly['Latitude'].values, data_weather_weekly['Longitude'].values)))\n",
    "    station1 = np.array([41.786, -87.752])\n",
    "    station2 = np.array([41.995, -87.933])\n",
    "    data_weather_weekly['dist_from_s1'] = [np.linalg.norm(i-station1) for i in traps]\n",
    "    data_weather_weekly['dist_from_s2'] = [np.linalg.norm(i-station2) for i in traps]\n",
    "\n",
    "    # Drop unneeded columns\n",
    "    drop_columns = ['Tavg_1_Below_50F',\n",
    "                    'Tmin_1_Below_50F',\n",
    "                    'Tavg_2_Below_50F',\n",
    "                    'Tmin_2_Below_50F',\n",
    "                    'Wet_Weather_1',\n",
    "                    'Wet_Weather_2',\n",
    "                    'Wet_Weather_1_shift7',\n",
    "                    'Wet_Weather_2_shift7',\n",
    "                    'Wet_Weather_1_shift14',\n",
    "                    'Wet_Weather_2_shift14',\n",
    "                    'Wet_Weather_1_shift21',\n",
    "                    'Wet_Weather_2_shift21',\n",
    "                    'Wet_Weather_1_shift28',\n",
    "                    'Wet_Weather_2_shift28',]\n",
    "    data_weather_weekly.drop(columns=drop_columns, inplace=True)\n",
    "\n",
    "    # Convert to object\n",
    "    convert_to_object=['At_Least_One_Wet_Weather_1',\n",
    "                       'At_Least_One_Wet_Weather_2',\n",
    "                       'At_Least_One_Wet_Weather_1_shift7',\n",
    "                       'At_Least_One_Wet_Weather_2_shift7',\n",
    "                       'At_Least_One_Wet_Weather_1_shift14',\n",
    "                       'At_Least_One_Wet_Weather_2_shift14',\n",
    "                       'At_Least_One_Wet_Weather_1_shift21',\n",
    "                       'At_Least_One_Wet_Weather_2_shift21',\n",
    "                       'At_Least_One_Wet_Weather_1_shift28',\n",
    "                       'At_Least_One_Wet_Weather_2_shift28',\n",
    "                       'At_Least_One_Tavg_1_Below_50F',\n",
    "                       'At_Least_One_Tmin_1_Below_50F',\n",
    "                       'At_Least_One_Tavg_2_Below_50F',\n",
    "                       'At_Least_One_Tmin_2_Below_50F']\n",
    "    data_weather_weekly[convert_to_object] = data_weather_weekly[convert_to_object].astype('str')\n",
    "    \n",
    "    # Return dataframe\n",
    "    return data_weather_weekly"
   ]
  },
  {
   "cell_type": "code",
   "execution_count": 69,
   "id": "c51e17ab",
   "metadata": {},
   "outputs": [
    {
     "name": "stdout",
     "output_type": "stream",
     "text": [
      "There are 0 rows with N.A.\n",
      "There are 0 duplicated rows.\n"
     ]
    }
   ],
   "source": [
    "# Load weather and test data\n",
    "weather = pd.read_csv('../assets/cleaned_datasets/weather_clean.csv')\n",
    "test = pd.read_csv('../assets/raw_datasets/test.csv')\n",
    "\n",
    "# Clean and process the data\n",
    "weather_weekly = transform_weather_to_weekly(weather)\n",
    "test_weather_weekly = transform_test_weather_weekly(test, weather_weekly)"
   ]
  },
  {
   "cell_type": "code",
   "execution_count": 70,
   "id": "b16b0f32",
   "metadata": {},
   "outputs": [
    {
     "data": {
      "text/plain": [
       "CULEX PIPIENS/RESTUANS    15359\n",
       "CULEX RESTUANS            14670\n",
       "CULEX PIPIENS             14521\n",
       "CULEX SALINARIUS          14355\n",
       "CULEX TERRITANS           14351\n",
       "CULEX TARSALIS            14347\n",
       "UNSPECIFIED CULEX         14345\n",
       "CULEX ERRATICUS           14345\n",
       "Name: Species, dtype: int64"
      ]
     },
     "execution_count": 70,
     "metadata": {},
     "output_type": "execute_result"
    }
   ],
   "source": [
    "# For species, there is a variable that is not found in the train dataset. This variable is called 'UNSPECIFIED CULEX'\n",
    "test_weather_weekly['Species'].value_counts()"
   ]
  },
  {
   "cell_type": "code",
   "execution_count": 71,
   "id": "90bfb971",
   "metadata": {},
   "outputs": [],
   "source": [
    "# Breeds of mosquitoes that carries West Nile Virus\n",
    "wnv_species = ['CULEX PIPIENS/RESTUANS', 'CULEX PIPIENS', 'CULEX RESTUANS']"
   ]
  },
  {
   "cell_type": "code",
   "execution_count": 72,
   "id": "e67d5b44",
   "metadata": {},
   "outputs": [],
   "source": [
    "# If Mosquitoes is of the 3 types, Is Wnv Mosquitoes Types is 1\n",
    "test_weather_weekly['Is Wnv Mosquitoes Types'] = test_weather_weekly['Species'].apply(lambda x: 1 if x in wnv_species else 0)"
   ]
  },
  {
   "cell_type": "code",
   "execution_count": 73,
   "id": "bdeda077",
   "metadata": {},
   "outputs": [],
   "source": [
    "# Drop additional columns\n",
    "test_weather_weekly.drop(['Id','Species','AddressAccuracy','Year','Month','Week','Year-Month','Year-Week'],\n",
    "                        axis=1, inplace=True)"
   ]
  },
  {
   "cell_type": "code",
   "execution_count": 74,
   "id": "92cb633a",
   "metadata": {},
   "outputs": [],
   "source": [
    "# Save the cleaned_dataset\n",
    "test_weather_weekly.to_csv('../assets/cleaned_datasets/test_weather_weekly.csv',index=False)"
   ]
  },
  {
   "cell_type": "markdown",
   "id": "8de88e1f",
   "metadata": {},
   "source": [
    "## <a name=\"sec_5\"></a>Section 5: Kaggle Submission"
   ]
  },
  {
   "cell_type": "code",
   "execution_count": 75,
   "id": "2c1279ef",
   "metadata": {},
   "outputs": [
    {
     "name": "stdout",
     "output_type": "stream",
     "text": [
      "StandardScaler()\n",
      "GradientBoostingClassifier(max_depth=2, min_samples_leaf=2)\n"
     ]
    }
   ],
   "source": [
    "# Load in production model and scaler\n",
    "ss = pickle.load(open('scaler_model.pkl', 'rb'))\n",
    "model = pickle.load(open('production_model.pkl', 'rb'))\n",
    "\n",
    "print(ss)\n",
    "print(model)"
   ]
  },
  {
   "cell_type": "code",
   "execution_count": 76,
   "id": "f54df7d9",
   "metadata": {},
   "outputs": [
    {
     "name": "stderr",
     "output_type": "stream",
     "text": [
      "/Users/joeltan/opt/anaconda3/lib/python3.8/site-packages/sklearn/base.py:493: FutureWarning: The feature names should match those that were passed during fit. Starting version 1.2, an error will be raised.\n",
      "Feature names must be in the same order as they were in fit.\n",
      "\n",
      "  warnings.warn(message, FutureWarning)\n"
     ]
    }
   ],
   "source": [
    "# Scale Processed Test Data\n",
    "Xscaled_test = ss.transform(test_weather_weekly)"
   ]
  },
  {
   "cell_type": "code",
   "execution_count": 77,
   "id": "ec8739c4",
   "metadata": {},
   "outputs": [],
   "source": [
    "# Get Predictions\n",
    "predictions = model.predict(Xscaled_test)"
   ]
  },
  {
   "cell_type": "code",
   "execution_count": 78,
   "id": "5714b49c",
   "metadata": {},
   "outputs": [],
   "source": [
    "# Import original Test Data\n",
    "original_test = pd.read_csv('../assets/raw_datasets/test.csv')"
   ]
  },
  {
   "cell_type": "code",
   "execution_count": 79,
   "id": "18516c1c",
   "metadata": {},
   "outputs": [],
   "source": [
    "submission = pd.DataFrame(original_test['Id'])\n",
    "submission['WnvPresent'] = predictions"
   ]
  },
  {
   "cell_type": "code",
   "execution_count": 80,
   "id": "98432381",
   "metadata": {},
   "outputs": [
    {
     "data": {
      "text/plain": [
       "0    114921\n",
       "1      1372\n",
       "Name: WnvPresent, dtype: int64"
      ]
     },
     "execution_count": 80,
     "metadata": {},
     "output_type": "execute_result"
    }
   ],
   "source": [
    "submission['WnvPresent'].value_counts()"
   ]
  },
  {
   "cell_type": "code",
   "execution_count": 81,
   "id": "dfa8f38d",
   "metadata": {},
   "outputs": [],
   "source": [
    "# Save csv\n",
    "submission.to_csv('../assets/Kaggle/submission_predictions.csv', index=False)"
   ]
  },
  {
   "cell_type": "markdown",
   "id": "b37f2ac8",
   "metadata": {},
   "source": [
    "![Submission](../assets/Kaggle/kaggle_submission.png)"
   ]
  },
  {
   "cell_type": "markdown",
   "id": "f936769f",
   "metadata": {},
   "source": [
    "## <a name=\"sec_6\"></a>Section 6: Future Recommendations"
   ]
  },
  {
   "cell_type": "markdown",
   "id": "fd76e9af",
   "metadata": {},
   "source": [
    "As ealier mentioned, we dropped the 'NumMosquitos' column as one of the features of our model as we were unable to create a good enough linear regression model to predict the 'NumMosquitos' in our test dataset. Moving forward, we can try to create a clasification model instead of a Regression model, since 'NumMosquitos' will always be an integer value. So, Class 1 = 1 Mosquito, Class 2 = 2 Mosquitos, Class 3 = 3 Mosquitos etc. If our results are good, we can then look to inclide 'NumMosquios' as one of the features of our final selected model.\n",
    "\n",
    "Furthermore, we can also look to include how densely populated each of the location is as part of our features. This is because, it could be that areas with a more dense human population would experience a higher number of mosquitos in the area since mosquitoes feed off the blood of humans. This would increase the probability of the Wnv virus too since there are more humans to transmit the virus to.\n",
    "\n",
    "Additionally, the features/layouts of the location might be a significant factor too. Presence of forest areas, water sources, type of buildings are some examples that might affect the breeding of mosquitos, so we can look to include these features in the future to further improve our model."
   ]
  }
 ],
 "metadata": {
  "kernelspec": {
   "display_name": "Python 3 (ipykernel)",
   "language": "python",
   "name": "python3"
  },
  "language_info": {
   "codemirror_mode": {
    "name": "ipython",
    "version": 3
   },
   "file_extension": ".py",
   "mimetype": "text/x-python",
   "name": "python",
   "nbconvert_exporter": "python",
   "pygments_lexer": "ipython3",
   "version": "3.8.12"
  }
 },
 "nbformat": 4,
 "nbformat_minor": 5
}
